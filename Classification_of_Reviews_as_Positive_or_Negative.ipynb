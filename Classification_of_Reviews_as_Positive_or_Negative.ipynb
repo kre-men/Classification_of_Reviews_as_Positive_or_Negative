{
  "cells": [
    {
      "cell_type": "code",
      "execution_count": null,
      "id": "initial_id",
      "metadata": {
        "collapsed": true,
        "id": "initial_id"
      },
      "outputs": [],
      "source": [
        "# Text preprocessing"
      ]
    },
    {
      "cell_type": "code",
      "outputs": [],
      "source": [
        "import numpy as np\n",
        "import pandas as pd\n",
        "import nltk\n",
        "import string\n",
        "import zipfile\n",
        "import re\n",
        "import matplotlib.pyplot as plt\n",
        "\n",
        "from nltk.tokenize import word_tokenize\n",
        "from nltk.corpus import stopwords\n",
        "from textblob import TextBlob\n",
        "import unidecode\n",
        "from sklearn.feature_extraction.text import CountVectorizer\n",
        "from sklearn.feature_extraction.text import TfidfVectorizer\n",
        "from nltk.tokenize import word_tokenize\n",
        "from nltk.corpus import wordnet\n",
        "from nltk.stem import WordNetLemmatizer\n",
        "nltk.data.path.append(\"WordNet\")\n",
        "\n",
        "from sklearn.model_selection import train_test_split\n",
        "from sklearn.ensemble import RandomForestClassifier, GradientBoostingClassifier\n",
        "from sklearn.linear_model import LogisticRegression\n",
        "from sklearn.metrics import accuracy_score, classification_report, roc_auc_score, roc_curve\n",
        "from sklearn.metrics import precision_recall_fscore_support, accuracy_score, roc_auc_score\n",
        "import matplotlib.pyplot as plt\n",
        "\n",
        "from sklearn.tree import DecisionTreeClassifier\n",
        "from sklearn.naive_bayes import MultinomialNB\n",
        "from sklearn.linear_model import SGDClassifier\n",
        "from sklearn.neighbors import KNeighborsClassifier\n",
        "\n",
        "from sklearn.metrics import roc_curve, roc_auc_score\n",
        "from sklearn.metrics import classification_report,confusion_matrix,accuracy_score\n",
        "\n",
        "%matplotlib inline\n",
        "\n",
        "# nltk.download()\n",
        "# nltk.download('punkt')\n",
        "# nltk.data.path.append(\"C:\\\\nltk_data\")\n",
        "# # nltk.download('punkt')\n",
        "# nltk.download('stopwords')\n",
        "# nltk.download('wordnet')\n",
        "# nltk.download('brown')"
      ],
      "metadata": {
        "ExecuteTime": {
          "end_time": "2024-01-03T21:20:31.097066500Z",
          "start_time": "2024-01-03T21:20:31.020989100Z"
        },
        "id": "24eebdc1f29f0554"
      },
      "id": "24eebdc1f29f0554",
      "execution_count": null
    },
    {
      "cell_type": "code",
      "outputs": [],
      "source": [
        "reviews = pd.read_csv(\"amazon_cells_labelled.txt\", on_bad_lines='skip')"
      ],
      "metadata": {
        "ExecuteTime": {
          "end_time": "2024-01-03T20:05:00.079272400Z",
          "start_time": "2024-01-03T20:05:00.053865Z"
        },
        "id": "b68be7dafcd83daf"
      },
      "id": "b68be7dafcd83daf",
      "execution_count": null
    },
    {
      "cell_type": "code",
      "outputs": [
        {
          "data": {
            "text/plain": "                                                   So there is no way for me to plug it in here in the US unless I go by a converter.\\t0\nGood case                                                                         Excellent value.\\t1                                   \nGreat for the jawbone.\\t1                                                                         NaN                                   \nTied to charger for conversations lasting more ...                                                NaN                                   \nThe mic is great.\\t1                                                                              NaN                                   \nI have to jiggle the plug to get it to line up ...                                                NaN                                   ",
            "text/html": "<div>\n<style scoped>\n    .dataframe tbody tr th:only-of-type {\n        vertical-align: middle;\n    }\n\n    .dataframe tbody tr th {\n        vertical-align: top;\n    }\n\n    .dataframe thead th {\n        text-align: right;\n    }\n</style>\n<table border=\"1\" class=\"dataframe\">\n  <thead>\n    <tr style=\"text-align: right;\">\n      <th></th>\n      <th>So there is no way for me to plug it in here in the US unless I go by a converter.\\t0</th>\n    </tr>\n  </thead>\n  <tbody>\n    <tr>\n      <th>Good case</th>\n      <td>Excellent value.\\t1</td>\n    </tr>\n    <tr>\n      <th>Great for the jawbone.\\t1</th>\n      <td>NaN</td>\n    </tr>\n    <tr>\n      <th>Tied to charger for conversations lasting more than 45 minutes.MAJOR PROBLEMS!!\\t0</th>\n      <td>NaN</td>\n    </tr>\n    <tr>\n      <th>The mic is great.\\t1</th>\n      <td>NaN</td>\n    </tr>\n    <tr>\n      <th>I have to jiggle the plug to get it to line up right to get decent volume.\\t0</th>\n      <td>NaN</td>\n    </tr>\n  </tbody>\n</table>\n</div>"
          },
          "execution_count": 57,
          "metadata": {},
          "output_type": "execute_result"
        }
      ],
      "source": [
        "reviews.head(5)"
      ],
      "metadata": {
        "ExecuteTime": {
          "end_time": "2024-01-03T12:41:39.050566300Z",
          "start_time": "2024-01-03T12:41:38.979925200Z"
        },
        "id": "b2ec7d1a84180b15",
        "outputId": "493edf16-e3d5-4863-8d01-a326c30a8b66"
      },
      "id": "b2ec7d1a84180b15",
      "execution_count": null
    },
    {
      "cell_type": "code",
      "outputs": [
        {
          "data": {
            "text/plain": "(946, 1)"
          },
          "execution_count": 58,
          "metadata": {},
          "output_type": "execute_result"
        }
      ],
      "source": [
        "reviews.shape"
      ],
      "metadata": {
        "ExecuteTime": {
          "end_time": "2024-01-03T12:41:44.942753300Z",
          "start_time": "2024-01-03T12:41:44.887886600Z"
        },
        "id": "f5885f3b3101750b",
        "outputId": "21832519-7b8a-4bfe-9c61-049c2988865c"
      },
      "id": "f5885f3b3101750b",
      "execution_count": null
    },
    {
      "cell_type": "code",
      "outputs": [],
      "source": [
        "reviews = pd.read_csv(\"amazon_cells_labelled.txt\", sep='\\t', header=None, names=['Review', 'Score'])"
      ],
      "metadata": {
        "ExecuteTime": {
          "end_time": "2024-01-03T20:05:05.217291200Z",
          "start_time": "2024-01-03T20:05:05.153231800Z"
        },
        "id": "2c72b62a481dbe50"
      },
      "id": "2c72b62a481dbe50",
      "execution_count": null
    },
    {
      "cell_type": "code",
      "outputs": [],
      "source": [
        "reviews = reviews.dropna().reset_index(drop=True)"
      ],
      "metadata": {
        "ExecuteTime": {
          "end_time": "2024-01-03T20:05:09.607581600Z",
          "start_time": "2024-01-03T20:05:09.542967300Z"
        },
        "id": "14c7cb22cd7de5e6"
      },
      "id": "14c7cb22cd7de5e6",
      "execution_count": null
    },
    {
      "cell_type": "code",
      "outputs": [
        {
          "data": {
            "text/plain": "                                              Review  Score\n0  So there is no way for me to plug it in here i...      0\n1                        Good case, Excellent value.      1\n2                             Great for the jawbone.      1\n3  Tied to charger for conversations lasting more...      0\n4                                  The mic is great.      1\n5  I have to jiggle the plug to get it to line up...      0\n6  If you have several dozen or several hundred c...      0\n7        If you are Razr owner...you must have this!      1\n8                Needless to say, I wasted my money.      0\n9                   What a waste of money and time!.      0",
            "text/html": "<div>\n<style scoped>\n    .dataframe tbody tr th:only-of-type {\n        vertical-align: middle;\n    }\n\n    .dataframe tbody tr th {\n        vertical-align: top;\n    }\n\n    .dataframe thead th {\n        text-align: right;\n    }\n</style>\n<table border=\"1\" class=\"dataframe\">\n  <thead>\n    <tr style=\"text-align: right;\">\n      <th></th>\n      <th>Review</th>\n      <th>Score</th>\n    </tr>\n  </thead>\n  <tbody>\n    <tr>\n      <th>0</th>\n      <td>So there is no way for me to plug it in here i...</td>\n      <td>0</td>\n    </tr>\n    <tr>\n      <th>1</th>\n      <td>Good case, Excellent value.</td>\n      <td>1</td>\n    </tr>\n    <tr>\n      <th>2</th>\n      <td>Great for the jawbone.</td>\n      <td>1</td>\n    </tr>\n    <tr>\n      <th>3</th>\n      <td>Tied to charger for conversations lasting more...</td>\n      <td>0</td>\n    </tr>\n    <tr>\n      <th>4</th>\n      <td>The mic is great.</td>\n      <td>1</td>\n    </tr>\n    <tr>\n      <th>5</th>\n      <td>I have to jiggle the plug to get it to line up...</td>\n      <td>0</td>\n    </tr>\n    <tr>\n      <th>6</th>\n      <td>If you have several dozen or several hundred c...</td>\n      <td>0</td>\n    </tr>\n    <tr>\n      <th>7</th>\n      <td>If you are Razr owner...you must have this!</td>\n      <td>1</td>\n    </tr>\n    <tr>\n      <th>8</th>\n      <td>Needless to say, I wasted my money.</td>\n      <td>0</td>\n    </tr>\n    <tr>\n      <th>9</th>\n      <td>What a waste of money and time!.</td>\n      <td>0</td>\n    </tr>\n  </tbody>\n</table>\n</div>"
          },
          "execution_count": 61,
          "metadata": {},
          "output_type": "execute_result"
        }
      ],
      "source": [
        "reviews.head(10)"
      ],
      "metadata": {
        "ExecuteTime": {
          "end_time": "2024-01-03T12:41:59.830077700Z",
          "start_time": "2024-01-03T12:41:59.768287100Z"
        },
        "id": "2361153a36553b93",
        "outputId": "5990f760-cc11-40ae-d784-b6b6cbfeee55"
      },
      "id": "2361153a36553b93",
      "execution_count": null
    },
    {
      "cell_type": "code",
      "outputs": [
        {
          "data": {
            "text/plain": "Score\n0    500\n1    500\nName: count, dtype: int64"
          },
          "execution_count": 62,
          "metadata": {},
          "output_type": "execute_result"
        }
      ],
      "source": [
        "reviews['Score'].value_counts()"
      ],
      "metadata": {
        "ExecuteTime": {
          "end_time": "2024-01-03T12:42:03.694261600Z",
          "start_time": "2024-01-03T12:42:03.634047100Z"
        },
        "id": "447fddc1ae726c73",
        "outputId": "4d39608e-d588-498b-eb6b-e208021c8239"
      },
      "id": "447fddc1ae726c73",
      "execution_count": null
    },
    {
      "cell_type": "code",
      "outputs": [
        {
          "data": {
            "text/plain": "Review    object\nScore      int64\ndtype: object"
          },
          "execution_count": 63,
          "metadata": {},
          "output_type": "execute_result"
        }
      ],
      "source": [
        "reviews.dtypes"
      ],
      "metadata": {
        "ExecuteTime": {
          "end_time": "2024-01-03T12:42:11.105835900Z",
          "start_time": "2024-01-03T12:42:11.020139Z"
        },
        "id": "76797c19212fb77a",
        "outputId": "fd11d5c1-0564-4848-e7dd-d61e6e37e02f"
      },
      "id": "76797c19212fb77a",
      "execution_count": null
    },
    {
      "cell_type": "code",
      "outputs": [],
      "source": [
        "reviews = reviews.astype({'Review':'string'})"
      ],
      "metadata": {
        "ExecuteTime": {
          "end_time": "2024-01-03T20:05:17.223376Z",
          "start_time": "2024-01-03T20:05:17.160564Z"
        },
        "id": "4d8ba3bcdef236ea"
      },
      "id": "4d8ba3bcdef236ea",
      "execution_count": null
    },
    {
      "cell_type": "code",
      "outputs": [
        {
          "data": {
            "text/plain": "Review    string[python]\nScore              int64\ndtype: object"
          },
          "execution_count": 65,
          "metadata": {},
          "output_type": "execute_result"
        }
      ],
      "source": [
        "reviews.dtypes"
      ],
      "metadata": {
        "ExecuteTime": {
          "end_time": "2024-01-03T12:42:20.118568600Z",
          "start_time": "2024-01-03T12:42:20.051084200Z"
        },
        "id": "7bcb45f42ce0d129",
        "outputId": "e04bbced-0bc1-4908-cb03-3f9b4b43bebf"
      },
      "id": "7bcb45f42ce0d129",
      "execution_count": null
    },
    {
      "cell_type": "code",
      "outputs": [
        {
          "data": {
            "text/plain": "0    So there is no way for me to plug it in here i...\n1                          Good case, Excellent value.\n2                               Great for the jawbone.\n3    Tied to charger for conversations lasting more...\n4                                    The mic is great.\nName: Review, dtype: string"
          },
          "execution_count": 6,
          "metadata": {},
          "output_type": "execute_result"
        }
      ],
      "source": [
        "text = reviews['Review']\n",
        "text[:5]"
      ],
      "metadata": {
        "ExecuteTime": {
          "end_time": "2024-01-03T20:05:23.116913900Z",
          "start_time": "2024-01-03T20:05:23.003077500Z"
        },
        "id": "fda8e9f231e802a",
        "outputId": "dc0a9330-7bf9-464c-ef09-d3b9e3974a61"
      },
      "id": "fda8e9f231e802a",
      "execution_count": null
    },
    {
      "cell_type": "code",
      "outputs": [],
      "source": [
        "text1 = []\n",
        "for review in text:\n",
        "    review = review.translate(str.maketrans('', '', string.punctuation))\n",
        "    text1.append(review)"
      ],
      "metadata": {
        "ExecuteTime": {
          "end_time": "2024-01-03T20:05:27.551846500Z",
          "start_time": "2024-01-03T20:05:27.250262600Z"
        },
        "id": "51d285975d1bcaea"
      },
      "id": "51d285975d1bcaea",
      "execution_count": null
    },
    {
      "cell_type": "code",
      "outputs": [
        {
          "name": "stdout",
          "output_type": "stream",
          "text": [
            "1. Remove Punctuation:\n"
          ]
        },
        {
          "data": {
            "text/plain": "0    So there is no way for me to plug it in here i...\n1                            Good case Excellent value\n2                                Great for the jawbone\n3    Tied to charger for conversations lasting more...\n4                                     The mic is great\n5    I have to jiggle the plug to get it to line up...\n6    If you have several dozen or several hundred c...\n7              If you are Razr owneryou must have this\n8                    Needless to say I wasted my money\n9                       What a waste of money and time\ndtype: object"
          },
          "execution_count": 8,
          "metadata": {},
          "output_type": "execute_result"
        }
      ],
      "source": [
        "print(\"1. Remove Punctuation:\")\n",
        "pd.Series(text1[:10])"
      ],
      "metadata": {
        "ExecuteTime": {
          "end_time": "2024-01-03T20:05:29.517920900Z",
          "start_time": "2024-01-03T20:05:29.453621300Z"
        },
        "id": "e765d3449071d526",
        "outputId": "2f2eb439-bc0d-46bf-a7ce-5f62f611b518"
      },
      "id": "e765d3449071d526",
      "execution_count": null
    },
    {
      "cell_type": "code",
      "outputs": [],
      "source": [
        "text2 = []\n",
        "for review in text1:\n",
        "    review = review.translate(str.maketrans('', '', string.digits))\n",
        "    text2.append(review)"
      ],
      "metadata": {
        "ExecuteTime": {
          "end_time": "2024-01-03T20:05:35.646034600Z",
          "start_time": "2024-01-03T20:05:35.584866200Z"
        },
        "id": "5bccabf0fdeadf76"
      },
      "id": "5bccabf0fdeadf76",
      "execution_count": null
    },
    {
      "cell_type": "code",
      "outputs": [
        {
          "name": "stdout",
          "output_type": "stream",
          "text": [
            "2. Remove Numbers:\n"
          ]
        },
        {
          "data": {
            "text/plain": "0    So there is no way for me to plug it in here i...\n1                            Good case Excellent value\n2                                Great for the jawbone\n3    Tied to charger for conversations lasting more...\n4                                     The mic is great\n5    I have to jiggle the plug to get it to line up...\n6    If you have several dozen or several hundred c...\n7              If you are Razr owneryou must have this\n8                    Needless to say I wasted my money\n9                       What a waste of money and time\ndtype: object"
          },
          "execution_count": 10,
          "metadata": {},
          "output_type": "execute_result"
        }
      ],
      "source": [
        "print(\"2. Remove Numbers:\")\n",
        "pd.Series(text2[:10])"
      ],
      "metadata": {
        "ExecuteTime": {
          "end_time": "2024-01-03T20:05:36.585083900Z",
          "start_time": "2024-01-03T20:05:36.518024200Z"
        },
        "id": "9ea895b9195ba555",
        "outputId": "dc159e69-7730-4748-99c0-589e52fa66d3"
      },
      "id": "9ea895b9195ba555",
      "execution_count": null
    },
    {
      "cell_type": "code",
      "outputs": [],
      "source": [
        "text3 = []\n",
        "for review in text2:\n",
        "    review = review.lower()\n",
        "    text3.append(review)"
      ],
      "metadata": {
        "ExecuteTime": {
          "end_time": "2024-01-03T20:05:37.639252900Z",
          "start_time": "2024-01-03T20:05:37.591406Z"
        },
        "id": "84791c6ddce6a0d1"
      },
      "id": "84791c6ddce6a0d1",
      "execution_count": null
    },
    {
      "cell_type": "code",
      "outputs": [
        {
          "name": "stdout",
          "output_type": "stream",
          "text": [
            "3. Convert to Lowercase:\n"
          ]
        },
        {
          "data": {
            "text/plain": "0    so there is no way for me to plug it in here i...\n1                            good case excellent value\n2                                great for the jawbone\n3    tied to charger for conversations lasting more...\n4                                     the mic is great\n5    i have to jiggle the plug to get it to line up...\n6    if you have several dozen or several hundred c...\n7              if you are razr owneryou must have this\n8                    needless to say i wasted my money\n9                       what a waste of money and time\ndtype: object"
          },
          "execution_count": 12,
          "metadata": {},
          "output_type": "execute_result"
        }
      ],
      "source": [
        "print(\"3. Convert to Lowercase:\")\n",
        "pd.Series(text3[:10])"
      ],
      "metadata": {
        "ExecuteTime": {
          "end_time": "2024-01-03T20:05:38.106656300Z",
          "start_time": "2024-01-03T20:05:38.053366400Z"
        },
        "id": "37c2ba5a60266f33",
        "outputId": "ab52d534-04f2-4ce9-e289-957ee6dc714a"
      },
      "id": "37c2ba5a60266f33",
      "execution_count": null
    },
    {
      "cell_type": "code",
      "outputs": [],
      "source": [
        "stop_words = set(stopwords.words('english'))\n",
        "text4 = []\n",
        "for review in text3:\n",
        "    review = ' '.join(term for term in review.split() if term not in stop_words)\n",
        "    text4.append(review)"
      ],
      "metadata": {
        "ExecuteTime": {
          "end_time": "2024-01-03T20:05:38.584978600Z",
          "start_time": "2024-01-03T20:05:38.529493500Z"
        },
        "id": "699fe8057d8373f6"
      },
      "id": "699fe8057d8373f6",
      "execution_count": null
    },
    {
      "cell_type": "code",
      "outputs": [
        {
          "name": "stdout",
          "output_type": "stream",
          "text": [
            "4. Remove Stop Words:\n"
          ]
        },
        {
          "data": {
            "text/plain": "0                      way plug us unless go converter\n1                            good case excellent value\n2                                        great jawbone\n3    tied charger conversations lasting minutesmajo...\n4                                            mic great\n5         jiggle plug get line right get decent volume\n6    several dozen several hundred contacts imagine...\n7                                   razr owneryou must\n8                            needless say wasted money\n9                                     waste money time\ndtype: object"
          },
          "execution_count": 14,
          "metadata": {},
          "output_type": "execute_result"
        }
      ],
      "source": [
        "print(\"4. Remove Stop Words:\")\n",
        "pd.Series(text4[:10])"
      ],
      "metadata": {
        "ExecuteTime": {
          "end_time": "2024-01-03T20:05:39.295731600Z",
          "start_time": "2024-01-03T20:05:39.215817600Z"
        },
        "id": "18f5549ef4149573",
        "outputId": "e9a2e19a-31ea-4fed-8166-6b0e7a241cc6"
      },
      "id": "18f5549ef4149573",
      "execution_count": null
    },
    {
      "cell_type": "code",
      "outputs": [],
      "source": [
        "text5 = []\n",
        "for review in text4:\n",
        "    review = str(TextBlob(review).correct())\n",
        "    text5.append(review)"
      ],
      "metadata": {
        "ExecuteTime": {
          "end_time": "2024-01-03T20:09:26.968256Z",
          "start_time": "2024-01-03T20:08:20.858280600Z"
        },
        "id": "64b20f29583adcaf"
      },
      "id": "64b20f29583adcaf",
      "execution_count": null
    },
    {
      "cell_type": "code",
      "outputs": [
        {
          "name": "stdout",
          "output_type": "stream",
          "text": [
            "5. Spell Correction:\n"
          ]
        },
        {
          "data": {
            "text/plain": "0                      way plug us unless go converted\n1                            good case excellent value\n2                                        great jawbone\n3    tied charge conversations lasting minutesmajor...\n4                                            mid great\n5         jingle plug get line right get decent volume\n6    several dozen several hundred contact imagine ...\n7                                  razor owneryou must\n8                            needless say wasted money\n9                                     waste money time\ndtype: object"
          },
          "execution_count": 18,
          "metadata": {},
          "output_type": "execute_result"
        }
      ],
      "source": [
        "print(\"5. Spell Correction:\")\n",
        "pd.Series(text5[:10])"
      ],
      "metadata": {
        "ExecuteTime": {
          "end_time": "2024-01-03T20:09:29.798131100Z",
          "start_time": "2024-01-03T20:09:29.696740900Z"
        },
        "id": "3a8bae762e2c59a3",
        "outputId": "a8e67a09-ff84-4b8f-be94-71e815282bb0"
      },
      "id": "3a8bae762e2c59a3",
      "execution_count": null
    },
    {
      "cell_type": "code",
      "outputs": [],
      "source": [
        "text6 = []\n",
        "for review in text5:\n",
        "    cleaned_review = ' '.join(word for word in review.split() if word.isalpha())\n",
        "    text6.append(cleaned_review)"
      ],
      "metadata": {
        "ExecuteTime": {
          "end_time": "2024-01-03T20:09:31.261268Z",
          "start_time": "2024-01-03T20:09:31.185008800Z"
        },
        "id": "6c967752731cb95c"
      },
      "id": "6c967752731cb95c",
      "execution_count": null
    },
    {
      "cell_type": "code",
      "outputs": [
        {
          "name": "stdout",
          "output_type": "stream",
          "text": [
            "6. Remove Non-Alphabetic Words:\n"
          ]
        },
        {
          "data": {
            "text/plain": "0                      way plug us unless go converted\n1                            good case excellent value\n2                                        great jawbone\n3    tied charge conversations lasting minutesmajor...\n4                                            mid great\n5         jingle plug get line right get decent volume\n6    several dozen several hundred contact imagine ...\n7                                  razor owneryou must\n8                            needless say wasted money\n9                                     waste money time\ndtype: object"
          },
          "execution_count": 20,
          "metadata": {},
          "output_type": "execute_result"
        }
      ],
      "source": [
        "print(\"6. Remove Non-Alphabetic Words:\")\n",
        "pd.Series(text6[:10])"
      ],
      "metadata": {
        "ExecuteTime": {
          "end_time": "2024-01-03T20:09:32.422720800Z",
          "start_time": "2024-01-03T20:09:32.295015700Z"
        },
        "id": "c290c2e0d9893a8",
        "outputId": "cbc1d38d-90ee-44fb-e5d8-e394754a6897"
      },
      "id": "c290c2e0d9893a8",
      "execution_count": null
    },
    {
      "cell_type": "code",
      "outputs": [],
      "source": [
        "text7 = []\n",
        "for i in range(len(text6)):\n",
        "    cleaned_review = unidecode.unidecode(text6[i])\n",
        "    text7.append(cleaned_review)"
      ],
      "metadata": {
        "ExecuteTime": {
          "end_time": "2024-01-03T20:11:13.735063300Z",
          "start_time": "2024-01-03T20:11:13.671577600Z"
        },
        "id": "1e4fb2dc451f8774"
      },
      "id": "1e4fb2dc451f8774",
      "execution_count": null
    },
    {
      "cell_type": "code",
      "outputs": [
        {
          "name": "stdout",
          "output_type": "stream",
          "text": [
            "\n",
            "7. Remove Accented Characters:\n"
          ]
        },
        {
          "data": {
            "text/plain": "0                      way plug us unless go converted\n1                            good case excellent value\n2                                        great jawbone\n3    tied charge conversations lasting minutesmajor...\n4                                            mid great\n5         jingle plug get line right get decent volume\n6    several dozen several hundred contact imagine ...\n7                                  razor owneryou must\n8                            needless say wasted money\n9                                     waste money time\ndtype: object"
          },
          "execution_count": 28,
          "metadata": {},
          "output_type": "execute_result"
        }
      ],
      "source": [
        "print(\"\\n7. Remove Accented Characters:\")\n",
        "pd.Series(text7[:10])"
      ],
      "metadata": {
        "ExecuteTime": {
          "end_time": "2024-01-03T20:11:15.738365900Z",
          "start_time": "2024-01-03T20:11:15.678665100Z"
        },
        "id": "e8068e67b313b796",
        "outputId": "a1788cd2-4076-4bbd-f249-6ecce0bb0b29"
      },
      "id": "e8068e67b313b796",
      "execution_count": null
    },
    {
      "cell_type": "code",
      "outputs": [],
      "source": [
        "# import nltk\n",
        "# print(nltk.data.path)"
      ],
      "metadata": {
        "ExecuteTime": {
          "end_time": "2024-01-03T20:09:35.722879500Z",
          "start_time": "2024-01-03T20:09:35.654553Z"
        },
        "id": "a71c1736091cc857"
      },
      "id": "a71c1736091cc857",
      "execution_count": null
    },
    {
      "cell_type": "code",
      "outputs": [
        {
          "name": "stdout",
          "output_type": "stream",
          "text": [
            "NLTK Data Path: ['C:\\\\Users\\\\kremn/nltk_data', 'C:\\\\Users\\\\kremn\\\\AppData\\\\Local\\\\Programs\\\\Python\\\\Python310\\\\nltk_data', 'C:\\\\Users\\\\kremn\\\\AppData\\\\Local\\\\Programs\\\\Python\\\\Python310\\\\share\\\\nltk_data', 'C:\\\\Users\\\\kremn\\\\AppData\\\\Local\\\\Programs\\\\Python\\\\Python310\\\\lib\\\\nltk_data', 'C:\\\\Users\\\\kremn\\\\AppData\\\\Roaming\\\\nltk_data', 'C:\\\\nltk_data', 'D:\\\\nltk_data', 'E:\\\\nltk_data', 'WordNet', 'C:\\\\Users\\\\kremn\\\\nltk_data\\\\corpora', 'C:\\\\Users\\\\kremn\\\\AppData\\\\Local\\\\Programs\\\\Python\\\\Python310\\\\nltk_data\\\\corpora', 'C:\\\\Users\\\\kremn\\\\AppData\\\\Local\\\\Programs\\\\Python\\\\Python310\\\\share\\\\nltk_data\\\\corpora', 'C:\\\\Users\\\\kremn\\\\AppData\\\\Local\\\\Programs\\\\Python\\\\Python310\\\\lib\\\\nltk_data\\\\corpora', 'C:\\\\Users\\\\kremn\\\\AppData\\\\Roaming\\\\nltk_data\\\\corpora', 'WordNet', 'C:\\\\Users\\\\kremn\\\\nltk_data\\\\corpora', 'C:\\\\Users\\\\kremn\\\\AppData\\\\Local\\\\Programs\\\\Python\\\\Python310\\\\nltk_data\\\\corpora', 'C:\\\\Users\\\\kremn\\\\AppData\\\\Local\\\\Programs\\\\Python\\\\Python310\\\\share\\\\nltk_data\\\\corpora', 'C:\\\\Users\\\\kremn\\\\AppData\\\\Local\\\\Programs\\\\Python\\\\Python310\\\\lib\\\\nltk_data\\\\corpora', 'C:\\\\Users\\\\kremn\\\\AppData\\\\Roaming\\\\nltk_data\\\\corpora']\n"
          ]
        }
      ],
      "source": [
        "# import os\n",
        "# import nltk\n",
        "# import shutil\n",
        "#\n",
        "# wordnet_zip_path = 'C:/nltk_data/corpora/wordnet.zip'\n",
        "#\n",
        "# target_directories = [\n",
        "#     'C:\\\\Users\\\\kremn\\\\nltk_data\\\\corpora',\n",
        "#     'C:\\\\Users\\\\kremn\\\\AppData\\\\Local\\\\Programs\\\\Python\\\\Python310\\\\nltk_data\\\\corpora',\n",
        "#     'C:\\\\Users\\\\kremn\\\\AppData\\\\Local\\\\Programs\\\\Python\\\\Python310\\\\share\\\\nltk_data\\\\corpora',\n",
        "#     'C:\\\\Users\\\\kremn\\\\AppData\\\\Local\\\\Programs\\\\Python\\\\Python310\\\\lib\\\\nltk_data\\\\corpora',\n",
        "#     'C:\\\\Users\\\\kremn\\\\AppData\\\\Roaming\\\\nltk_data\\\\corpora'\n",
        "# ]\n",
        "#\n",
        "# for directory in target_directories:\n",
        "#     os.makedirs(directory, exist_ok=True)\n",
        "#\n",
        "# for directory in target_directories:\n",
        "#     shutil.copy(wordnet_zip_path, os.path.join(directory, 'wordnet.zip'))\n",
        "#\n",
        "# for directory in target_directories:\n",
        "#     nltk.data.path.append(directory)\n",
        "#\n",
        "# print(\"NLTK Data Path:\", nltk.data.path)"
      ],
      "metadata": {
        "ExecuteTime": {
          "end_time": "2024-01-02T18:18:43.777032500Z",
          "start_time": "2024-01-02T18:18:43.722474800Z"
        },
        "id": "a287897ad3df21fd",
        "outputId": "90105ff3-567d-4a79-d17a-f791bb5ed820"
      },
      "id": "a287897ad3df21fd",
      "execution_count": null
    },
    {
      "cell_type": "code",
      "outputs": [],
      "source": [
        "text8 = pd.Series(text7)\n",
        "def get_wordnet_pos(word):\n",
        "    #Map POS tag to first character lemmatize() accepts\n",
        "    tag = nltk.pos_tag([word])[0][1][0].upper()\n",
        "    tag_dict = {\"J\": wordnet.ADJ,\n",
        "                \"N\": wordnet.NOUN,\n",
        "                \"V\": wordnet.VERB,\n",
        "                \"R\": wordnet.ADV}\n",
        "\n",
        "    return tag_dict.get(tag, wordnet.NOUN)\n",
        "\n",
        "lemmatizer = WordNetLemmatizer()\n",
        "text8 = text8.apply(lambda x:' '.join(lemmatizer.lemmatize(w, get_wordnet_pos(w)) for w in x.split()))"
      ],
      "metadata": {
        "ExecuteTime": {
          "end_time": "2024-01-03T20:11:25.084607Z",
          "start_time": "2024-01-03T20:11:24.211078100Z"
        },
        "id": "b13be93d3a0b8f1a"
      },
      "id": "b13be93d3a0b8f1a",
      "execution_count": null
    },
    {
      "cell_type": "code",
      "outputs": [
        {
          "name": "stdout",
          "output_type": "stream",
          "text": [
            "\n",
            "8. Lemmatizing with POS Tags:\n"
          ]
        },
        {
          "data": {
            "text/plain": "0                         way plug u unless go convert\n1                            good case excellent value\n2                                        great jawbone\n3    tie charge conversation last minutesmajor problem\n4                                            mid great\n5         jingle plug get line right get decent volume\n6    several dozen several hundred contact imagine ...\n7                                  razor owneryou must\n8                               needle say waste money\n9                                     waste money time\ndtype: object"
          },
          "execution_count": 30,
          "metadata": {},
          "output_type": "execute_result"
        }
      ],
      "source": [
        "print(\"\\n8. Lemmatizing with POS Tags:\")\n",
        "pd.Series(text8[:10])"
      ],
      "metadata": {
        "ExecuteTime": {
          "end_time": "2024-01-03T20:11:26.520925700Z",
          "start_time": "2024-01-03T20:11:26.453260800Z"
        },
        "id": "1e0b39d3d5e00aa5",
        "outputId": "9dcc7ac5-0e35-4b9f-8c36-3b7890667411"
      },
      "id": "1e0b39d3d5e00aa5",
      "execution_count": null
    },
    {
      "cell_type": "code",
      "outputs": [],
      "source": [
        "#############################################\n",
        "###########  classification  ################"
      ],
      "metadata": {
        "id": "6ac3f12439c64b3c"
      },
      "id": "6ac3f12439c64b3c",
      "execution_count": null
    },
    {
      "cell_type": "code",
      "outputs": [
        {
          "data": {
            "text/plain": "                                                Review  Score\n0                         way plug u unless go convert      0\n1                            good case excellent value      1\n2                                        great jawbone      1\n3    tie charge conversation last minutesmajor problem      0\n4                                            mid great      1\n..                                                 ...    ...\n995            screen get smudge easily touch ear face      0\n996                         piece june lose call phone      0\n997                                 item match picture      0\n998                thing disappoint infra red port ida      0\n999                        answer call unit never work      0\n\n[1000 rows x 2 columns]",
            "text/html": "<div>\n<style scoped>\n    .dataframe tbody tr th:only-of-type {\n        vertical-align: middle;\n    }\n\n    .dataframe tbody tr th {\n        vertical-align: top;\n    }\n\n    .dataframe thead th {\n        text-align: right;\n    }\n</style>\n<table border=\"1\" class=\"dataframe\">\n  <thead>\n    <tr style=\"text-align: right;\">\n      <th></th>\n      <th>Review</th>\n      <th>Score</th>\n    </tr>\n  </thead>\n  <tbody>\n    <tr>\n      <th>0</th>\n      <td>way plug u unless go convert</td>\n      <td>0</td>\n    </tr>\n    <tr>\n      <th>1</th>\n      <td>good case excellent value</td>\n      <td>1</td>\n    </tr>\n    <tr>\n      <th>2</th>\n      <td>great jawbone</td>\n      <td>1</td>\n    </tr>\n    <tr>\n      <th>3</th>\n      <td>tie charge conversation last minutesmajor problem</td>\n      <td>0</td>\n    </tr>\n    <tr>\n      <th>4</th>\n      <td>mid great</td>\n      <td>1</td>\n    </tr>\n    <tr>\n      <th>...</th>\n      <td>...</td>\n      <td>...</td>\n    </tr>\n    <tr>\n      <th>995</th>\n      <td>screen get smudge easily touch ear face</td>\n      <td>0</td>\n    </tr>\n    <tr>\n      <th>996</th>\n      <td>piece june lose call phone</td>\n      <td>0</td>\n    </tr>\n    <tr>\n      <th>997</th>\n      <td>item match picture</td>\n      <td>0</td>\n    </tr>\n    <tr>\n      <th>998</th>\n      <td>thing disappoint infra red port ida</td>\n      <td>0</td>\n    </tr>\n    <tr>\n      <th>999</th>\n      <td>answer call unit never work</td>\n      <td>0</td>\n    </tr>\n  </tbody>\n</table>\n<p>1000 rows × 2 columns</p>\n</div>"
          },
          "execution_count": 31,
          "metadata": {},
          "output_type": "execute_result"
        }
      ],
      "source": [
        "reviewsP = pd.DataFrame({'Review': text8, 'Score': reviews['Score']})\n",
        "reviewsP"
      ],
      "metadata": {
        "ExecuteTime": {
          "end_time": "2024-01-03T20:12:06.344310400Z",
          "start_time": "2024-01-03T20:12:06.264648500Z"
        },
        "id": "6562bdd24810288b",
        "outputId": "a5301892-b797-4f49-9fe3-7ddd1f63f0fe"
      },
      "id": "6562bdd24810288b",
      "execution_count": null
    },
    {
      "cell_type": "code",
      "outputs": [
        {
          "data": {
            "text/plain": "   index                                             Review  Score\n0    507                      bolster arrive match photo ad      0\n1    818                                          doesn job      0\n2    452  colleague get great reception little expensive...      1\n3    368                                         love phone      1\n4    242                          bad customer service ever      0",
            "text/html": "<div>\n<style scoped>\n    .dataframe tbody tr th:only-of-type {\n        vertical-align: middle;\n    }\n\n    .dataframe tbody tr th {\n        vertical-align: top;\n    }\n\n    .dataframe thead th {\n        text-align: right;\n    }\n</style>\n<table border=\"1\" class=\"dataframe\">\n  <thead>\n    <tr style=\"text-align: right;\">\n      <th></th>\n      <th>index</th>\n      <th>Review</th>\n      <th>Score</th>\n    </tr>\n  </thead>\n  <tbody>\n    <tr>\n      <th>0</th>\n      <td>507</td>\n      <td>bolster arrive match photo ad</td>\n      <td>0</td>\n    </tr>\n    <tr>\n      <th>1</th>\n      <td>818</td>\n      <td>doesn job</td>\n      <td>0</td>\n    </tr>\n    <tr>\n      <th>2</th>\n      <td>452</td>\n      <td>colleague get great reception little expensive...</td>\n      <td>1</td>\n    </tr>\n    <tr>\n      <th>3</th>\n      <td>368</td>\n      <td>love phone</td>\n      <td>1</td>\n    </tr>\n    <tr>\n      <th>4</th>\n      <td>242</td>\n      <td>bad customer service ever</td>\n      <td>0</td>\n    </tr>\n  </tbody>\n</table>\n</div>"
          },
          "execution_count": 32,
          "metadata": {},
          "output_type": "execute_result"
        }
      ],
      "source": [
        "reviewsP1 = reviewsP.sample(frac=1, random_state=1).reset_index()\n",
        "reviewsP1.head()"
      ],
      "metadata": {
        "ExecuteTime": {
          "end_time": "2024-01-03T20:12:07.974937300Z",
          "start_time": "2024-01-03T20:12:07.906761600Z"
        },
        "id": "c61fbe4abfcef0e8",
        "outputId": "b2c2d38a-d829-42da-9f01-70ac1abcfb3c"
      },
      "id": "c61fbe4abfcef0e8",
      "execution_count": null
    },
    {
      "cell_type": "code",
      "outputs": [
        {
          "name": "stdout",
          "output_type": "stream",
          "text": [
            "(700,) (700,)\n",
            "(300,) (300,)\n"
          ]
        }
      ],
      "source": [
        "train_reviews = reviewsP1.Review[:700]\n",
        "train_score = reviewsP1.Score[:700]\n",
        "\n",
        "test_reviews = reviewsP1.Review[700:]\n",
        "test_score = reviewsP1.Score[700:]\n",
        "\n",
        "print(train_reviews.shape,train_score.shape)\n",
        "print(test_reviews.shape,test_score.shape)"
      ],
      "metadata": {
        "ExecuteTime": {
          "end_time": "2024-01-03T20:12:10.025851700Z",
          "start_time": "2024-01-03T20:12:09.971630600Z"
        },
        "id": "476706905328ec3c",
        "outputId": "837f90a7-950f-49ed-d525-047fa45be450"
      },
      "id": "476706905328ec3c",
      "execution_count": null
    },
    {
      "cell_type": "code",
      "outputs": [
        {
          "data": {
            "text/plain": "'bolster arrive match photo ad'"
          },
          "execution_count": 34,
          "metadata": {},
          "output_type": "execute_result"
        }
      ],
      "source": [
        "train_reviews[0]"
      ],
      "metadata": {
        "ExecuteTime": {
          "end_time": "2024-01-03T20:12:11.383032200Z",
          "start_time": "2024-01-03T20:12:11.318021900Z"
        },
        "id": "d5d8fe1acb72097a",
        "outputId": "d28efa74-ba55-444a-e45e-ad141a6e730d"
      },
      "id": "d5d8fe1acb72097a",
      "execution_count": null
    },
    {
      "cell_type": "code",
      "outputs": [
        {
          "name": "stdout",
          "output_type": "stream",
          "text": [
            "BOW_cv_train: (700, 1136)\n",
            "BOW_cv_test: (300, 1136)\n"
          ]
        }
      ],
      "source": [
        "cv=CountVectorizer()\n",
        "\n",
        "cv_train_reviews=cv.fit_transform(train_reviews)\n",
        "cv_test_reviews=cv.transform(test_reviews)\n",
        "\n",
        "print('BOW_cv_train:',cv_train_reviews.shape)\n",
        "print('BOW_cv_test:',cv_test_reviews.shape)"
      ],
      "metadata": {
        "ExecuteTime": {
          "end_time": "2024-01-03T20:12:13.336876200Z",
          "start_time": "2024-01-03T20:12:13.271589500Z"
        },
        "id": "a3b40aefe5d5e23a",
        "outputId": "08149d1a-d1a0-4399-a338-21b6d8835e74"
      },
      "id": "a3b40aefe5d5e23a",
      "execution_count": null
    },
    {
      "cell_type": "code",
      "outputs": [
        {
          "name": "stdout",
          "output_type": "stream",
          "text": [
            "  (0, 112)\t1\n",
            "  (0, 60)\t1\n",
            "  (0, 594)\t1\n",
            "  (0, 716)\t1\n",
            "  (0, 17)\t1\n"
          ]
        }
      ],
      "source": [
        "print(cv_train_reviews[0])"
      ],
      "metadata": {
        "ExecuteTime": {
          "end_time": "2024-01-03T20:12:14.233977800Z",
          "start_time": "2024-01-03T20:12:14.175016Z"
        },
        "id": "bfab18176806fcf7",
        "outputId": "5d701c7c-5016-40ef-8b10-3438b57187c6"
      },
      "id": "bfab18176806fcf7",
      "execution_count": null
    },
    {
      "cell_type": "code",
      "outputs": [
        {
          "name": "stdout",
          "output_type": "stream",
          "text": [
            "0      0\n",
            "1      0\n",
            "2      1\n",
            "3      1\n",
            "4      0\n",
            "      ..\n",
            "695    0\n",
            "696    0\n",
            "697    0\n",
            "698    0\n",
            "699    0\n",
            "Name: Score, Length: 700, dtype: int64\n",
            "700    0\n",
            "701    1\n",
            "702    0\n",
            "703    1\n",
            "704    1\n",
            "      ..\n",
            "995    0\n",
            "996    1\n",
            "997    1\n",
            "998    1\n",
            "999    0\n",
            "Name: Score, Length: 300, dtype: int64\n"
          ]
        }
      ],
      "source": [
        "print(train_score)\n",
        "print(test_score)"
      ],
      "metadata": {
        "ExecuteTime": {
          "end_time": "2024-01-03T20:12:14.834252700Z",
          "start_time": "2024-01-03T20:12:14.774121800Z"
        },
        "id": "4dc2b3852901f3ed",
        "outputId": "98f2fb7d-f332-49d4-99dd-72876a35bbba"
      },
      "id": "4dc2b3852901f3ed",
      "execution_count": null
    },
    {
      "cell_type": "code",
      "outputs": [],
      "source": [
        "# Random Forest Classifier"
      ],
      "metadata": {
        "ExecuteTime": {
          "end_time": "2024-01-03T20:12:16.161434600Z",
          "start_time": "2024-01-03T20:12:16.065733400Z"
        },
        "id": "94f8ed328f64ee24"
      },
      "id": "94f8ed328f64ee24",
      "execution_count": null
    },
    {
      "cell_type": "code",
      "outputs": [
        {
          "name": "stdout",
          "output_type": "stream",
          "text": [
            "DT_bow accuracy : 0.7866666666666666\n",
            "[[119  29]\n",
            " [ 35 117]] \n",
            "\n",
            "              precision    recall  f1-score   support\n",
            "\n",
            "    Positive       0.77      0.80      0.79       148\n",
            "    Negative       0.80      0.77      0.79       152\n",
            "\n",
            "    accuracy                           0.79       300\n",
            "   macro avg       0.79      0.79      0.79       300\n",
            "weighted avg       0.79      0.79      0.79       300\n",
            "\n",
            "roc_auc_score for DT:  0.8789784850640114\n"
          ]
        },
        {
          "data": {
            "text/plain": "<Figure size 1000x1000 with 1 Axes>",
            "image/png": "[encoded data removed]"
          },
          "metadata": {},
          "output_type": "display_data"
        }
      ],
      "source": [
        "RF = RandomForestClassifier(n_estimators=100, random_state=0)\n",
        "\n",
        "RF_fit = RF.fit(cv_train_reviews,train_score)\n",
        "\n",
        "RF_predict = RF.predict(cv_test_reviews)\n",
        "\n",
        "RF_score=accuracy_score(test_score,RF_predict)\n",
        "print(\"DT_bow accuracy :\",RF_score)\n",
        "\n",
        "RF_report=classification_report(test_score,RF_predict,target_names=['Positive','Negative'])\n",
        "print(confusion_matrix(test_score,RF_predict), '\\n')\n",
        "print(RF_report)\n",
        "\n",
        "RF_probs = RF.predict_proba(cv_test_reviews)[:, 1]\n",
        "\n",
        "FP, TP, threshold1 = roc_curve(test_score, RF_probs)\n",
        "print('roc_auc_score for RF: ', roc_auc_score(test_score, RF_probs))\n",
        "\n",
        "plt.subplots(1, figsize=(10, 10))\n",
        "plt.title('Receiver Operating Characteristic - DT')\n",
        "plt.plot(FP, TP)\n",
        "plt.plot([0, 1], ls=\"--\")\n",
        "plt.plot([0, 0], [1, 0], c=\".7\"), plt.plot([1, 1], c=\".7\")\n",
        "plt.ylabel('True Positive Rate')\n",
        "plt.xlabel('False Positive Rate')\n",
        "plt.show()"
      ],
      "metadata": {
        "ExecuteTime": {
          "end_time": "2024-01-03T20:12:20.476042900Z",
          "start_time": "2024-01-03T20:12:18.463222900Z"
        },
        "id": "73d93915e6ae21d",
        "outputId": "fd04fc54-18e6-4fdb-f97c-417abe384ad3"
      },
      "id": "73d93915e6ae21d",
      "execution_count": null
    },
    {
      "cell_type": "code",
      "outputs": [],
      "source": [],
      "metadata": {
        "ExecuteTime": {
          "end_time": "2024-01-03T20:12:22.105494Z",
          "start_time": "2024-01-03T20:12:22.050151700Z"
        },
        "id": "747f08d652a0093"
      },
      "id": "747f08d652a0093",
      "execution_count": null
    },
    {
      "cell_type": "code",
      "outputs": [],
      "source": [
        "# Gradient Boosting Classifier"
      ],
      "metadata": {
        "ExecuteTime": {
          "end_time": "2024-01-03T20:12:23.874961Z",
          "start_time": "2024-01-03T20:12:23.822684900Z"
        },
        "id": "1d40d7debc5e7f02"
      },
      "id": "1d40d7debc5e7f02",
      "execution_count": null
    },
    {
      "cell_type": "code",
      "outputs": [
        {
          "name": "stdout",
          "output_type": "stream",
          "text": [
            "Gradient Boosting accuracy: 0.7833333333333333\n",
            "[[130  18]\n",
            " [ 47 105]] \n",
            "\n",
            "              precision    recall  f1-score   support\n",
            "\n",
            "    Positive       0.73      0.88      0.80       148\n",
            "    Negative       0.85      0.69      0.76       152\n",
            "\n",
            "    accuracy                           0.78       300\n",
            "   macro avg       0.79      0.78      0.78       300\n",
            "weighted avg       0.79      0.78      0.78       300\n",
            "\n",
            "roc_auc_score for Gradient Boosting: 0.8535739687055477\n"
          ]
        },
        {
          "data": {
            "text/plain": "<Figure size 1000x1000 with 1 Axes>",
            "image/png": "[encoded data removed]"
          },
          "metadata": {},
          "output_type": "display_data"
        }
      ],
      "source": [
        "GB = GradientBoostingClassifier(n_estimators=100, random_state=0)\n",
        "GB_fit = GB.fit(cv_train_reviews, train_score)\n",
        "\n",
        "GB_predict = GB.predict(cv_test_reviews)\n",
        "\n",
        "GB_score = accuracy_score(test_score, GB_predict)\n",
        "print(\"Gradient Boosting accuracy:\", GB_score)\n",
        "\n",
        "GB_report = classification_report(test_score, GB_predict, target_names=['Positive', 'Negative'])\n",
        "print(confusion_matrix(test_score, GB_predict), '\\n')\n",
        "print(GB_report)\n",
        "\n",
        "GB_probs = GB.predict_proba(cv_test_reviews)[:, 1]\n",
        "\n",
        "FP, TP, threshold1 = roc_curve(test_score, GB_probs)\n",
        "print('roc_auc_score for Gradient Boosting:', roc_auc_score(test_score, GB_probs))\n",
        "\n",
        "plt.subplots(1, figsize=(10, 10))\n",
        "plt.title('Receiver Operating Characteristic - Gradient Boosting')\n",
        "plt.plot(FP, TP)\n",
        "plt.plot([0, 1], ls=\"--\")\n",
        "plt.plot([0, 0], [1, 0], c=\".7\"), plt.plot([1, 1], c=\".7\")\n",
        "plt.ylabel('True Positive Rate')\n",
        "plt.xlabel('False Positive Rate')\n",
        "plt.show()"
      ],
      "metadata": {
        "ExecuteTime": {
          "end_time": "2024-01-03T20:12:25.819252600Z",
          "start_time": "2024-01-03T20:12:24.407009400Z"
        },
        "id": "e6fba71b9f827976",
        "outputId": "70cc79a9-3959-4e4b-ed85-55f81c99aa7b"
      },
      "id": "e6fba71b9f827976",
      "execution_count": null
    },
    {
      "cell_type": "code",
      "outputs": [],
      "source": [
        "# Logistic Regression"
      ],
      "metadata": {
        "ExecuteTime": {
          "end_time": "2024-01-03T20:12:26.663514400Z",
          "start_time": "2024-01-03T20:12:26.614677600Z"
        },
        "id": "fce19423bb379dd6"
      },
      "id": "fce19423bb379dd6",
      "execution_count": null
    },
    {
      "cell_type": "code",
      "outputs": [
        {
          "name": "stdout",
          "output_type": "stream",
          "text": [
            "Logistic Regression accuracy: 0.79\n",
            "[[122  26]\n",
            " [ 37 115]] \n",
            "\n",
            "              precision    recall  f1-score   support\n",
            "\n",
            "    Positive       0.77      0.82      0.79       148\n",
            "    Negative       0.82      0.76      0.78       152\n",
            "\n",
            "    accuracy                           0.79       300\n",
            "   macro avg       0.79      0.79      0.79       300\n",
            "weighted avg       0.79      0.79      0.79       300\n",
            "\n",
            "roc_auc_score for Logistic Regression: 0.8763113442389758\n"
          ]
        },
        {
          "data": {
            "text/plain": "<Figure size 1000x1000 with 1 Axes>",
            "image/png": "[encoded data removed]"
          },
          "metadata": {},
          "output_type": "display_data"
        }
      ],
      "source": [
        "# Logistic Regression\n",
        "LR = LogisticRegression(random_state=0)\n",
        "LR_fit = LR.fit(cv_train_reviews, train_score)\n",
        "\n",
        "LR_predict = LR.predict(cv_test_reviews)\n",
        "\n",
        "# Accuracy score for bag of words\n",
        "LR_score = accuracy_score(test_score, LR_predict)\n",
        "print(\"Logistic Regression accuracy:\", LR_score)\n",
        "\n",
        "# Classification report for bag of words\n",
        "LR_report = classification_report(test_score, LR_predict, target_names=['Positive', 'Negative'])\n",
        "print(confusion_matrix(test_score, LR_predict), '\\n')\n",
        "print(LR_report)\n",
        "\n",
        "# Predict probabilities for the positive class (class 1) for Logistic Regression\n",
        "LR_probs = LR.predict_proba(cv_test_reviews)[:, 1]\n",
        "\n",
        "FP, TP, threshold1 = roc_curve(test_score, LR_probs)\n",
        "print('roc_auc_score for Logistic Regression:', roc_auc_score(test_score, LR_probs))\n",
        "\n",
        "plt.subplots(1, figsize=(10, 10))\n",
        "plt.title('Receiver Operating Characteristic - Logistic Regression')\n",
        "plt.plot(FP, TP)\n",
        "plt.plot([0, 1], ls=\"--\")\n",
        "plt.plot([0, 0], [1, 0], c=\".7\"), plt.plot([1, 1], c=\".7\")\n",
        "plt.ylabel('True Positive Rate')\n",
        "plt.xlabel('False Positive Rate')\n",
        "plt.show()\n"
      ],
      "metadata": {
        "ExecuteTime": {
          "end_time": "2024-01-03T20:12:27.566764800Z",
          "start_time": "2024-01-03T20:12:27.370272100Z"
        },
        "id": "a73933553509f0cf",
        "outputId": "e807097f-baca-4c5b-dd10-515cfcbfcd8a"
      },
      "id": "a73933553509f0cf",
      "execution_count": null
    },
    {
      "cell_type": "code",
      "outputs": [],
      "source": [],
      "metadata": {
        "ExecuteTime": {
          "end_time": "2024-01-03T20:12:28.537442300Z",
          "start_time": "2024-01-03T20:12:28.490739500Z"
        },
        "id": "c31617e9adcd3921"
      },
      "id": "c31617e9adcd3921",
      "execution_count": null
    },
    {
      "cell_type": "code",
      "outputs": [
        {
          "name": "stdout",
          "output_type": "stream",
          "text": [
            "DT_bow accuracy : 0.7966666666666666\n",
            "[[126  22]\n",
            " [ 39 113]] \n",
            "\n",
            "              precision    recall  f1-score   support\n",
            "\n",
            "    Positive       0.76      0.85      0.81       148\n",
            "    Negative       0.84      0.74      0.79       152\n",
            "\n",
            "    accuracy                           0.80       300\n",
            "   macro avg       0.80      0.80      0.80       300\n",
            "weighted avg       0.80      0.80      0.80       300\n",
            "\n",
            "roc_auc_score for DT:  0.8135224039829303\n"
          ]
        },
        {
          "data": {
            "text/plain": "<Figure size 1000x1000 with 1 Axes>",
            "image/png": "[encoded data removed]"
          },
          "metadata": {},
          "output_type": "display_data"
        }
      ],
      "source": [
        "############################################\n",
        "###           Decision Tree              ###\n",
        "############################################\n",
        "#training the model\n",
        "DT=DecisionTreeClassifier(criterion ='entropy', random_state= 0)\n",
        "\n",
        "#Fitting the model for Bag of words\n",
        "DT_bow=DT.fit(cv_train_reviews,train_score)\n",
        "\n",
        "#Predicting the model for bag of words\n",
        "DT_bow_predict=DT.predict(cv_test_reviews)\n",
        "\n",
        "#Accuracy score for bag of words\n",
        "DT_bow_score=accuracy_score(test_score,DT_bow_predict)\n",
        "print(\"DT_bow accuracy :\",DT_bow_score)\n",
        "\n",
        "#Classification report for bag of words\n",
        "DT_bow_report=classification_report(test_score,DT_bow_predict,target_names=['Positive','Negative'])\n",
        "print(confusion_matrix(test_score,DT_bow_predict), '\\n')\n",
        "print(DT_bow_report)\n",
        "\n",
        "# AUC score and ROC curve\n",
        "from sklearn.metrics import roc_curve, roc_auc_score\n",
        "\n",
        "# Predict probabilities for the positive class (class 1) for Decision Tree\n",
        "DT_bow_probs = DT.predict_proba(cv_test_reviews)[:, 1]\n",
        "\n",
        "FP, TP, threshold1 = roc_curve(test_score, DT_bow_probs)\n",
        "print('roc_auc_score for DT: ', roc_auc_score(test_score, DT_bow_probs))\n",
        "\n",
        "plt.subplots(1, figsize=(10, 10))\n",
        "plt.title('Receiver Operating Characteristic - DT')\n",
        "plt.plot(FP, TP)\n",
        "plt.plot([0, 1], ls=\"--\")\n",
        "plt.plot([0, 0], [1, 0], c=\".7\"), plt.plot([1, 1], c=\".7\")\n",
        "plt.ylabel('True Positive Rate')\n",
        "plt.xlabel('False Positive Rate')\n",
        "plt.show()"
      ],
      "metadata": {
        "ExecuteTime": {
          "end_time": "2024-01-03T20:12:30.807513500Z",
          "start_time": "2024-01-03T20:12:30.472036900Z"
        },
        "id": "2c8e146104055d46",
        "outputId": "39dd15fe-6b4a-4418-a5f7-34d659b6342a"
      },
      "id": "2c8e146104055d46",
      "execution_count": null
    },
    {
      "cell_type": "code",
      "outputs": [
        {
          "name": "stdout",
          "output_type": "stream",
          "text": [
            "                 Model  Accuracy   ROC AUC\n",
            "0        Random Forest  0.786667  0.878978\n",
            "1    Gradient Boosting  0.783333  0.853574\n",
            "2  Logistic Regression  0.790000  0.876311\n",
            "3        Decision Tree  0.796667  0.813522\n"
          ]
        }
      ],
      "source": [
        "model_names = ['Random Forest', 'Gradient Boosting', 'Logistic Regression', 'Decision Tree']\n",
        "accuracies = []\n",
        "roc_auc_scores = []\n",
        "\n",
        "for model, name in zip(models, model_names):\n",
        "    predictions = model.predict(cv_test_reviews)\n",
        "    accuracy = accuracy_score(test_score, predictions)\n",
        "    accuracies.append(accuracy)\n",
        "\n",
        "    probs = model.predict_proba(cv_test_reviews)[:, 1]\n",
        "    roc_auc = roc_auc_score(test_score, probs)\n",
        "    roc_auc_scores.append(roc_auc)\n",
        "\n",
        "results_df = pd.DataFrame({\n",
        "    'Model': model_names,\n",
        "    'Accuracy': accuracies,\n",
        "    'ROC AUC': roc_auc_scores\n",
        "})\n",
        "\n",
        "print(results_df)"
      ],
      "metadata": {
        "ExecuteTime": {
          "end_time": "2024-01-03T21:12:31.020151200Z",
          "start_time": "2024-01-03T21:12:30.918761100Z"
        },
        "id": "73b20dc27cd87f7f",
        "outputId": "49058198-97ba-4f1a-a7ab-80fe3e9c97ab"
      },
      "id": "73b20dc27cd87f7f",
      "execution_count": null
    },
    {
      "cell_type": "code",
      "outputs": [
        {
          "data": {
            "text/plain": "                           RF        GB        LR        DT\nMetric                                                     \nAccuracy             0.786667  0.783333  0.790000  0.796667\nPrecision (Class 0)  0.772727  0.734463  0.767296  0.763636\nPrecision (Class 1)  0.801370  0.853659  0.815603  0.837037\nRecall (Class 0)     0.804054  0.878378  0.824324  0.851351\nRecall (Class 1)     0.769737  0.690789  0.756579  0.743421\nF1-Score (Class 0)   0.788079  0.800000  0.794788  0.805112\nF1-Score (Class 1)   0.785235  0.763636  0.784983  0.787456\nROC AUC              0.786895  0.784584  0.790452  0.797386",
            "text/html": "<div>\n<style scoped>\n    .dataframe tbody tr th:only-of-type {\n        vertical-align: middle;\n    }\n\n    .dataframe tbody tr th {\n        vertical-align: top;\n    }\n\n    .dataframe thead th {\n        text-align: right;\n    }\n</style>\n<table border=\"1\" class=\"dataframe\">\n  <thead>\n    <tr style=\"text-align: right;\">\n      <th></th>\n      <th>RF</th>\n      <th>GB</th>\n      <th>LR</th>\n      <th>DT</th>\n    </tr>\n    <tr>\n      <th>Metric</th>\n      <th></th>\n      <th></th>\n      <th></th>\n      <th></th>\n    </tr>\n  </thead>\n  <tbody>\n    <tr>\n      <th>Accuracy</th>\n      <td>0.786667</td>\n      <td>0.783333</td>\n      <td>0.790000</td>\n      <td>0.796667</td>\n    </tr>\n    <tr>\n      <th>Precision (Class 0)</th>\n      <td>0.772727</td>\n      <td>0.734463</td>\n      <td>0.767296</td>\n      <td>0.763636</td>\n    </tr>\n    <tr>\n      <th>Precision (Class 1)</th>\n      <td>0.801370</td>\n      <td>0.853659</td>\n      <td>0.815603</td>\n      <td>0.837037</td>\n    </tr>\n    <tr>\n      <th>Recall (Class 0)</th>\n      <td>0.804054</td>\n      <td>0.878378</td>\n      <td>0.824324</td>\n      <td>0.851351</td>\n    </tr>\n    <tr>\n      <th>Recall (Class 1)</th>\n      <td>0.769737</td>\n      <td>0.690789</td>\n      <td>0.756579</td>\n      <td>0.743421</td>\n    </tr>\n    <tr>\n      <th>F1-Score (Class 0)</th>\n      <td>0.788079</td>\n      <td>0.800000</td>\n      <td>0.794788</td>\n      <td>0.805112</td>\n    </tr>\n    <tr>\n      <th>F1-Score (Class 1)</th>\n      <td>0.785235</td>\n      <td>0.763636</td>\n      <td>0.784983</td>\n      <td>0.787456</td>\n    </tr>\n    <tr>\n      <th>ROC AUC</th>\n      <td>0.786895</td>\n      <td>0.784584</td>\n      <td>0.790452</td>\n      <td>0.797386</td>\n    </tr>\n  </tbody>\n</table>\n</div>"
          },
          "execution_count": 60,
          "metadata": {},
          "output_type": "execute_result"
        }
      ],
      "source": [
        "rf_metrics = precision_recall_fscore_support(test_score, RF_predict, average=None)\n",
        "rf_ac = accuracy_score(test_score, RF_predict)\n",
        "rf_roc_auc = roc_auc_score(test_score, RF_predict)\n",
        "\n",
        "gb_metrics = precision_recall_fscore_support(test_score, GB_predict, average=None)\n",
        "gb_ac = accuracy_score(test_score, GB_predict)\n",
        "gb_roc_auc = roc_auc_score(test_score, GB_predict)\n",
        "\n",
        "lr_metrics = precision_recall_fscore_support(test_score, LR_predict, average=None)\n",
        "lr_ac = accuracy_score(test_score, LR_predict)\n",
        "lr_roc_auc = roc_auc_score(test_score, LR_predict)\n",
        "\n",
        "dt_metrics = precision_recall_fscore_support(test_score, DT_bow_predict, average=None)\n",
        "dt_ac = accuracy_score(test_score, DT_bow_predict)\n",
        "dt_roc_auc = roc_auc_score(test_score, DT_bow_predict)\n",
        "\n",
        "metrics_data = {\n",
        "    'Metric': ['Accuracy', 'Precision (Class 0)', 'Precision (Class 1)', 'Recall (Class 0)', 'Recall (Class 1)', 'F1-Score (Class 0)', 'F1-Score (Class 1)', 'ROC AUC'],\n",
        "    'RF': [rf_ac, *rf_metrics[0], *rf_metrics[1], *rf_metrics[2], rf_roc_auc],\n",
        "    'GB': [gb_ac, *gb_metrics[0], *gb_metrics[1], *gb_metrics[2], gb_roc_auc],\n",
        "    'LR': [lr_ac, *lr_metrics[0], *lr_metrics[1], *lr_metrics[2], lr_roc_auc],\n",
        "    'DT': [dt_ac, *dt_metrics[0], *dt_metrics[1], *dt_metrics[2], dt_roc_auc]\n",
        "}\n",
        "\n",
        "metrics_df = pd.DataFrame(metrics_data)\n",
        "metrics_df.set_index('Metric', inplace=True)\n",
        "metrics_df"
      ],
      "metadata": {
        "ExecuteTime": {
          "end_time": "2024-01-03T21:44:52.087416800Z",
          "start_time": "2024-01-03T21:44:51.943642900Z"
        },
        "id": "9d6f58fd60f2283",
        "outputId": "53cd6fd7-dc18-484f-b64f-99b328e7921f"
      },
      "id": "9d6f58fd60f2283",
      "execution_count": null
    },
    {
      "cell_type": "code",
      "outputs": [],
      "source": [
        "###################################################\n",
        "#####   classification using a BERT-based model ##"
      ],
      "metadata": {
        "id": "275e89989a4ce868"
      },
      "id": "275e89989a4ce868",
      "execution_count": null
    },
    {
      "cell_type": "code",
      "outputs": [
        {
          "name": "stdout",
          "output_type": "stream",
          "text": [
            "Collecting tensorflow-text\n",
            "  Downloading tensorflow_text-2.10.0-cp39-cp39-win_amd64.whl (5.0 MB)\n",
            "     ---------------------------------------- 0.0/5.0 MB ? eta -:--:--\n",
            "     - -------------------------------------- 0.1/5.0 MB 2.9 MB/s eta 0:00:02\n",
            "     ---- ----------------------------------- 0.6/5.0 MB 5.4 MB/s eta 0:00:01\n",
            "     --------- ------------------------------ 1.1/5.0 MB 7.3 MB/s eta 0:00:01\n",
            "     ------------ --------------------------- 1.6/5.0 MB 7.3 MB/s eta 0:00:01\n",
            "     ---------------------------- ----------- 3.5/5.0 MB 12.5 MB/s eta 0:00:01\n",
            "     ---------------------------------------  5.0/5.0 MB 15.2 MB/s eta 0:00:01\n",
            "     ---------------------------------------- 5.0/5.0 MB 13.9 MB/s eta 0:00:00\n",
            "Collecting tensorflow-hub>=0.8.0 (from tensorflow-text)\n",
            "  Obtaining dependency information for tensorflow-hub>=0.8.0 from https://files.pythonhosted.org/packages/6e/1a/fbae76f4057b9bcdf9468025d7a8ca952dec14bfafb9fc0b1e4244ce212f/tensorflow_hub-0.15.0-py2.py3-none-any.whl.metadata\n",
            "  Downloading tensorflow_hub-0.15.0-py2.py3-none-any.whl.metadata (1.3 kB)\n",
            "Collecting tensorflow<2.11,>=2.10.0 (from tensorflow-text)\n",
            "  Downloading tensorflow-2.10.1-cp39-cp39-win_amd64.whl (455.9 MB)\n",
            "     ---------------------------------------- 0.0/455.9 MB ? eta -:--:--\n",
            "     --------------------------------------- 1.0/455.9 MB 33.4 MB/s eta 0:00:14\n",
            "     --------------------------------------- 1.3/455.9 MB 13.5 MB/s eta 0:00:34\n",
            "     --------------------------------------- 2.4/455.9 MB 17.0 MB/s eta 0:00:27\n",
            "     --------------------------------------- 3.7/455.9 MB 21.4 MB/s eta 0:00:22\n",
            "     --------------------------------------- 4.9/455.9 MB 21.0 MB/s eta 0:00:22\n",
            "     --------------------------------------- 5.2/455.9 MB 20.9 MB/s eta 0:00:22\n",
            "     --------------------------------------- 5.2/455.9 MB 20.9 MB/s eta 0:00:22\n",
            "     --------------------------------------- 5.2/455.9 MB 20.9 MB/s eta 0:00:22\n",
            "     --------------------------------------- 5.2/455.9 MB 20.9 MB/s eta 0:00:22\n",
            "     --------------------------------------- 5.5/455.9 MB 11.7 MB/s eta 0:00:39\n",
            "      -------------------------------------- 6.3/455.9 MB 12.6 MB/s eta 0:00:36\n",
            "      -------------------------------------- 6.7/455.9 MB 11.8 MB/s eta 0:00:38\n",
            "      -------------------------------------- 7.3/455.9 MB 12.7 MB/s eta 0:00:36\n",
            "      -------------------------------------- 7.7/455.9 MB 12.0 MB/s eta 0:00:38\n",
            "      -------------------------------------- 7.7/455.9 MB 12.0 MB/s eta 0:00:38\n",
            "      -------------------------------------- 7.7/455.9 MB 12.0 MB/s eta 0:00:38\n",
            "      -------------------------------------- 7.7/455.9 MB 12.0 MB/s eta 0:00:38\n",
            "      -------------------------------------- 7.7/455.9 MB 12.0 MB/s eta 0:00:38\n",
            "      -------------------------------------- 7.7/455.9 MB 12.0 MB/s eta 0:00:38\n",
            "      -------------------------------------- 7.7/455.9 MB 12.0 MB/s eta 0:00:38\n",
            "      -------------------------------------- 7.7/455.9 MB 12.0 MB/s eta 0:00:38\n",
            "      -------------------------------------- 7.7/455.9 MB 12.0 MB/s eta 0:00:38\n",
            "      -------------------------------------- 7.7/455.9 MB 12.0 MB/s eta 0:00:38\n",
            "      --------------------------------------- 7.8/455.9 MB 6.9 MB/s eta 0:01:06\n",
            "      --------------------------------------- 9.8/455.9 MB 8.3 MB/s eta 0:00:54\n",
            "      --------------------------------------- 9.8/455.9 MB 8.3 MB/s eta 0:00:54\n",
            "      --------------------------------------- 9.9/455.9 MB 7.8 MB/s eta 0:00:57\n",
            "      -------------------------------------- 10.5/455.9 MB 7.7 MB/s eta 0:00:58\n",
            "      -------------------------------------- 11.6/455.9 MB 8.1 MB/s eta 0:00:55\n",
            "     - ------------------------------------- 13.0/455.9 MB 8.1 MB/s eta 0:00:55\n",
            "     - ------------------------------------- 14.1/455.9 MB 8.0 MB/s eta 0:00:56\n",
            "     - ------------------------------------- 14.3/455.9 MB 8.0 MB/s eta 0:00:56\n",
            "     - ------------------------------------- 15.3/455.9 MB 7.7 MB/s eta 0:00:58\n",
            "     - ------------------------------------- 16.7/455.9 MB 9.5 MB/s eta 0:00:47\n",
            "     - ------------------------------------ 18.2/455.9 MB 19.2 MB/s eta 0:00:23\n",
            "     - ------------------------------------ 19.8/455.9 MB 18.2 MB/s eta 0:00:24\n",
            "     - ------------------------------------ 21.2/455.9 MB 23.4 MB/s eta 0:00:19\n",
            "     - ------------------------------------ 21.9/455.9 MB 23.4 MB/s eta 0:00:19\n",
            "     - ------------------------------------ 22.7/455.9 MB 21.1 MB/s eta 0:00:21\n",
            "     -- ----------------------------------- 24.8/455.9 MB 26.2 MB/s eta 0:00:17\n",
            "     -- ----------------------------------- 26.2/455.9 MB 26.2 MB/s eta 0:00:17\n",
            "     -- ----------------------------------- 27.0/455.9 MB 24.2 MB/s eta 0:00:18\n",
            "     -- ----------------------------------- 28.7/455.9 MB 25.2 MB/s eta 0:00:17\n",
            "     -- ----------------------------------- 29.9/455.9 MB 25.2 MB/s eta 0:00:17\n",
            "     -- ----------------------------------- 30.5/455.9 MB 23.4 MB/s eta 0:00:19\n",
            "     -- ----------------------------------- 32.1/455.9 MB 25.2 MB/s eta 0:00:17\n",
            "     -- ----------------------------------- 32.5/455.9 MB 25.1 MB/s eta 0:00:17\n",
            "     -- ----------------------------------- 32.5/455.9 MB 25.1 MB/s eta 0:00:17\n",
            "     -- ----------------------------------- 33.1/455.9 MB 19.3 MB/s eta 0:00:22\n",
            "     -- ----------------------------------- 34.0/455.9 MB 18.7 MB/s eta 0:00:23\n",
            "     -- ----------------------------------- 35.4/455.9 MB 18.2 MB/s eta 0:00:24\n",
            "     --- ---------------------------------- 36.7/455.9 MB 17.2 MB/s eta 0:00:25\n",
            "     --- ---------------------------------- 37.1/455.9 MB 16.8 MB/s eta 0:00:25\n",
            "     --- ---------------------------------- 38.6/455.9 MB 16.8 MB/s eta 0:00:25\n",
            "     --- ---------------------------------- 39.8/455.9 MB 17.2 MB/s eta 0:00:25\n",
            "     --- ---------------------------------- 40.6/455.9 MB 17.2 MB/s eta 0:00:25\n",
            "     --- ---------------------------------- 40.6/455.9 MB 16.0 MB/s eta 0:00:26\n",
            "     --- ---------------------------------- 41.9/455.9 MB 16.0 MB/s eta 0:00:26\n",
            "     --- ---------------------------------- 43.6/455.9 MB 21.1 MB/s eta 0:00:20\n",
            "     --- ---------------------------------- 44.4/455.9 MB 21.1 MB/s eta 0:00:20\n",
            "     --- ---------------------------------- 45.3/455.9 MB 19.8 MB/s eta 0:00:21\n",
            "     --- ---------------------------------- 46.7/455.9 MB 19.9 MB/s eta 0:00:21\n",
            "     ---- --------------------------------- 48.5/455.9 MB 21.8 MB/s eta 0:00:19\n",
            "     ---- --------------------------------- 48.9/455.9 MB 21.1 MB/s eta 0:00:20\n",
            "     ---- --------------------------------- 50.2/455.9 MB 20.5 MB/s eta 0:00:20\n",
            "     ---- --------------------------------- 51.4/455.9 MB 23.4 MB/s eta 0:00:18\n",
            "     ---- --------------------------------- 51.4/455.9 MB 23.4 MB/s eta 0:00:18\n",
            "     ---- --------------------------------- 52.4/455.9 MB 19.3 MB/s eta 0:00:21\n",
            "     ---- --------------------------------- 52.4/455.9 MB 19.3 MB/s eta 0:00:21\n",
            "     ---- --------------------------------- 52.4/455.9 MB 19.3 MB/s eta 0:00:21\n",
            "     ---- --------------------------------- 52.8/455.9 MB 14.2 MB/s eta 0:00:29\n",
            "     ---- --------------------------------- 52.8/455.9 MB 14.2 MB/s eta 0:00:29\n",
            "     ---- --------------------------------- 52.8/455.9 MB 14.2 MB/s eta 0:00:29\n",
            "     ---- --------------------------------- 52.8/455.9 MB 14.2 MB/s eta 0:00:29\n",
            "     ---- --------------------------------- 52.8/455.9 MB 14.2 MB/s eta 0:00:29\n",
            "     ---- --------------------------------- 52.8/455.9 MB 14.2 MB/s eta 0:00:29\n",
            "     ---- ---------------------------------- 53.0/455.9 MB 9.6 MB/s eta 0:00:42\n",
            "     ---- ---------------------------------- 54.0/455.9 MB 9.6 MB/s eta 0:00:42\n",
            "     ---- ---------------------------------- 54.7/455.9 MB 9.5 MB/s eta 0:00:43\n",
            "     ---- ---------------------------------- 55.7/455.9 MB 9.4 MB/s eta 0:00:43\n",
            "     ---- ---------------------------------- 56.4/455.9 MB 9.2 MB/s eta 0:00:44\n",
            "     ---- ---------------------------------- 57.2/455.9 MB 9.1 MB/s eta 0:00:44\n",
            "     ---- ---------------------------------- 58.1/455.9 MB 9.0 MB/s eta 0:00:45\n",
            "     ----- --------------------------------- 58.9/455.9 MB 8.8 MB/s eta 0:00:45\n",
            "     ----- --------------------------------- 59.6/455.9 MB 9.4 MB/s eta 0:00:43\n",
            "     ----- --------------------------------- 59.8/455.9 MB 9.1 MB/s eta 0:00:44\n",
            "     ----- --------------------------------- 59.8/455.9 MB 9.1 MB/s eta 0:00:44\n",
            "     ----- --------------------------------- 59.8/455.9 MB 9.1 MB/s eta 0:00:44\n",
            "     ----- --------------------------------- 59.8/455.9 MB 9.1 MB/s eta 0:00:44\n",
            "     ----- --------------------------------- 59.8/455.9 MB 9.1 MB/s eta 0:00:44\n",
            "     ----- --------------------------------- 60.6/455.9 MB 7.6 MB/s eta 0:00:52\n",
            "     ----- --------------------------------- 60.8/455.9 MB 7.4 MB/s eta 0:00:54\n",
            "     ----- --------------------------------- 61.8/455.9 MB 7.8 MB/s eta 0:00:51\n",
            "     ----- --------------------------------- 62.6/455.9 MB 7.5 MB/s eta 0:00:53\n",
            "     ----- -------------------------------- 63.4/455.9 MB 12.6 MB/s eta 0:00:32\n",
            "     ----- -------------------------------- 64.2/455.9 MB 12.1 MB/s eta 0:00:33\n",
            "     ----- -------------------------------- 65.1/455.9 MB 12.1 MB/s eta 0:00:33\n",
            "     ----- -------------------------------- 66.1/455.9 MB 12.1 MB/s eta 0:00:33\n",
            "     ----- -------------------------------- 66.9/455.9 MB 12.1 MB/s eta 0:00:33\n",
            "     ----- -------------------------------- 67.1/455.9 MB 12.1 MB/s eta 0:00:33\n",
            "     ----- -------------------------------- 67.1/455.9 MB 12.1 MB/s eta 0:00:33\n",
            "     ----- -------------------------------- 67.1/455.9 MB 12.1 MB/s eta 0:00:33\n",
            "     ----- -------------------------------- 67.1/455.9 MB 12.1 MB/s eta 0:00:33\n",
            "     ----- -------------------------------- 67.1/455.9 MB 12.1 MB/s eta 0:00:33\n",
            "     ----- -------------------------------- 67.1/455.9 MB 12.1 MB/s eta 0:00:33\n",
            "     ----- --------------------------------- 67.5/455.9 MB 9.1 MB/s eta 0:00:43\n",
            "     ----- --------------------------------- 68.1/455.9 MB 9.0 MB/s eta 0:00:44\n",
            "     ----- --------------------------------- 69.0/455.9 MB 9.1 MB/s eta 0:00:43\n",
            "     ----- --------------------------------- 69.8/455.9 MB 9.1 MB/s eta 0:00:43\n",
            "     ----- -------------------------------- 70.7/455.9 MB 11.3 MB/s eta 0:00:35\n",
            "     ----- -------------------------------- 71.5/455.9 MB 11.7 MB/s eta 0:00:33\n",
            "     ----- -------------------------------- 71.9/455.9 MB 11.5 MB/s eta 0:00:34\n",
            "     ------ ------------------------------- 72.7/455.9 MB 11.3 MB/s eta 0:00:34\n",
            "     ------ ------------------------------- 73.2/455.9 MB 11.3 MB/s eta 0:00:34\n",
            "     ------ ------------------------------- 73.8/455.9 MB 11.1 MB/s eta 0:00:35\n",
            "     ------ ------------------------------- 74.7/455.9 MB 10.9 MB/s eta 0:00:35\n",
            "     ------ ------------------------------- 75.5/455.9 MB 10.9 MB/s eta 0:00:35\n",
            "     ------ ------------------------------- 76.0/455.9 MB 10.7 MB/s eta 0:00:36\n",
            "     ------ ------------------------------- 76.2/455.9 MB 10.4 MB/s eta 0:00:37\n",
            "     ------ ------------------------------- 76.5/455.9 MB 10.1 MB/s eta 0:00:38\n",
            "     ------ ------------------------------- 77.2/455.9 MB 10.1 MB/s eta 0:00:38\n",
            "     ------ -------------------------------- 77.2/455.9 MB 9.6 MB/s eta 0:00:40\n",
            "     ------ ------------------------------- 78.2/455.9 MB 13.4 MB/s eta 0:00:29\n",
            "     ------ ------------------------------- 78.8/455.9 MB 13.4 MB/s eta 0:00:29\n",
            "     ------ ------------------------------- 79.6/455.9 MB 13.6 MB/s eta 0:00:28\n",
            "     ------ ------------------------------- 80.5/455.9 MB 13.4 MB/s eta 0:00:29\n",
            "     ------ ------------------------------- 81.5/455.9 MB 13.4 MB/s eta 0:00:28\n",
            "     ------ ------------------------------- 82.4/455.9 MB 13.6 MB/s eta 0:00:28\n",
            "     ------ ------------------------------- 83.3/455.9 MB 13.9 MB/s eta 0:00:27\n",
            "     ------- ------------------------------ 84.2/455.9 MB 14.6 MB/s eta 0:00:26\n",
            "     ------- ------------------------------ 85.0/455.9 MB 14.9 MB/s eta 0:00:25\n",
            "     ------- ------------------------------ 86.0/455.9 MB 15.2 MB/s eta 0:00:25\n",
            "     ------- ------------------------------ 86.4/455.9 MB 15.6 MB/s eta 0:00:24\n",
            "     ------- ------------------------------ 87.2/455.9 MB 16.4 MB/s eta 0:00:23\n",
            "     ------- ------------------------------ 88.1/455.9 MB 17.7 MB/s eta 0:00:21\n",
            "     ------- ------------------------------ 89.0/455.9 MB 18.2 MB/s eta 0:00:21\n",
            "     ------- ------------------------------ 90.1/455.9 MB 18.2 MB/s eta 0:00:21\n",
            "     ------- ------------------------------ 91.0/455.9 MB 18.2 MB/s eta 0:00:21\n",
            "     ------- ------------------------------ 91.8/455.9 MB 18.2 MB/s eta 0:00:21\n",
            "     ------- ------------------------------ 92.9/455.9 MB 18.7 MB/s eta 0:00:20\n",
            "     ------- ------------------------------ 93.5/455.9 MB 18.2 MB/s eta 0:00:20\n",
            "     ------- ------------------------------ 94.2/455.9 MB 18.2 MB/s eta 0:00:20\n",
            "     ------- ------------------------------ 95.1/455.9 MB 17.7 MB/s eta 0:00:21\n",
            "     -------- ----------------------------- 96.2/455.9 MB 18.2 MB/s eta 0:00:20\n",
            "     -------- ----------------------------- 96.9/455.9 MB 18.7 MB/s eta 0:00:20\n",
            "     -------- ----------------------------- 97.8/455.9 MB 18.7 MB/s eta 0:00:20\n",
            "     -------- ----------------------------- 98.7/455.9 MB 19.3 MB/s eta 0:00:19\n",
            "     -------- ----------------------------- 99.5/455.9 MB 18.7 MB/s eta 0:00:20\n",
            "     -------- ---------------------------- 100.5/455.9 MB 18.7 MB/s eta 0:00:20\n",
            "     -------- ---------------------------- 101.6/455.9 MB 18.7 MB/s eta 0:00:19\n",
            "     -------- ---------------------------- 102.9/455.9 MB 19.3 MB/s eta 0:00:19\n",
            "     -------- ---------------------------- 104.1/455.9 MB 18.7 MB/s eta 0:00:19\n",
            "     -------- ---------------------------- 105.5/455.9 MB 19.8 MB/s eta 0:00:18\n",
            "     -------- ---------------------------- 106.4/455.9 MB 19.8 MB/s eta 0:00:18\n",
            "     -------- ---------------------------- 107.0/455.9 MB 19.9 MB/s eta 0:00:18\n",
            "     -------- ---------------------------- 107.9/455.9 MB 18.2 MB/s eta 0:00:20\n",
            "     -------- ---------------------------- 108.7/455.9 MB 17.7 MB/s eta 0:00:20\n",
            "     -------- ---------------------------- 109.6/455.9 MB 17.7 MB/s eta 0:00:20\n",
            "     -------- ---------------------------- 110.4/455.9 MB 18.2 MB/s eta 0:00:20\n",
            "     --------- --------------------------- 111.4/455.9 MB 18.7 MB/s eta 0:00:19\n",
            "     --------- --------------------------- 112.7/455.9 MB 18.7 MB/s eta 0:00:19\n",
            "     --------- --------------------------- 113.7/455.9 MB 18.7 MB/s eta 0:00:19\n",
            "     --------- --------------------------- 114.5/455.9 MB 18.2 MB/s eta 0:00:19\n",
            "     --------- --------------------------- 115.5/455.9 MB 18.2 MB/s eta 0:00:19\n",
            "     --------- --------------------------- 116.3/455.9 MB 18.2 MB/s eta 0:00:19\n",
            "     --------- --------------------------- 117.2/455.9 MB 18.2 MB/s eta 0:00:19\n",
            "     --------- --------------------------- 118.1/455.9 MB 19.8 MB/s eta 0:00:18\n",
            "     --------- --------------------------- 119.1/455.9 MB 21.1 MB/s eta 0:00:16\n",
            "     --------- --------------------------- 120.0/455.9 MB 20.5 MB/s eta 0:00:17\n",
            "     --------- --------------------------- 121.0/455.9 MB 20.5 MB/s eta 0:00:17\n",
            "     --------- --------------------------- 122.0/455.9 MB 19.8 MB/s eta 0:00:17\n",
            "     --------- --------------------------- 122.9/455.9 MB 19.2 MB/s eta 0:00:18\n",
            "     ---------- -------------------------- 124.0/455.9 MB 20.5 MB/s eta 0:00:17\n",
            "     ---------- -------------------------- 124.9/455.9 MB 21.1 MB/s eta 0:00:16\n",
            "     ---------- -------------------------- 125.8/455.9 MB 20.5 MB/s eta 0:00:17\n",
            "     ---------- -------------------------- 126.7/455.9 MB 19.8 MB/s eta 0:00:17\n",
            "     ---------- -------------------------- 127.7/455.9 MB 19.8 MB/s eta 0:00:17\n",
            "     ---------- -------------------------- 128.7/455.9 MB 20.5 MB/s eta 0:00:16\n",
            "     ---------- -------------------------- 129.7/455.9 MB 20.5 MB/s eta 0:00:16\n",
            "     ---------- -------------------------- 130.4/455.9 MB 20.5 MB/s eta 0:00:16\n",
            "     ---------- -------------------------- 131.6/455.9 MB 19.9 MB/s eta 0:00:17\n",
            "     ---------- -------------------------- 132.5/455.9 MB 19.9 MB/s eta 0:00:17\n",
            "     ---------- -------------------------- 133.4/455.9 MB 19.9 MB/s eta 0:00:17\n",
            "     ---------- -------------------------- 134.3/455.9 MB 19.8 MB/s eta 0:00:17\n",
            "     ---------- -------------------------- 135.1/455.9 MB 19.3 MB/s eta 0:00:17\n",
            "     ----------- ------------------------- 136.1/455.9 MB 20.5 MB/s eta 0:00:16\n",
            "     ----------- ------------------------- 137.1/455.9 MB 19.8 MB/s eta 0:00:17\n",
            "     ----------- ------------------------- 138.2/455.9 MB 20.5 MB/s eta 0:00:16\n",
            "     ----------- ------------------------- 139.0/455.9 MB 20.5 MB/s eta 0:00:16\n",
            "     ----------- ------------------------- 140.0/455.9 MB 20.5 MB/s eta 0:00:16\n",
            "     ----------- ------------------------- 141.1/455.9 MB 19.9 MB/s eta 0:00:16\n",
            "     ----------- ------------------------- 142.1/455.9 MB 20.5 MB/s eta 0:00:16\n",
            "     ----------- ------------------------- 143.0/455.9 MB 20.5 MB/s eta 0:00:16\n",
            "     ----------- ------------------------- 143.9/455.9 MB 21.1 MB/s eta 0:00:15\n",
            "     ----------- ------------------------- 144.9/455.9 MB 21.1 MB/s eta 0:00:15\n",
            "     ----------- ------------------------- 145.8/455.9 MB 21.1 MB/s eta 0:00:15\n",
            "     ----------- ------------------------- 146.8/455.9 MB 21.1 MB/s eta 0:00:15\n",
            "     ------------ ------------------------ 147.9/455.9 MB 20.5 MB/s eta 0:00:16\n",
            "     ------------ ------------------------ 148.6/455.9 MB 20.5 MB/s eta 0:00:16\n",
            "     ------------ ------------------------ 149.9/455.9 MB 20.5 MB/s eta 0:00:15\n",
            "     ------------ ------------------------ 151.0/455.9 MB 20.5 MB/s eta 0:00:15\n",
            "     ------------ ------------------------ 151.9/455.9 MB 19.8 MB/s eta 0:00:16\n",
            "     ------------ ------------------------ 153.0/455.9 MB 19.2 MB/s eta 0:00:16\n",
            "     ------------ ------------------------ 154.3/455.9 MB 19.3 MB/s eta 0:00:16\n",
            "     ------------ ------------------------ 155.5/455.9 MB 19.2 MB/s eta 0:00:16\n",
            "     ------------ ------------------------ 156.6/455.9 MB 18.7 MB/s eta 0:00:17\n",
            "     ------------ ------------------------ 157.7/455.9 MB 18.7 MB/s eta 0:00:16\n",
            "     ------------ ------------------------ 158.7/455.9 MB 18.2 MB/s eta 0:00:17\n",
            "     ------------ ------------------------ 160.1/455.9 MB 18.7 MB/s eta 0:00:16\n",
            "     ------------- ----------------------- 161.2/455.9 MB 18.2 MB/s eta 0:00:17\n",
            "     ------------- ----------------------- 162.8/455.9 MB 19.8 MB/s eta 0:00:15\n",
            "     ------------- ----------------------- 164.3/455.9 MB 20.5 MB/s eta 0:00:15\n",
            "     ------------- ----------------------- 165.7/455.9 MB 20.5 MB/s eta 0:00:15\n",
            "     ------------- ----------------------- 166.5/455.9 MB 19.8 MB/s eta 0:00:15\n",
            "     ------------- ----------------------- 167.9/455.9 MB 20.5 MB/s eta 0:00:15\n",
            "     ------------- ----------------------- 168.9/455.9 MB 20.5 MB/s eta 0:00:15\n",
            "     ------------- ----------------------- 170.1/455.9 MB 20.5 MB/s eta 0:00:14\n",
            "     ------------- ----------------------- 171.3/455.9 MB 20.5 MB/s eta 0:00:14\n",
            "     ------------- ----------------------- 172.3/455.9 MB 19.2 MB/s eta 0:00:15\n",
            "     -------------- ---------------------- 173.3/455.9 MB 19.3 MB/s eta 0:00:15\n",
            "     -------------- ---------------------- 173.4/455.9 MB 17.2 MB/s eta 0:00:17\n",
            "     -------------- ---------------------- 174.7/455.9 MB 17.2 MB/s eta 0:00:17\n",
            "     -------------- ---------------------- 175.9/455.9 MB 16.8 MB/s eta 0:00:17\n",
            "     -------------- ---------------------- 176.7/455.9 MB 17.3 MB/s eta 0:00:17\n",
            "     -------------- ---------------------- 177.0/455.9 MB 16.4 MB/s eta 0:00:18\n",
            "     -------------- ---------------------- 178.3/455.9 MB 15.6 MB/s eta 0:00:18\n",
            "     -------------- ---------------------- 179.3/455.9 MB 16.0 MB/s eta 0:00:18\n",
            "     -------------- ---------------------- 180.1/455.9 MB 15.6 MB/s eta 0:00:18\n",
            "     -------------- ---------------------- 181.2/455.9 MB 16.0 MB/s eta 0:00:18\n",
            "     -------------- ---------------------- 182.3/455.9 MB 16.4 MB/s eta 0:00:17\n",
            "     -------------- ---------------------- 183.1/455.9 MB 16.4 MB/s eta 0:00:17\n",
            "     -------------- ---------------------- 184.0/455.9 MB 18.2 MB/s eta 0:00:15\n",
            "     --------------- --------------------- 185.0/455.9 MB 18.7 MB/s eta 0:00:15\n",
            "     --------------- --------------------- 186.1/455.9 MB 18.7 MB/s eta 0:00:15\n",
            "     --------------- --------------------- 187.4/455.9 MB 21.9 MB/s eta 0:00:13\n",
            "     --------------- --------------------- 187.9/455.9 MB 21.8 MB/s eta 0:00:13\n",
            "     --------------- --------------------- 187.9/455.9 MB 18.7 MB/s eta 0:00:15\n",
            "     --------------- --------------------- 189.2/455.9 MB 19.3 MB/s eta 0:00:14\n",
            "     --------------- --------------------- 190.5/455.9 MB 19.8 MB/s eta 0:00:14\n",
            "     --------------- --------------------- 191.4/455.9 MB 19.8 MB/s eta 0:00:14\n",
            "     --------------- --------------------- 192.7/455.9 MB 21.1 MB/s eta 0:00:13\n",
            "     --------------- --------------------- 194.0/455.9 MB 21.1 MB/s eta 0:00:13\n",
            "     --------------- --------------------- 195.1/455.9 MB 21.9 MB/s eta 0:00:12\n",
            "     --------------- --------------------- 196.1/455.9 MB 21.8 MB/s eta 0:00:12\n",
            "     --------------- --------------------- 197.0/455.9 MB 21.1 MB/s eta 0:00:13\n",
            "     ---------------- -------------------- 197.5/455.9 MB 20.5 MB/s eta 0:00:13\n",
            "     ---------------- -------------------- 198.3/455.9 MB 22.6 MB/s eta 0:00:12\n",
            "     ---------------- -------------------- 198.6/455.9 MB 21.1 MB/s eta 0:00:13\n",
            "     ---------------- -------------------- 198.6/455.9 MB 21.1 MB/s eta 0:00:13\n",
            "     ---------------- -------------------- 199.6/455.9 MB 18.2 MB/s eta 0:00:15\n",
            "     ---------------- -------------------- 200.5/455.9 MB 18.2 MB/s eta 0:00:15\n",
            "     ---------------- -------------------- 201.5/455.9 MB 17.7 MB/s eta 0:00:15\n",
            "     ---------------- -------------------- 202.8/455.9 MB 18.2 MB/s eta 0:00:14\n",
            "     ---------------- -------------------- 203.9/455.9 MB 17.7 MB/s eta 0:00:15\n",
            "     ---------------- -------------------- 205.1/455.9 MB 17.7 MB/s eta 0:00:15\n",
            "     ---------------- -------------------- 206.4/455.9 MB 18.2 MB/s eta 0:00:14\n",
            "     ---------------- -------------------- 207.3/455.9 MB 18.2 MB/s eta 0:00:14\n",
            "     ---------------- -------------------- 208.3/455.9 MB 19.9 MB/s eta 0:00:13\n",
            "     ---------------- -------------------- 209.3/455.9 MB 24.2 MB/s eta 0:00:11\n",
            "     ----------------- ------------------- 210.4/455.9 MB 23.4 MB/s eta 0:00:11\n",
            "     ----------------- ------------------- 211.6/455.9 MB 23.4 MB/s eta 0:00:11\n",
            "     ----------------- ------------------- 212.8/455.9 MB 24.2 MB/s eta 0:00:11\n",
            "     ----------------- ------------------- 214.1/455.9 MB 24.2 MB/s eta 0:00:10\n",
            "     ----------------- ------------------- 215.0/455.9 MB 24.2 MB/s eta 0:00:10\n",
            "     ----------------- ------------------- 216.1/455.9 MB 23.4 MB/s eta 0:00:11\n",
            "     ----------------- ------------------- 217.3/455.9 MB 24.2 MB/s eta 0:00:10\n",
            "     ----------------- ------------------- 218.1/455.9 MB 25.2 MB/s eta 0:00:10\n",
            "     ----------------- ------------------- 218.1/455.9 MB 25.2 MB/s eta 0:00:10\n",
            "     ----------------- ------------------- 219.1/455.9 MB 21.1 MB/s eta 0:00:12\n",
            "     ----------------- ------------------- 219.1/455.9 MB 21.1 MB/s eta 0:00:12\n",
            "     ----------------- ------------------- 219.1/455.9 MB 21.1 MB/s eta 0:00:12\n",
            "     ----------------- ------------------- 219.1/455.9 MB 21.1 MB/s eta 0:00:12\n",
            "     ----------------- ------------------- 219.1/455.9 MB 21.1 MB/s eta 0:00:12\n",
            "     ----------------- ------------------- 219.1/455.9 MB 21.1 MB/s eta 0:00:12\n",
            "     ----------------- ------------------- 219.1/455.9 MB 21.1 MB/s eta 0:00:12\n",
            "     ----------------- ------------------- 219.5/455.9 MB 13.1 MB/s eta 0:00:19\n",
            "     ----------------- ------------------- 219.8/455.9 MB 12.6 MB/s eta 0:00:19\n",
            "     ----------------- ------------------- 220.9/455.9 MB 12.4 MB/s eta 0:00:20\n",
            "     ----------------- ------------------- 221.7/455.9 MB 11.9 MB/s eta 0:00:20\n",
            "     ------------------ ------------------ 222.4/455.9 MB 11.7 MB/s eta 0:00:20\n",
            "     ------------------ ------------------ 223.1/455.9 MB 11.5 MB/s eta 0:00:21\n",
            "     ------------------ ------------------ 223.7/455.9 MB 11.3 MB/s eta 0:00:21\n",
            "     ------------------ ------------------ 224.6/455.9 MB 11.1 MB/s eta 0:00:21\n",
            "     ------------------ ------------------ 225.3/455.9 MB 10.9 MB/s eta 0:00:22\n",
            "     ------------------ ------------------ 226.1/455.9 MB 10.7 MB/s eta 0:00:22\n",
            "     ------------------ ------------------ 226.6/455.9 MB 10.4 MB/s eta 0:00:23\n",
            "     ------------------ ------------------ 227.8/455.9 MB 10.4 MB/s eta 0:00:22\n",
            "     ------------------ ------------------ 228.9/455.9 MB 10.9 MB/s eta 0:00:21\n",
            "     ------------------ ------------------ 229.6/455.9 MB 14.9 MB/s eta 0:00:16\n",
            "     ------------------ ------------------ 230.7/455.9 MB 15.6 MB/s eta 0:00:15\n",
            "     ------------------ ------------------ 231.8/455.9 MB 16.0 MB/s eta 0:00:15\n",
            "     ------------------ ------------------ 232.7/455.9 MB 15.6 MB/s eta 0:00:15\n",
            "     ------------------ ------------------ 233.5/455.9 MB 15.6 MB/s eta 0:00:15\n",
            "     ------------------- ----------------- 234.4/455.9 MB 15.2 MB/s eta 0:00:15\n",
            "     ------------------- ----------------- 235.0/455.9 MB 14.9 MB/s eta 0:00:15\n",
            "     ------------------- ----------------- 236.2/455.9 MB 14.9 MB/s eta 0:00:15\n",
            "     ------------------- ----------------- 237.0/455.9 MB 15.2 MB/s eta 0:00:15\n",
            "     ------------------- ----------------- 237.5/455.9 MB 14.9 MB/s eta 0:00:15\n",
            "     ------------------- ----------------- 238.1/455.9 MB 13.9 MB/s eta 0:00:16\n",
            "     ------------------- ----------------- 239.1/455.9 MB 14.2 MB/s eta 0:00:16\n",
            "     ------------------- ----------------- 240.1/455.9 MB 13.9 MB/s eta 0:00:16\n",
            "     ------------------- ----------------- 241.0/455.9 MB 13.9 MB/s eta 0:00:16\n",
            "     ------------------- ----------------- 242.1/455.9 MB 13.9 MB/s eta 0:00:16\n",
            "     ------------------- ----------------- 243.0/455.9 MB 13.9 MB/s eta 0:00:16\n",
            "     ------------------- ----------------- 244.0/455.9 MB 13.9 MB/s eta 0:00:16\n",
            "     ------------------- ----------------- 245.0/455.9 MB 14.2 MB/s eta 0:00:15\n",
            "     ------------------- ----------------- 246.0/455.9 MB 14.6 MB/s eta 0:00:15\n",
            "     -------------------- ---------------- 247.1/455.9 MB 14.9 MB/s eta 0:00:15\n",
            "     -------------------- ---------------- 248.0/455.9 MB 16.0 MB/s eta 0:00:14\n",
            "     -------------------- ---------------- 249.0/455.9 MB 16.4 MB/s eta 0:00:13\n",
            "     -------------------- ---------------- 249.7/455.9 MB 16.0 MB/s eta 0:00:13\n",
            "     -------------------- ---------------- 250.5/455.9 MB 16.0 MB/s eta 0:00:13\n",
            "     -------------------- ---------------- 251.5/455.9 MB 16.8 MB/s eta 0:00:13\n",
            "     -------------------- ---------------- 252.3/455.9 MB 16.4 MB/s eta 0:00:13\n",
            "     -------------------- ---------------- 253.2/455.9 MB 16.8 MB/s eta 0:00:13\n",
            "     -------------------- ---------------- 253.9/455.9 MB 16.8 MB/s eta 0:00:13\n",
            "     -------------------- ---------------- 254.7/455.9 MB 16.8 MB/s eta 0:00:12\n",
            "     -------------------- ---------------- 255.5/455.9 MB 17.3 MB/s eta 0:00:12\n",
            "     -------------------- ---------------- 256.3/455.9 MB 17.2 MB/s eta 0:00:12\n",
            "     -------------------- ---------------- 257.5/455.9 MB 17.3 MB/s eta 0:00:12\n",
            "     -------------------- ---------------- 258.3/455.9 MB 17.2 MB/s eta 0:00:12\n",
            "     --------------------- --------------- 259.3/455.9 MB 17.2 MB/s eta 0:00:12\n",
            "     --------------------- --------------- 259.8/455.9 MB 16.8 MB/s eta 0:00:12\n",
            "     --------------------- --------------- 260.8/455.9 MB 17.7 MB/s eta 0:00:12\n",
            "     --------------------- --------------- 261.6/455.9 MB 17.3 MB/s eta 0:00:12\n",
            "     --------------------- --------------- 262.5/455.9 MB 17.7 MB/s eta 0:00:11\n",
            "     --------------------- --------------- 263.3/455.9 MB 17.2 MB/s eta 0:00:12\n",
            "     --------------------- --------------- 264.3/455.9 MB 17.2 MB/s eta 0:00:12\n",
            "     --------------------- --------------- 265.2/455.9 MB 17.7 MB/s eta 0:00:11\n",
            "     --------------------- --------------- 265.9/455.9 MB 18.2 MB/s eta 0:00:11\n",
            "     --------------------- --------------- 267.2/455.9 MB 18.2 MB/s eta 0:00:11\n",
            "     --------------------- --------------- 268.0/455.9 MB 18.2 MB/s eta 0:00:11\n",
            "     --------------------- --------------- 269.1/455.9 MB 18.2 MB/s eta 0:00:11\n",
            "     --------------------- --------------- 270.0/455.9 MB 18.2 MB/s eta 0:00:11\n",
            "     --------------------- --------------- 270.8/455.9 MB 18.2 MB/s eta 0:00:11\n",
            "     ---------------------- -------------- 271.5/455.9 MB 18.2 MB/s eta 0:00:11\n",
            "     ---------------------- -------------- 272.3/455.9 MB 18.2 MB/s eta 0:00:11\n",
            "     ---------------------- -------------- 273.1/455.9 MB 17.7 MB/s eta 0:00:11\n",
            "     ---------------------- -------------- 273.8/455.9 MB 17.7 MB/s eta 0:00:11\n",
            "     ---------------------- -------------- 275.0/455.9 MB 17.7 MB/s eta 0:00:11\n",
            "     ---------------------- -------------- 275.9/455.9 MB 18.2 MB/s eta 0:00:10\n",
            "     ---------------------- -------------- 276.8/455.9 MB 18.2 MB/s eta 0:00:10\n",
            "     ---------------------- -------------- 277.6/455.9 MB 18.2 MB/s eta 0:00:10\n",
            "     ---------------------- -------------- 278.6/455.9 MB 18.2 MB/s eta 0:00:10\n",
            "     ---------------------- -------------- 279.4/455.9 MB 18.2 MB/s eta 0:00:10\n",
            "     ---------------------- -------------- 280.2/455.9 MB 18.7 MB/s eta 0:00:10\n",
            "     ---------------------- -------------- 281.2/455.9 MB 18.7 MB/s eta 0:00:10\n",
            "     ---------------------- -------------- 282.0/455.9 MB 18.7 MB/s eta 0:00:10\n",
            "     ---------------------- -------------- 282.8/455.9 MB 18.7 MB/s eta 0:00:10\n",
            "     ---------------------- -------------- 282.8/455.9 MB 18.7 MB/s eta 0:00:10\n",
            "     ----------------------- ------------- 283.5/455.9 MB 16.8 MB/s eta 0:00:11\n",
            "     ----------------------- ------------- 284.5/455.9 MB 17.2 MB/s eta 0:00:10\n",
            "     ----------------------- ------------- 285.5/455.9 MB 17.2 MB/s eta 0:00:10\n",
            "     ----------------------- ------------- 286.3/455.9 MB 17.2 MB/s eta 0:00:10\n",
            "     ----------------------- ------------- 287.2/455.9 MB 16.8 MB/s eta 0:00:11\n",
            "     ----------------------- ------------- 288.3/455.9 MB 17.2 MB/s eta 0:00:10\n",
            "     ----------------------- ------------- 289.0/455.9 MB 17.7 MB/s eta 0:00:10\n",
            "     ----------------------- ------------- 289.9/455.9 MB 17.3 MB/s eta 0:00:10\n",
            "     ----------------------- ------------- 290.7/455.9 MB 17.3 MB/s eta 0:00:10\n",
            "     ----------------------- ------------- 291.8/455.9 MB 17.2 MB/s eta 0:00:10\n",
            "     ----------------------- ------------- 292.5/455.9 MB 17.2 MB/s eta 0:00:10\n",
            "     ----------------------- ------------- 293.3/455.9 MB 18.7 MB/s eta 0:00:09\n",
            "     ----------------------- ------------- 294.0/455.9 MB 19.3 MB/s eta 0:00:09\n",
            "     ----------------------- ------------- 295.0/455.9 MB 18.7 MB/s eta 0:00:09\n",
            "     ------------------------ ------------ 296.0/455.9 MB 18.7 MB/s eta 0:00:09\n",
            "     ------------------------ ------------ 296.9/455.9 MB 18.7 MB/s eta 0:00:09\n",
            "     ------------------------ ------------ 298.0/455.9 MB 19.3 MB/s eta 0:00:09\n",
            "     ------------------------ ------------ 298.6/455.9 MB 19.2 MB/s eta 0:00:09\n",
            "     ------------------------ ------------ 299.7/455.9 MB 19.3 MB/s eta 0:00:09\n",
            "     ------------------------ ------------ 300.6/455.9 MB 18.7 MB/s eta 0:00:09\n",
            "     ------------------------ ------------ 301.2/455.9 MB 18.7 MB/s eta 0:00:09\n",
            "     ------------------------ ------------ 301.2/455.9 MB 18.7 MB/s eta 0:00:09\n",
            "     ------------------------ ------------ 301.9/455.9 MB 16.8 MB/s eta 0:00:10\n",
            "     ------------------------ ------------ 302.9/455.9 MB 17.3 MB/s eta 0:00:09\n",
            "     ------------------------ ------------ 303.7/455.9 MB 17.3 MB/s eta 0:00:09\n",
            "     ------------------------ ------------ 304.7/455.9 MB 17.2 MB/s eta 0:00:09\n",
            "     ------------------------ ------------ 305.7/455.9 MB 17.7 MB/s eta 0:00:09\n",
            "     ------------------------ ------------ 306.5/455.9 MB 17.3 MB/s eta 0:00:09\n",
            "     ------------------------ ------------ 307.3/455.9 MB 17.2 MB/s eta 0:00:09\n",
            "     ------------------------- ----------- 308.7/455.9 MB 17.2 MB/s eta 0:00:09\n",
            "     ------------------------- ----------- 309.9/455.9 MB 17.2 MB/s eta 0:00:09\n",
            "     ------------------------- ----------- 311.1/455.9 MB 17.2 MB/s eta 0:00:09\n",
            "     ------------------------- ----------- 312.6/455.9 MB 20.5 MB/s eta 0:00:08\n",
            "     ------------------------- ----------- 313.9/455.9 MB 20.5 MB/s eta 0:00:07\n",
            "     ------------------------- ----------- 315.2/455.9 MB 20.5 MB/s eta 0:00:07\n",
            "     ------------------------- ----------- 316.1/455.9 MB 21.1 MB/s eta 0:00:07\n",
            "     ------------------------- ----------- 316.9/455.9 MB 21.1 MB/s eta 0:00:07\n",
            "     ------------------------- ----------- 318.0/455.9 MB 21.1 MB/s eta 0:00:07\n",
            "     ------------------------- ----------- 318.8/455.9 MB 20.5 MB/s eta 0:00:07\n",
            "     ------------------------- ----------- 319.7/455.9 MB 20.5 MB/s eta 0:00:07\n",
            "     -------------------------- ---------- 320.8/455.9 MB 20.5 MB/s eta 0:00:07\n",
            "     -------------------------- ---------- 320.8/455.9 MB 20.5 MB/s eta 0:00:07\n",
            "     -------------------------- ---------- 321.7/455.9 MB 18.7 MB/s eta 0:00:08\n",
            "     -------------------------- ---------- 322.6/455.9 MB 18.7 MB/s eta 0:00:08\n",
            "     -------------------------- ---------- 323.5/455.9 MB 18.7 MB/s eta 0:00:08\n",
            "     -------------------------- ---------- 324.7/455.9 MB 18.7 MB/s eta 0:00:08\n",
            "     -------------------------- ---------- 325.8/455.9 MB 18.7 MB/s eta 0:00:07\n",
            "     -------------------------- ---------- 326.1/455.9 MB 18.2 MB/s eta 0:00:08\n",
            "     -------------------------- ---------- 326.1/455.9 MB 18.2 MB/s eta 0:00:08\n",
            "     -------------------------- ---------- 327.0/455.9 MB 16.4 MB/s eta 0:00:08\n",
            "     -------------------------- ---------- 328.5/455.9 MB 17.2 MB/s eta 0:00:08\n",
            "     -------------------------- ---------- 329.2/455.9 MB 16.8 MB/s eta 0:00:08\n",
            "     -------------------------- ---------- 330.2/455.9 MB 16.8 MB/s eta 0:00:08\n",
            "     -------------------------- ---------- 331.5/455.9 MB 18.7 MB/s eta 0:00:07\n",
            "     -------------------------- ---------- 332.2/455.9 MB 18.2 MB/s eta 0:00:07\n",
            "     --------------------------- --------- 333.0/455.9 MB 17.7 MB/s eta 0:00:07\n",
            "     --------------------------- --------- 333.9/455.9 MB 17.7 MB/s eta 0:00:07\n",
            "     --------------------------- --------- 334.8/455.9 MB 18.2 MB/s eta 0:00:07\n",
            "     --------------------------- --------- 334.8/455.9 MB 18.2 MB/s eta 0:00:07\n",
            "     --------------------------- --------- 335.7/455.9 MB 16.0 MB/s eta 0:00:08\n",
            "     --------------------------- --------- 336.9/455.9 MB 18.2 MB/s eta 0:00:07\n",
            "     --------------------------- --------- 337.0/455.9 MB 18.7 MB/s eta 0:00:07\n",
            "     --------------------------- --------- 337.7/455.9 MB 16.8 MB/s eta 0:00:08\n",
            "     --------------------------- --------- 338.1/455.9 MB 16.4 MB/s eta 0:00:08\n",
            "     --------------------------- --------- 339.0/455.9 MB 16.4 MB/s eta 0:00:08\n",
            "     --------------------------- --------- 339.9/455.9 MB 16.4 MB/s eta 0:00:08\n",
            "     --------------------------- --------- 340.9/455.9 MB 16.0 MB/s eta 0:00:08\n",
            "     --------------------------- --------- 341.8/455.9 MB 16.0 MB/s eta 0:00:08\n",
            "     --------------------------- --------- 342.6/455.9 MB 16.4 MB/s eta 0:00:07\n",
            "     --------------------------- --------- 343.8/455.9 MB 16.4 MB/s eta 0:00:07\n",
            "     --------------------------- --------- 344.4/455.9 MB 16.4 MB/s eta 0:00:07\n",
            "     ---------------------------- -------- 345.6/455.9 MB 17.7 MB/s eta 0:00:07\n",
            "     ---------------------------- -------- 346.6/455.9 MB 18.2 MB/s eta 0:00:07\n",
            "     ---------------------------- -------- 347.3/455.9 MB 19.9 MB/s eta 0:00:06\n",
            "     ---------------------------- -------- 348.4/455.9 MB 19.8 MB/s eta 0:00:06\n",
            "     ---------------------------- -------- 349.8/455.9 MB 21.1 MB/s eta 0:00:06\n",
            "     ---------------------------- -------- 350.5/455.9 MB 19.9 MB/s eta 0:00:06\n",
            "     ---------------------------- -------- 351.9/455.9 MB 19.8 MB/s eta 0:00:06\n",
            "     ---------------------------- -------- 352.5/455.9 MB 19.3 MB/s eta 0:00:06\n",
            "     ---------------------------- -------- 353.2/455.9 MB 17.7 MB/s eta 0:00:06\n",
            "     ---------------------------- -------- 354.5/455.9 MB 18.2 MB/s eta 0:00:06\n",
            "     ---------------------------- -------- 356.0/455.9 MB 18.7 MB/s eta 0:00:06\n",
            "     ---------------------------- -------- 356.0/455.9 MB 18.7 MB/s eta 0:00:06\n",
            "     ---------------------------- -------- 357.0/455.9 MB 16.0 MB/s eta 0:00:07\n",
            "     ----------------------------- ------- 357.4/455.9 MB 16.0 MB/s eta 0:00:07\n",
            "     ----------------------------- ------- 357.4/455.9 MB 16.0 MB/s eta 0:00:07\n",
            "     ----------------------------- ------- 358.7/455.9 MB 14.2 MB/s eta 0:00:07\n",
            "     ----------------------------- ------- 359.6/455.9 MB 13.6 MB/s eta 0:00:08\n",
            "     ----------------------------- ------- 360.3/455.9 MB 13.1 MB/s eta 0:00:08\n",
            "     ----------------------------- ------- 361.6/455.9 MB 13.4 MB/s eta 0:00:08\n",
            "     ----------------------------- ------- 362.4/455.9 MB 13.4 MB/s eta 0:00:08\n",
            "     ----------------------------- ------- 363.1/455.9 MB 14.2 MB/s eta 0:00:07\n",
            "     ----------------------------- ------- 364.0/455.9 MB 13.9 MB/s eta 0:00:07\n",
            "     ----------------------------- ------- 365.1/455.9 MB 13.9 MB/s eta 0:00:07\n",
            "     ----------------------------- ------- 365.2/455.9 MB 13.9 MB/s eta 0:00:07\n",
            "     ----------------------------- ------- 366.3/455.9 MB 14.6 MB/s eta 0:00:07\n",
            "     ----------------------------- ------- 367.6/455.9 MB 14.9 MB/s eta 0:00:06\n",
            "     ----------------------------- ------- 368.6/455.9 MB 17.7 MB/s eta 0:00:05\n",
            "     ----------------------------- ------- 369.5/455.9 MB 18.7 MB/s eta 0:00:05\n",
            "     ------------------------------ ------ 370.4/455.9 MB 18.7 MB/s eta 0:00:05\n",
            "     ------------------------------ ------ 371.3/455.9 MB 18.7 MB/s eta 0:00:05\n",
            "     ------------------------------ ------ 371.9/455.9 MB 18.7 MB/s eta 0:00:05\n",
            "     ------------------------------ ------ 372.8/455.9 MB 18.7 MB/s eta 0:00:05\n",
            "     ------------------------------ ------ 373.4/455.9 MB 18.2 MB/s eta 0:00:05\n",
            "     ------------------------------ ------ 373.7/455.9 MB 18.2 MB/s eta 0:00:05\n",
            "     ------------------------------ ------ 373.7/455.9 MB 18.2 MB/s eta 0:00:05\n",
            "     ------------------------------ ------ 373.7/455.9 MB 18.2 MB/s eta 0:00:05\n",
            "     ------------------------------ ------ 373.9/455.9 MB 14.2 MB/s eta 0:00:06\n",
            "     ------------------------------ ------ 374.1/455.9 MB 14.6 MB/s eta 0:00:06\n",
            "     ------------------------------ ------ 374.1/455.9 MB 14.6 MB/s eta 0:00:06\n",
            "     ------------------------------ ------ 374.1/455.9 MB 12.4 MB/s eta 0:00:07\n",
            "     ------------------------------ ------ 375.2/455.9 MB 11.9 MB/s eta 0:00:07\n",
            "     ------------------------------ ------ 375.8/455.9 MB 12.6 MB/s eta 0:00:07\n",
            "     ------------------------------ ------ 376.4/455.9 MB 12.1 MB/s eta 0:00:07\n",
            "     ------------------------------ ------ 377.2/455.9 MB 11.9 MB/s eta 0:00:07\n",
            "     ------------------------------ ------ 377.5/455.9 MB 11.7 MB/s eta 0:00:07\n",
            "     ------------------------------ ------ 378.2/455.9 MB 11.3 MB/s eta 0:00:07\n",
            "     ------------------------------ ------ 379.1/455.9 MB 11.3 MB/s eta 0:00:07\n",
            "     ------------------------------ ------ 379.7/455.9 MB 10.9 MB/s eta 0:00:07\n",
            "     ------------------------------ ------ 380.5/455.9 MB 10.9 MB/s eta 0:00:07\n",
            "     ------------------------------ ------ 381.2/455.9 MB 10.7 MB/s eta 0:00:07\n",
            "     ------------------------------- ----- 382.0/455.9 MB 10.7 MB/s eta 0:00:07\n",
            "     ------------------------------- ----- 382.6/455.9 MB 10.7 MB/s eta 0:00:07\n",
            "     ------------------------------- ----- 383.4/455.9 MB 10.7 MB/s eta 0:00:07\n",
            "     ------------------------------- ----- 384.3/455.9 MB 14.9 MB/s eta 0:00:05\n",
            "     ------------------------------- ----- 385.3/455.9 MB 14.2 MB/s eta 0:00:05\n",
            "     ------------------------------- ----- 386.1/455.9 MB 14.5 MB/s eta 0:00:05\n",
            "     ------------------------------- ----- 386.9/455.9 MB 14.6 MB/s eta 0:00:05\n",
            "     ------------------------------- ----- 387.7/455.9 MB 14.2 MB/s eta 0:00:05\n",
            "     ------------------------------- ----- 388.7/455.9 MB 14.6 MB/s eta 0:00:05\n",
            "     ------------------------------- ----- 389.5/455.9 MB 14.2 MB/s eta 0:00:05\n",
            "     ------------------------------- ----- 390.5/455.9 MB 14.6 MB/s eta 0:00:05\n",
            "     ------------------------------- ----- 391.0/455.9 MB 14.2 MB/s eta 0:00:05\n",
            "     ------------------------------- ----- 391.7/455.9 MB 13.9 MB/s eta 0:00:05\n",
            "     ------------------------------- ----- 393.0/455.9 MB 14.6 MB/s eta 0:00:05\n",
            "     ------------------------------- ----- 393.9/455.9 MB 14.6 MB/s eta 0:00:05\n",
            "     -------------------------------- ---- 394.5/455.9 MB 14.6 MB/s eta 0:00:05\n",
            "     -------------------------------- ---- 395.2/455.9 MB 14.2 MB/s eta 0:00:05\n",
            "     -------------------------------- ---- 396.2/455.9 MB 14.2 MB/s eta 0:00:05\n",
            "     -------------------------------- ---- 397.0/455.9 MB 14.2 MB/s eta 0:00:05\n",
            "     -------------------------------- ---- 397.8/455.9 MB 14.6 MB/s eta 0:00:04\n",
            "     -------------------------------- ---- 398.7/455.9 MB 14.5 MB/s eta 0:00:04\n",
            "     -------------------------------- ---- 399.6/455.9 MB 14.2 MB/s eta 0:00:04\n",
            "     -------------------------------- ---- 399.6/455.9 MB 14.2 MB/s eta 0:00:04\n",
            "     -------------------------------- ---- 400.2/455.9 MB 13.4 MB/s eta 0:00:05\n",
            "     -------------------------------- ---- 401.1/455.9 MB 13.4 MB/s eta 0:00:05\n",
            "     -------------------------------- ---- 402.2/455.9 MB 13.6 MB/s eta 0:00:04\n",
            "     -------------------------------- ---- 402.8/455.9 MB 13.4 MB/s eta 0:00:04\n",
            "     -------------------------------- ---- 403.7/455.9 MB 13.4 MB/s eta 0:00:04\n",
            "     -------------------------------- ---- 404.3/455.9 MB 13.4 MB/s eta 0:00:04\n",
            "     -------------------------------- ---- 404.9/455.9 MB 13.6 MB/s eta 0:00:04\n",
            "     -------------------------------- ---- 405.6/455.9 MB 13.6 MB/s eta 0:00:04\n",
            "     -------------------------------- ---- 406.4/455.9 MB 13.9 MB/s eta 0:00:04\n",
            "     --------------------------------- --- 407.2/455.9 MB 13.6 MB/s eta 0:00:04\n",
            "     --------------------------------- --- 407.8/455.9 MB 13.4 MB/s eta 0:00:04\n",
            "     --------------------------------- --- 408.6/455.9 MB 13.4 MB/s eta 0:00:04\n",
            "     --------------------------------- --- 409.2/455.9 MB 13.4 MB/s eta 0:00:04\n",
            "     --------------------------------- --- 409.3/455.9 MB 12.8 MB/s eta 0:00:04\n",
            "     --------------------------------- --- 409.5/455.9 MB 12.6 MB/s eta 0:00:04\n",
            "     --------------------------------- --- 409.5/455.9 MB 12.6 MB/s eta 0:00:04\n",
            "     --------------------------------- --- 409.5/455.9 MB 12.6 MB/s eta 0:00:04\n",
            "     --------------------------------- --- 409.5/455.9 MB 12.6 MB/s eta 0:00:04\n",
            "     --------------------------------- --- 409.5/455.9 MB 12.6 MB/s eta 0:00:04\n",
            "     --------------------------------- --- 409.5/455.9 MB 12.6 MB/s eta 0:00:04\n",
            "     --------------------------------- --- 409.5/455.9 MB 12.6 MB/s eta 0:00:04\n",
            "     --------------------------------- --- 409.5/455.9 MB 12.6 MB/s eta 0:00:04\n",
            "     --------------------------------- --- 409.5/455.9 MB 12.6 MB/s eta 0:00:04\n",
            "     --------------------------------- --- 409.5/455.9 MB 12.6 MB/s eta 0:00:04\n",
            "     --------------------------------- --- 409.5/455.9 MB 12.6 MB/s eta 0:00:04\n",
            "     --------------------------------- --- 409.5/455.9 MB 12.6 MB/s eta 0:00:04\n",
            "     --------------------------------- --- 409.5/455.9 MB 12.6 MB/s eta 0:00:04\n",
            "     ---------------------------------- --- 409.9/455.9 MB 7.0 MB/s eta 0:00:07\n",
            "     ---------------------------------- --- 409.9/455.9 MB 6.8 MB/s eta 0:00:07\n",
            "     ---------------------------------- --- 409.9/455.9 MB 6.5 MB/s eta 0:00:08\n",
            "     ---------------------------------- --- 409.9/455.9 MB 6.4 MB/s eta 0:00:08\n",
            "     ---------------------------------- --- 409.9/455.9 MB 6.4 MB/s eta 0:00:08\n",
            "     ---------------------------------- --- 410.0/455.9 MB 6.1 MB/s eta 0:00:08\n",
            "     ---------------------------------- --- 410.1/455.9 MB 6.0 MB/s eta 0:00:08\n",
            "     ---------------------------------- --- 410.1/455.9 MB 5.8 MB/s eta 0:00:08\n",
            "     ---------------------------------- --- 410.2/455.9 MB 5.6 MB/s eta 0:00:09\n",
            "     ---------------------------------- --- 410.3/455.9 MB 5.5 MB/s eta 0:00:09\n",
            "     ---------------------------------- --- 410.3/455.9 MB 5.5 MB/s eta 0:00:09\n",
            "     ---------------------------------- --- 410.4/455.9 MB 5.4 MB/s eta 0:00:09\n",
            "     ---------------------------------- --- 410.5/455.9 MB 5.3 MB/s eta 0:00:09\n",
            "     ---------------------------------- --- 410.5/455.9 MB 5.3 MB/s eta 0:00:09\n",
            "     ---------------------------------- --- 410.7/455.9 MB 5.0 MB/s eta 0:00:10\n",
            "     ---------------------------------- --- 410.8/455.9 MB 4.9 MB/s eta 0:00:10\n",
            "     ---------------------------------- --- 410.9/455.9 MB 4.8 MB/s eta 0:00:10\n",
            "     ---------------------------------- --- 411.1/455.9 MB 4.6 MB/s eta 0:00:10\n",
            "     ---------------------------------- --- 411.3/455.9 MB 4.5 MB/s eta 0:00:10\n",
            "     ---------------------------------- --- 411.4/455.9 MB 4.5 MB/s eta 0:00:10\n",
            "     ---------------------------------- --- 411.6/455.9 MB 4.5 MB/s eta 0:00:10\n",
            "     ---------------------------------- --- 411.7/455.9 MB 4.4 MB/s eta 0:00:11\n",
            "     ---------------------------------- --- 411.8/455.9 MB 4.3 MB/s eta 0:00:11\n",
            "     ---------------------------------- --- 412.0/455.9 MB 4.3 MB/s eta 0:00:11\n",
            "     ---------------------------------- --- 412.1/455.9 MB 4.1 MB/s eta 0:00:11\n",
            "     ---------------------------------- --- 412.3/455.9 MB 4.1 MB/s eta 0:00:11\n",
            "     ---------------------------------- --- 412.5/455.9 MB 4.0 MB/s eta 0:00:11\n",
            "     ---------------------------------- --- 412.7/455.9 MB 4.0 MB/s eta 0:00:11\n",
            "     ---------------------------------- --- 412.9/455.9 MB 3.9 MB/s eta 0:00:11\n",
            "     ---------------------------------- --- 413.1/455.9 MB 3.9 MB/s eta 0:00:11\n",
            "     ---------------------------------- --- 413.4/455.9 MB 3.8 MB/s eta 0:00:12\n",
            "     ---------------------------------- --- 413.6/455.9 MB 3.8 MB/s eta 0:00:12\n",
            "     ---------------------------------- --- 413.9/455.9 MB 3.7 MB/s eta 0:00:12\n",
            "     ---------------------------------- --- 414.1/455.9 MB 3.6 MB/s eta 0:00:12\n",
            "     ---------------------------------- --- 414.4/455.9 MB 3.6 MB/s eta 0:00:12\n",
            "     ---------------------------------- --- 414.7/455.9 MB 3.5 MB/s eta 0:00:12\n",
            "     ---------------------------------- --- 415.0/455.9 MB 3.5 MB/s eta 0:00:12\n",
            "     ---------------------------------- --- 415.3/455.9 MB 3.4 MB/s eta 0:00:12\n",
            "     ---------------------------------- --- 415.5/455.9 MB 3.4 MB/s eta 0:00:12\n",
            "     ---------------------------------- --- 415.9/455.9 MB 3.4 MB/s eta 0:00:12\n",
            "     ---------------------------------- --- 416.2/455.9 MB 3.3 MB/s eta 0:00:12\n",
            "     ---------------------------------- --- 416.3/455.9 MB 3.3 MB/s eta 0:00:12\n",
            "     ---------------------------------- --- 416.5/455.9 MB 3.3 MB/s eta 0:00:13\n",
            "     ---------------------------------- --- 416.7/455.9 MB 3.2 MB/s eta 0:00:13\n",
            "     ---------------------------------- --- 416.9/455.9 MB 3.2 MB/s eta 0:00:13\n",
            "     ---------------------------------- --- 417.2/455.9 MB 3.2 MB/s eta 0:00:13\n",
            "     ---------------------------------- --- 417.5/455.9 MB 3.1 MB/s eta 0:00:13\n",
            "     ---------------------------------- --- 417.7/455.9 MB 3.1 MB/s eta 0:00:13\n",
            "     ---------------------------------- --- 418.0/455.9 MB 3.1 MB/s eta 0:00:13\n",
            "     ---------------------------------- --- 418.2/455.9 MB 3.1 MB/s eta 0:00:13\n",
            "     ---------------------------------- --- 418.6/455.9 MB 3.0 MB/s eta 0:00:13\n",
            "     ---------------------------------- --- 418.8/455.9 MB 3.0 MB/s eta 0:00:13\n",
            "     ---------------------------------- --- 419.1/455.9 MB 3.0 MB/s eta 0:00:13\n",
            "     ---------------------------------- --- 419.4/455.9 MB 3.0 MB/s eta 0:00:13\n",
            "     ---------------------------------- --- 419.7/455.9 MB 3.8 MB/s eta 0:00:10\n",
            "     ----------------------------------- -- 420.0/455.9 MB 3.7 MB/s eta 0:00:10\n",
            "     ----------------------------------- -- 420.3/455.9 MB 4.1 MB/s eta 0:00:09\n",
            "     ----------------------------------- -- 420.7/455.9 MB 4.6 MB/s eta 0:00:08\n",
            "     ----------------------------------- -- 421.1/455.9 MB 4.8 MB/s eta 0:00:08\n",
            "     ----------------------------------- -- 421.5/455.9 MB 4.9 MB/s eta 0:00:08\n",
            "     ----------------------------------- -- 421.8/455.9 MB 5.0 MB/s eta 0:00:07\n",
            "     ----------------------------------- -- 422.2/455.9 MB 5.2 MB/s eta 0:00:07\n",
            "     ----------------------------------- -- 422.6/455.9 MB 5.4 MB/s eta 0:00:07\n",
            "     ----------------------------------- -- 423.1/455.9 MB 5.5 MB/s eta 0:00:06\n",
            "     ----------------------------------- -- 423.4/455.9 MB 5.6 MB/s eta 0:00:06\n",
            "     ----------------------------------- -- 423.8/455.9 MB 5.7 MB/s eta 0:00:06\n",
            "     ----------------------------------- -- 424.2/455.9 MB 5.8 MB/s eta 0:00:06\n",
            "     ----------------------------------- -- 424.5/455.9 MB 5.8 MB/s eta 0:00:06\n",
            "     ----------------------------------- -- 425.1/455.9 MB 6.0 MB/s eta 0:00:06\n",
            "     ----------------------------------- -- 425.5/455.9 MB 6.1 MB/s eta 0:00:06\n",
            "     ----------------------------------- -- 425.9/455.9 MB 6.2 MB/s eta 0:00:05\n",
            "     ----------------------------------- -- 426.2/455.9 MB 6.1 MB/s eta 0:00:05\n",
            "     ----------------------------------- -- 426.5/455.9 MB 6.2 MB/s eta 0:00:05\n",
            "     ----------------------------------- -- 426.5/455.9 MB 6.2 MB/s eta 0:00:05\n",
            "     ----------------------------------- -- 427.0/455.9 MB 6.1 MB/s eta 0:00:05\n",
            "     ----------------------------------- -- 427.4/455.9 MB 6.2 MB/s eta 0:00:05\n",
            "     ----------------------------------- -- 427.7/455.9 MB 6.2 MB/s eta 0:00:05\n",
            "     ----------------------------------- -- 428.1/455.9 MB 6.4 MB/s eta 0:00:05\n",
            "     ----------------------------------- -- 428.3/455.9 MB 6.2 MB/s eta 0:00:05\n",
            "     ----------------------------------- -- 428.8/455.9 MB 6.4 MB/s eta 0:00:05\n",
            "     ----------------------------------- -- 429.3/455.9 MB 6.5 MB/s eta 0:00:05\n",
            "     ----------------------------------- -- 429.8/455.9 MB 6.5 MB/s eta 0:00:05\n",
            "     ----------------------------------- -- 430.4/455.9 MB 6.7 MB/s eta 0:00:04\n",
            "     ----------------------------------- -- 430.9/455.9 MB 6.8 MB/s eta 0:00:04\n",
            "     ----------------------------------- -- 431.4/455.9 MB 6.9 MB/s eta 0:00:04\n",
            "     ----------------------------------- -- 431.7/455.9 MB 7.0 MB/s eta 0:00:04\n",
            "     ------------------------------------ - 432.4/455.9 MB 7.0 MB/s eta 0:00:04\n",
            "     ------------------------------------ - 433.0/455.9 MB 7.1 MB/s eta 0:00:04\n",
            "     ------------------------------------ - 433.5/455.9 MB 7.2 MB/s eta 0:00:04\n",
            "     ------------------------------------ - 434.1/455.9 MB 7.4 MB/s eta 0:00:03\n",
            "     ------------------------------------ - 434.7/455.9 MB 7.5 MB/s eta 0:00:03\n",
            "     ------------------------------------ - 435.3/455.9 MB 7.6 MB/s eta 0:00:03\n",
            "     ------------------------------------ - 435.8/455.9 MB 7.7 MB/s eta 0:00:03\n",
            "     ------------------------------------ - 436.2/455.9 MB 7.7 MB/s eta 0:00:03\n",
            "     ------------------------------------ - 436.6/455.9 MB 7.7 MB/s eta 0:00:03\n",
            "     ------------------------------------ - 436.9/455.9 MB 8.2 MB/s eta 0:00:03\n",
            "     ------------------------------------ - 437.5/455.9 MB 8.2 MB/s eta 0:00:03\n",
            "     ------------------------------------ - 437.9/455.9 MB 8.5 MB/s eta 0:00:03\n",
            "     ------------------------------------ - 438.2/455.9 MB 8.3 MB/s eta 0:00:03\n",
            "     ------------------------------------ - 438.6/455.9 MB 8.5 MB/s eta 0:00:03\n",
            "     ------------------------------------ - 439.1/455.9 MB 8.6 MB/s eta 0:00:02\n",
            "     ------------------------------------ - 439.5/455.9 MB 8.7 MB/s eta 0:00:02\n",
            "     ------------------------------------ - 440.1/455.9 MB 8.7 MB/s eta 0:00:02\n",
            "     ------------------------------------ - 440.5/455.9 MB 8.7 MB/s eta 0:00:02\n",
            "     ------------------------------------ - 440.8/455.9 MB 8.7 MB/s eta 0:00:02\n",
            "     ------------------------------------ - 441.1/455.9 MB 8.7 MB/s eta 0:00:02\n",
            "     ------------------------------------ - 441.5/455.9 MB 8.6 MB/s eta 0:00:02\n",
            "     ------------------------------------ - 441.9/455.9 MB 8.6 MB/s eta 0:00:02\n",
            "     ------------------------------------ - 442.2/455.9 MB 8.6 MB/s eta 0:00:02\n",
            "     ------------------------------------ - 442.6/455.9 MB 8.6 MB/s eta 0:00:02\n",
            "     ------------------------------------ - 443.0/455.9 MB 8.5 MB/s eta 0:00:02\n",
            "     ------------------------------------ - 443.4/455.9 MB 8.6 MB/s eta 0:00:02\n",
            "     ------------------------------------ - 443.9/455.9 MB 8.6 MB/s eta 0:00:02\n",
            "     -------------------------------------  444.2/455.9 MB 8.6 MB/s eta 0:00:02\n",
            "     -------------------------------------  444.7/455.9 MB 8.6 MB/s eta 0:00:02\n",
            "     -------------------------------------  445.2/455.9 MB 8.5 MB/s eta 0:00:02\n",
            "     -------------------------------------  445.8/455.9 MB 8.7 MB/s eta 0:00:02\n",
            "     -------------------------------------  446.2/455.9 MB 8.8 MB/s eta 0:00:02\n",
            "     -------------------------------------  446.6/455.9 MB 8.7 MB/s eta 0:00:02\n",
            "     -------------------------------------  447.0/455.9 MB 8.8 MB/s eta 0:00:02\n",
            "     -------------------------------------  447.6/455.9 MB 9.0 MB/s eta 0:00:01\n",
            "     -------------------------------------  447.6/455.9 MB 9.0 MB/s eta 0:00:01\n",
            "     -------------------------------------  447.8/455.9 MB 8.5 MB/s eta 0:00:01\n",
            "     -------------------------------------  448.3/455.9 MB 8.6 MB/s eta 0:00:01\n",
            "     -------------------------------------  448.5/455.9 MB 8.6 MB/s eta 0:00:01\n",
            "     -------------------------------------  448.5/455.9 MB 8.6 MB/s eta 0:00:01\n",
            "     -------------------------------------  449.0/455.9 MB 8.2 MB/s eta 0:00:01\n",
            "     -------------------------------------  449.5/455.9 MB 8.4 MB/s eta 0:00:01\n",
            "     -------------------------------------  450.2/455.9 MB 8.3 MB/s eta 0:00:01\n",
            "     -------------------------------------  450.6/455.9 MB 8.3 MB/s eta 0:00:01\n",
            "     -------------------------------------  451.3/455.9 MB 8.6 MB/s eta 0:00:01\n",
            "     -------------------------------------  451.9/455.9 MB 8.8 MB/s eta 0:00:01\n",
            "     -------------------------------------  452.3/455.9 MB 9.0 MB/s eta 0:00:01\n",
            "     -------------------------------------  452.7/455.9 MB 9.0 MB/s eta 0:00:01\n",
            "     -------------------------------------  453.1/455.9 MB 9.1 MB/s eta 0:00:01\n",
            "     -------------------------------------  453.5/455.9 MB 9.1 MB/s eta 0:00:01\n",
            "     -------------------------------------  454.0/455.9 MB 9.1 MB/s eta 0:00:01\n",
            "     -------------------------------------  454.6/455.9 MB 9.4 MB/s eta 0:00:01\n",
            "     -------------------------------------  455.0/455.9 MB 9.1 MB/s eta 0:00:01\n",
            "     -------------------------------------  455.5/455.9 MB 9.2 MB/s eta 0:00:01\n",
            "     -------------------------------------  455.9/455.9 MB 9.1 MB/s eta 0:00:01\n",
            "     -------------------------------------  455.9/455.9 MB 9.1 MB/s eta 0:00:01\n",
            "     -------------------------------------  455.9/455.9 MB 9.1 MB/s eta 0:00:01\n",
            "     -------------------------------------  455.9/455.9 MB 9.1 MB/s eta 0:00:01\n",
            "     -------------------------------------  455.9/455.9 MB 9.1 MB/s eta 0:00:01\n",
            "     -------------------------------------  455.9/455.9 MB 9.1 MB/s eta 0:00:01\n",
            "     -------------------------------------  455.9/455.9 MB 9.1 MB/s eta 0:00:01\n",
            "     -------------------------------------  455.9/455.9 MB 9.1 MB/s eta 0:00:01\n",
            "     -------------------------------------  455.9/455.9 MB 9.1 MB/s eta 0:00:01\n",
            "     -------------------------------------  455.9/455.9 MB 9.1 MB/s eta 0:00:01\n",
            "     -------------------------------------  455.9/455.9 MB 9.1 MB/s eta 0:00:01\n",
            "     -------------------------------------  455.9/455.9 MB 9.1 MB/s eta 0:00:01\n",
            "     -------------------------------------  455.9/455.9 MB 9.1 MB/s eta 0:00:01\n",
            "     -------------------------------------  455.9/455.9 MB 9.1 MB/s eta 0:00:01\n",
            "     -------------------------------------  455.9/455.9 MB 9.1 MB/s eta 0:00:01\n",
            "     -------------------------------------  455.9/455.9 MB 9.1 MB/s eta 0:00:01\n",
            "     -------------------------------------  455.9/455.9 MB 9.1 MB/s eta 0:00:01\n",
            "     -------------------------------------  455.9/455.9 MB 9.1 MB/s eta 0:00:01\n",
            "     -------------------------------------  455.9/455.9 MB 9.1 MB/s eta 0:00:01\n",
            "     -------------------------------------  455.9/455.9 MB 9.1 MB/s eta 0:00:01\n",
            "     -------------------------------------  455.9/455.9 MB 9.1 MB/s eta 0:00:01\n",
            "     -------------------------------------  455.9/455.9 MB 9.1 MB/s eta 0:00:01\n",
            "     -------------------------------------  455.9/455.9 MB 9.1 MB/s eta 0:00:01\n",
            "     -------------------------------------  455.9/455.9 MB 9.1 MB/s eta 0:00:01\n",
            "     -------------------------------------- 455.9/455.9 MB 2.5 MB/s eta 0:00:00\n",
            "Collecting absl-py>=1.0.0 (from tensorflow<2.11,>=2.10.0->tensorflow-text)\n",
            "  Obtaining dependency information for absl-py>=1.0.0 from https://files.pythonhosted.org/packages/01/e4/dc0a1dcc4e74e08d7abedab278c795eef54a224363bb18f5692f416d834f/absl_py-2.0.0-py3-none-any.whl.metadata\n",
            "  Downloading absl_py-2.0.0-py3-none-any.whl.metadata (2.3 kB)\n",
            "Collecting astunparse>=1.6.0 (from tensorflow<2.11,>=2.10.0->tensorflow-text)\n",
            "  Using cached astunparse-1.6.3-py2.py3-none-any.whl (12 kB)\n",
            "Collecting flatbuffers>=2.0 (from tensorflow<2.11,>=2.10.0->tensorflow-text)\n",
            "  Obtaining dependency information for flatbuffers>=2.0 from https://files.pythonhosted.org/packages/6f/12/d5c79ee252793ffe845d58a913197bfa02ae9a0b5c9bc3dc4b58d477b9e7/flatbuffers-23.5.26-py2.py3-none-any.whl.metadata\n",
            "  Downloading flatbuffers-23.5.26-py2.py3-none-any.whl.metadata (850 bytes)\n",
            "Collecting gast<=0.4.0,>=0.2.1 (from tensorflow<2.11,>=2.10.0->tensorflow-text)\n",
            "  Downloading gast-0.4.0-py3-none-any.whl (9.8 kB)\n",
            "Collecting google-pasta>=0.1.1 (from tensorflow<2.11,>=2.10.0->tensorflow-text)\n",
            "  Using cached google_pasta-0.2.0-py3-none-any.whl (57 kB)\n",
            "Collecting h5py>=2.9.0 (from tensorflow<2.11,>=2.10.0->tensorflow-text)\n",
            "  Obtaining dependency information for h5py>=2.9.0 from https://files.pythonhosted.org/packages/98/e0/679ec9293f69e28406215d2209a949c7e615d459fdee90103e8bb0d75c41/h5py-3.10.0-cp39-cp39-win_amd64.whl.metadata\n",
            "  Downloading h5py-3.10.0-cp39-cp39-win_amd64.whl.metadata (2.5 kB)\n",
            "Collecting keras-preprocessing>=1.1.1 (from tensorflow<2.11,>=2.10.0->tensorflow-text)\n",
            "  Downloading Keras_Preprocessing-1.1.2-py2.py3-none-any.whl (42 kB)\n",
            "     ---------------------------------------- 0.0/42.6 kB ? eta -:--:--\n",
            "     ---------------------------------------- 42.6/42.6 kB ? eta 0:00:00\n",
            "Collecting libclang>=13.0.0 (from tensorflow<2.11,>=2.10.0->tensorflow-text)\n",
            "  Obtaining dependency information for libclang>=13.0.0 from https://files.pythonhosted.org/packages/02/8c/dc970bc00867fe290e8c8a7befa1635af716a9ebdfe3fb9dce0ca4b522ce/libclang-16.0.6-py2.py3-none-win_amd64.whl.metadata\n",
            "  Downloading libclang-16.0.6-py2.py3-none-win_amd64.whl.metadata (5.3 kB)\n",
            "Collecting numpy>=1.20 (from tensorflow<2.11,>=2.10.0->tensorflow-text)\n",
            "  Obtaining dependency information for numpy>=1.20 from https://files.pythonhosted.org/packages/ea/d5/e90d3ea242739453eccbdfc67f2cb4a13cdeddbea4e4cba2b2e8cba1ae29/numpy-1.26.3-cp39-cp39-win_amd64.whl.metadata\n",
            "  Downloading numpy-1.26.3-cp39-cp39-win_amd64.whl.metadata (61 kB)\n",
            "     ---------------------------------------- 0.0/61.2 kB ? eta -:--:--\n",
            "     ---------------------------------------- 61.2/61.2 kB ? eta 0:00:00\n",
            "Collecting opt-einsum>=2.3.2 (from tensorflow<2.11,>=2.10.0->tensorflow-text)\n",
            "  Using cached opt_einsum-3.3.0-py3-none-any.whl (65 kB)\n",
            "Requirement already satisfied: packaging in d:\\sasha - user\\portsmouth university\\study\\modles\\intelligent data and text analytics\\id and ta coursework 2\\pythonproject\\new python\\lib\\site-packages (from tensorflow<2.11,>=2.10.0->tensorflow-text) (23.2)\n",
            "Collecting protobuf<3.20,>=3.9.2 (from tensorflow<2.11,>=2.10.0->tensorflow-text)\n",
            "  Downloading protobuf-3.19.6-cp39-cp39-win_amd64.whl (895 kB)\n",
            "     ---------------------------------------- 0.0/895.9 kB ? eta -:--:--\n",
            "     --------------------------------- --- 809.0/895.9 kB 17.0 MB/s eta 0:00:01\n",
            "     ------------------------------------- 895.9/895.9 kB 14.1 MB/s eta 0:00:00\n",
            "Requirement already satisfied: setuptools in d:\\sasha - user\\portsmouth university\\study\\modles\\intelligent data and text analytics\\id and ta coursework 2\\pythonproject\\new python\\lib\\site-packages (from tensorflow<2.11,>=2.10.0->tensorflow-text) (68.2.0)\n",
            "Requirement already satisfied: six>=1.12.0 in d:\\sasha - user\\portsmouth university\\study\\modles\\intelligent data and text analytics\\id and ta coursework 2\\pythonproject\\new python\\lib\\site-packages (from tensorflow<2.11,>=2.10.0->tensorflow-text) (1.16.0)\n",
            "Collecting termcolor>=1.1.0 (from tensorflow<2.11,>=2.10.0->tensorflow-text)\n",
            "  Obtaining dependency information for termcolor>=1.1.0 from https://files.pythonhosted.org/packages/d9/5f/8c716e47b3a50cbd7c146f45881e11d9414def768b7cd9c5e6650ec2a80a/termcolor-2.4.0-py3-none-any.whl.metadata\n",
            "  Downloading termcolor-2.4.0-py3-none-any.whl.metadata (6.1 kB)\n",
            "Requirement already satisfied: typing-extensions>=3.6.6 in d:\\sasha - user\\portsmouth university\\study\\modles\\intelligent data and text analytics\\id and ta coursework 2\\pythonproject\\new python\\lib\\site-packages (from tensorflow<2.11,>=2.10.0->tensorflow-text) (4.9.0)\n",
            "Collecting wrapt>=1.11.0 (from tensorflow<2.11,>=2.10.0->tensorflow-text)\n",
            "  Obtaining dependency information for wrapt>=1.11.0 from https://files.pythonhosted.org/packages/74/f2/96ed140b08743f7f68d5bda35a2a589600781366c3da96f056043d258b1a/wrapt-1.16.0-cp39-cp39-win_amd64.whl.metadata\n",
            "  Downloading wrapt-1.16.0-cp39-cp39-win_amd64.whl.metadata (6.8 kB)\n",
            "Collecting tensorflow-io-gcs-filesystem>=0.23.1 (from tensorflow<2.11,>=2.10.0->tensorflow-text)\n",
            "  Downloading tensorflow_io_gcs_filesystem-0.31.0-cp39-cp39-win_amd64.whl (1.5 MB)\n",
            "     ---------------------------------------- 0.0/1.5 MB ? eta -:--:--\n",
            "     ------------- -------------------------- 0.5/1.5 MB 15.5 MB/s eta 0:00:01\n",
            "     ---------------------- ----------------- 0.8/1.5 MB 10.6 MB/s eta 0:00:01\n",
            "     ---------------------- ----------------- 0.8/1.5 MB 10.6 MB/s eta 0:00:01\n",
            "     --------------------------------- ------ 1.3/1.5 MB 6.6 MB/s eta 0:00:01\n",
            "     ---------------------------------------- 1.5/1.5 MB 6.7 MB/s eta 0:00:00\n",
            "Collecting grpcio<2.0,>=1.24.3 (from tensorflow<2.11,>=2.10.0->tensorflow-text)\n",
            "  Obtaining dependency information for grpcio<2.0,>=1.24.3 from https://files.pythonhosted.org/packages/4a/78/a8d3314e75e73fe025d39a2fa336c415dc12ce4e4166de756f9e3579111c/grpcio-1.60.0-cp39-cp39-win_amd64.whl.metadata\n",
            "  Downloading grpcio-1.60.0-cp39-cp39-win_amd64.whl.metadata (4.2 kB)\n",
            "Collecting tensorboard<2.11,>=2.10 (from tensorflow<2.11,>=2.10.0->tensorflow-text)\n",
            "  Downloading tensorboard-2.10.1-py3-none-any.whl (5.9 MB)\n",
            "     ---------------------------------------- 0.0/5.9 MB ? eta -:--:--\n",
            "     - -------------------------------------- 0.2/5.9 MB 5.9 MB/s eta 0:00:01\n",
            "     ---- ----------------------------------- 0.6/5.9 MB 6.8 MB/s eta 0:00:01\n",
            "     -------- ------------------------------- 1.2/5.9 MB 8.5 MB/s eta 0:00:01\n",
            "     ---------- ----------------------------- 1.6/5.9 MB 10.2 MB/s eta 0:00:01\n",
            "     -------------- ------------------------- 2.1/5.9 MB 8.8 MB/s eta 0:00:01\n",
            "     ---------------- ----------------------- 2.4/5.9 MB 9.7 MB/s eta 0:00:01\n",
            "     ------------------- -------------------- 2.9/5.9 MB 8.7 MB/s eta 0:00:01\n",
            "     ----------------------- ---------------- 3.4/5.9 MB 9.6 MB/s eta 0:00:01\n",
            "     -------------------------- ------------- 3.8/5.9 MB 9.7 MB/s eta 0:00:01\n",
            "     ----------------------------- ---------- 4.3/5.9 MB 9.1 MB/s eta 0:00:01\n",
            "     ------------------------------- -------- 4.7/5.9 MB 9.4 MB/s eta 0:00:01\n",
            "     ----------------------------------- ---- 5.2/5.9 MB 9.2 MB/s eta 0:00:01\n",
            "     -------------------------------------- - 5.6/5.9 MB 9.5 MB/s eta 0:00:01\n",
            "     ---------------------------------------- 5.9/5.9 MB 8.9 MB/s eta 0:00:00\n",
            "Collecting tensorflow-estimator<2.11,>=2.10.0 (from tensorflow<2.11,>=2.10.0->tensorflow-text)\n",
            "  Downloading tensorflow_estimator-2.10.0-py2.py3-none-any.whl (438 kB)\n",
            "     ---------------------------------------- 0.0/438.7 kB ? eta -:--:--\n",
            "     -------------------------------------- 438.7/438.7 kB 9.1 MB/s eta 0:00:00\n",
            "Collecting keras<2.11,>=2.10.0 (from tensorflow<2.11,>=2.10.0->tensorflow-text)\n",
            "  Downloading keras-2.10.0-py2.py3-none-any.whl (1.7 MB)\n",
            "     ---------------------------------------- 0.0/1.7 MB ? eta -:--:--\n",
            "     ----------------- ---------------------- 0.7/1.7 MB 15.7 MB/s eta 0:00:01\n",
            "     ------------------------------ --------- 1.3/1.7 MB 13.7 MB/s eta 0:00:01\n",
            "     ---------------------------------------  1.7/1.7 MB 13.4 MB/s eta 0:00:01\n",
            "     ---------------------------------------- 1.7/1.7 MB 10.7 MB/s eta 0:00:00\n",
            "Requirement already satisfied: wheel<1.0,>=0.23.0 in d:\\sasha - user\\portsmouth university\\study\\modles\\intelligent data and text analytics\\id and ta coursework 2\\pythonproject\\new python\\lib\\site-packages (from astunparse>=1.6.0->tensorflow<2.11,>=2.10.0->tensorflow-text) (0.41.2)\n",
            "Collecting google-auth<3,>=1.6.3 (from tensorboard<2.11,>=2.10->tensorflow<2.11,>=2.10.0->tensorflow-text)\n",
            "  Obtaining dependency information for google-auth<3,>=1.6.3 from https://files.pythonhosted.org/packages/93/54/180b2447607fb63c10ba4bed48044b71d112ca83496f96141b65eb278e37/google_auth-2.26.1-py2.py3-none-any.whl.metadata\n",
            "  Downloading google_auth-2.26.1-py2.py3-none-any.whl.metadata (4.7 kB)\n",
            "Collecting google-auth-oauthlib<0.5,>=0.4.1 (from tensorboard<2.11,>=2.10->tensorflow<2.11,>=2.10.0->tensorflow-text)\n",
            "  Downloading google_auth_oauthlib-0.4.6-py2.py3-none-any.whl (18 kB)\n",
            "Collecting markdown>=2.6.8 (from tensorboard<2.11,>=2.10->tensorflow<2.11,>=2.10.0->tensorflow-text)\n",
            "  Obtaining dependency information for markdown>=2.6.8 from https://files.pythonhosted.org/packages/70/58/2c5a654173937d9f540a4971c569b44dcd55e5424a484d954cdaeebcf79c/Markdown-3.5.1-py3-none-any.whl.metadata\n",
            "  Downloading Markdown-3.5.1-py3-none-any.whl.metadata (7.1 kB)\n",
            "Requirement already satisfied: requests<3,>=2.21.0 in d:\\sasha - user\\portsmouth university\\study\\modles\\intelligent data and text analytics\\id and ta coursework 2\\pythonproject\\new python\\lib\\site-packages (from tensorboard<2.11,>=2.10->tensorflow<2.11,>=2.10.0->tensorflow-text) (2.31.0)\n",
            "Collecting tensorboard-data-server<0.7.0,>=0.6.0 (from tensorboard<2.11,>=2.10->tensorflow<2.11,>=2.10.0->tensorflow-text)\n",
            "  Downloading tensorboard_data_server-0.6.1-py3-none-any.whl (2.4 kB)\n",
            "Collecting tensorboard-plugin-wit>=1.6.0 (from tensorboard<2.11,>=2.10->tensorflow<2.11,>=2.10.0->tensorflow-text)\n",
            "  Downloading tensorboard_plugin_wit-1.8.1-py3-none-any.whl (781 kB)\n",
            "     ---------------------------------------- 0.0/781.3 kB ? eta -:--:--\n",
            "     ------------------------------- ----- 665.6/781.3 kB 21.1 MB/s eta 0:00:01\n",
            "     ------------------------------------- 781.3/781.3 kB 16.4 MB/s eta 0:00:00\n",
            "Collecting werkzeug>=1.0.1 (from tensorboard<2.11,>=2.10->tensorflow<2.11,>=2.10.0->tensorflow-text)\n",
            "  Obtaining dependency information for werkzeug>=1.0.1 from https://files.pythonhosted.org/packages/c3/fc/254c3e9b5feb89ff5b9076a23218dafbc99c96ac5941e900b71206e6313b/werkzeug-3.0.1-py3-none-any.whl.metadata\n",
            "  Downloading werkzeug-3.0.1-py3-none-any.whl.metadata (4.1 kB)\n",
            "Collecting cachetools<6.0,>=2.0.0 (from google-auth<3,>=1.6.3->tensorboard<2.11,>=2.10->tensorflow<2.11,>=2.10.0->tensorflow-text)\n",
            "  Obtaining dependency information for cachetools<6.0,>=2.0.0 from https://files.pythonhosted.org/packages/a2/91/2d843adb9fbd911e0da45fbf6f18ca89d07a087c3daa23e955584f90ebf4/cachetools-5.3.2-py3-none-any.whl.metadata\n",
            "  Downloading cachetools-5.3.2-py3-none-any.whl.metadata (5.2 kB)\n",
            "Collecting pyasn1-modules>=0.2.1 (from google-auth<3,>=1.6.3->tensorboard<2.11,>=2.10->tensorflow<2.11,>=2.10.0->tensorflow-text)\n",
            "  Using cached pyasn1_modules-0.3.0-py2.py3-none-any.whl (181 kB)\n",
            "Collecting rsa<5,>=3.1.4 (from google-auth<3,>=1.6.3->tensorboard<2.11,>=2.10->tensorflow<2.11,>=2.10.0->tensorflow-text)\n",
            "  Using cached rsa-4.9-py3-none-any.whl (34 kB)\n",
            "Collecting requests-oauthlib>=0.7.0 (from google-auth-oauthlib<0.5,>=0.4.1->tensorboard<2.11,>=2.10->tensorflow<2.11,>=2.10.0->tensorflow-text)\n",
            "  Using cached requests_oauthlib-1.3.1-py2.py3-none-any.whl (23 kB)\n",
            "Requirement already satisfied: importlib-metadata>=4.4 in d:\\sasha - user\\portsmouth university\\study\\modles\\intelligent data and text analytics\\id and ta coursework 2\\pythonproject\\new python\\lib\\site-packages (from markdown>=2.6.8->tensorboard<2.11,>=2.10->tensorflow<2.11,>=2.10.0->tensorflow-text) (7.0.1)\n",
            "Requirement already satisfied: charset-normalizer<4,>=2 in d:\\sasha - user\\portsmouth university\\study\\modles\\intelligent data and text analytics\\id and ta coursework 2\\pythonproject\\new python\\lib\\site-packages (from requests<3,>=2.21.0->tensorboard<2.11,>=2.10->tensorflow<2.11,>=2.10.0->tensorflow-text) (3.3.2)\n",
            "Requirement already satisfied: idna<4,>=2.5 in d:\\sasha - user\\portsmouth university\\study\\modles\\intelligent data and text analytics\\id and ta coursework 2\\pythonproject\\new python\\lib\\site-packages (from requests<3,>=2.21.0->tensorboard<2.11,>=2.10->tensorflow<2.11,>=2.10.0->tensorflow-text) (3.6)\n",
            "Requirement already satisfied: urllib3<3,>=1.21.1 in d:\\sasha - user\\portsmouth university\\study\\modles\\intelligent data and text analytics\\id and ta coursework 2\\pythonproject\\new python\\lib\\site-packages (from requests<3,>=2.21.0->tensorboard<2.11,>=2.10->tensorflow<2.11,>=2.10.0->tensorflow-text) (2.1.0)\n",
            "Requirement already satisfied: certifi>=2017.4.17 in d:\\sasha - user\\portsmouth university\\study\\modles\\intelligent data and text analytics\\id and ta coursework 2\\pythonproject\\new python\\lib\\site-packages (from requests<3,>=2.21.0->tensorboard<2.11,>=2.10->tensorflow<2.11,>=2.10.0->tensorflow-text) (2023.11.17)\n",
            "Requirement already satisfied: MarkupSafe>=2.1.1 in d:\\sasha - user\\portsmouth university\\study\\modles\\intelligent data and text analytics\\id and ta coursework 2\\pythonproject\\new python\\lib\\site-packages (from werkzeug>=1.0.1->tensorboard<2.11,>=2.10->tensorflow<2.11,>=2.10.0->tensorflow-text) (2.1.3)\n",
            "Requirement already satisfied: zipp>=0.5 in d:\\sasha - user\\portsmouth university\\study\\modles\\intelligent data and text analytics\\id and ta coursework 2\\pythonproject\\new python\\lib\\site-packages (from importlib-metadata>=4.4->markdown>=2.6.8->tensorboard<2.11,>=2.10->tensorflow<2.11,>=2.10.0->tensorflow-text) (3.17.0)\n",
            "Collecting pyasn1<0.6.0,>=0.4.6 (from pyasn1-modules>=0.2.1->google-auth<3,>=1.6.3->tensorboard<2.11,>=2.10->tensorflow<2.11,>=2.10.0->tensorflow-text)\n",
            "  Obtaining dependency information for pyasn1<0.6.0,>=0.4.6 from https://files.pythonhosted.org/packages/d1/75/4686d2872bf2fc0b37917cbc8bbf0dd3a5cdb0990799be1b9cbf1e1eb733/pyasn1-0.5.1-py2.py3-none-any.whl.metadata\n",
            "  Downloading pyasn1-0.5.1-py2.py3-none-any.whl.metadata (8.6 kB)\n",
            "Collecting oauthlib>=3.0.0 (from requests-oauthlib>=0.7.0->google-auth-oauthlib<0.5,>=0.4.1->tensorboard<2.11,>=2.10->tensorflow<2.11,>=2.10.0->tensorflow-text)\n",
            "  Using cached oauthlib-3.2.2-py3-none-any.whl (151 kB)\n",
            "Downloading tensorflow_hub-0.15.0-py2.py3-none-any.whl (85 kB)\n",
            "   ---------------------------------------- 0.0/85.4 kB ? eta -:--:--\n",
            "   ---------------------------------------- 85.4/85.4 kB 4.7 MB/s eta 0:00:00\n",
            "Using cached absl_py-2.0.0-py3-none-any.whl (130 kB)\n",
            "Using cached flatbuffers-23.5.26-py2.py3-none-any.whl (26 kB)\n",
            "Downloading grpcio-1.60.0-cp39-cp39-win_amd64.whl (3.7 MB)\n",
            "   ---------------------------------------- 0.0/3.7 MB ? eta -:--:--\n",
            "   ------ --------------------------------- 0.6/3.7 MB 19.2 MB/s eta 0:00:01\n",
            "   --------------- ------------------------ 1.4/3.7 MB 15.1 MB/s eta 0:00:01\n",
            "   ----------------------- ---------------- 2.2/3.7 MB 15.3 MB/s eta 0:00:01\n",
            "   ------------------------------ --------- 2.8/3.7 MB 13.9 MB/s eta 0:00:01\n",
            "   ------------------------------------ --- 3.4/3.7 MB 14.6 MB/s eta 0:00:01\n",
            "   ---------------------------------------- 3.7/3.7 MB 13.2 MB/s eta 0:00:00\n",
            "Downloading h5py-3.10.0-cp39-cp39-win_amd64.whl (2.7 MB)\n",
            "   ---------------------------------------- 0.0/2.7 MB ? eta -:--:--\n",
            "   --------- ------------------------------ 0.6/2.7 MB 12.9 MB/s eta 0:00:01\n",
            "   -------------------- ------------------- 1.4/2.7 MB 14.5 MB/s eta 0:00:01\n",
            "   ----------------------------- ---------- 2.0/2.7 MB 14.2 MB/s eta 0:00:01\n",
            "   ---------------------------------------  2.7/2.7 MB 15.6 MB/s eta 0:00:01\n",
            "   ---------------------------------------- 2.7/2.7 MB 13.3 MB/s eta 0:00:00\n",
            "Using cached libclang-16.0.6-py2.py3-none-win_amd64.whl (24.4 MB)\n",
            "Downloading numpy-1.26.3-cp39-cp39-win_amd64.whl (15.8 MB)\n",
            "   ---------------------------------------- 0.0/15.8 MB ? eta -:--:--\n",
            "   - -------------------------------------- 0.6/15.8 MB 18.2 MB/s eta 0:00:01\n",
            "   --- ------------------------------------ 1.3/15.8 MB 16.3 MB/s eta 0:00:01\n",
            "   ---- ----------------------------------- 1.9/15.8 MB 13.4 MB/s eta 0:00:02\n",
            "   ------ --------------------------------- 2.5/15.8 MB 13.5 MB/s eta 0:00:01\n",
            "   ------- -------------------------------- 3.0/15.8 MB 13.7 MB/s eta 0:00:01\n",
            "   --------- ------------------------------ 3.9/15.8 MB 14.4 MB/s eta 0:00:01\n",
            "   ----------- ---------------------------- 4.5/15.8 MB 14.2 MB/s eta 0:00:01\n",
            "   ------------ --------------------------- 5.0/15.8 MB 13.7 MB/s eta 0:00:01\n",
            "   -------------- ------------------------- 5.7/15.8 MB 13.4 MB/s eta 0:00:01\n",
            "   --------------- ------------------------ 6.1/15.8 MB 13.4 MB/s eta 0:00:01\n",
            "   ---------------- ----------------------- 6.7/15.8 MB 13.4 MB/s eta 0:00:01\n",
            "   ------------------ --------------------- 7.4/15.8 MB 13.5 MB/s eta 0:00:01\n",
            "   -------------------- ------------------- 8.1/15.8 MB 13.2 MB/s eta 0:00:01\n",
            "   ---------------------- ----------------- 8.7/15.8 MB 13.6 MB/s eta 0:00:01\n",
            "   ----------------------- ---------------- 9.2/15.8 MB 13.4 MB/s eta 0:00:01\n",
            "   ------------------------- -------------- 10.0/15.8 MB 13.5 MB/s eta 0:00:01\n",
            "   -------------------------- ------------- 10.5/15.8 MB 13.4 MB/s eta 0:00:01\n",
            "   ---------------------------- ----------- 11.2/15.8 MB 13.6 MB/s eta 0:00:01\n",
            "   ------------------------------ --------- 11.9/15.8 MB 13.4 MB/s eta 0:00:01\n",
            "   ------------------------------- -------- 12.5/15.8 MB 13.4 MB/s eta 0:00:01\n",
            "   --------------------------------- ------ 13.1/15.8 MB 13.4 MB/s eta 0:00:01\n",
            "   ----------------------------------- ---- 13.9/15.8 MB 13.4 MB/s eta 0:00:01\n",
            "   ----------------------------------- ---- 14.0/15.8 MB 13.1 MB/s eta 0:00:01\n",
            "   ------------------------------------ --- 14.6/15.8 MB 12.4 MB/s eta 0:00:01\n",
            "   -------------------------------------- - 15.1/15.8 MB 11.9 MB/s eta 0:00:01\n",
            "   ---------------------------------------  15.8/15.8 MB 12.6 MB/s eta 0:00:01\n",
            "   ---------------------------------------- 15.8/15.8 MB 11.9 MB/s eta 0:00:00\n",
            "Using cached termcolor-2.4.0-py3-none-any.whl (7.7 kB)\n",
            "Downloading wrapt-1.16.0-cp39-cp39-win_amd64.whl (37 kB)\n",
            "Downloading google_auth-2.26.1-py2.py3-none-any.whl (186 kB)\n",
            "   ---------------------------------------- 0.0/186.4 kB ? eta -:--:--\n",
            "   ---------------------------------------- 186.4/186.4 kB ? eta 0:00:00\n",
            "Using cached Markdown-3.5.1-py3-none-any.whl (102 kB)\n",
            "Using cached werkzeug-3.0.1-py3-none-any.whl (226 kB)\n",
            "Using cached cachetools-5.3.2-py3-none-any.whl (9.3 kB)\n",
            "Using cached pyasn1-0.5.1-py2.py3-none-any.whl (84 kB)\n",
            "Installing collected packages: tensorboard-plugin-wit, libclang, keras, flatbuffers, wrapt, werkzeug, termcolor, tensorflow-io-gcs-filesystem, tensorflow-estimator, tensorboard-data-server, pyasn1, protobuf, oauthlib, numpy, grpcio, google-pasta, gast, cachetools, astunparse, absl-py, tensorflow-hub, rsa, requests-oauthlib, pyasn1-modules, opt-einsum, markdown, keras-preprocessing, h5py, google-auth, google-auth-oauthlib, tensorboard, tensorflow, tensorflow-text\n",
            "Successfully installed absl-py-2.0.0 astunparse-1.6.3 cachetools-5.3.2 flatbuffers-23.5.26 gast-0.4.0 google-auth-2.26.1 google-auth-oauthlib-0.4.6 google-pasta-0.2.0 grpcio-1.60.0 h5py-3.10.0 keras-2.10.0 keras-preprocessing-1.1.2 libclang-16.0.6 markdown-3.5.1 numpy-1.26.3 oauthlib-3.2.2 opt-einsum-3.3.0 protobuf-3.19.6 pyasn1-0.5.1 pyasn1-modules-0.3.0 requests-oauthlib-1.3.1 rsa-4.9 tensorboard-2.10.1 tensorboard-data-server-0.6.1 tensorboard-plugin-wit-1.8.1 tensorflow-2.10.1 tensorflow-estimator-2.10.0 tensorflow-hub-0.15.0 tensorflow-io-gcs-filesystem-0.31.0 tensorflow-text-2.10.0 termcolor-2.4.0 werkzeug-3.0.1 wrapt-1.16.0\n"
          ]
        },
        {
          "name": "stderr",
          "output_type": "stream",
          "text": [
            "\n",
            "[notice] A new release of pip is available: 23.2.1 -> 23.3.2\n",
            "[notice] To update, run: python.exe -m pip install --upgrade pip\n"
          ]
        }
      ],
      "source": [
        "!pip3 install tensorflow-text"
      ],
      "metadata": {
        "ExecuteTime": {
          "end_time": "2024-01-04T15:29:37.779075700Z",
          "start_time": "2024-01-04T15:28:05.613148100Z"
        },
        "id": "db2b30fdff16646d",
        "outputId": "63cb9e8a-7306-4363-c158-064a575523fe"
      },
      "id": "db2b30fdff16646d",
      "execution_count": null
    },
    {
      "cell_type": "code",
      "outputs": [
        {
          "name": "stdout",
          "output_type": "stream",
          "text": [
            "Collecting numba\n",
            "  Obtaining dependency information for numba from https://files.pythonhosted.org/packages/f8/14/546925a397d7638858a890a01d82cc6de147fca294eccf93ee11b524ca3c/numba-0.58.1-cp39-cp39-win_amd64.whl.metadata\n",
            "  Downloading numba-0.58.1-cp39-cp39-win_amd64.whl.metadata (2.8 kB)\n",
            "Collecting llvmlite<0.42,>=0.41.0dev0 (from numba)\n",
            "  Obtaining dependency information for llvmlite<0.42,>=0.41.0dev0 from https://files.pythonhosted.org/packages/88/99/aa829162a871f0f91dba9a0344726449cafbff4e9e55d7a714051cbb6215/llvmlite-0.41.1-cp39-cp39-win_amd64.whl.metadata\n",
            "  Downloading llvmlite-0.41.1-cp39-cp39-win_amd64.whl.metadata (4.9 kB)\n",
            "Requirement already satisfied: numpy<1.27,>=1.22 in d:\\sasha - user\\portsmouth university\\study\\modles\\intelligent data and text analytics\\id and ta coursework 2\\pythonproject\\new python\\lib\\site-packages (from numba) (1.26.3)\n",
            "Downloading numba-0.58.1-cp39-cp39-win_amd64.whl (2.6 MB)\n",
            "   ---------------------------------------- 0.0/2.6 MB ? eta -:--:--\n",
            "   ------- -------------------------------- 0.5/2.6 MB 10.0 MB/s eta 0:00:01\n",
            "   ------------ --------------------------- 0.8/2.6 MB 10.5 MB/s eta 0:00:01\n",
            "   --------------------- ------------------ 1.4/2.6 MB 10.1 MB/s eta 0:00:01\n",
            "   --------------------------- ------------ 1.8/2.6 MB 10.5 MB/s eta 0:00:01\n",
            "   ---------------------------------------  2.6/2.6 MB 11.9 MB/s eta 0:00:01\n",
            "   ---------------------------------------- 2.6/2.6 MB 11.1 MB/s eta 0:00:00\n",
            "Downloading llvmlite-0.41.1-cp39-cp39-win_amd64.whl (28.1 MB)\n",
            "   ---------------------------------------- 0.0/28.1 MB ? eta -:--:--\n",
            "   -- ------------------------------------- 1.6/28.1 MB 51.2 MB/s eta 0:00:01\n",
            "   ---- ----------------------------------- 2.8/28.1 MB 36.0 MB/s eta 0:00:01\n",
            "   ------ --------------------------------- 4.4/28.1 MB 31.2 MB/s eta 0:00:01\n",
            "   ------- -------------------------------- 5.4/28.1 MB 26.6 MB/s eta 0:00:01\n",
            "   ---------- ----------------------------- 7.7/28.1 MB 30.8 MB/s eta 0:00:01\n",
            "   ------------ --------------------------- 9.0/28.1 MB 32.1 MB/s eta 0:00:01\n",
            "   -------------- ------------------------- 10.4/28.1 MB 29.7 MB/s eta 0:00:01\n",
            "   --------------- ------------------------ 10.7/28.1 MB 27.3 MB/s eta 0:00:01\n",
            "   --------------- ------------------------ 10.7/28.1 MB 27.3 MB/s eta 0:00:01\n",
            "   --------------- ------------------------ 10.7/28.1 MB 27.3 MB/s eta 0:00:01\n",
            "   --------------- ------------------------ 10.7/28.1 MB 27.3 MB/s eta 0:00:01\n",
            "   --------------- ------------------------ 10.7/28.1 MB 27.3 MB/s eta 0:00:01\n",
            "   --------------- ------------------------ 10.7/28.1 MB 27.3 MB/s eta 0:00:01\n",
            "   --------------- ------------------------ 10.7/28.1 MB 27.3 MB/s eta 0:00:01\n",
            "   --------------- ------------------------ 10.7/28.1 MB 27.3 MB/s eta 0:00:01\n",
            "   --------------- ------------------------ 10.7/28.1 MB 27.3 MB/s eta 0:00:01\n",
            "   --------------- ------------------------ 10.7/28.1 MB 27.3 MB/s eta 0:00:01\n",
            "   --------------- ------------------------ 10.7/28.1 MB 27.3 MB/s eta 0:00:01\n",
            "   --------------- ------------------------ 10.7/28.1 MB 27.3 MB/s eta 0:00:01\n",
            "   --------------- ------------------------ 10.7/28.1 MB 27.3 MB/s eta 0:00:01\n",
            "   --------------- ------------------------ 10.7/28.1 MB 27.3 MB/s eta 0:00:01\n",
            "   --------------- ------------------------ 10.7/28.1 MB 27.3 MB/s eta 0:00:01\n",
            "   --------------- ------------------------ 10.7/28.1 MB 27.3 MB/s eta 0:00:01\n",
            "   --------------- ------------------------ 10.7/28.1 MB 27.3 MB/s eta 0:00:01\n",
            "   --------------- ------------------------ 10.7/28.1 MB 27.3 MB/s eta 0:00:01\n",
            "   --------------- ------------------------ 10.7/28.1 MB 27.3 MB/s eta 0:00:01\n",
            "   --------------- ------------------------ 10.7/28.1 MB 27.3 MB/s eta 0:00:01\n",
            "   --------------- ------------------------ 10.7/28.1 MB 27.3 MB/s eta 0:00:01\n",
            "   --------------- ------------------------ 10.7/28.1 MB 27.3 MB/s eta 0:00:01\n",
            "   --------------- ------------------------ 10.7/28.1 MB 27.3 MB/s eta 0:00:01\n",
            "   --------------- ------------------------ 10.7/28.1 MB 27.3 MB/s eta 0:00:01\n",
            "   --------------- ------------------------ 10.7/28.1 MB 27.3 MB/s eta 0:00:01\n",
            "   --------------- ------------------------ 10.9/28.1 MB 6.5 MB/s eta 0:00:03\n",
            "   --------------- ------------------------ 11.0/28.1 MB 6.2 MB/s eta 0:00:03\n",
            "   --------------- ------------------------ 11.0/28.1 MB 6.0 MB/s eta 0:00:03\n",
            "   --------------- ------------------------ 11.1/28.1 MB 5.8 MB/s eta 0:00:03\n",
            "   --------------- ------------------------ 11.1/28.1 MB 5.6 MB/s eta 0:00:04\n",
            "   --------------- ------------------------ 11.2/28.1 MB 5.5 MB/s eta 0:00:04\n",
            "   ---------------- ----------------------- 11.3/28.1 MB 5.4 MB/s eta 0:00:04\n",
            "   ---------------- ----------------------- 11.9/28.1 MB 5.4 MB/s eta 0:00:04\n",
            "   ---------------- ----------------------- 11.9/28.1 MB 5.3 MB/s eta 0:00:04\n",
            "   ----------------- ---------------------- 12.0/28.1 MB 5.1 MB/s eta 0:00:04\n",
            "   ----------------- ---------------------- 12.1/28.1 MB 5.0 MB/s eta 0:00:04\n",
            "   ----------------- ---------------------- 12.2/28.1 MB 4.9 MB/s eta 0:00:04\n",
            "   ----------------- ---------------------- 12.3/28.1 MB 4.8 MB/s eta 0:00:04\n",
            "   ----------------- ---------------------- 12.4/28.1 MB 4.7 MB/s eta 0:00:04\n",
            "   ----------------- ---------------------- 12.6/28.1 MB 4.6 MB/s eta 0:00:04\n",
            "   ------------------ --------------------- 12.7/28.1 MB 4.5 MB/s eta 0:00:04\n",
            "   ------------------ --------------------- 12.8/28.1 MB 4.5 MB/s eta 0:00:04\n",
            "   ------------------ --------------------- 12.9/28.1 MB 4.4 MB/s eta 0:00:04\n",
            "   ------------------ --------------------- 13.1/28.1 MB 4.3 MB/s eta 0:00:04\n",
            "   --------------------- ------------------ 14.9/28.1 MB 4.3 MB/s eta 0:00:04\n",
            "   --------------------- ------------------ 15.2/28.1 MB 4.2 MB/s eta 0:00:04\n",
            "   --------------------- ------------------ 15.3/28.1 MB 4.1 MB/s eta 0:00:04\n",
            "   ---------------------- ----------------- 15.5/28.1 MB 4.0 MB/s eta 0:00:04\n",
            "   ---------------------- ----------------- 15.7/28.1 MB 4.0 MB/s eta 0:00:04\n",
            "   ----------------------- ---------------- 16.3/28.1 MB 3.9 MB/s eta 0:00:04\n",
            "   ----------------------- ---------------- 16.5/28.1 MB 3.8 MB/s eta 0:00:04\n",
            "   ----------------------- ---------------- 16.7/28.1 MB 3.7 MB/s eta 0:00:04\n",
            "   ------------------------ --------------- 17.0/28.1 MB 3.7 MB/s eta 0:00:04\n",
            "   ------------------------ --------------- 17.1/28.1 MB 3.6 MB/s eta 0:00:04\n",
            "   ------------------------ --------------- 17.4/28.1 MB 3.5 MB/s eta 0:00:04\n",
            "   ------------------------- -------------- 17.6/28.1 MB 3.5 MB/s eta 0:00:04\n",
            "   ------------------------- -------------- 17.8/28.1 MB 3.4 MB/s eta 0:00:03\n",
            "   -------------------------- ------------- 18.3/28.1 MB 3.4 MB/s eta 0:00:03\n",
            "   -------------------------- ------------- 18.6/28.1 MB 3.3 MB/s eta 0:00:03\n",
            "   -------------------------- ------------- 18.9/28.1 MB 3.3 MB/s eta 0:00:03\n",
            "   --------------------------- ------------ 19.0/28.1 MB 3.2 MB/s eta 0:00:03\n",
            "   --------------------------- ------------ 19.2/28.1 MB 3.2 MB/s eta 0:00:03\n",
            "   --------------------------- ------------ 19.4/28.1 MB 3.2 MB/s eta 0:00:03\n",
            "   --------------------------- ------------ 19.7/28.1 MB 3.1 MB/s eta 0:00:03\n",
            "   ---------------------------- ----------- 19.9/28.1 MB 3.1 MB/s eta 0:00:03\n",
            "   ---------------------------- ----------- 20.2/28.1 MB 3.0 MB/s eta 0:00:03\n",
            "   ----------------------------- ---------- 20.5/28.1 MB 3.0 MB/s eta 0:00:03\n",
            "   ----------------------------- ---------- 20.8/28.1 MB 3.0 MB/s eta 0:00:03\n",
            "   ------------------------------ --------- 21.2/28.1 MB 4.7 MB/s eta 0:00:02\n",
            "   ------------------------------ --------- 21.6/28.1 MB 5.2 MB/s eta 0:00:02\n",
            "   ------------------------------- -------- 21.9/28.1 MB 5.0 MB/s eta 0:00:02\n",
            "   ------------------------------- -------- 22.2/28.1 MB 5.2 MB/s eta 0:00:02\n",
            "   -------------------------------- ------- 22.5/28.1 MB 5.4 MB/s eta 0:00:02\n",
            "   -------------------------------- ------- 22.9/28.1 MB 5.7 MB/s eta 0:00:01\n",
            "   --------------------------------- ------ 23.2/28.1 MB 6.0 MB/s eta 0:00:01\n",
            "   --------------------------------- ------ 23.5/28.1 MB 6.1 MB/s eta 0:00:01\n",
            "   --------------------------------- ------ 23.8/28.1 MB 6.0 MB/s eta 0:00:01\n",
            "   ---------------------------------- ----- 24.1/28.1 MB 5.8 MB/s eta 0:00:01\n",
            "   ---------------------------------- ----- 24.5/28.1 MB 5.6 MB/s eta 0:00:01\n",
            "   ----------------------------------- ---- 24.8/28.1 MB 5.5 MB/s eta 0:00:01\n",
            "   ----------------------------------- ---- 25.0/28.1 MB 5.3 MB/s eta 0:00:01\n",
            "   ------------------------------------ --- 25.5/28.1 MB 5.4 MB/s eta 0:00:01\n",
            "   ------------------------------------ --- 25.8/28.1 MB 5.6 MB/s eta 0:00:01\n",
            "   ------------------------------------- -- 26.0/28.1 MB 5.9 MB/s eta 0:00:01\n",
            "   ------------------------------------- -- 26.4/28.1 MB 5.7 MB/s eta 0:00:01\n",
            "   -------------------------------------- - 26.8/28.1 MB 5.9 MB/s eta 0:00:01\n",
            "   -------------------------------------- - 27.0/28.1 MB 5.9 MB/s eta 0:00:01\n",
            "   ---------------------------------------  27.4/28.1 MB 6.0 MB/s eta 0:00:01\n",
            "   ---------------------------------------  27.7/28.1 MB 6.1 MB/s eta 0:00:01\n",
            "   ---------------------------------------  28.1/28.1 MB 6.3 MB/s eta 0:00:01\n",
            "   ---------------------------------------  28.1/28.1 MB 6.3 MB/s eta 0:00:01\n",
            "   ---------------------------------------  28.1/28.1 MB 6.3 MB/s eta 0:00:01\n",
            "   ---------------------------------------- 28.1/28.1 MB 5.8 MB/s eta 0:00:00\n",
            "Installing collected packages: llvmlite, numba\n",
            "Successfully installed llvmlite-0.41.1 numba-0.58.1\n"
          ]
        },
        {
          "name": "stderr",
          "output_type": "stream",
          "text": [
            "\n",
            "[notice] A new release of pip is available: 23.2.1 -> 23.3.2\n",
            "[notice] To update, run: python.exe -m pip install --upgrade pip\n"
          ]
        }
      ],
      "source": [
        "!pip install numba"
      ],
      "metadata": {
        "ExecuteTime": {
          "end_time": "2024-01-04T15:30:15.169199500Z",
          "start_time": "2024-01-04T15:29:57.353398200Z"
        },
        "id": "78b061db74de8860",
        "outputId": "04369436-b40e-4d40-b142-8f0dd7e50c66"
      },
      "id": "78b061db74de8860",
      "execution_count": null
    },
    {
      "cell_type": "code",
      "outputs": [
        {
          "name": "stdout",
          "output_type": "stream",
          "text": [
            "Requirement already satisfied: wheel in d:\\sasha - user\\portsmouth university\\study\\modles\\intelligent data and text analytics\\id and ta coursework 2\\pythonproject\\new python\\lib\\site-packages (0.41.2)Note: you may need to restart the kernel to use updated packages.\n"
          ]
        }
      ],
      "source": [
        "pip install wheel"
      ],
      "metadata": {
        "ExecuteTime": {
          "end_time": "2024-01-04T15:30:54.934423600Z",
          "start_time": "2024-01-04T15:30:52.155849400Z"
        },
        "id": "b17eb4ae5920daa",
        "outputId": "918ac0d6-3b33-4b28-b8f8-d7dbe57d288b"
      },
      "id": "b17eb4ae5920daa",
      "execution_count": null
    },
    {
      "cell_type": "code",
      "outputs": [
        {
          "name": "stdout",
          "output_type": "stream",
          "text": [
            "Collecting tf-models-official\n",
            "  Using cached tf_models_official-2.15.0-py2.py3-none-any.whl.metadata (1.4 kB)\n",
            "Collecting Cython (from tf-models-official)\n",
            "  Downloading Cython-3.0.7-cp39-cp39-win_amd64.whl.metadata (3.2 kB)\n",
            "Collecting Pillow (from tf-models-official)\n",
            "  Downloading pillow-10.2.0-cp39-cp39-win_amd64.whl.metadata (9.9 kB)\n",
            "Collecting gin-config (from tf-models-official)\n",
            "  Using cached gin_config-0.5.0-py3-none-any.whl (61 kB)\n",
            "Collecting google-api-python-client>=1.6.7 (from tf-models-official)\n",
            "  Downloading google_api_python_client-2.111.0-py2.py3-none-any.whl.metadata (6.6 kB)\n",
            "Collecting immutabledict (from tf-models-official)\n",
            "  Using cached immutabledict-4.1.0-py3-none-any.whl.metadata (3.2 kB)\n",
            "Collecting kaggle>=1.3.9 (from tf-models-official)\n",
            "  Using cached kaggle-1.5.16.tar.gz (83 kB)\n",
            "  Preparing metadata (setup.py): started\n",
            "  Preparing metadata (setup.py): finished with status 'done'\n",
            "Collecting matplotlib (from tf-models-official)\n",
            "  Downloading matplotlib-3.8.2-cp39-cp39-win_amd64.whl.metadata (5.9 kB)\n",
            "Requirement already satisfied: numpy>=1.20 in d:\\sasha - user\\portsmouth university\\study\\modles\\intelligent data and text analytics\\id and ta coursework 2\\pythonproject\\new python\\lib\\site-packages (from tf-models-official) (1.26.3)\n",
            "Collecting oauth2client (from tf-models-official)\n",
            "  Downloading oauth2client-4.1.3-py2.py3-none-any.whl (98 kB)\n",
            "     ---------------------------------------- 0.0/98.2 kB ? eta -:--:--\n",
            "     ---------------------------------------- 98.2/98.2 kB 5.5 MB/s eta 0:00:00\n",
            "Collecting opencv-python-headless (from tf-models-official)\n",
            "  Using cached opencv_python_headless-4.9.0.80-cp37-abi3-win_amd64.whl.metadata (20 kB)\n",
            "Collecting pandas>=0.22.0 (from tf-models-official)\n",
            "  Downloading pandas-2.1.4-cp39-cp39-win_amd64.whl.metadata (18 kB)\n",
            "Requirement already satisfied: psutil>=5.4.3 in d:\\sasha - user\\portsmouth university\\study\\modles\\intelligent data and text analytics\\id and ta coursework 2\\pythonproject\\new python\\lib\\site-packages (from tf-models-official) (5.9.7)\n",
            "Collecting py-cpuinfo>=3.3.0 (from tf-models-official)\n",
            "  Using cached py_cpuinfo-9.0.0-py3-none-any.whl (22 kB)\n",
            "Collecting pycocotools (from tf-models-official)\n",
            "  Downloading pycocotools-2.0.7-cp39-cp39-win_amd64.whl.metadata (1.1 kB)\n",
            "Requirement already satisfied: pyyaml>=6.0.0 in d:\\sasha - user\\portsmouth university\\study\\modles\\intelligent data and text analytics\\id and ta coursework 2\\pythonproject\\new python\\lib\\site-packages (from tf-models-official) (6.0.1)\n",
            "Collecting sacrebleu (from tf-models-official)\n",
            "  Using cached sacrebleu-2.4.0-py3-none-any.whl.metadata (57 kB)\n",
            "Collecting scipy>=0.19.1 (from tf-models-official)\n",
            "  Downloading scipy-1.11.4-cp39-cp39-win_amd64.whl.metadata (60 kB)\n",
            "     ---------------------------------------- 0.0/60.4 kB ? eta -:--:--\n",
            "     ---------------------------------------- 60.4/60.4 kB 3.1 MB/s eta 0:00:00\n",
            "Collecting sentencepiece (from tf-models-official)\n",
            "  Downloading sentencepiece-0.1.99-cp39-cp39-win_amd64.whl (977 kB)\n",
            "     ---------------------------------------- 0.0/977.6 kB ? eta -:--:--\n",
            "     ----------------- -------------------- 450.6/977.6 kB 9.4 MB/s eta 0:00:01\n",
            "     ------------------------------------  972.8/977.6 kB 12.3 MB/s eta 0:00:01\n",
            "     ------------------------------------- 977.6/977.6 kB 10.4 MB/s eta 0:00:00\n",
            "Collecting seqeval (from tf-models-official)\n",
            "  Using cached seqeval-1.2.2.tar.gz (43 kB)\n",
            "  Preparing metadata (setup.py): started\n",
            "  Preparing metadata (setup.py): finished with status 'done'\n",
            "Requirement already satisfied: six in d:\\sasha - user\\portsmouth university\\study\\modles\\intelligent data and text analytics\\id and ta coursework 2\\pythonproject\\new python\\lib\\site-packages (from tf-models-official) (1.16.0)\n",
            "Collecting tensorflow-datasets (from tf-models-official)\n",
            "  Downloading tensorflow_datasets-4.9.3-py3-none-any.whl.metadata (9.3 kB)\n",
            "Requirement already satisfied: tensorflow-hub>=0.6.0 in d:\\sasha - user\\portsmouth university\\study\\modles\\intelligent data and text analytics\\id and ta coursework 2\\pythonproject\\new python\\lib\\site-packages (from tf-models-official) (0.15.0)\n",
            "Collecting tensorflow-model-optimization>=0.4.1 (from tf-models-official)\n",
            "  Using cached tensorflow_model_optimization-0.7.5-py2.py3-none-any.whl.metadata (914 bytes)\n",
            "INFO: pip is looking at multiple versions of tf-models-official to determine which version is compatible with other requirements. This could take a while.\n",
            "Collecting tf-models-official\n",
            "  Using cached tf_models_official-2.14.2-py2.py3-none-any.whl.metadata (1.4 kB)\n",
            "  Using cached tf_models_official-2.14.1-py2.py3-none-any.whl.metadata (1.4 kB)\n",
            "  Using cached tf_models_official-2.14.0-py2.py3-none-any.whl.metadata (1.4 kB)\n",
            "  Using cached tf_models_official-2.13.2-py2.py3-none-any.whl.metadata (1.4 kB)\n",
            "  Using cached tf_models_official-2.13.1-py2.py3-none-any.whl.metadata (1.4 kB)\n",
            "Collecting pyyaml<5.4.0,>=5.1 (from tf-models-official)\n",
            "  Downloading PyYAML-5.3.1-cp39-cp39-win_amd64.whl (212 kB)\n",
            "     ---------------------------------------- 0.0/212.0 kB ? eta -:--:--\n",
            "     -------------------------------------- 212.0/212.0 kB 4.3 MB/s eta 0:00:00\n",
            "Collecting tf-models-official\n",
            "  Using cached tf_models_official-2.13.0-py2.py3-none-any.whl.metadata (1.4 kB)\n",
            "Collecting pyyaml<6.0,>=5.1 (from tf-models-official)\n",
            "  Downloading PyYAML-5.4.1-cp39-cp39-win_amd64.whl (213 kB)\n",
            "     ---------------------------------------- 0.0/213.4 kB ? eta -:--:--\n",
            "     -------------------------------------- 213.4/213.4 kB 6.6 MB/s eta 0:00:00\n",
            "Collecting tf-models-official\n",
            "  Downloading tf_models_official-2.12.1-py2.py3-none-any.whl.metadata (1.5 kB)\n",
            "Collecting tensorflow-addons (from tf-models-official)\n",
            "  Downloading tensorflow_addons-0.22.0-cp39-cp39-win_amd64.whl.metadata (1.8 kB)\n",
            "INFO: pip is still looking at multiple versions of tf-models-official to determine which version is compatible with other requirements. This could take a while.\n",
            "Collecting tf-models-official\n",
            "  Downloading tf_models_official-2.12.0-py2.py3-none-any.whl (2.6 MB)\n",
            "     ---------------------------------------- 0.0/2.6 MB ? eta -:--:--\n",
            "     ---- ----------------------------------- 0.3/2.6 MB ? eta -:--:--\n",
            "     -------------- ------------------------- 1.0/2.6 MB 10.0 MB/s eta 0:00:01\n",
            "     ---------------------- ----------------- 1.5/2.6 MB 11.6 MB/s eta 0:00:01\n",
            "     -------------------------------- ------- 2.1/2.6 MB 11.1 MB/s eta 0:00:01\n",
            "     ---------------------------------------- 2.6/2.6 MB 10.2 MB/s eta 0:00:00\n",
            "  Downloading tf_models_official-2.11.6-py2.py3-none-any.whl (2.4 MB)\n",
            "     ---------------------------------------- 0.0/2.4 MB ? eta -:--:--\n",
            "     ------- -------------------------------- 0.5/2.4 MB 9.6 MB/s eta 0:00:01\n",
            "     -------------- ------------------------- 0.9/2.4 MB 9.2 MB/s eta 0:00:01\n",
            "     ----------------------- ---------------- 1.4/2.4 MB 11.2 MB/s eta 0:00:01\n",
            "     ------------------------------ --------- 1.8/2.4 MB 9.7 MB/s eta 0:00:01\n",
            "     ---------------------------------------  2.4/2.4 MB 10.2 MB/s eta 0:00:01\n",
            "     ---------------------------------------- 2.4/2.4 MB 9.7 MB/s eta 0:00:00\n",
            "  Downloading tf_models_official-2.11.5-py2.py3-none-any.whl (2.4 MB)\n",
            "     ---------------------------------------- 0.0/2.4 MB ? eta -:--:--\n",
            "     ---------- ----------------------------- 0.6/2.4 MB 13.1 MB/s eta 0:00:01\n",
            "     ----------------- ---------------------- 1.0/2.4 MB 13.3 MB/s eta 0:00:01\n",
            "     ----------------- ---------------------- 1.0/2.4 MB 13.3 MB/s eta 0:00:01\n",
            "     ----------------- ---------------------- 1.0/2.4 MB 13.3 MB/s eta 0:00:01\n",
            "     ----------------- ---------------------- 1.0/2.4 MB 13.3 MB/s eta 0:00:01\n",
            "     ----------------- ---------------------- 1.0/2.4 MB 13.3 MB/s eta 0:00:01\n",
            "     ----------------- ---------------------- 1.0/2.4 MB 13.3 MB/s eta 0:00:01\n",
            "     --------------------------- ------------ 1.7/2.4 MB 4.4 MB/s eta 0:00:01\n",
            "     ---------------------------------- ----- 2.1/2.4 MB 4.9 MB/s eta 0:00:01\n",
            "     ---------------------------------------- 2.4/2.4 MB 5.3 MB/s eta 0:00:00\n",
            "  Downloading tf_models_official-2.11.4-py2.py3-none-any.whl (2.4 MB)\n",
            "     ---------------------------------------- 0.0/2.4 MB ? eta -:--:--\n",
            "     ----------- ---------------------------- 0.7/2.4 MB 14.2 MB/s eta 0:00:01\n",
            "     ------------------ --------------------- 1.1/2.4 MB 11.5 MB/s eta 0:00:01\n",
            "     ----------------------- ---------------- 1.4/2.4 MB 11.5 MB/s eta 0:00:01\n",
            "     --------------------------------- ------ 2.0/2.4 MB 11.8 MB/s eta 0:00:01\n",
            "     ---------------------------------------  2.4/2.4 MB 11.0 MB/s eta 0:00:01\n",
            "     ---------------------------------------- 2.4/2.4 MB 10.3 MB/s eta 0:00:00\n",
            "  Downloading tf_models_official-2.11.3-py2.py3-none-any.whl (2.3 MB)\n",
            "     ---------------------------------------- 0.0/2.3 MB ? eta -:--:--\n",
            "     --------- ------------------------------ 0.5/2.3 MB 16.8 MB/s eta 0:00:01\n",
            "     ----------------- ---------------------- 1.0/2.3 MB 13.3 MB/s eta 0:00:01\n",
            "     ----------------- ---------------------- 1.0/2.3 MB 13.3 MB/s eta 0:00:01\n",
            "     ----------------- ---------------------- 1.0/2.3 MB 13.3 MB/s eta 0:00:01\n",
            "     ----------------- ---------------------- 1.0/2.3 MB 13.3 MB/s eta 0:00:01\n",
            "     ----------------- ---------------------- 1.0/2.3 MB 13.3 MB/s eta 0:00:01\n",
            "     ----------------- ---------------------- 1.0/2.3 MB 13.3 MB/s eta 0:00:01\n",
            "     ----------------------- ---------------- 1.4/2.3 MB 3.8 MB/s eta 0:00:01\n",
            "     -------------------------------- ------- 1.9/2.3 MB 4.5 MB/s eta 0:00:01\n",
            "     ---------------------------------------  2.3/2.3 MB 4.9 MB/s eta 0:00:01\n",
            "     ---------------------------------------- 2.3/2.3 MB 4.8 MB/s eta 0:00:00\n",
            "INFO: This is taking longer than usual. You might need to provide the dependency resolver with stricter constraints to reduce runtime. See https://pip.pypa.io/warnings/backtracking for guidance. If you want to abort this run, press Ctrl + C.\n",
            "  Downloading tf_models_official-2.11.2-py2.py3-none-any.whl (2.3 MB)\n",
            "     ---------------------------------------- 0.0/2.3 MB ? eta -:--:--\n",
            "     ------------- -------------------------- 0.8/2.3 MB 16.3 MB/s eta 0:00:01\n",
            "     --------------------- ------------------ 1.2/2.3 MB 13.1 MB/s eta 0:00:01\n",
            "     -------------------------------- ------- 1.9/2.3 MB 13.4 MB/s eta 0:00:01\n",
            "     ---------------------------------------  2.3/2.3 MB 13.5 MB/s eta 0:00:01\n",
            "     ---------------------------------------- 2.3/2.3 MB 12.3 MB/s eta 0:00:00\n",
            "  Downloading tf_models_official-2.11.0-py2.py3-none-any.whl (2.3 MB)\n",
            "     ---------------------------------------- 0.0/2.3 MB ? eta -:--:--\n",
            "     -------- ------------------------------- 0.5/2.3 MB 15.9 MB/s eta 0:00:01\n",
            "     -------------------- ------------------- 1.2/2.3 MB 12.4 MB/s eta 0:00:01\n",
            "     ----------------------------- ---------- 1.7/2.3 MB 11.9 MB/s eta 0:00:01\n",
            "     -------------------------------------- - 2.2/2.3 MB 11.9 MB/s eta 0:00:01\n",
            "     ---------------------------------------- 2.3/2.3 MB 11.4 MB/s eta 0:00:00\n",
            "Collecting opencv-python-headless==4.5.2.52 (from tf-models-official)\n",
            "  Downloading opencv_python_headless-4.5.2.52-cp39-cp39-win_amd64.whl (34.6 MB)\n",
            "     ---------------------------------------- 0.0/34.6 MB ? eta -:--:--\n",
            "      --------------------------------------- 0.7/34.6 MB 15.3 MB/s eta 0:00:03\n",
            "     - -------------------------------------- 1.2/34.6 MB 15.4 MB/s eta 0:00:03\n",
            "     - -------------------------------------- 1.7/34.6 MB 13.4 MB/s eta 0:00:03\n",
            "     -- ------------------------------------- 2.1/34.6 MB 12.1 MB/s eta 0:00:03\n",
            "     -- ------------------------------------- 2.1/34.6 MB 12.1 MB/s eta 0:00:03\n",
            "     -- ------------------------------------- 2.1/34.6 MB 12.1 MB/s eta 0:00:03\n",
            "     -- ------------------------------------- 2.1/34.6 MB 12.1 MB/s eta 0:00:03\n",
            "     -- ------------------------------------- 2.1/34.6 MB 12.1 MB/s eta 0:00:03\n",
            "     -- ------------------------------------- 2.1/34.6 MB 12.1 MB/s eta 0:00:03\n",
            "     -- ------------------------------------- 2.1/34.6 MB 12.1 MB/s eta 0:00:03\n",
            "     -- ------------------------------------- 2.4/34.6 MB 5.0 MB/s eta 0:00:07\n",
            "     --- ------------------------------------ 3.1/34.6 MB 5.4 MB/s eta 0:00:06\n",
            "     --- ------------------------------------ 3.4/34.6 MB 5.5 MB/s eta 0:00:06\n",
            "     ---- ----------------------------------- 3.7/34.6 MB 5.8 MB/s eta 0:00:06\n",
            "     ---- ----------------------------------- 4.0/34.6 MB 5.7 MB/s eta 0:00:06\n",
            "     ----- ---------------------------------- 4.4/34.6 MB 5.8 MB/s eta 0:00:06\n",
            "     ----- ---------------------------------- 4.7/34.6 MB 5.9 MB/s eta 0:00:06\n",
            "     ----- ---------------------------------- 5.1/34.6 MB 6.0 MB/s eta 0:00:05\n",
            "     ------ --------------------------------- 5.2/34.6 MB 6.0 MB/s eta 0:00:05\n",
            "     ------ --------------------------------- 5.2/34.6 MB 6.0 MB/s eta 0:00:05\n",
            "     ------ --------------------------------- 5.2/34.6 MB 6.0 MB/s eta 0:00:05\n",
            "     ------ --------------------------------- 5.4/34.6 MB 5.0 MB/s eta 0:00:06\n",
            "     ------ --------------------------------- 5.7/34.6 MB 5.0 MB/s eta 0:00:06\n",
            "     ------- -------------------------------- 6.1/34.6 MB 5.1 MB/s eta 0:00:06\n",
            "     ------- -------------------------------- 6.4/34.6 MB 5.2 MB/s eta 0:00:06\n",
            "     ------- -------------------------------- 6.6/34.6 MB 5.1 MB/s eta 0:00:06\n",
            "     -------- ------------------------------- 7.0/34.6 MB 5.3 MB/s eta 0:00:06\n",
            "     -------- ------------------------------- 7.5/34.6 MB 5.4 MB/s eta 0:00:06\n",
            "     --------- ------------------------------ 7.8/34.6 MB 5.5 MB/s eta 0:00:05\n",
            "     --------- ------------------------------ 8.2/34.6 MB 5.6 MB/s eta 0:00:05\n",
            "     --------- ------------------------------ 8.6/34.6 MB 5.7 MB/s eta 0:00:05\n",
            "     ---------- ----------------------------- 8.9/34.6 MB 5.6 MB/s eta 0:00:05\n",
            "     ---------- ----------------------------- 9.2/34.6 MB 5.6 MB/s eta 0:00:05\n",
            "     ----------- ---------------------------- 9.6/34.6 MB 5.7 MB/s eta 0:00:05\n",
            "     ----------- ---------------------------- 10.2/34.6 MB 5.8 MB/s eta 0:00:05\n",
            "     ------------ --------------------------- 10.8/34.6 MB 5.7 MB/s eta 0:00:05\n",
            "     ------------- -------------------------- 11.3/34.6 MB 5.6 MB/s eta 0:00:05\n",
            "     ------------- -------------------------- 11.8/34.6 MB 5.6 MB/s eta 0:00:05\n",
            "     -------------- ------------------------- 12.4/34.6 MB 6.7 MB/s eta 0:00:04\n",
            "     -------------- ------------------------- 12.6/34.6 MB 6.5 MB/s eta 0:00:04\n",
            "     -------------- ------------------------- 12.9/34.6 MB 6.4 MB/s eta 0:00:04\n",
            "     --------------- ------------------------ 13.3/34.6 MB 6.2 MB/s eta 0:00:04\n",
            "     --------------- ------------------------ 13.8/34.6 MB 6.4 MB/s eta 0:00:04\n",
            "     ---------------- ----------------------- 14.4/34.6 MB 6.4 MB/s eta 0:00:04\n",
            "     ----------------- ---------------------- 15.0/34.6 MB 6.5 MB/s eta 0:00:04\n",
            "     ----------------- ---------------------- 15.5/34.6 MB 7.5 MB/s eta 0:00:03\n",
            "     ------------------ --------------------- 16.1/34.6 MB 7.6 MB/s eta 0:00:03\n",
            "     ------------------- -------------------- 16.6/34.6 MB 7.6 MB/s eta 0:00:03\n",
            "     ------------------- -------------------- 17.1/34.6 MB 7.8 MB/s eta 0:00:03\n",
            "     -------------------- ------------------- 17.4/34.6 MB 7.7 MB/s eta 0:00:03\n",
            "     -------------------- ------------------- 18.0/34.6 MB 7.8 MB/s eta 0:00:03\n",
            "     --------------------- ------------------ 18.5/34.6 MB 7.8 MB/s eta 0:00:03\n",
            "     ---------------------- ----------------- 19.1/34.6 MB 8.1 MB/s eta 0:00:02\n",
            "     ---------------------- ----------------- 19.9/34.6 MB 8.4 MB/s eta 0:00:02\n",
            "     ----------------------- ---------------- 20.6/34.6 MB 8.6 MB/s eta 0:00:02\n",
            "     ------------------------ --------------- 21.1/34.6 MB 8.5 MB/s eta 0:00:02\n",
            "     ------------------------- -------------- 21.9/34.6 MB 8.7 MB/s eta 0:00:02\n",
            "     ------------------------- -------------- 22.4/34.6 MB 8.7 MB/s eta 0:00:02\n",
            "     -------------------------- ------------- 22.9/34.6 MB 9.2 MB/s eta 0:00:02\n",
            "     --------------------------- ------------ 23.6/34.6 MB 9.5 MB/s eta 0:00:02\n",
            "     --------------------------- ------------ 24.1/34.6 MB 9.6 MB/s eta 0:00:02\n",
            "     ---------------------------- ----------- 24.6/34.6 MB 9.6 MB/s eta 0:00:02\n",
            "     ----------------------------- ---------- 25.1/34.6 MB 9.8 MB/s eta 0:00:01\n",
            "     ----------------------------- ---------- 25.3/34.6 MB 9.6 MB/s eta 0:00:01\n",
            "     ----------------------------- ---------- 25.3/34.6 MB 9.6 MB/s eta 0:00:01\n",
            "     ----------------------------- ---------- 25.9/34.6 MB 9.2 MB/s eta 0:00:01\n",
            "     ------------------------------ --------- 26.4/34.6 MB 9.5 MB/s eta 0:00:01\n",
            "     ------------------------------- -------- 26.9/34.6 MB 9.6 MB/s eta 0:00:01\n",
            "     ------------------------------- -------- 27.4/34.6 MB 9.6 MB/s eta 0:00:01\n",
            "     -------------------------------- ------- 27.8/34.6 MB 9.5 MB/s eta 0:00:01\n",
            "     -------------------------------- ------- 28.4/34.6 MB 9.8 MB/s eta 0:00:01\n",
            "     --------------------------------- ------ 28.9/34.6 MB 9.8 MB/s eta 0:00:01\n",
            "     --------------------------------- ------ 29.3/34.6 MB 9.9 MB/s eta 0:00:01\n",
            "     ---------------------------------- ----- 29.9/34.6 MB 9.9 MB/s eta 0:00:01\n",
            "     ----------------------------------- ---- 30.5/34.6 MB 9.9 MB/s eta 0:00:01\n",
            "     ----------------------------------- ---- 31.0/34.6 MB 9.8 MB/s eta 0:00:01\n",
            "     ------------------------------------ --- 31.5/34.6 MB 9.9 MB/s eta 0:00:01\n",
            "     ------------------------------------ --- 32.0/34.6 MB 9.6 MB/s eta 0:00:01\n",
            "     ------------------------------------- -- 32.6/34.6 MB 9.9 MB/s eta 0:00:01\n",
            "     -------------------------------------- - 33.1/34.6 MB 9.9 MB/s eta 0:00:01\n",
            "     -------------------------------------- - 33.6/34.6 MB 9.9 MB/s eta 0:00:01\n",
            "     ---------------------------------------  34.0/34.6 MB 9.9 MB/s eta 0:00:01\n",
            "     --------------------------------------  34.5/34.6 MB 10.1 MB/s eta 0:00:01\n",
            "     --------------------------------------  34.6/34.6 MB 10.1 MB/s eta 0:00:01\n",
            "     ---------------------------------------- 34.6/34.6 MB 9.3 MB/s eta 0:00:00\n",
            "Collecting tf-models-official\n",
            "  Downloading tf_models_official-2.10.1-py2.py3-none-any.whl (2.2 MB)\n",
            "     ---------------------------------------- 0.0/2.2 MB ? eta -:--:--\n",
            "     -------------- ------------------------- 0.8/2.2 MB 17.4 MB/s eta 0:00:01\n",
            "     --------------------------- ------------ 1.5/2.2 MB 16.2 MB/s eta 0:00:01\n",
            "     ---------------------------------- ----- 1.9/2.2 MB 15.2 MB/s eta 0:00:01\n",
            "     ---------------------------------------- 2.2/2.2 MB 11.6 MB/s eta 0:00:00\n",
            "Collecting sacrebleu==2.2.0 (from tf-models-official)\n",
            "  Downloading sacrebleu-2.2.0-py3-none-any.whl (116 kB)\n",
            "     ---------------------------------------- 0.0/116.6 kB ? eta -:--:--\n",
            "     ---------------------------------------- 116.6/116.6 kB ? eta 0:00:00\n",
            "Requirement already satisfied: tensorflow-text~=2.10.0 in d:\\sasha - user\\portsmouth university\\study\\modles\\intelligent data and text analytics\\id and ta coursework 2\\pythonproject\\new python\\lib\\site-packages (from tf-models-official) (2.10.0)\n",
            "Requirement already satisfied: tensorflow~=2.10.0 in d:\\sasha - user\\portsmouth university\\study\\modles\\intelligent data and text analytics\\id and ta coursework 2\\pythonproject\\new python\\lib\\site-packages (from tf-models-official) (2.10.1)\n",
            "Collecting tf-slim>=1.1.0 (from tf-models-official)\n",
            "  Downloading tf_slim-1.1.0-py2.py3-none-any.whl (352 kB)\n",
            "     ---------------------------------------- 0.0/352.1 kB ? eta -:--:--\n",
            "     ------------------------------------- 352.1/352.1 kB 22.8 MB/s eta 0:00:00\n",
            "Collecting portalocker (from sacrebleu==2.2.0->tf-models-official)\n",
            "  Downloading portalocker-2.8.2-py3-none-any.whl.metadata (8.5 kB)\n",
            "Collecting regex (from sacrebleu==2.2.0->tf-models-official)\n",
            "  Downloading regex-2023.12.25-cp39-cp39-win_amd64.whl.metadata (41 kB)\n",
            "     ---------------------------------------- 0.0/42.0 kB ? eta -:--:--\n",
            "     ---------------------------------------- 42.0/42.0 kB ? eta 0:00:00\n",
            "Collecting tabulate>=0.8.9 (from sacrebleu==2.2.0->tf-models-official)\n",
            "  Downloading tabulate-0.9.0-py3-none-any.whl (35 kB)\n",
            "Requirement already satisfied: colorama in d:\\sasha - user\\portsmouth university\\study\\modles\\intelligent data and text analytics\\id and ta coursework 2\\pythonproject\\new python\\lib\\site-packages (from sacrebleu==2.2.0->tf-models-official) (0.4.6)\n",
            "Collecting lxml (from sacrebleu==2.2.0->tf-models-official)\n",
            "  Downloading lxml-5.0.0-cp39-cp39-win_amd64.whl.metadata (6.9 kB)\n",
            "Collecting httplib2<1.dev0,>=0.15.0 (from google-api-python-client>=1.6.7->tf-models-official)\n",
            "  Downloading httplib2-0.22.0-py3-none-any.whl (96 kB)\n",
            "     ---------------------------------------- 0.0/96.9 kB ? eta -:--:--\n",
            "     ---------------------------------------- 96.9/96.9 kB 5.8 MB/s eta 0:00:00\n",
            "Requirement already satisfied: google-auth<3.0.0.dev0,>=1.19.0 in d:\\sasha - user\\portsmouth university\\study\\modles\\intelligent data and text analytics\\id and ta coursework 2\\pythonproject\\new python\\lib\\site-packages (from google-api-python-client>=1.6.7->tf-models-official) (2.26.1)\n",
            "Collecting google-auth-httplib2>=0.1.0 (from google-api-python-client>=1.6.7->tf-models-official)\n",
            "  Downloading google_auth_httplib2-0.2.0-py2.py3-none-any.whl.metadata (2.2 kB)\n",
            "Collecting google-api-core!=2.0.*,!=2.1.*,!=2.2.*,!=2.3.0,<3.0.0.dev0,>=1.31.5 (from google-api-python-client>=1.6.7->tf-models-official)\n",
            "  Downloading google_api_core-2.15.0-py3-none-any.whl.metadata (2.7 kB)\n",
            "Collecting uritemplate<5,>=3.0.1 (from google-api-python-client>=1.6.7->tf-models-official)\n",
            "  Downloading uritemplate-4.1.1-py2.py3-none-any.whl (10 kB)\n",
            "Requirement already satisfied: certifi in d:\\sasha - user\\portsmouth university\\study\\modles\\intelligent data and text analytics\\id and ta coursework 2\\pythonproject\\new python\\lib\\site-packages (from kaggle>=1.3.9->tf-models-official) (2023.11.17)\n",
            "Requirement already satisfied: python-dateutil in d:\\sasha - user\\portsmouth university\\study\\modles\\intelligent data and text analytics\\id and ta coursework 2\\pythonproject\\new python\\lib\\site-packages (from kaggle>=1.3.9->tf-models-official) (2.8.2)\n",
            "Requirement already satisfied: requests in d:\\sasha - user\\portsmouth university\\study\\modles\\intelligent data and text analytics\\id and ta coursework 2\\pythonproject\\new python\\lib\\site-packages (from kaggle>=1.3.9->tf-models-official) (2.31.0)\n",
            "Collecting tqdm (from kaggle>=1.3.9->tf-models-official)\n",
            "  Using cached tqdm-4.66.1-py3-none-any.whl.metadata (57 kB)\n",
            "Collecting python-slugify (from kaggle>=1.3.9->tf-models-official)\n",
            "  Downloading python_slugify-8.0.1-py2.py3-none-any.whl (9.7 kB)\n",
            "Requirement already satisfied: urllib3 in d:\\sasha - user\\portsmouth university\\study\\modles\\intelligent data and text analytics\\id and ta coursework 2\\pythonproject\\new python\\lib\\site-packages (from kaggle>=1.3.9->tf-models-official) (2.1.0)\n",
            "Requirement already satisfied: bleach in d:\\sasha - user\\portsmouth university\\study\\modles\\intelligent data and text analytics\\id and ta coursework 2\\pythonproject\\new python\\lib\\site-packages (from kaggle>=1.3.9->tf-models-official) (6.1.0)\n",
            "Collecting pytz>=2020.1 (from pandas>=0.22.0->tf-models-official)\n",
            "  Downloading pytz-2023.3.post1-py2.py3-none-any.whl.metadata (22 kB)\n",
            "Collecting tzdata>=2022.1 (from pandas>=0.22.0->tf-models-official)\n",
            "  Downloading tzdata-2023.4-py2.py3-none-any.whl.metadata (1.4 kB)\n",
            "Requirement already satisfied: absl-py>=1.0.0 in d:\\sasha - user\\portsmouth university\\study\\modles\\intelligent data and text analytics\\id and ta coursework 2\\pythonproject\\new python\\lib\\site-packages (from tensorflow~=2.10.0->tf-models-official) (2.0.0)\n",
            "Requirement already satisfied: astunparse>=1.6.0 in d:\\sasha - user\\portsmouth university\\study\\modles\\intelligent data and text analytics\\id and ta coursework 2\\pythonproject\\new python\\lib\\site-packages (from tensorflow~=2.10.0->tf-models-official) (1.6.3)\n",
            "Requirement already satisfied: flatbuffers>=2.0 in d:\\sasha - user\\portsmouth university\\study\\modles\\intelligent data and text analytics\\id and ta coursework 2\\pythonproject\\new python\\lib\\site-packages (from tensorflow~=2.10.0->tf-models-official) (23.5.26)\n",
            "Requirement already satisfied: gast<=0.4.0,>=0.2.1 in d:\\sasha - user\\portsmouth university\\study\\modles\\intelligent data and text analytics\\id and ta coursework 2\\pythonproject\\new python\\lib\\site-packages (from tensorflow~=2.10.0->tf-models-official) (0.4.0)\n",
            "Requirement already satisfied: google-pasta>=0.1.1 in d:\\sasha - user\\portsmouth university\\study\\modles\\intelligent data and text analytics\\id and ta coursework 2\\pythonproject\\new python\\lib\\site-packages (from tensorflow~=2.10.0->tf-models-official) (0.2.0)\n",
            "Requirement already satisfied: h5py>=2.9.0 in d:\\sasha - user\\portsmouth university\\study\\modles\\intelligent data and text analytics\\id and ta coursework 2\\pythonproject\\new python\\lib\\site-packages (from tensorflow~=2.10.0->tf-models-official) (3.10.0)\n",
            "Requirement already satisfied: keras-preprocessing>=1.1.1 in d:\\sasha - user\\portsmouth university\\study\\modles\\intelligent data and text analytics\\id and ta coursework 2\\pythonproject\\new python\\lib\\site-packages (from tensorflow~=2.10.0->tf-models-official) (1.1.2)\n",
            "Requirement already satisfied: libclang>=13.0.0 in d:\\sasha - user\\portsmouth university\\study\\modles\\intelligent data and text analytics\\id and ta coursework 2\\pythonproject\\new python\\lib\\site-packages (from tensorflow~=2.10.0->tf-models-official) (16.0.6)\n",
            "Requirement already satisfied: opt-einsum>=2.3.2 in d:\\sasha - user\\portsmouth university\\study\\modles\\intelligent data and text analytics\\id and ta coursework 2\\pythonproject\\new python\\lib\\site-packages (from tensorflow~=2.10.0->tf-models-official) (3.3.0)\n",
            "Requirement already satisfied: packaging in d:\\sasha - user\\portsmouth university\\study\\modles\\intelligent data and text analytics\\id and ta coursework 2\\pythonproject\\new python\\lib\\site-packages (from tensorflow~=2.10.0->tf-models-official) (23.2)\n",
            "Requirement already satisfied: protobuf<3.20,>=3.9.2 in d:\\sasha - user\\portsmouth university\\study\\modles\\intelligent data and text analytics\\id and ta coursework 2\\pythonproject\\new python\\lib\\site-packages (from tensorflow~=2.10.0->tf-models-official) (3.19.6)\n",
            "Requirement already satisfied: setuptools in d:\\sasha - user\\portsmouth university\\study\\modles\\intelligent data and text analytics\\id and ta coursework 2\\pythonproject\\new python\\lib\\site-packages (from tensorflow~=2.10.0->tf-models-official) (68.2.0)\n",
            "Requirement already satisfied: termcolor>=1.1.0 in d:\\sasha - user\\portsmouth university\\study\\modles\\intelligent data and text analytics\\id and ta coursework 2\\pythonproject\\new python\\lib\\site-packages (from tensorflow~=2.10.0->tf-models-official) (2.4.0)\n",
            "Requirement already satisfied: typing-extensions>=3.6.6 in d:\\sasha - user\\portsmouth university\\study\\modles\\intelligent data and text analytics\\id and ta coursework 2\\pythonproject\\new python\\lib\\site-packages (from tensorflow~=2.10.0->tf-models-official) (4.9.0)\n",
            "Requirement already satisfied: wrapt>=1.11.0 in d:\\sasha - user\\portsmouth university\\study\\modles\\intelligent data and text analytics\\id and ta coursework 2\\pythonproject\\new python\\lib\\site-packages (from tensorflow~=2.10.0->tf-models-official) (1.16.0)\n",
            "Requirement already satisfied: tensorflow-io-gcs-filesystem>=0.23.1 in d:\\sasha - user\\portsmouth university\\study\\modles\\intelligent data and text analytics\\id and ta coursework 2\\pythonproject\\new python\\lib\\site-packages (from tensorflow~=2.10.0->tf-models-official) (0.31.0)\n",
            "Requirement already satisfied: grpcio<2.0,>=1.24.3 in d:\\sasha - user\\portsmouth university\\study\\modles\\intelligent data and text analytics\\id and ta coursework 2\\pythonproject\\new python\\lib\\site-packages (from tensorflow~=2.10.0->tf-models-official) (1.60.0)\n",
            "Requirement already satisfied: tensorboard<2.11,>=2.10 in d:\\sasha - user\\portsmouth university\\study\\modles\\intelligent data and text analytics\\id and ta coursework 2\\pythonproject\\new python\\lib\\site-packages (from tensorflow~=2.10.0->tf-models-official) (2.10.1)\n",
            "Requirement already satisfied: tensorflow-estimator<2.11,>=2.10.0 in d:\\sasha - user\\portsmouth university\\study\\modles\\intelligent data and text analytics\\id and ta coursework 2\\pythonproject\\new python\\lib\\site-packages (from tensorflow~=2.10.0->tf-models-official) (2.10.0)\n",
            "Requirement already satisfied: keras<2.11,>=2.10.0 in d:\\sasha - user\\portsmouth university\\study\\modles\\intelligent data and text analytics\\id and ta coursework 2\\pythonproject\\new python\\lib\\site-packages (from tensorflow~=2.10.0->tf-models-official) (2.10.0)\n",
            "Collecting absl-py>=1.0.0 (from tensorflow~=2.10.0->tf-models-official)\n",
            "  Downloading absl_py-1.4.0-py3-none-any.whl (126 kB)\n",
            "     ---------------------------------------- 0.0/126.5 kB ? eta -:--:--\n",
            "     -------------------------------------- 126.5/126.5 kB 7.3 MB/s eta 0:00:00\n",
            "Collecting dm-tree~=0.1.1 (from tensorflow-model-optimization>=0.4.1->tf-models-official)\n",
            "  Downloading dm_tree-0.1.8-cp39-cp39-win_amd64.whl (101 kB)\n",
            "     ---------------------------------------- 0.0/101.5 kB ? eta -:--:--\n",
            "     -------------------------------------- 101.5/101.5 kB 6.1 MB/s eta 0:00:00\n",
            "Collecting contourpy>=1.0.1 (from matplotlib->tf-models-official)\n",
            "  Downloading contourpy-1.2.0-cp39-cp39-win_amd64.whl.metadata (5.8 kB)\n",
            "Collecting cycler>=0.10 (from matplotlib->tf-models-official)\n",
            "  Downloading cycler-0.12.1-py3-none-any.whl.metadata (3.8 kB)\n",
            "Collecting fonttools>=4.22.0 (from matplotlib->tf-models-official)\n",
            "  Downloading fonttools-4.47.0-cp39-cp39-win_amd64.whl.metadata (160 kB)\n",
            "     ---------------------------------------- 0.0/160.4 kB ? eta -:--:--\n",
            "     ---------------------------------------- 160.4/160.4 kB ? eta 0:00:00\n",
            "Collecting kiwisolver>=1.3.1 (from matplotlib->tf-models-official)\n",
            "  Downloading kiwisolver-1.4.5-cp39-cp39-win_amd64.whl.metadata (6.5 kB)\n",
            "Collecting pyparsing>=2.3.1 (from matplotlib->tf-models-official)\n",
            "  Downloading pyparsing-3.1.1-py3-none-any.whl.metadata (5.1 kB)\n",
            "Collecting importlib-resources>=3.2.0 (from matplotlib->tf-models-official)\n",
            "  Downloading importlib_resources-6.1.1-py3-none-any.whl.metadata (4.1 kB)\n",
            "Requirement already satisfied: pyasn1>=0.1.7 in d:\\sasha - user\\portsmouth university\\study\\modles\\intelligent data and text analytics\\id and ta coursework 2\\pythonproject\\new python\\lib\\site-packages (from oauth2client->tf-models-official) (0.5.1)\n",
            "Requirement already satisfied: pyasn1-modules>=0.0.5 in d:\\sasha - user\\portsmouth university\\study\\modles\\intelligent data and text analytics\\id and ta coursework 2\\pythonproject\\new python\\lib\\site-packages (from oauth2client->tf-models-official) (0.3.0)\n",
            "Requirement already satisfied: rsa>=3.1.4 in d:\\sasha - user\\portsmouth university\\study\\modles\\intelligent data and text analytics\\id and ta coursework 2\\pythonproject\\new python\\lib\\site-packages (from oauth2client->tf-models-official) (4.9)\n",
            "Collecting scikit-learn>=0.21.3 (from seqeval->tf-models-official)\n",
            "  Downloading scikit_learn-1.3.2-cp39-cp39-win_amd64.whl.metadata (11 kB)\n",
            "Collecting typeguard<3.0.0,>=2.7 (from tensorflow-addons->tf-models-official)\n",
            "  Downloading typeguard-2.13.3-py3-none-any.whl (17 kB)\n",
            "Collecting array-record (from tensorflow-datasets->tf-models-official)\n",
            "  Downloading array_record-0.4.1-py39-none-any.whl.metadata (503 bytes)\n",
            "Collecting click (from tensorflow-datasets->tf-models-official)\n",
            "  Downloading click-8.1.7-py3-none-any.whl.metadata (3.0 kB)\n",
            "Collecting etils>=0.9.0 (from etils[enp,epath,etree]>=0.9.0->tensorflow-datasets->tf-models-official)\n",
            "  Downloading etils-1.5.2-py3-none-any.whl.metadata (6.3 kB)\n",
            "Collecting promise (from tensorflow-datasets->tf-models-official)\n",
            "  Downloading promise-2.3.tar.gz (19 kB)\n",
            "  Preparing metadata (setup.py): started\n",
            "  Preparing metadata (setup.py): finished with status 'done'\n",
            "INFO: pip is looking at multiple versions of tensorflow-datasets to determine which version is compatible with other requirements. This could take a while.\n",
            "Collecting tensorflow-datasets (from tf-models-official)\n",
            "  Downloading tensorflow_datasets-4.9.2-py3-none-any.whl (5.4 MB)\n",
            "     ---------------------------------------- 0.0/5.4 MB ? eta -:--:--\n",
            "     ---------------------------------------- 0.0/5.4 MB ? eta -:--:--\n",
            "     ---------------------------------------- 0.0/5.4 MB 435.7 kB/s eta 0:00:13\n",
            "     ---------------------------------------- 0.1/5.4 MB 469.7 kB/s eta 0:00:12\n",
            "      --------------------------------------- 0.1/5.4 MB 656.4 kB/s eta 0:00:09\n",
            "     - -------------------------------------- 0.1/5.4 MB 708.1 kB/s eta 0:00:08\n",
            "     - -------------------------------------- 0.2/5.4 MB 831.5 kB/s eta 0:00:07\n",
            "     - -------------------------------------- 0.3/5.4 MB 874.6 kB/s eta 0:00:06\n",
            "     -- ------------------------------------- 0.3/5.4 MB 936.6 kB/s eta 0:00:06\n",
            "     --- ------------------------------------ 0.4/5.4 MB 1.0 MB/s eta 0:00:05\n",
            "     --- ------------------------------------ 0.5/5.4 MB 1.0 MB/s eta 0:00:05\n",
            "     --- ------------------------------------ 0.5/5.4 MB 1.1 MB/s eta 0:00:05\n",
            "     ---- ----------------------------------- 0.6/5.4 MB 1.1 MB/s eta 0:00:05\n",
            "     ---- ----------------------------------- 0.7/5.4 MB 1.1 MB/s eta 0:00:05\n",
            "     ----- ---------------------------------- 0.8/5.4 MB 1.2 MB/s eta 0:00:04\n",
            "     ------ --------------------------------- 0.9/5.4 MB 1.4 MB/s eta 0:00:04\n",
            "     ------- -------------------------------- 1.0/5.4 MB 1.4 MB/s eta 0:00:04\n",
            "     -------- ------------------------------- 1.2/5.4 MB 1.5 MB/s eta 0:00:03\n",
            "     --------- ------------------------------ 1.2/5.4 MB 1.5 MB/s eta 0:00:03\n",
            "     ---------- ----------------------------- 1.4/5.4 MB 1.6 MB/s eta 0:00:03\n",
            "     ----------- ---------------------------- 1.5/5.4 MB 1.7 MB/s eta 0:00:03\n",
            "     ------------ --------------------------- 1.6/5.4 MB 1.7 MB/s eta 0:00:03\n",
            "     ------------- -------------------------- 1.8/5.4 MB 1.8 MB/s eta 0:00:02\n",
            "     -------------- ------------------------- 1.9/5.4 MB 1.9 MB/s eta 0:00:02\n",
            "     --------------- ------------------------ 2.1/5.4 MB 1.9 MB/s eta 0:00:02\n",
            "     ---------------- ----------------------- 2.3/5.4 MB 2.0 MB/s eta 0:00:02\n",
            "     ----------------- ---------------------- 2.4/5.4 MB 2.0 MB/s eta 0:00:02\n",
            "     ------------------ --------------------- 2.5/5.4 MB 2.1 MB/s eta 0:00:02\n",
            "     ------------------- -------------------- 2.6/5.4 MB 2.1 MB/s eta 0:00:02\n",
            "     --------------------- ------------------ 2.9/5.4 MB 2.2 MB/s eta 0:00:02\n",
            "     ----------------------- ---------------- 3.1/5.4 MB 2.3 MB/s eta 0:00:01\n",
            "     ------------------------ --------------- 3.4/5.4 MB 2.4 MB/s eta 0:00:01\n",
            "     ------------------------- -------------- 3.5/5.4 MB 2.4 MB/s eta 0:00:01\n",
            "     --------------------------- ------------ 3.7/5.4 MB 2.5 MB/s eta 0:00:01\n",
            "     ----------------------------- ---------- 3.9/5.4 MB 2.5 MB/s eta 0:00:01\n",
            "     ------------------------------ --------- 4.1/5.4 MB 2.6 MB/s eta 0:00:01\n",
            "     -------------------------------- ------- 4.4/5.4 MB 2.6 MB/s eta 0:00:01\n",
            "     ---------------------------------- ----- 4.6/5.4 MB 2.7 MB/s eta 0:00:01\n",
            "     ------------------------------------ --- 4.9/5.4 MB 2.8 MB/s eta 0:00:01\n",
            "     ------------------------------------ --- 5.0/5.4 MB 2.8 MB/s eta 0:00:01\n",
            "     ---------------------------------------  5.3/5.4 MB 2.9 MB/s eta 0:00:01\n",
            "     ---------------------------------------- 5.4/5.4 MB 2.9 MB/s eta 0:00:00\n",
            "  Downloading tensorflow_datasets-4.9.1-py3-none-any.whl (5.4 MB)\n",
            "     ---------------------------------------- 0.0/5.4 MB ? eta -:--:--\n",
            "     - -------------------------------------- 0.2/5.4 MB 7.6 MB/s eta 0:00:01\n",
            "     --- ------------------------------------ 0.5/5.4 MB 5.6 MB/s eta 0:00:01\n",
            "     ----- ---------------------------------- 0.7/5.4 MB 5.3 MB/s eta 0:00:01\n",
            "     ------- -------------------------------- 1.0/5.4 MB 5.4 MB/s eta 0:00:01\n",
            "     ---------- ----------------------------- 1.4/5.4 MB 5.4 MB/s eta 0:00:01\n",
            "     ------------ --------------------------- 1.6/5.4 MB 5.2 MB/s eta 0:00:01\n",
            "     -------------- ------------------------- 2.0/5.4 MB 5.2 MB/s eta 0:00:01\n",
            "     ---------------- ----------------------- 2.3/5.4 MB 5.2 MB/s eta 0:00:01\n",
            "     ------------------- -------------------- 2.7/5.4 MB 5.3 MB/s eta 0:00:01\n",
            "     ---------------------- ----------------- 3.0/5.4 MB 5.4 MB/s eta 0:00:01\n",
            "     ------------------------- -------------- 3.4/5.4 MB 5.5 MB/s eta 0:00:01\n",
            "     --------------------------- ------------ 3.7/5.4 MB 5.6 MB/s eta 0:00:01\n",
            "     ----------------------------- ---------- 4.0/5.4 MB 5.5 MB/s eta 0:00:01\n",
            "     ------------------------------- -------- 4.3/5.4 MB 5.6 MB/s eta 0:00:01\n",
            "     --------------------------------- ------ 4.5/5.4 MB 5.6 MB/s eta 0:00:01\n",
            "     ----------------------------------- ---- 4.8/5.4 MB 5.6 MB/s eta 0:00:01\n",
            "     ------------------------------------- -- 5.1/5.4 MB 5.6 MB/s eta 0:00:01\n",
            "     ---------------------------------------  5.4/5.4 MB 5.6 MB/s eta 0:00:01\n",
            "     ---------------------------------------- 5.4/5.4 MB 5.5 MB/s eta 0:00:00\n",
            "  Downloading tensorflow_datasets-4.9.0-py3-none-any.whl (5.4 MB)\n",
            "     ---------------------------------------- 0.0/5.4 MB ? eta -:--:--\n",
            "     -- ------------------------------------- 0.4/5.4 MB 12.2 MB/s eta 0:00:01\n",
            "     ----- ---------------------------------- 0.7/5.4 MB 7.9 MB/s eta 0:00:01\n",
            "     -------- ------------------------------- 1.1/5.4 MB 7.8 MB/s eta 0:00:01\n",
            "     ---------- ----------------------------- 1.4/5.4 MB 7.5 MB/s eta 0:00:01\n",
            "     ------------- -------------------------- 1.8/5.4 MB 7.5 MB/s eta 0:00:01\n",
            "     --------------- ------------------------ 2.1/5.4 MB 7.6 MB/s eta 0:00:01\n",
            "     ------------------ --------------------- 2.5/5.4 MB 7.3 MB/s eta 0:00:01\n",
            "     --------------------- ------------------ 2.8/5.4 MB 7.2 MB/s eta 0:00:01\n",
            "     ----------------------- ---------------- 3.1/5.4 MB 7.1 MB/s eta 0:00:01\n",
            "     -------------------------- ------------- 3.5/5.4 MB 7.3 MB/s eta 0:00:01\n",
            "     ---------------------------- ----------- 3.9/5.4 MB 7.2 MB/s eta 0:00:01\n",
            "     ------------------------------- -------- 4.2/5.4 MB 7.2 MB/s eta 0:00:01\n",
            "     --------------------------------- ------ 4.5/5.4 MB 7.3 MB/s eta 0:00:01\n",
            "     ------------------------------------ --- 4.9/5.4 MB 7.3 MB/s eta 0:00:01\n",
            "     -------------------------------------- - 5.2/5.4 MB 7.2 MB/s eta 0:00:01\n",
            "     ---------------------------------------- 5.4/5.4 MB 7.0 MB/s eta 0:00:00\n",
            "Collecting tensorflow-metadata (from tensorflow-datasets->tf-models-official)\n",
            "  Downloading tensorflow_metadata-1.14.0-py3-none-any.whl.metadata (2.1 kB)\n",
            "Collecting toml (from tensorflow-datasets->tf-models-official)\n",
            "  Downloading toml-0.10.2-py2.py3-none-any.whl (16 kB)\n",
            "Requirement already satisfied: wheel<1.0,>=0.23.0 in d:\\sasha - user\\portsmouth university\\study\\modles\\intelligent data and text analytics\\id and ta coursework 2\\pythonproject\\new python\\lib\\site-packages (from astunparse>=1.6.0->tensorflow~=2.10.0->tf-models-official) (0.41.2)\n",
            "Collecting fsspec (from etils[enp,epath]>=0.9.0->tensorflow-datasets->tf-models-official)\n",
            "  Using cached fsspec-2023.12.2-py3-none-any.whl.metadata (6.8 kB)\n",
            "Requirement already satisfied: zipp in d:\\sasha - user\\portsmouth university\\study\\modles\\intelligent data and text analytics\\id and ta coursework 2\\pythonproject\\new python\\lib\\site-packages (from etils[enp,epath]>=0.9.0->tensorflow-datasets->tf-models-official) (3.17.0)\n",
            "Collecting googleapis-common-protos<2.0.dev0,>=1.56.2 (from google-api-core!=2.0.*,!=2.1.*,!=2.2.*,!=2.3.0,<3.0.0.dev0,>=1.31.5->google-api-python-client>=1.6.7->tf-models-official)\n",
            "  Downloading googleapis_common_protos-1.62.0-py2.py3-none-any.whl.metadata (1.5 kB)\n",
            "Requirement already satisfied: cachetools<6.0,>=2.0.0 in d:\\sasha - user\\portsmouth university\\study\\modles\\intelligent data and text analytics\\id and ta coursework 2\\pythonproject\\new python\\lib\\site-packages (from google-auth<3.0.0.dev0,>=1.19.0->google-api-python-client>=1.6.7->tf-models-official) (5.3.2)\n",
            "Requirement already satisfied: charset-normalizer<4,>=2 in d:\\sasha - user\\portsmouth university\\study\\modles\\intelligent data and text analytics\\id and ta coursework 2\\pythonproject\\new python\\lib\\site-packages (from requests->kaggle>=1.3.9->tf-models-official) (3.3.2)\n",
            "Requirement already satisfied: idna<4,>=2.5 in d:\\sasha - user\\portsmouth university\\study\\modles\\intelligent data and text analytics\\id and ta coursework 2\\pythonproject\\new python\\lib\\site-packages (from requests->kaggle>=1.3.9->tf-models-official) (3.6)\n",
            "Collecting joblib>=1.1.1 (from scikit-learn>=0.21.3->seqeval->tf-models-official)\n",
            "  Downloading joblib-1.3.2-py3-none-any.whl.metadata (5.4 kB)\n",
            "Collecting threadpoolctl>=2.0.0 (from scikit-learn>=0.21.3->seqeval->tf-models-official)\n",
            "  Downloading threadpoolctl-3.2.0-py3-none-any.whl.metadata (10.0 kB)\n",
            "Requirement already satisfied: google-auth-oauthlib<0.5,>=0.4.1 in d:\\sasha - user\\portsmouth university\\study\\modles\\intelligent data and text analytics\\id and ta coursework 2\\pythonproject\\new python\\lib\\site-packages (from tensorboard<2.11,>=2.10->tensorflow~=2.10.0->tf-models-official) (0.4.6)\n",
            "Requirement already satisfied: markdown>=2.6.8 in d:\\sasha - user\\portsmouth university\\study\\modles\\intelligent data and text analytics\\id and ta coursework 2\\pythonproject\\new python\\lib\\site-packages (from tensorboard<2.11,>=2.10->tensorflow~=2.10.0->tf-models-official) (3.5.1)\n",
            "Requirement already satisfied: tensorboard-data-server<0.7.0,>=0.6.0 in d:\\sasha - user\\portsmouth university\\study\\modles\\intelligent data and text analytics\\id and ta coursework 2\\pythonproject\\new python\\lib\\site-packages (from tensorboard<2.11,>=2.10->tensorflow~=2.10.0->tf-models-official) (0.6.1)\n",
            "Requirement already satisfied: tensorboard-plugin-wit>=1.6.0 in d:\\sasha - user\\portsmouth university\\study\\modles\\intelligent data and text analytics\\id and ta coursework 2\\pythonproject\\new python\\lib\\site-packages (from tensorboard<2.11,>=2.10->tensorflow~=2.10.0->tf-models-official) (1.8.1)\n",
            "Requirement already satisfied: werkzeug>=1.0.1 in d:\\sasha - user\\portsmouth university\\study\\modles\\intelligent data and text analytics\\id and ta coursework 2\\pythonproject\\new python\\lib\\site-packages (from tensorboard<2.11,>=2.10->tensorflow~=2.10.0->tf-models-official) (3.0.1)\n",
            "Requirement already satisfied: webencodings in d:\\sasha - user\\portsmouth university\\study\\modles\\intelligent data and text analytics\\id and ta coursework 2\\pythonproject\\new python\\lib\\site-packages (from bleach->kaggle>=1.3.9->tf-models-official) (0.5.1)\n",
            "Requirement already satisfied: pywin32>=226 in d:\\sasha - user\\portsmouth university\\study\\modles\\intelligent data and text analytics\\id and ta coursework 2\\pythonproject\\new python\\lib\\site-packages (from portalocker->sacrebleu==2.2.0->tf-models-official) (306)\n",
            "Collecting text-unidecode>=1.3 (from python-slugify->kaggle>=1.3.9->tf-models-official)\n",
            "  Downloading text_unidecode-1.3-py2.py3-none-any.whl (78 kB)\n",
            "     ---------------------------------------- 0.0/78.2 kB ? eta -:--:--\n",
            "     ---------------------------------------- 78.2/78.2 kB 4.2 MB/s eta 0:00:00\n",
            "INFO: pip is looking at multiple versions of tensorflow-metadata to determine which version is compatible with other requirements. This could take a while.\n",
            "Collecting tensorflow-metadata (from tensorflow-datasets->tf-models-official)\n",
            "  Downloading tensorflow_metadata-1.13.1-py3-none-any.whl (28 kB)\n",
            "  Downloading tensorflow_metadata-1.13.0-py3-none-any.whl (53 kB)\n",
            "     ---------------------------------------- 0.0/53.3 kB ? eta -:--:--\n",
            "     ---------------------------------------- 53.3/53.3 kB 2.9 MB/s eta 0:00:00\n",
            "Requirement already satisfied: requests-oauthlib>=0.7.0 in d:\\sasha - user\\portsmouth university\\study\\modles\\intelligent data and text analytics\\id and ta coursework 2\\pythonproject\\new python\\lib\\site-packages (from google-auth-oauthlib<0.5,>=0.4.1->tensorboard<2.11,>=2.10->tensorflow~=2.10.0->tf-models-official) (1.3.1)\n",
            "Requirement already satisfied: importlib-metadata>=4.4 in d:\\sasha - user\\portsmouth university\\study\\modles\\intelligent data and text analytics\\id and ta coursework 2\\pythonproject\\new python\\lib\\site-packages (from markdown>=2.6.8->tensorboard<2.11,>=2.10->tensorflow~=2.10.0->tf-models-official) (7.0.1)\n",
            "Requirement already satisfied: MarkupSafe>=2.1.1 in d:\\sasha - user\\portsmouth university\\study\\modles\\intelligent data and text analytics\\id and ta coursework 2\\pythonproject\\new python\\lib\\site-packages (from werkzeug>=1.0.1->tensorboard<2.11,>=2.10->tensorflow~=2.10.0->tf-models-official) (2.1.3)\n",
            "Requirement already satisfied: oauthlib>=3.0.0 in d:\\sasha - user\\portsmouth university\\study\\modles\\intelligent data and text analytics\\id and ta coursework 2\\pythonproject\\new python\\lib\\site-packages (from requests-oauthlib>=0.7.0->google-auth-oauthlib<0.5,>=0.4.1->tensorboard<2.11,>=2.10->tensorflow~=2.10.0->tf-models-official) (3.2.2)\n",
            "Downloading google_api_python_client-2.111.0-py2.py3-none-any.whl (13.0 MB)\n",
            "   ---------------------------------------- 0.0/13.0 MB ? eta -:--:--\n",
            "   - -------------------------------------- 0.4/13.0 MB 7.8 MB/s eta 0:00:02\n",
            "   -- ------------------------------------- 0.8/13.0 MB 8.1 MB/s eta 0:00:02\n",
            "   --- ------------------------------------ 1.2/13.0 MB 8.6 MB/s eta 0:00:02\n",
            "   ---- ----------------------------------- 1.6/13.0 MB 8.3 MB/s eta 0:00:02\n",
            "   ----- ---------------------------------- 1.9/13.0 MB 8.2 MB/s eta 0:00:02\n",
            "   ------- -------------------------------- 2.3/13.0 MB 8.1 MB/s eta 0:00:02\n",
            "   -------- ------------------------------- 2.6/13.0 MB 8.4 MB/s eta 0:00:02\n",
            "   -------- ------------------------------- 2.9/13.0 MB 8.1 MB/s eta 0:00:02\n",
            "   ---------- ----------------------------- 3.4/13.0 MB 8.1 MB/s eta 0:00:02\n",
            "   ----------- ---------------------------- 3.8/13.0 MB 8.1 MB/s eta 0:00:02\n",
            "   ------------- -------------------------- 4.3/13.0 MB 8.3 MB/s eta 0:00:02\n",
            "   -------------- ------------------------- 4.7/13.0 MB 8.3 MB/s eta 0:00:02\n",
            "   --------------- ------------------------ 5.1/13.0 MB 8.3 MB/s eta 0:00:01\n",
            "   ---------------- ----------------------- 5.4/13.0 MB 8.4 MB/s eta 0:00:01\n",
            "   ------------------ --------------------- 5.9/13.0 MB 8.5 MB/s eta 0:00:01\n",
            "   ------------------- -------------------- 6.3/13.0 MB 8.5 MB/s eta 0:00:01\n",
            "   -------------------- ------------------- 6.7/13.0 MB 8.6 MB/s eta 0:00:01\n",
            "   --------------------- ------------------ 7.1/13.0 MB 8.4 MB/s eta 0:00:01\n",
            "   ----------------------- ---------------- 7.5/13.0 MB 8.4 MB/s eta 0:00:01\n",
            "   ------------------------ --------------- 7.9/13.0 MB 8.5 MB/s eta 0:00:01\n",
            "   ------------------------- -------------- 8.3/13.0 MB 8.5 MB/s eta 0:00:01\n",
            "   -------------------------- ------------- 8.7/13.0 MB 8.6 MB/s eta 0:00:01\n",
            "   --------------------------- ------------ 9.0/13.0 MB 8.5 MB/s eta 0:00:01\n",
            "   ---------------------------- ----------- 9.3/13.0 MB 8.3 MB/s eta 0:00:01\n",
            "   ----------------------------- ---------- 9.7/13.0 MB 8.2 MB/s eta 0:00:01\n",
            "   ------------------------------- -------- 10.3/13.0 MB 8.4 MB/s eta 0:00:01\n",
            "   -------------------------------- ------- 10.6/13.0 MB 8.3 MB/s eta 0:00:01\n",
            "   --------------------------------- ------ 10.9/13.0 MB 8.3 MB/s eta 0:00:01\n",
            "   ---------------------------------- ----- 11.2/13.0 MB 8.3 MB/s eta 0:00:01\n",
            "   ----------------------------------- ---- 11.7/13.0 MB 8.4 MB/s eta 0:00:01\n",
            "   ------------------------------------ --- 12.0/13.0 MB 8.3 MB/s eta 0:00:01\n",
            "   -------------------------------------- - 12.4/13.0 MB 8.3 MB/s eta 0:00:01\n",
            "   ---------------------------------------  12.7/13.0 MB 8.4 MB/s eta 0:00:01\n",
            "   ---------------------------------------- 13.0/13.0 MB 8.2 MB/s eta 0:00:00\n",
            "Downloading pandas-2.1.4-cp39-cp39-win_amd64.whl (10.8 MB)\n",
            "   ---------------------------------------- 0.0/10.8 MB ? eta -:--:--\n",
            "   -- ------------------------------------- 0.5/10.8 MB 11.3 MB/s eta 0:00:01\n",
            "   --- ------------------------------------ 0.9/10.8 MB 11.4 MB/s eta 0:00:01\n",
            "   ---- ----------------------------------- 1.3/10.8 MB 9.0 MB/s eta 0:00:02\n",
            "   ------ --------------------------------- 1.8/10.8 MB 9.4 MB/s eta 0:00:01\n",
            "   ------- -------------------------------- 1.9/10.8 MB 10.2 MB/s eta 0:00:01\n",
            "   ------- -------------------------------- 2.0/10.8 MB 7.4 MB/s eta 0:00:02\n",
            "   --------- ------------------------------ 2.5/10.8 MB 8.0 MB/s eta 0:00:02\n",
            "   --------- ------------------------------ 2.6/10.8 MB 7.9 MB/s eta 0:00:02\n",
            "   ---------- ----------------------------- 2.9/10.8 MB 6.9 MB/s eta 0:00:02\n",
            "   ------------ --------------------------- 3.5/10.8 MB 7.3 MB/s eta 0:00:02\n",
            "   -------------- ------------------------- 3.8/10.8 MB 7.6 MB/s eta 0:00:01\n",
            "   ---------------- ----------------------- 4.4/10.8 MB 7.9 MB/s eta 0:00:01\n",
            "   ----------------- ---------------------- 4.8/10.8 MB 8.0 MB/s eta 0:00:01\n",
            "   -------------------- ------------------- 5.4/10.8 MB 8.2 MB/s eta 0:00:01\n",
            "   --------------------- ------------------ 5.8/10.8 MB 8.5 MB/s eta 0:00:01\n",
            "   ----------------------- ---------------- 6.3/10.8 MB 8.4 MB/s eta 0:00:01\n",
            "   ------------------------- -------------- 6.9/10.8 MB 8.8 MB/s eta 0:00:01\n",
            "   --------------------------- ------------ 7.4/10.8 MB 8.9 MB/s eta 0:00:01\n",
            "   ---------------------------- ----------- 7.8/10.8 MB 8.9 MB/s eta 0:00:01\n",
            "   ------------------------------ --------- 8.3/10.8 MB 8.8 MB/s eta 0:00:01\n",
            "   --------------------------------- ------ 8.9/10.8 MB 9.1 MB/s eta 0:00:01\n",
            "   ---------------------------------- ----- 9.3/10.8 MB 9.0 MB/s eta 0:00:01\n",
            "   ------------------------------------ --- 10.0/10.8 MB 9.2 MB/s eta 0:00:01\n",
            "   -------------------------------------- - 10.5/10.8 MB 9.2 MB/s eta 0:00:01\n",
            "   ---------------------------------------  10.8/10.8 MB 9.4 MB/s eta 0:00:01\n",
            "   ---------------------------------------- 10.8/10.8 MB 9.1 MB/s eta 0:00:00\n",
            "Downloading scipy-1.11.4-cp39-cp39-win_amd64.whl (44.3 MB)\n",
            "   ---------------------------------------- 0.0/44.3 MB ? eta -:--:--\n",
            "    --------------------------------------- 0.7/44.3 MB 13.7 MB/s eta 0:00:04\n",
            "   - -------------------------------------- 1.1/44.3 MB 11.9 MB/s eta 0:00:04\n",
            "   - -------------------------------------- 1.6/44.3 MB 13.1 MB/s eta 0:00:04\n",
            "   - -------------------------------------- 2.1/44.3 MB 11.9 MB/s eta 0:00:04\n",
            "   -- ------------------------------------- 2.7/44.3 MB 11.2 MB/s eta 0:00:04\n",
            "   -- ------------------------------------- 3.2/44.3 MB 11.8 MB/s eta 0:00:04\n",
            "   --- ------------------------------------ 3.7/44.3 MB 11.7 MB/s eta 0:00:04\n",
            "   ---- ----------------------------------- 4.5/44.3 MB 11.5 MB/s eta 0:00:04\n",
            "   ---- ----------------------------------- 5.1/44.3 MB 12.0 MB/s eta 0:00:04\n",
            "   ----- ---------------------------------- 5.5/44.3 MB 11.4 MB/s eta 0:00:04\n",
            "   ----- ---------------------------------- 6.1/44.3 MB 11.7 MB/s eta 0:00:04\n",
            "   ----- ---------------------------------- 6.6/44.3 MB 11.7 MB/s eta 0:00:04\n",
            "   ------ --------------------------------- 7.0/44.3 MB 11.7 MB/s eta 0:00:04\n",
            "   ------ --------------------------------- 7.7/44.3 MB 11.7 MB/s eta 0:00:04\n",
            "   ------- -------------------------------- 8.0/44.3 MB 11.4 MB/s eta 0:00:04\n",
            "   ------- -------------------------------- 8.5/44.3 MB 11.3 MB/s eta 0:00:04\n",
            "   -------- ------------------------------- 9.2/44.3 MB 11.6 MB/s eta 0:00:04\n",
            "   -------- ------------------------------- 9.7/44.3 MB 11.5 MB/s eta 0:00:03\n",
            "   --------- ------------------------------ 10.4/44.3 MB 11.7 MB/s eta 0:00:03\n",
            "   --------- ------------------------------ 10.9/44.3 MB 11.5 MB/s eta 0:00:03\n",
            "   ---------- ----------------------------- 11.5/44.3 MB 11.7 MB/s eta 0:00:03\n",
            "   ---------- ----------------------------- 12.1/44.3 MB 11.9 MB/s eta 0:00:03\n",
            "   ----------- ---------------------------- 12.7/44.3 MB 11.9 MB/s eta 0:00:03\n",
            "   ----------- ---------------------------- 13.1/44.3 MB 11.9 MB/s eta 0:00:03\n",
            "   ------------ --------------------------- 13.6/44.3 MB 11.7 MB/s eta 0:00:03\n",
            "   ------------ --------------------------- 14.1/44.3 MB 11.7 MB/s eta 0:00:03\n",
            "   ------------ --------------------------- 14.3/44.3 MB 11.5 MB/s eta 0:00:03\n",
            "   ------------ --------------------------- 14.3/44.3 MB 11.5 MB/s eta 0:00:03\n",
            "   ------------- -------------------------- 14.8/44.3 MB 10.6 MB/s eta 0:00:03\n",
            "   ------------- -------------------------- 15.2/44.3 MB 10.4 MB/s eta 0:00:03\n",
            "   -------------- ------------------------- 15.7/44.3 MB 10.2 MB/s eta 0:00:03\n",
            "   -------------- ------------------------- 16.4/44.3 MB 10.4 MB/s eta 0:00:03\n",
            "   --------------- ------------------------ 17.3/44.3 MB 10.7 MB/s eta 0:00:03\n",
            "   ---------------- ----------------------- 18.0/44.3 MB 10.7 MB/s eta 0:00:03\n",
            "   ---------------- ----------------------- 18.7/44.3 MB 10.9 MB/s eta 0:00:03\n",
            "   ----------------- ---------------------- 19.7/44.3 MB 11.1 MB/s eta 0:00:03\n",
            "   ------------------ --------------------- 20.4/44.3 MB 11.1 MB/s eta 0:00:03\n",
            "   ------------------- -------------------- 21.4/44.3 MB 11.3 MB/s eta 0:00:03\n",
            "   -------------------- ------------------- 22.1/44.3 MB 11.1 MB/s eta 0:00:02\n",
            "   -------------------- ------------------- 22.9/44.3 MB 11.3 MB/s eta 0:00:02\n",
            "   --------------------- ------------------ 23.9/44.3 MB 11.7 MB/s eta 0:00:02\n",
            "   ---------------------- ----------------- 24.4/44.3 MB 11.7 MB/s eta 0:00:02\n",
            "   ----------------------- ---------------- 25.5/44.3 MB 13.6 MB/s eta 0:00:02\n",
            "   ----------------------- ---------------- 26.0/44.3 MB 13.6 MB/s eta 0:00:02\n",
            "   ----------------------- ---------------- 26.1/44.3 MB 13.4 MB/s eta 0:00:02\n",
            "   ------------------------ --------------- 27.0/44.3 MB 13.4 MB/s eta 0:00:02\n",
            "   ------------------------- -------------- 28.0/44.3 MB 13.1 MB/s eta 0:00:02\n",
            "   -------------------------- ------------- 28.8/44.3 MB 13.1 MB/s eta 0:00:02\n",
            "   -------------------------- ------------- 29.4/44.3 MB 12.8 MB/s eta 0:00:02\n",
            "   --------------------------- ------------ 30.1/44.3 MB 13.1 MB/s eta 0:00:02\n",
            "   --------------------------- ------------ 30.8/44.3 MB 13.4 MB/s eta 0:00:02\n",
            "   ---------------------------- ----------- 31.4/44.3 MB 13.1 MB/s eta 0:00:01\n",
            "   ---------------------------- ----------- 32.0/44.3 MB 12.9 MB/s eta 0:00:01\n",
            "   ----------------------------- ---------- 32.7/44.3 MB 13.1 MB/s eta 0:00:01\n",
            "   ------------------------------ --------- 33.3/44.3 MB 13.1 MB/s eta 0:00:01\n",
            "   ------------------------------ --------- 34.1/44.3 MB 13.1 MB/s eta 0:00:01\n",
            "   ------------------------------- -------- 34.8/44.3 MB 13.4 MB/s eta 0:00:01\n",
            "   -------------------------------- ------- 35.4/44.3 MB 13.4 MB/s eta 0:00:01\n",
            "   -------------------------------- ------- 36.0/44.3 MB 13.4 MB/s eta 0:00:01\n",
            "   -------------------------------- ------- 36.2/44.3 MB 12.3 MB/s eta 0:00:01\n",
            "   --------------------------------- ------ 37.1/44.3 MB 13.6 MB/s eta 0:00:01\n",
            "   --------------------------------- ------ 37.6/44.3 MB 13.6 MB/s eta 0:00:01\n",
            "   ---------------------------------- ----- 38.3/44.3 MB 13.9 MB/s eta 0:00:01\n",
            "   ----------------------------------- ---- 39.0/44.3 MB 13.6 MB/s eta 0:00:01\n",
            "   ----------------------------------- ---- 39.6/44.3 MB 13.6 MB/s eta 0:00:01\n",
            "   ------------------------------------ --- 40.0/44.3 MB 13.4 MB/s eta 0:00:01\n",
            "   ------------------------------------ --- 40.7/44.3 MB 13.1 MB/s eta 0:00:01\n",
            "   ------------------------------------- -- 41.4/44.3 MB 13.4 MB/s eta 0:00:01\n",
            "   -------------------------------------- - 42.3/44.3 MB 13.9 MB/s eta 0:00:01\n",
            "   -------------------------------------- - 42.9/44.3 MB 13.9 MB/s eta 0:00:01\n",
            "   ---------------------------------------  43.6/44.3 MB 13.6 MB/s eta 0:00:01\n",
            "   ---------------------------------------  44.3/44.3 MB 13.9 MB/s eta 0:00:01\n",
            "   ---------------------------------------  44.3/44.3 MB 13.9 MB/s eta 0:00:01\n",
            "   ---------------------------------------- 44.3/44.3 MB 12.3 MB/s eta 0:00:00\n",
            "Downloading tensorflow_model_optimization-0.7.5-py2.py3-none-any.whl (241 kB)\n",
            "   ---------------------------------------- 0.0/241.2 kB ? eta -:--:--\n",
            "   --------------------------------------- 241.2/241.2 kB 14.4 MB/s eta 0:00:00\n",
            "Downloading Cython-3.0.7-cp39-cp39-win_amd64.whl (2.8 MB)\n",
            "   ---------------------------------------- 0.0/2.8 MB ? eta -:--:--\n",
            "   --------------- ------------------------ 1.0/2.8 MB 22.5 MB/s eta 0:00:01\n",
            "   ----------------------- ---------------- 1.6/2.8 MB 17.6 MB/s eta 0:00:01\n",
            "   --------------------------------- ------ 2.3/2.8 MB 16.3 MB/s eta 0:00:01\n",
            "   ---------------------------------------  2.8/2.8 MB 16.2 MB/s eta 0:00:01\n",
            "   ---------------------------------------- 2.8/2.8 MB 14.8 MB/s eta 0:00:00\n",
            "Downloading immutabledict-4.1.0-py3-none-any.whl (4.5 kB)\n",
            "Downloading matplotlib-3.8.2-cp39-cp39-win_amd64.whl (7.6 MB)\n",
            "   ---------------------------------------- 0.0/7.6 MB ? eta -:--:--\n",
            "   --- ------------------------------------ 0.7/7.6 MB 13.7 MB/s eta 0:00:01\n",
            "   -------- ------------------------------- 1.6/7.6 MB 17.0 MB/s eta 0:00:01\n",
            "   ----------- ---------------------------- 2.2/7.6 MB 17.4 MB/s eta 0:00:01\n",
            "   --------------- ------------------------ 2.9/7.6 MB 15.6 MB/s eta 0:00:01\n",
            "   ------------------ --------------------- 3.4/7.6 MB 15.7 MB/s eta 0:00:01\n",
            "   ----------------------- ---------------- 4.4/7.6 MB 16.6 MB/s eta 0:00:01\n",
            "   --------------------------- ------------ 5.2/7.6 MB 15.9 MB/s eta 0:00:01\n",
            "   ------------------------------ --------- 5.9/7.6 MB 15.7 MB/s eta 0:00:01\n",
            "   ------------------------------------ --- 6.9/7.6 MB 16.3 MB/s eta 0:00:01\n",
            "   -------------------------------------- - 7.4/7.6 MB 15.8 MB/s eta 0:00:01\n",
            "   ---------------------------------------- 7.6/7.6 MB 15.3 MB/s eta 0:00:00\n",
            "Downloading pillow-10.2.0-cp39-cp39-win_amd64.whl (2.6 MB)\n",
            "   ---------------------------------------- 0.0/2.6 MB ? eta -:--:--\n",
            "   ----------- ---------------------------- 0.8/2.6 MB 24.1 MB/s eta 0:00:01\n",
            "   -------------------------- ------------- 1.7/2.6 MB 21.8 MB/s eta 0:00:01\n",
            "   ---------------------------------------  2.6/2.6 MB 18.4 MB/s eta 0:00:01\n",
            "   ---------------------------------------- 2.6/2.6 MB 16.7 MB/s eta 0:00:00\n",
            "Downloading opencv_python_headless-4.9.0.80-cp37-abi3-win_amd64.whl (38.5 MB)\n",
            "   ---------------------------------------- 0.0/38.5 MB ? eta -:--:--\n",
            "    --------------------------------------- 0.9/38.5 MB 18.1 MB/s eta 0:00:03\n",
            "   - -------------------------------------- 1.7/38.5 MB 17.9 MB/s eta 0:00:03\n",
            "   -- ------------------------------------- 2.5/38.5 MB 17.5 MB/s eta 0:00:03\n",
            "   --- ------------------------------------ 3.3/38.5 MB 17.8 MB/s eta 0:00:02\n",
            "   ---- ----------------------------------- 4.1/38.5 MB 18.5 MB/s eta 0:00:02\n",
            "   ----- ---------------------------------- 4.9/38.5 MB 18.3 MB/s eta 0:00:02\n",
            "   ----- ---------------------------------- 5.5/38.5 MB 17.7 MB/s eta 0:00:02\n",
            "   ------ --------------------------------- 6.1/38.5 MB 17.0 MB/s eta 0:00:02\n",
            "   ------- -------------------------------- 7.0/38.5 MB 16.5 MB/s eta 0:00:02\n",
            "   -------- ------------------------------- 7.9/38.5 MB 16.8 MB/s eta 0:00:02\n",
            "   -------- ------------------------------- 8.6/38.5 MB 16.2 MB/s eta 0:00:02\n",
            "   ---------- ----------------------------- 9.8/38.5 MB 16.5 MB/s eta 0:00:02\n",
            "   ----------- ---------------------------- 10.8/38.5 MB 16.4 MB/s eta 0:00:02\n",
            "   ------------ --------------------------- 11.8/38.5 MB 16.0 MB/s eta 0:00:02\n",
            "   ------------- -------------------------- 12.8/38.5 MB 16.0 MB/s eta 0:00:02\n",
            "   -------------- ------------------------- 13.6/38.5 MB 16.0 MB/s eta 0:00:02\n",
            "   --------------- ------------------------ 14.6/38.5 MB 16.0 MB/s eta 0:00:02\n",
            "   ---------------- ----------------------- 15.8/38.5 MB 16.4 MB/s eta 0:00:02\n",
            "   ----------------- ---------------------- 16.5/38.5 MB 16.4 MB/s eta 0:00:02\n",
            "   ----------------- ---------------------- 17.3/38.5 MB 16.4 MB/s eta 0:00:02\n",
            "   ----------------- ---------------------- 17.3/38.5 MB 16.4 MB/s eta 0:00:02\n",
            "   ----------------- ---------------------- 17.3/38.5 MB 14.6 MB/s eta 0:00:02\n",
            "   ------------------ --------------------- 18.0/38.5 MB 13.9 MB/s eta 0:00:02\n",
            "   ------------------- -------------------- 18.9/38.5 MB 14.6 MB/s eta 0:00:02\n",
            "   -------------------- ------------------- 19.7/38.5 MB 14.2 MB/s eta 0:00:02\n",
            "   --------------------- ------------------ 20.5/38.5 MB 14.2 MB/s eta 0:00:02\n",
            "   ---------------------- ----------------- 21.3/38.5 MB 14.6 MB/s eta 0:00:02\n",
            "   ----------------------- ---------------- 22.3/38.5 MB 14.2 MB/s eta 0:00:02\n",
            "   ----------------------- ---------------- 22.9/38.5 MB 14.2 MB/s eta 0:00:02\n",
            "   ------------------------ --------------- 23.7/38.5 MB 14.2 MB/s eta 0:00:02\n",
            "   ------------------------- -------------- 24.7/38.5 MB 14.5 MB/s eta 0:00:01\n",
            "   ------------------------- -------------- 24.7/38.5 MB 14.5 MB/s eta 0:00:01\n",
            "   -------------------------- ------------- 25.3/38.5 MB 13.4 MB/s eta 0:00:01\n",
            "   --------------------------- ------------ 26.4/38.5 MB 13.6 MB/s eta 0:00:01\n",
            "   --------------------------- ------------ 26.9/38.5 MB 13.4 MB/s eta 0:00:01\n",
            "   ---------------------------- ----------- 27.6/38.5 MB 15.6 MB/s eta 0:00:01\n",
            "   ----------------------------- ---------- 28.7/38.5 MB 16.0 MB/s eta 0:00:01\n",
            "   ------------------------------ --------- 29.3/38.5 MB 15.2 MB/s eta 0:00:01\n",
            "   ------------------------------- -------- 30.1/38.5 MB 15.6 MB/s eta 0:00:01\n",
            "   -------------------------------- ------- 31.0/38.5 MB 15.6 MB/s eta 0:00:01\n",
            "   -------------------------------- ------- 31.7/38.5 MB 15.6 MB/s eta 0:00:01\n",
            "   ---------------------------------- ----- 32.8/38.5 MB 16.0 MB/s eta 0:00:01\n",
            "   ---------------------------------- ----- 33.7/38.5 MB 16.4 MB/s eta 0:00:01\n",
            "   ----------------------------------- ---- 33.9/38.5 MB 16.8 MB/s eta 0:00:01\n",
            "   ----------------------------------- ---- 34.6/38.5 MB 15.2 MB/s eta 0:00:01\n",
            "   ------------------------------------ --- 35.3/38.5 MB 16.4 MB/s eta 0:00:01\n",
            "   ------------------------------------- -- 36.3/38.5 MB 16.8 MB/s eta 0:00:01\n",
            "   -------------------------------------- - 37.2/38.5 MB 16.8 MB/s eta 0:00:01\n",
            "   ---------------------------------------  38.0/38.5 MB 16.8 MB/s eta 0:00:01\n",
            "   ---------------------------------------  38.5/38.5 MB 17.2 MB/s eta 0:00:01\n",
            "   ---------------------------------------  38.5/38.5 MB 17.2 MB/s eta 0:00:01\n",
            "   ---------------------------------------- 38.5/38.5 MB 14.9 MB/s eta 0:00:00\n",
            "Downloading pycocotools-2.0.7-cp39-cp39-win_amd64.whl (85 kB)\n",
            "   ---------------------------------------- 0.0/85.1 kB ? eta -:--:--\n",
            "   ---------------------------------------- 85.1/85.1 kB 4.7 MB/s eta 0:00:00\n",
            "Downloading tensorflow_addons-0.22.0-cp39-cp39-win_amd64.whl (729 kB)\n",
            "   ---------------------------------------- 0.0/729.9 kB ? eta -:--:--\n",
            "   --------------------------------------  727.0/729.9 kB 15.3 MB/s eta 0:00:01\n",
            "   --------------------------------------- 729.9/729.9 kB 11.6 MB/s eta 0:00:00\n",
            "Downloading contourpy-1.2.0-cp39-cp39-win_amd64.whl (181 kB)\n",
            "   ---------------------------------------- 0.0/181.9 kB ? eta -:--:--\n",
            "   --------------------------------------- 181.9/181.9 kB 10.7 MB/s eta 0:00:00\n",
            "Downloading cycler-0.12.1-py3-none-any.whl (8.3 kB)\n",
            "Downloading etils-1.5.2-py3-none-any.whl (140 kB)\n",
            "   ---------------------------------------- 0.0/140.6 kB ? eta -:--:--\n",
            "   ---------------------------------------- 140.6/140.6 kB 8.7 MB/s eta 0:00:00\n",
            "Downloading fonttools-4.47.0-cp39-cp39-win_amd64.whl (2.2 MB)\n",
            "   ---------------------------------------- 0.0/2.2 MB ? eta -:--:--\n",
            "   --------------------- ------------------ 1.2/2.2 MB 24.4 MB/s eta 0:00:01\n",
            "   ---------------------------------- ----- 1.9/2.2 MB 19.9 MB/s eta 0:00:01\n",
            "   ---------------------------------------- 2.2/2.2 MB 17.3 MB/s eta 0:00:00\n",
            "Downloading google_api_core-2.15.0-py3-none-any.whl (121 kB)\n",
            "   ---------------------------------------- 0.0/122.0 kB ? eta -:--:--\n",
            "   ---------------------------------------- 122.0/122.0 kB ? eta 0:00:00\n",
            "Downloading google_auth_httplib2-0.2.0-py2.py3-none-any.whl (9.3 kB)\n",
            "Downloading importlib_resources-6.1.1-py3-none-any.whl (33 kB)\n",
            "Downloading kiwisolver-1.4.5-cp39-cp39-win_amd64.whl (56 kB)\n",
            "   ---------------------------------------- 0.0/56.2 kB ? eta -:--:--\n",
            "   ---------------------------------------- 56.2/56.2 kB ? eta 0:00:00\n",
            "Downloading pyparsing-3.1.1-py3-none-any.whl (103 kB)\n",
            "   ---------------------------------------- 0.0/103.1 kB ? eta -:--:--\n",
            "   ---------------------------------------- 103.1/103.1 kB 5.8 MB/s eta 0:00:00\n",
            "Downloading pytz-2023.3.post1-py2.py3-none-any.whl (502 kB)\n",
            "   ---------------------------------------- 0.0/502.5 kB ? eta -:--:--\n",
            "   --------------------------------------- 502.5/502.5 kB 30.8 MB/s eta 0:00:00\n",
            "Downloading scikit_learn-1.3.2-cp39-cp39-win_amd64.whl (9.3 MB)\n",
            "   ---------------------------------------- 0.0/9.3 MB ? eta -:--:--\n",
            "   --- ------------------------------------ 0.8/9.3 MB 25.9 MB/s eta 0:00:01\n",
            "   ------ --------------------------------- 1.4/9.3 MB 18.1 MB/s eta 0:00:01\n",
            "   ---------- ----------------------------- 2.3/9.3 MB 16.5 MB/s eta 0:00:01\n",
            "   ------------- -------------------------- 3.1/9.3 MB 17.7 MB/s eta 0:00:01\n",
            "   ----------------- ---------------------- 4.1/9.3 MB 18.7 MB/s eta 0:00:01\n",
            "   -------------------- ------------------- 4.8/9.3 MB 17.0 MB/s eta 0:00:01\n",
            "   ----------------------- ---------------- 5.6/9.3 MB 16.9 MB/s eta 0:00:01\n",
            "   ---------------------------- ----------- 6.5/9.3 MB 17.4 MB/s eta 0:00:01\n",
            "   ------------------------------ --------- 7.1/9.3 MB 16.8 MB/s eta 0:00:01\n",
            "   --------------------------------- ------ 7.9/9.3 MB 17.3 MB/s eta 0:00:01\n",
            "   ------------------------------------- -- 8.8/9.3 MB 17.0 MB/s eta 0:00:01\n",
            "   ---------------------------------------  9.3/9.3 MB 17.0 MB/s eta 0:00:01\n",
            "   ---------------------------------------- 9.3/9.3 MB 16.6 MB/s eta 0:00:00\n",
            "Downloading tzdata-2023.4-py2.py3-none-any.whl (346 kB)\n",
            "   ---------------------------------------- 0.0/346.6 kB ? eta -:--:--\n",
            "   --------------------------------------- 346.6/346.6 kB 22.4 MB/s eta 0:00:00\n",
            "Downloading array_record-0.4.1-py39-none-any.whl (3.0 MB)\n",
            "   ---------------------------------------- 0.0/3.0 MB ? eta -:--:--\n",
            "   -------------- ------------------------- 1.1/3.0 MB 22.4 MB/s eta 0:00:01\n",
            "   ---------------------------- ----------- 2.1/3.0 MB 22.5 MB/s eta 0:00:01\n",
            "   ----------------------------------- ---- 2.7/3.0 MB 21.5 MB/s eta 0:00:01\n",
            "   ---------------------------------------- 3.0/3.0 MB 19.1 MB/s eta 0:00:00\n",
            "Downloading click-8.1.7-py3-none-any.whl (97 kB)\n",
            "   ---------------------------------------- 0.0/97.9 kB ? eta -:--:--\n",
            "   ---------------------------------------- 97.9/97.9 kB 5.5 MB/s eta 0:00:00\n",
            "Downloading lxml-5.0.0-cp39-cp39-win_amd64.whl (4.0 MB)\n",
            "   ---------------------------------------- 0.0/4.0 MB ? eta -:--:--\n",
            "   --------- ------------------------------ 0.9/4.0 MB 30.1 MB/s eta 0:00:01\n",
            "   ------------------- -------------------- 2.0/4.0 MB 25.5 MB/s eta 0:00:01\n",
            "   --------------------------- ------------ 2.8/4.0 MB 22.1 MB/s eta 0:00:01\n",
            "   ----------------------------------- ---- 3.5/4.0 MB 20.4 MB/s eta 0:00:01\n",
            "   ---------------------------------------- 4.0/4.0 MB 18.3 MB/s eta 0:00:00\n",
            "Downloading portalocker-2.8.2-py3-none-any.whl (17 kB)\n",
            "Downloading regex-2023.12.25-cp39-cp39-win_amd64.whl (269 kB)\n",
            "   ---------------------------------------- 0.0/269.5 kB ? eta -:--:--\n",
            "   --------------------------------------- 269.5/269.5 kB 16.2 MB/s eta 0:00:00\n",
            "Using cached tqdm-4.66.1-py3-none-any.whl (78 kB)\n",
            "Downloading googleapis_common_protos-1.62.0-py2.py3-none-any.whl (228 kB)\n",
            "   ---------------------------------------- 0.0/228.7 kB ? eta -:--:--\n",
            "   ---------------------------------------- 228.7/228.7 kB ? eta 0:00:00\n",
            "Downloading joblib-1.3.2-py3-none-any.whl (302 kB)\n",
            "   ---------------------------------------- 0.0/302.2 kB ? eta -:--:--\n",
            "   --------------------------------------- 302.2/302.2 kB 19.5 MB/s eta 0:00:00\n",
            "Downloading threadpoolctl-3.2.0-py3-none-any.whl (15 kB)\n",
            "Using cached fsspec-2023.12.2-py3-none-any.whl (168 kB)\n",
            "Building wheels for collected packages: kaggle, seqeval, promise\n",
            "  Building wheel for kaggle (setup.py): started\n",
            "  Building wheel for kaggle (setup.py): finished with status 'done'\n",
            "  Created wheel for kaggle: filename=kaggle-1.5.16-py3-none-any.whl size=110693 sha256=124350978b2908e7e8159f3a8ca60aa3cd351f2584f248fe2b56dbda6a90ae4f\n",
            "  Stored in directory: c:\\users\\kremn\\appdata\\local\\pip\\cache\\wheels\\d2\\ed\\a5\\da3a0cfb13373d1ace41cafa4f2467d858c55c52473ba72799\n",
            "  Building wheel for seqeval (setup.py): started\n",
            "  Building wheel for seqeval (setup.py): finished with status 'done'\n",
            "  Created wheel for seqeval: filename=seqeval-1.2.2-py3-none-any.whl size=16185 sha256=ca99e276b0b786c745f79fa448196bf363a8c04403876d272cb1e600ea2ef15f\n",
            "  Stored in directory: c:\\users\\kremn\\appdata\\local\\pip\\cache\\wheels\\e2\\a5\\92\\2c80d1928733611c2747a9820e1324a6835524d9411510c142\n",
            "  Building wheel for promise (setup.py): started\n",
            "  Building wheel for promise (setup.py): finished with status 'done'\n",
            "  Created wheel for promise: filename=promise-2.3-py3-none-any.whl size=21545 sha256=7a388a5650506961c9fe708f82a582a9fc3c7a5c81be3809568243331c852f8f\n",
            "  Stored in directory: c:\\users\\kremn\\appdata\\local\\pip\\cache\\wheels\\e1\\e8\\83\\ddea66100678d139b14bc87692ece57c6a2a937956d2532608\n",
            "Successfully built kaggle seqeval promise\n",
            "Installing collected packages: text-unidecode, sentencepiece, pytz, py-cpuinfo, gin-config, dm-tree, uritemplate, tzdata, typeguard, tqdm, toml, threadpoolctl, tabulate, scipy, regex, pyyaml, python-slugify, pyparsing, promise, portalocker, Pillow, opencv-python-headless, lxml, kiwisolver, joblib, importlib-resources, immutabledict, googleapis-common-protos, fsspec, fonttools, etils, Cython, cycler, contourpy, click, absl-py, tf-slim, tensorflow-model-optimization, tensorflow-metadata, tensorflow-addons, scikit-learn, sacrebleu, pandas, matplotlib, kaggle, httplib2, seqeval, pycocotools, oauth2client, google-auth-httplib2, google-api-core, google-api-python-client, array-record, tensorflow-datasets, tf-models-official\n",
            "  Attempting uninstall: pyyaml\n",
            "    Found existing installation: PyYAML 6.0.1\n",
            "    Uninstalling PyYAML-6.0.1:\n",
            "      Successfully uninstalled PyYAML-6.0.1\n",
            "  Attempting uninstall: absl-py\n",
            "    Found existing installation: absl-py 2.0.0\n",
            "    Uninstalling absl-py-2.0.0:\n",
            "      Successfully uninstalled absl-py-2.0.0\n",
            "Successfully installed Cython-3.0.7 Pillow-10.2.0 absl-py-1.4.0 array-record-0.4.1 click-8.1.7 contourpy-1.2.0 cycler-0.12.1 dm-tree-0.1.8 etils-1.5.2 fonttools-4.47.0 fsspec-2023.12.2 gin-config-0.5.0 google-api-core-2.15.0 google-api-python-client-2.111.0 google-auth-httplib2-0.2.0 googleapis-common-protos-1.62.0 httplib2-0.22.0 immutabledict-4.1.0 importlib-resources-6.1.1 joblib-1.3.2 kaggle-1.5.16 kiwisolver-1.4.5 lxml-5.0.0 matplotlib-3.8.2 oauth2client-4.1.3 opencv-python-headless-4.9.0.80 pandas-2.1.4 portalocker-2.8.2 promise-2.3 py-cpuinfo-9.0.0 pycocotools-2.0.7 pyparsing-3.1.1 python-slugify-8.0.1 pytz-2023.3.post1 pyyaml-5.4.1 regex-2023.12.25 sacrebleu-2.2.0 scikit-learn-1.3.2 scipy-1.11.4 sentencepiece-0.1.99 seqeval-1.2.2 tabulate-0.9.0 tensorflow-addons-0.22.0 tensorflow-datasets-4.9.0 tensorflow-metadata-1.13.0 tensorflow-model-optimization-0.7.5 text-unidecode-1.3 tf-models-official-2.10.1 tf-slim-1.1.0 threadpoolctl-3.2.0 toml-0.10.2 tqdm-4.66.1 typeguard-2.13.3 tzdata-2023.4 uritemplate-4.1.1\n"
          ]
        },
        {
          "name": "stderr",
          "output_type": "stream",
          "text": [
            "  WARNING: Failed to remove contents in a temporary directory 'D:\\Sasha - User\\Portsmouth University\\Study\\MODLES\\Intelligent Data And Text Analytics\\ID and TA Coursework 2\\pythonProject\\New python\\Lib\\site-packages\\~aml'.\n",
            "  You can safely remove it manually.\n"
          ]
        }
      ],
      "source": [
        "!pip install tf-models-official"
      ],
      "metadata": {
        "ExecuteTime": {
          "end_time": "2024-01-04T15:32:58.353002400Z",
          "start_time": "2024-01-04T15:31:17.885485700Z"
        },
        "id": "8d771b139948f3ec",
        "outputId": "29ff02a5-8c6b-43a4-cc53-dbeac313655c"
      },
      "id": "8d771b139948f3ec",
      "execution_count": null
    },
    {
      "cell_type": "code",
      "outputs": [
        {
          "name": "stdout",
          "output_type": "stream",
          "text": [
            "Collecting build\n",
            "  Using cached build-1.0.3-py3-none-any.whl.metadata (4.2 kB)\n",
            "Requirement already satisfied: packaging>=19.0 in d:\\sasha - user\\portsmouth university\\study\\modles\\intelligent data and text analytics\\id and ta coursework 2\\pythonproject\\new python\\lib\\site-packages (from build) (23.2)\n",
            "Collecting pyproject_hooks (from build)\n",
            "  Using cached pyproject_hooks-1.0.0-py3-none-any.whl (9.3 kB)\n",
            "Requirement already satisfied: colorama in d:\\sasha - user\\portsmouth university\\study\\modles\\intelligent data and text analytics\\id and ta coursework 2\\pythonproject\\new python\\lib\\site-packages (from build) (0.4.6)\n",
            "Requirement already satisfied: importlib-metadata>=4.6 in d:\\sasha - user\\portsmouth university\\study\\modles\\intelligent data and text analytics\\id and ta coursework 2\\pythonproject\\new python\\lib\\site-packages (from build) (7.0.1)\n",
            "Requirement already satisfied: tomli>=1.1.0 in d:\\sasha - user\\portsmouth university\\study\\modles\\intelligent data and text analytics\\id and ta coursework 2\\pythonproject\\new python\\lib\\site-packages (from build) (2.0.1)\n",
            "Requirement already satisfied: zipp>=0.5 in d:\\sasha - user\\portsmouth university\\study\\modles\\intelligent data and text analytics\\id and ta coursework 2\\pythonproject\\new python\\lib\\site-packages (from importlib-metadata>=4.6->build) (3.17.0)\n",
            "Using cached build-1.0.3-py3-none-any.whl (18 kB)\n",
            "Installing collected packages: pyproject_hooks, build\n",
            "Successfully installed build-1.0.3 pyproject_hooks-1.0.0\n",
            "Note: you may need to restart the kernel to use updated packages.\n"
          ]
        }
      ],
      "source": [
        "pip install build"
      ],
      "metadata": {
        "ExecuteTime": {
          "end_time": "2024-01-04T15:34:32.369040500Z",
          "start_time": "2024-01-04T15:34:27.918102400Z"
        },
        "id": "83df38b2b0373eb5",
        "outputId": "0f548e1d-9b85-43d5-cb84-1e89f17bbfa2"
      },
      "id": "83df38b2b0373eb5",
      "execution_count": null
    },
    {
      "cell_type": "code",
      "outputs": [
        {
          "name": "stdout",
          "output_type": "stream",
          "text": [
            "Collecting transformers\n",
            "  Downloading transformers-4.36.2-py3-none-any.whl.metadata (126 kB)\n",
            "     ---------------------------------------- 0.0/126.8 kB ? eta -:--:--\n",
            "     ---------------------------- ---------- 92.2/126.8 kB 2.6 MB/s eta 0:00:01\n",
            "     -------------------------------------- 126.8/126.8 kB 1.5 MB/s eta 0:00:00\n",
            "Collecting filelock (from transformers)\n",
            "  Downloading filelock-3.13.1-py3-none-any.whl.metadata (2.8 kB)\n",
            "Collecting huggingface-hub<1.0,>=0.19.3 (from transformers)\n",
            "  Downloading huggingface_hub-0.20.1-py3-none-any.whl.metadata (12 kB)\n",
            "Requirement already satisfied: numpy>=1.17 in c:\\users\\kremn\\appdata\\local\\programs\\python\\python310\\lib\\site-packages (from transformers) (1.26.2)\n",
            "Requirement already satisfied: packaging>=20.0 in c:\\users\\kremn\\appdata\\local\\programs\\python\\python310\\lib\\site-packages (from transformers) (23.2)\n",
            "Requirement already satisfied: pyyaml>=5.1 in c:\\users\\kremn\\appdata\\local\\programs\\python\\python310\\lib\\site-packages (from transformers) (6.0.1)\n",
            "Requirement already satisfied: regex!=2019.12.17 in c:\\users\\kremn\\appdata\\local\\programs\\python\\python310\\lib\\site-packages (from transformers) (2023.10.3)\n",
            "Requirement already satisfied: requests in c:\\users\\kremn\\appdata\\local\\programs\\python\\python310\\lib\\site-packages (from transformers) (2.31.0)\n",
            "Collecting tokenizers<0.19,>=0.14 (from transformers)\n",
            "  Downloading tokenizers-0.15.0-cp310-none-win_amd64.whl.metadata (6.8 kB)\n",
            "Collecting safetensors>=0.3.1 (from transformers)\n",
            "  Downloading safetensors-0.4.1-cp310-none-win_amd64.whl.metadata (3.8 kB)\n",
            "Requirement already satisfied: tqdm>=4.27 in c:\\users\\kremn\\appdata\\local\\programs\\python\\python310\\lib\\site-packages (from transformers) (4.66.1)\n",
            "Collecting fsspec>=2023.5.0 (from huggingface-hub<1.0,>=0.19.3->transformers)\n",
            "  Downloading fsspec-2023.12.2-py3-none-any.whl.metadata (6.8 kB)\n",
            "Requirement already satisfied: typing-extensions>=3.7.4.3 in c:\\users\\kremn\\appdata\\local\\programs\\python\\python310\\lib\\site-packages (from huggingface-hub<1.0,>=0.19.3->transformers) (4.8.0)\n",
            "Requirement already satisfied: colorama in c:\\users\\kremn\\appdata\\local\\programs\\python\\python310\\lib\\site-packages (from tqdm>=4.27->transformers) (0.3.9)\n",
            "Requirement already satisfied: charset-normalizer<4,>=2 in c:\\users\\kremn\\appdata\\local\\programs\\python\\python310\\lib\\site-packages (from requests->transformers) (3.3.2)\n",
            "Requirement already satisfied: idna<4,>=2.5 in c:\\users\\kremn\\appdata\\local\\programs\\python\\python310\\lib\\site-packages (from requests->transformers) (3.4)\n",
            "Requirement already satisfied: urllib3<3,>=1.21.1 in c:\\users\\kremn\\appdata\\local\\programs\\python\\python310\\lib\\site-packages (from requests->transformers) (2.1.0)\n",
            "Requirement already satisfied: certifi>=2017.4.17 in c:\\users\\kremn\\appdata\\local\\programs\\python\\python310\\lib\\site-packages (from requests->transformers) (2023.11.17)\n",
            "Downloading transformers-4.36.2-py3-none-any.whl (8.2 MB)\n",
            "   ---------------------------------------- 0.0/8.2 MB ? eta -:--:--\n",
            "    --------------------------------------- 0.2/8.2 MB 3.1 MB/s eta 0:00:03\n",
            "   - -------------------------------------- 0.3/8.2 MB 2.3 MB/s eta 0:00:04\n",
            "   - -------------------------------------- 0.4/8.2 MB 2.0 MB/s eta 0:00:04\n",
            "   -- ------------------------------------- 0.4/8.2 MB 1.9 MB/s eta 0:00:05\n",
            "   --- ------------------------------------ 0.6/8.2 MB 2.3 MB/s eta 0:00:04\n",
            "   --- ------------------------------------ 0.8/8.2 MB 2.3 MB/s eta 0:00:04\n",
            "   ---- ----------------------------------- 0.9/8.2 MB 2.5 MB/s eta 0:00:03\n",
            "   ----- ---------------------------------- 1.1/8.2 MB 2.4 MB/s eta 0:00:03\n",
            "   ------ --------------------------------- 1.3/8.2 MB 2.5 MB/s eta 0:00:03\n",
            "   ------ --------------------------------- 1.4/8.2 MB 2.5 MB/s eta 0:00:03\n",
            "   ------- -------------------------------- 1.6/8.2 MB 2.6 MB/s eta 0:00:03\n",
            "   -------- ------------------------------- 1.7/8.2 MB 2.6 MB/s eta 0:00:03\n",
            "   --------- ------------------------------ 2.0/8.2 MB 2.8 MB/s eta 0:00:03\n",
            "   ---------- ----------------------------- 2.2/8.2 MB 2.8 MB/s eta 0:00:03\n",
            "   ----------- ---------------------------- 2.3/8.2 MB 2.9 MB/s eta 0:00:03\n",
            "   ------------ --------------------------- 2.5/8.2 MB 2.9 MB/s eta 0:00:02\n",
            "   ------------ --------------------------- 2.7/8.2 MB 2.9 MB/s eta 0:00:02\n",
            "   ------------- -------------------------- 2.8/8.2 MB 3.0 MB/s eta 0:00:02\n",
            "   --------------- ------------------------ 3.1/8.2 MB 3.1 MB/s eta 0:00:02\n",
            "   --------------- ------------------------ 3.3/8.2 MB 3.1 MB/s eta 0:00:02\n",
            "   ---------------- ----------------------- 3.4/8.2 MB 3.1 MB/s eta 0:00:02\n",
            "   ----------------- ---------------------- 3.6/8.2 MB 3.1 MB/s eta 0:00:02\n",
            "   ------------------ --------------------- 3.9/8.2 MB 3.2 MB/s eta 0:00:02\n",
            "   ------------------- -------------------- 4.1/8.2 MB 3.3 MB/s eta 0:00:02\n",
            "   --------------------- ------------------ 4.4/8.2 MB 3.3 MB/s eta 0:00:02\n",
            "   ---------------------- ----------------- 4.7/8.2 MB 3.4 MB/s eta 0:00:02\n",
            "   ----------------------- ---------------- 4.9/8.2 MB 3.5 MB/s eta 0:00:01\n",
            "   ------------------------ --------------- 5.1/8.2 MB 3.5 MB/s eta 0:00:01\n",
            "   -------------------------- ------------- 5.5/8.2 MB 3.6 MB/s eta 0:00:01\n",
            "   ---------------------------- ----------- 5.8/8.2 MB 3.6 MB/s eta 0:00:01\n",
            "   ----------------------------- ---------- 6.0/8.2 MB 3.7 MB/s eta 0:00:01\n",
            "   ------------------------------ --------- 6.3/8.2 MB 3.8 MB/s eta 0:00:01\n",
            "   ------------------------------- -------- 6.5/8.2 MB 3.7 MB/s eta 0:00:01\n",
            "   -------------------------------- ------- 6.8/8.2 MB 3.8 MB/s eta 0:00:01\n",
            "   --------------------------------- ------ 6.9/8.2 MB 3.8 MB/s eta 0:00:01\n",
            "   ----------------------------------- ---- 7.2/8.2 MB 3.8 MB/s eta 0:00:01\n",
            "   ----------------------------------- ---- 7.4/8.2 MB 3.9 MB/s eta 0:00:01\n",
            "   ------------------------------------ --- 7.6/8.2 MB 3.9 MB/s eta 0:00:01\n",
            "   -------------------------------------- - 7.9/8.2 MB 3.9 MB/s eta 0:00:01\n",
            "   ---------------------------------------  8.2/8.2 MB 3.9 MB/s eta 0:00:01\n",
            "   ---------------------------------------- 8.2/8.2 MB 3.9 MB/s eta 0:00:00\n",
            "Downloading huggingface_hub-0.20.1-py3-none-any.whl (330 kB)\n",
            "   ---------------------------------------- 0.0/330.1 kB ? eta -:--:--\n",
            "   --------------------------------------- 330.1/330.1 kB 10.3 MB/s eta 0:00:00\n",
            "Downloading safetensors-0.4.1-cp310-none-win_amd64.whl (277 kB)\n",
            "   ---------------------------------------- 0.0/277.3 kB ? eta -:--:--\n",
            "   ---------------------------------------- 277.3/277.3 kB ? eta 0:00:00\n",
            "Downloading tokenizers-0.15.0-cp310-none-win_amd64.whl (2.2 MB)\n",
            "   ---------------------------------------- 0.0/2.2 MB ? eta -:--:--\n",
            "   --------- ------------------------------ 0.5/2.2 MB 16.8 MB/s eta 0:00:01\n",
            "   --------------- ------------------------ 0.8/2.2 MB 10.6 MB/s eta 0:00:01\n",
            "   ----------------------- ---------------- 1.3/2.2 MB 8.3 MB/s eta 0:00:01\n",
            "   ---------------------------- ----------- 1.5/2.2 MB 7.6 MB/s eta 0:00:01\n",
            "   --------------------------------- ------ 1.8/2.2 MB 7.3 MB/s eta 0:00:01\n",
            "   ---------------------------------------  2.2/2.2 MB 7.3 MB/s eta 0:00:01\n",
            "   ---------------------------------------- 2.2/2.2 MB 6.7 MB/s eta 0:00:00\n",
            "Downloading filelock-3.13.1-py3-none-any.whl (11 kB)\n",
            "Downloading fsspec-2023.12.2-py3-none-any.whl (168 kB)\n",
            "   ---------------------------------------- 0.0/169.0 kB ? eta -:--:--\n",
            "   ---------------------------------------- 169.0/169.0 kB ? eta 0:00:00\n",
            "Installing collected packages: safetensors, fsspec, filelock, huggingface-hub, tokenizers, transformers\n",
            "Successfully installed filelock-3.13.1 fsspec-2023.12.2 huggingface-hub-0.20.1 safetensors-0.4.1 tokenizers-0.15.0 transformers-4.36.2\n"
          ]
        },
        {
          "name": "stderr",
          "output_type": "stream",
          "text": [
            "DEPRECATION: colab 1.13.5 has a non-standard dependency specifier pytz>=2011n. pip 24.0 will enforce this behaviour change. A possible replacement is to upgrade to a newer version of colab or contact the author to suggest that they release a version with a conforming dependency specifiers. Discussion can be found at https://github.com/pypa/pip/issues/12063\n"
          ]
        }
      ],
      "source": [
        "!pip install transformers"
      ],
      "metadata": {
        "ExecuteTime": {
          "end_time": "2024-01-04T11:06:19.284743200Z",
          "start_time": "2024-01-04T11:05:11.669529800Z"
        },
        "id": "5046c29ed7d06236",
        "outputId": "02f6f13e-71b4-4d4b-b925-fc4ed47a0386"
      },
      "id": "5046c29ed7d06236",
      "execution_count": null
    },
    {
      "cell_type": "code",
      "outputs": [],
      "source": [
        "import os\n",
        "import shutil\n",
        "import pandas as pd\n",
        "import tensorflow as tf\n",
        "import tensorflow_hub as hub\n",
        "import tensorflow_text as text\n",
        "from official.nlp import optimization\n",
        "import matplotlib.pyplot as plt\n",
        "import numpy as np\n",
        "from sklearn.model_selection import train_test_split\n",
        "from sklearn.metrics import accuracy_score, confusion_matrix, classification_report\n",
        "from sklearn.metrics import roc_auc_score"
      ],
      "metadata": {
        "id": "ff9d83e46e187379"
      },
      "id": "ff9d83e46e187379",
      "execution_count": null
    },
    {
      "cell_type": "code",
      "outputs": [],
      "source": [
        "%matplotlib inline"
      ],
      "metadata": {
        "id": "3d7bb98b7df74cec"
      },
      "id": "3d7bb98b7df74cec",
      "execution_count": null
    },
    {
      "cell_type": "code",
      "outputs": [],
      "source": [
        "reviews = pd.read_csv(\"amazon_cells_labelled.txt\", on_bad_lines='skip')"
      ],
      "metadata": {
        "id": "f5da9f6d38f00982"
      },
      "id": "f5da9f6d38f00982",
      "execution_count": null
    },
    {
      "cell_type": "code",
      "outputs": [
        {
          "output_type": "execute_result",
          "data": {
            "text/plain": [
              "                                                   So there is no way for me to plug it in here in the US unless I go by a converter.\\t0\n",
              "Good case                                                                         Excellent value.\\t1                                   \n",
              "Great for the jawbone.\\t1                                                                         NaN                                   \n",
              "Tied to charger for conversations lasting more ...                                                NaN                                   \n",
              "The mic is great.\\t1                                                                              NaN                                   \n",
              "I have to jiggle the plug to get it to line up ...                                                NaN                                   "
            ],
            "text/html": [
              "\n",
              "  <div id=\"df-ee32efa5-5d82-4ea2-a9a6-4265956604e6\" class=\"colab-df-container\">\n",
              "    <div>\n",
              "<style scoped>\n",
              "    .dataframe tbody tr th:only-of-type {\n",
              "        vertical-align: middle;\n",
              "    }\n",
              "\n",
              "    .dataframe tbody tr th {\n",
              "        vertical-align: top;\n",
              "    }\n",
              "\n",
              "    .dataframe thead th {\n",
              "        text-align: right;\n",
              "    }\n",
              "</style>\n",
              "<table border=\"1\" class=\"dataframe\">\n",
              "  <thead>\n",
              "    <tr style=\"text-align: right;\">\n",
              "      <th></th>\n",
              "      <th>So there is no way for me to plug it in here in the US unless I go by a converter.\\t0</th>\n",
              "    </tr>\n",
              "  </thead>\n",
              "  <tbody>\n",
              "    <tr>\n",
              "      <th>Good case</th>\n",
              "      <td>Excellent value.\\t1</td>\n",
              "    </tr>\n",
              "    <tr>\n",
              "      <th>Great for the jawbone.\\t1</th>\n",
              "      <td>NaN</td>\n",
              "    </tr>\n",
              "    <tr>\n",
              "      <th>Tied to charger for conversations lasting more than 45 minutes.MAJOR PROBLEMS!!\\t0</th>\n",
              "      <td>NaN</td>\n",
              "    </tr>\n",
              "    <tr>\n",
              "      <th>The mic is great.\\t1</th>\n",
              "      <td>NaN</td>\n",
              "    </tr>\n",
              "    <tr>\n",
              "      <th>I have to jiggle the plug to get it to line up right to get decent volume.\\t0</th>\n",
              "      <td>NaN</td>\n",
              "    </tr>\n",
              "  </tbody>\n",
              "</table>\n",
              "</div>\n",
              "    <div class=\"colab-df-buttons\">\n",
              "\n",
              "  <div class=\"colab-df-container\">\n",
              "    <button class=\"colab-df-convert\" onclick=\"convertToInteractive('df-ee32efa5-5d82-4ea2-a9a6-4265956604e6')\"\n",
              "            title=\"Convert this dataframe to an interactive table.\"\n",
              "            style=\"display:none;\">\n",
              "\n",
              "  <svg xmlns=\"http://www.w3.org/2000/svg\" height=\"24px\" viewBox=\"0 -960 960 960\">\n",
              "    <path d=\"M120-120v-720h720v720H120Zm60-500h600v-160H180v160Zm220 220h160v-160H400v160Zm0 220h160v-160H400v160ZM180-400h160v-160H180v160Zm440 0h160v-160H620v160ZM180-180h160v-160H180v160Zm440 0h160v-160H620v160Z\"/>\n",
              "  </svg>\n",
              "    </button>\n",
              "\n",
              "  <style>\n",
              "    .colab-df-container {\n",
              "      display:flex;\n",
              "      gap: 12px;\n",
              "    }\n",
              "\n",
              "    .colab-df-convert {\n",
              "      background-color: #E8F0FE;\n",
              "      border: none;\n",
              "      border-radius: 50%;\n",
              "      cursor: pointer;\n",
              "      display: none;\n",
              "      fill: #1967D2;\n",
              "      height: 32px;\n",
              "      padding: 0 0 0 0;\n",
              "      width: 32px;\n",
              "    }\n",
              "\n",
              "    .colab-df-convert:hover {\n",
              "      background-color: #E2EBFA;\n",
              "      box-shadow: 0px 1px 2px rgba(60, 64, 67, 0.3), 0px 1px 3px 1px rgba(60, 64, 67, 0.15);\n",
              "      fill: #174EA6;\n",
              "    }\n",
              "\n",
              "    .colab-df-buttons div {\n",
              "      margin-bottom: 4px;\n",
              "    }\n",
              "\n",
              "    [theme=dark] .colab-df-convert {\n",
              "      background-color: #3B4455;\n",
              "      fill: #D2E3FC;\n",
              "    }\n",
              "\n",
              "    [theme=dark] .colab-df-convert:hover {\n",
              "      background-color: #434B5C;\n",
              "      box-shadow: 0px 1px 3px 1px rgba(0, 0, 0, 0.15);\n",
              "      filter: drop-shadow(0px 1px 2px rgba(0, 0, 0, 0.3));\n",
              "      fill: #FFFFFF;\n",
              "    }\n",
              "  </style>\n",
              "\n",
              "    <script>\n",
              "      const buttonEl =\n",
              "        document.querySelector('#df-ee32efa5-5d82-4ea2-a9a6-4265956604e6 button.colab-df-convert');\n",
              "      buttonEl.style.display =\n",
              "        google.colab.kernel.accessAllowed ? 'block' : 'none';\n",
              "\n",
              "      async function convertToInteractive(key) {\n",
              "        const element = document.querySelector('#df-ee32efa5-5d82-4ea2-a9a6-4265956604e6');\n",
              "        const dataTable =\n",
              "          await google.colab.kernel.invokeFunction('convertToInteractive',\n",
              "                                                    [key], {});\n",
              "        if (!dataTable) return;\n",
              "\n",
              "        const docLinkHtml = 'Like what you see? Visit the ' +\n",
              "          '<a target=\"_blank\" href=https://colab.research.google.com/notebooks/data_table.ipynb>data table notebook</a>'\n",
              "          + ' to learn more about interactive tables.';\n",
              "        element.innerHTML = '';\n",
              "        dataTable['output_type'] = 'display_data';\n",
              "        await google.colab.output.renderOutput(dataTable, element);\n",
              "        const docLink = document.createElement('div');\n",
              "        docLink.innerHTML = docLinkHtml;\n",
              "        element.appendChild(docLink);\n",
              "      }\n",
              "    </script>\n",
              "  </div>\n",
              "\n",
              "\n",
              "<div id=\"df-fc22f0f0-4b46-44cb-9723-4eea0555ab47\">\n",
              "  <button class=\"colab-df-quickchart\" onclick=\"quickchart('df-fc22f0f0-4b46-44cb-9723-4eea0555ab47')\"\n",
              "            title=\"Suggest charts\"\n",
              "            style=\"display:none;\">\n",
              "\n",
              "<svg xmlns=\"http://www.w3.org/2000/svg\" height=\"24px\"viewBox=\"0 0 24 24\"\n",
              "     width=\"24px\">\n",
              "    <g>\n",
              "        <path d=\"M19 3H5c-1.1 0-2 .9-2 2v14c0 1.1.9 2 2 2h14c1.1 0 2-.9 2-2V5c0-1.1-.9-2-2-2zM9 17H7v-7h2v7zm4 0h-2V7h2v10zm4 0h-2v-4h2v4z\"/>\n",
              "    </g>\n",
              "</svg>\n",
              "  </button>\n",
              "\n",
              "<style>\n",
              "  .colab-df-quickchart {\n",
              "      --bg-color: #E8F0FE;\n",
              "      --fill-color: #1967D2;\n",
              "      --hover-bg-color: #E2EBFA;\n",
              "      --hover-fill-color: #174EA6;\n",
              "      --disabled-fill-color: #AAA;\n",
              "      --disabled-bg-color: #DDD;\n",
              "  }\n",
              "\n",
              "  [theme=dark] .colab-df-quickchart {\n",
              "      --bg-color: #3B4455;\n",
              "      --fill-color: #D2E3FC;\n",
              "      --hover-bg-color: #434B5C;\n",
              "      --hover-fill-color: #FFFFFF;\n",
              "      --disabled-bg-color: #3B4455;\n",
              "      --disabled-fill-color: #666;\n",
              "  }\n",
              "\n",
              "  .colab-df-quickchart {\n",
              "    background-color: var(--bg-color);\n",
              "    border: none;\n",
              "    border-radius: 50%;\n",
              "    cursor: pointer;\n",
              "    display: none;\n",
              "    fill: var(--fill-color);\n",
              "    height: 32px;\n",
              "    padding: 0;\n",
              "    width: 32px;\n",
              "  }\n",
              "\n",
              "  .colab-df-quickchart:hover {\n",
              "    background-color: var(--hover-bg-color);\n",
              "    box-shadow: 0 1px 2px rgba(60, 64, 67, 0.3), 0 1px 3px 1px rgba(60, 64, 67, 0.15);\n",
              "    fill: var(--button-hover-fill-color);\n",
              "  }\n",
              "\n",
              "  .colab-df-quickchart-complete:disabled,\n",
              "  .colab-df-quickchart-complete:disabled:hover {\n",
              "    background-color: var(--disabled-bg-color);\n",
              "    fill: var(--disabled-fill-color);\n",
              "    box-shadow: none;\n",
              "  }\n",
              "\n",
              "  .colab-df-spinner {\n",
              "    border: 2px solid var(--fill-color);\n",
              "    border-color: transparent;\n",
              "    border-bottom-color: var(--fill-color);\n",
              "    animation:\n",
              "      spin 1s steps(1) infinite;\n",
              "  }\n",
              "\n",
              "  @keyframes spin {\n",
              "    0% {\n",
              "      border-color: transparent;\n",
              "      border-bottom-color: var(--fill-color);\n",
              "      border-left-color: var(--fill-color);\n",
              "    }\n",
              "    20% {\n",
              "      border-color: transparent;\n",
              "      border-left-color: var(--fill-color);\n",
              "      border-top-color: var(--fill-color);\n",
              "    }\n",
              "    30% {\n",
              "      border-color: transparent;\n",
              "      border-left-color: var(--fill-color);\n",
              "      border-top-color: var(--fill-color);\n",
              "      border-right-color: var(--fill-color);\n",
              "    }\n",
              "    40% {\n",
              "      border-color: transparent;\n",
              "      border-right-color: var(--fill-color);\n",
              "      border-top-color: var(--fill-color);\n",
              "    }\n",
              "    60% {\n",
              "      border-color: transparent;\n",
              "      border-right-color: var(--fill-color);\n",
              "    }\n",
              "    80% {\n",
              "      border-color: transparent;\n",
              "      border-right-color: var(--fill-color);\n",
              "      border-bottom-color: var(--fill-color);\n",
              "    }\n",
              "    90% {\n",
              "      border-color: transparent;\n",
              "      border-bottom-color: var(--fill-color);\n",
              "    }\n",
              "  }\n",
              "</style>\n",
              "\n",
              "  <script>\n",
              "    async function quickchart(key) {\n",
              "      const quickchartButtonEl =\n",
              "        document.querySelector('#' + key + ' button');\n",
              "      quickchartButtonEl.disabled = true;  // To prevent multiple clicks.\n",
              "      quickchartButtonEl.classList.add('colab-df-spinner');\n",
              "      try {\n",
              "        const charts = await google.colab.kernel.invokeFunction(\n",
              "            'suggestCharts', [key], {});\n",
              "      } catch (error) {\n",
              "        console.error('Error during call to suggestCharts:', error);\n",
              "      }\n",
              "      quickchartButtonEl.classList.remove('colab-df-spinner');\n",
              "      quickchartButtonEl.classList.add('colab-df-quickchart-complete');\n",
              "    }\n",
              "    (() => {\n",
              "      let quickchartButtonEl =\n",
              "        document.querySelector('#df-fc22f0f0-4b46-44cb-9723-4eea0555ab47 button');\n",
              "      quickchartButtonEl.style.display =\n",
              "        google.colab.kernel.accessAllowed ? 'block' : 'none';\n",
              "    })();\n",
              "  </script>\n",
              "</div>\n",
              "    </div>\n",
              "  </div>\n"
            ]
          },
          "metadata": {},
          "execution_count": 448
        }
      ],
      "source": [
        "reviews.head(5)"
      ],
      "metadata": {
        "id": "9552191245bc021e",
        "outputId": "6a0e4fd3-864b-4816-9759-edb1288dee78"
      },
      "id": "9552191245bc021e",
      "execution_count": null
    },
    {
      "cell_type": "code",
      "outputs": [
        {
          "output_type": "execute_result",
          "data": {
            "text/plain": [
              "(946, 1)"
            ]
          },
          "metadata": {},
          "execution_count": 449
        }
      ],
      "source": [
        "reviews.shape"
      ],
      "metadata": {
        "id": "7e0a36316b7fe1a9",
        "outputId": "9ebedb1c-2128-402c-8726-fd9a966b59bf"
      },
      "id": "7e0a36316b7fe1a9",
      "execution_count": null
    },
    {
      "cell_type": "code",
      "outputs": [],
      "source": [
        "reviews = pd.read_csv(\"amazon_cells_labelled.txt\", sep='\\t', header=None, names=['Review', 'Score'])"
      ],
      "metadata": {
        "id": "38e2d3573908dfe8"
      },
      "id": "38e2d3573908dfe8",
      "execution_count": null
    },
    {
      "cell_type": "code",
      "outputs": [],
      "source": [
        "reviews = reviews.dropna().reset_index(drop=True)"
      ],
      "metadata": {
        "id": "4ec84145c1796153"
      },
      "id": "4ec84145c1796153",
      "execution_count": null
    },
    {
      "cell_type": "code",
      "outputs": [
        {
          "output_type": "execute_result",
          "data": {
            "text/plain": [
              "                                              Review  Score\n",
              "0  So there is no way for me to plug it in here i...      0\n",
              "1                        Good case, Excellent value.      1\n",
              "2                             Great for the jawbone.      1\n",
              "3  Tied to charger for conversations lasting more...      0\n",
              "4                                  The mic is great.      1\n",
              "5  I have to jiggle the plug to get it to line up...      0\n",
              "6  If you have several dozen or several hundred c...      0\n",
              "7        If you are Razr owner...you must have this!      1\n",
              "8                Needless to say, I wasted my money.      0\n",
              "9                   What a waste of money and time!.      0"
            ],
            "text/html": [
              "\n",
              "  <div id=\"df-55e70ef4-9044-4a28-9fd3-24bf942671b2\" class=\"colab-df-container\">\n",
              "    <div>\n",
              "<style scoped>\n",
              "    .dataframe tbody tr th:only-of-type {\n",
              "        vertical-align: middle;\n",
              "    }\n",
              "\n",
              "    .dataframe tbody tr th {\n",
              "        vertical-align: top;\n",
              "    }\n",
              "\n",
              "    .dataframe thead th {\n",
              "        text-align: right;\n",
              "    }\n",
              "</style>\n",
              "<table border=\"1\" class=\"dataframe\">\n",
              "  <thead>\n",
              "    <tr style=\"text-align: right;\">\n",
              "      <th></th>\n",
              "      <th>Review</th>\n",
              "      <th>Score</th>\n",
              "    </tr>\n",
              "  </thead>\n",
              "  <tbody>\n",
              "    <tr>\n",
              "      <th>0</th>\n",
              "      <td>So there is no way for me to plug it in here i...</td>\n",
              "      <td>0</td>\n",
              "    </tr>\n",
              "    <tr>\n",
              "      <th>1</th>\n",
              "      <td>Good case, Excellent value.</td>\n",
              "      <td>1</td>\n",
              "    </tr>\n",
              "    <tr>\n",
              "      <th>2</th>\n",
              "      <td>Great for the jawbone.</td>\n",
              "      <td>1</td>\n",
              "    </tr>\n",
              "    <tr>\n",
              "      <th>3</th>\n",
              "      <td>Tied to charger for conversations lasting more...</td>\n",
              "      <td>0</td>\n",
              "    </tr>\n",
              "    <tr>\n",
              "      <th>4</th>\n",
              "      <td>The mic is great.</td>\n",
              "      <td>1</td>\n",
              "    </tr>\n",
              "    <tr>\n",
              "      <th>5</th>\n",
              "      <td>I have to jiggle the plug to get it to line up...</td>\n",
              "      <td>0</td>\n",
              "    </tr>\n",
              "    <tr>\n",
              "      <th>6</th>\n",
              "      <td>If you have several dozen or several hundred c...</td>\n",
              "      <td>0</td>\n",
              "    </tr>\n",
              "    <tr>\n",
              "      <th>7</th>\n",
              "      <td>If you are Razr owner...you must have this!</td>\n",
              "      <td>1</td>\n",
              "    </tr>\n",
              "    <tr>\n",
              "      <th>8</th>\n",
              "      <td>Needless to say, I wasted my money.</td>\n",
              "      <td>0</td>\n",
              "    </tr>\n",
              "    <tr>\n",
              "      <th>9</th>\n",
              "      <td>What a waste of money and time!.</td>\n",
              "      <td>0</td>\n",
              "    </tr>\n",
              "  </tbody>\n",
              "</table>\n",
              "</div>\n",
              "    <div class=\"colab-df-buttons\">\n",
              "\n",
              "  <div class=\"colab-df-container\">\n",
              "    <button class=\"colab-df-convert\" onclick=\"convertToInteractive('df-55e70ef4-9044-4a28-9fd3-24bf942671b2')\"\n",
              "            title=\"Convert this dataframe to an interactive table.\"\n",
              "            style=\"display:none;\">\n",
              "\n",
              "  <svg xmlns=\"http://www.w3.org/2000/svg\" height=\"24px\" viewBox=\"0 -960 960 960\">\n",
              "    <path d=\"M120-120v-720h720v720H120Zm60-500h600v-160H180v160Zm220 220h160v-160H400v160Zm0 220h160v-160H400v160ZM180-400h160v-160H180v160Zm440 0h160v-160H620v160ZM180-180h160v-160H180v160Zm440 0h160v-160H620v160Z\"/>\n",
              "  </svg>\n",
              "    </button>\n",
              "\n",
              "  <style>\n",
              "    .colab-df-container {\n",
              "      display:flex;\n",
              "      gap: 12px;\n",
              "    }\n",
              "\n",
              "    .colab-df-convert {\n",
              "      background-color: #E8F0FE;\n",
              "      border: none;\n",
              "      border-radius: 50%;\n",
              "      cursor: pointer;\n",
              "      display: none;\n",
              "      fill: #1967D2;\n",
              "      height: 32px;\n",
              "      padding: 0 0 0 0;\n",
              "      width: 32px;\n",
              "    }\n",
              "\n",
              "    .colab-df-convert:hover {\n",
              "      background-color: #E2EBFA;\n",
              "      box-shadow: 0px 1px 2px rgba(60, 64, 67, 0.3), 0px 1px 3px 1px rgba(60, 64, 67, 0.15);\n",
              "      fill: #174EA6;\n",
              "    }\n",
              "\n",
              "    .colab-df-buttons div {\n",
              "      margin-bottom: 4px;\n",
              "    }\n",
              "\n",
              "    [theme=dark] .colab-df-convert {\n",
              "      background-color: #3B4455;\n",
              "      fill: #D2E3FC;\n",
              "    }\n",
              "\n",
              "    [theme=dark] .colab-df-convert:hover {\n",
              "      background-color: #434B5C;\n",
              "      box-shadow: 0px 1px 3px 1px rgba(0, 0, 0, 0.15);\n",
              "      filter: drop-shadow(0px 1px 2px rgba(0, 0, 0, 0.3));\n",
              "      fill: #FFFFFF;\n",
              "    }\n",
              "  </style>\n",
              "\n",
              "    <script>\n",
              "      const buttonEl =\n",
              "        document.querySelector('#df-55e70ef4-9044-4a28-9fd3-24bf942671b2 button.colab-df-convert');\n",
              "      buttonEl.style.display =\n",
              "        google.colab.kernel.accessAllowed ? 'block' : 'none';\n",
              "\n",
              "      async function convertToInteractive(key) {\n",
              "        const element = document.querySelector('#df-55e70ef4-9044-4a28-9fd3-24bf942671b2');\n",
              "        const dataTable =\n",
              "          await google.colab.kernel.invokeFunction('convertToInteractive',\n",
              "                                                    [key], {});\n",
              "        if (!dataTable) return;\n",
              "\n",
              "        const docLinkHtml = 'Like what you see? Visit the ' +\n",
              "          '<a target=\"_blank\" href=https://colab.research.google.com/notebooks/data_table.ipynb>data table notebook</a>'\n",
              "          + ' to learn more about interactive tables.';\n",
              "        element.innerHTML = '';\n",
              "        dataTable['output_type'] = 'display_data';\n",
              "        await google.colab.output.renderOutput(dataTable, element);\n",
              "        const docLink = document.createElement('div');\n",
              "        docLink.innerHTML = docLinkHtml;\n",
              "        element.appendChild(docLink);\n",
              "      }\n",
              "    </script>\n",
              "  </div>\n",
              "\n",
              "\n",
              "<div id=\"df-b59ad30d-6c71-448d-a637-7bc6bfe0e6c2\">\n",
              "  <button class=\"colab-df-quickchart\" onclick=\"quickchart('df-b59ad30d-6c71-448d-a637-7bc6bfe0e6c2')\"\n",
              "            title=\"Suggest charts\"\n",
              "            style=\"display:none;\">\n",
              "\n",
              "<svg xmlns=\"http://www.w3.org/2000/svg\" height=\"24px\"viewBox=\"0 0 24 24\"\n",
              "     width=\"24px\">\n",
              "    <g>\n",
              "        <path d=\"M19 3H5c-1.1 0-2 .9-2 2v14c0 1.1.9 2 2 2h14c1.1 0 2-.9 2-2V5c0-1.1-.9-2-2-2zM9 17H7v-7h2v7zm4 0h-2V7h2v10zm4 0h-2v-4h2v4z\"/>\n",
              "    </g>\n",
              "</svg>\n",
              "  </button>\n",
              "\n",
              "<style>\n",
              "  .colab-df-quickchart {\n",
              "      --bg-color: #E8F0FE;\n",
              "      --fill-color: #1967D2;\n",
              "      --hover-bg-color: #E2EBFA;\n",
              "      --hover-fill-color: #174EA6;\n",
              "      --disabled-fill-color: #AAA;\n",
              "      --disabled-bg-color: #DDD;\n",
              "  }\n",
              "\n",
              "  [theme=dark] .colab-df-quickchart {\n",
              "      --bg-color: #3B4455;\n",
              "      --fill-color: #D2E3FC;\n",
              "      --hover-bg-color: #434B5C;\n",
              "      --hover-fill-color: #FFFFFF;\n",
              "      --disabled-bg-color: #3B4455;\n",
              "      --disabled-fill-color: #666;\n",
              "  }\n",
              "\n",
              "  .colab-df-quickchart {\n",
              "    background-color: var(--bg-color);\n",
              "    border: none;\n",
              "    border-radius: 50%;\n",
              "    cursor: pointer;\n",
              "    display: none;\n",
              "    fill: var(--fill-color);\n",
              "    height: 32px;\n",
              "    padding: 0;\n",
              "    width: 32px;\n",
              "  }\n",
              "\n",
              "  .colab-df-quickchart:hover {\n",
              "    background-color: var(--hover-bg-color);\n",
              "    box-shadow: 0 1px 2px rgba(60, 64, 67, 0.3), 0 1px 3px 1px rgba(60, 64, 67, 0.15);\n",
              "    fill: var(--button-hover-fill-color);\n",
              "  }\n",
              "\n",
              "  .colab-df-quickchart-complete:disabled,\n",
              "  .colab-df-quickchart-complete:disabled:hover {\n",
              "    background-color: var(--disabled-bg-color);\n",
              "    fill: var(--disabled-fill-color);\n",
              "    box-shadow: none;\n",
              "  }\n",
              "\n",
              "  .colab-df-spinner {\n",
              "    border: 2px solid var(--fill-color);\n",
              "    border-color: transparent;\n",
              "    border-bottom-color: var(--fill-color);\n",
              "    animation:\n",
              "      spin 1s steps(1) infinite;\n",
              "  }\n",
              "\n",
              "  @keyframes spin {\n",
              "    0% {\n",
              "      border-color: transparent;\n",
              "      border-bottom-color: var(--fill-color);\n",
              "      border-left-color: var(--fill-color);\n",
              "    }\n",
              "    20% {\n",
              "      border-color: transparent;\n",
              "      border-left-color: var(--fill-color);\n",
              "      border-top-color: var(--fill-color);\n",
              "    }\n",
              "    30% {\n",
              "      border-color: transparent;\n",
              "      border-left-color: var(--fill-color);\n",
              "      border-top-color: var(--fill-color);\n",
              "      border-right-color: var(--fill-color);\n",
              "    }\n",
              "    40% {\n",
              "      border-color: transparent;\n",
              "      border-right-color: var(--fill-color);\n",
              "      border-top-color: var(--fill-color);\n",
              "    }\n",
              "    60% {\n",
              "      border-color: transparent;\n",
              "      border-right-color: var(--fill-color);\n",
              "    }\n",
              "    80% {\n",
              "      border-color: transparent;\n",
              "      border-right-color: var(--fill-color);\n",
              "      border-bottom-color: var(--fill-color);\n",
              "    }\n",
              "    90% {\n",
              "      border-color: transparent;\n",
              "      border-bottom-color: var(--fill-color);\n",
              "    }\n",
              "  }\n",
              "</style>\n",
              "\n",
              "  <script>\n",
              "    async function quickchart(key) {\n",
              "      const quickchartButtonEl =\n",
              "        document.querySelector('#' + key + ' button');\n",
              "      quickchartButtonEl.disabled = true;  // To prevent multiple clicks.\n",
              "      quickchartButtonEl.classList.add('colab-df-spinner');\n",
              "      try {\n",
              "        const charts = await google.colab.kernel.invokeFunction(\n",
              "            'suggestCharts', [key], {});\n",
              "      } catch (error) {\n",
              "        console.error('Error during call to suggestCharts:', error);\n",
              "      }\n",
              "      quickchartButtonEl.classList.remove('colab-df-spinner');\n",
              "      quickchartButtonEl.classList.add('colab-df-quickchart-complete');\n",
              "    }\n",
              "    (() => {\n",
              "      let quickchartButtonEl =\n",
              "        document.querySelector('#df-b59ad30d-6c71-448d-a637-7bc6bfe0e6c2 button');\n",
              "      quickchartButtonEl.style.display =\n",
              "        google.colab.kernel.accessAllowed ? 'block' : 'none';\n",
              "    })();\n",
              "  </script>\n",
              "</div>\n",
              "    </div>\n",
              "  </div>\n"
            ]
          },
          "metadata": {},
          "execution_count": 452
        }
      ],
      "source": [
        "reviews.head(10)"
      ],
      "metadata": {
        "id": "8813d5d28c2ff01",
        "outputId": "13133cb9-1106-4a57-f6c7-a23cbdc1fd60"
      },
      "id": "8813d5d28c2ff01",
      "execution_count": null
    },
    {
      "cell_type": "code",
      "outputs": [
        {
          "output_type": "execute_result",
          "data": {
            "text/plain": [
              "0    500\n",
              "1    500\n",
              "Name: Score, dtype: int64"
            ]
          },
          "metadata": {},
          "execution_count": 453
        }
      ],
      "source": [
        "reviews['Score'].value_counts()"
      ],
      "metadata": {
        "id": "5c9191e2b18ecf56",
        "outputId": "49a729a5-c877-4931-ccae-aee0352ffaa9"
      },
      "id": "5c9191e2b18ecf56",
      "execution_count": null
    },
    {
      "cell_type": "code",
      "outputs": [
        {
          "output_type": "execute_result",
          "data": {
            "text/plain": [
              "Review    object\n",
              "Score      int64\n",
              "dtype: object"
            ]
          },
          "metadata": {},
          "execution_count": 454
        }
      ],
      "source": [
        "reviews.dtypes"
      ],
      "metadata": {
        "id": "a04c175aaa849bff",
        "outputId": "a4c8028b-6d36-4556-d2ab-712096f2a048"
      },
      "id": "a04c175aaa849bff",
      "execution_count": null
    },
    {
      "cell_type": "code",
      "outputs": [],
      "source": [
        "reviews = reviews.astype({'Review':'string'})"
      ],
      "metadata": {
        "id": "a3bc6baad3672061"
      },
      "id": "a3bc6baad3672061",
      "execution_count": null
    },
    {
      "cell_type": "code",
      "outputs": [
        {
          "output_type": "execute_result",
          "data": {
            "text/plain": [
              "Review    string\n",
              "Score      int64\n",
              "dtype: object"
            ]
          },
          "metadata": {},
          "execution_count": 456
        }
      ],
      "source": [
        "reviews.dtypes"
      ],
      "metadata": {
        "id": "3913b085e8270fd1",
        "outputId": "6d11fee0-31f6-4db7-923a-3b94863b4d4d"
      },
      "id": "3913b085e8270fd1",
      "execution_count": null
    },
    {
      "cell_type": "code",
      "outputs": [
        {
          "output_type": "execute_result",
          "data": {
            "text/plain": [
              "(1000, 2)"
            ]
          },
          "metadata": {},
          "execution_count": 458
        }
      ],
      "source": [
        "reviews.shape"
      ],
      "metadata": {
        "id": "180131acb6401c47",
        "outputId": "a94db669-2df9-43f8-e6e6-0ee4512bf063"
      },
      "id": "180131acb6401c47",
      "execution_count": null
    },
    {
      "cell_type": "code",
      "outputs": [],
      "source": [
        "reviews = reviews.sample(frac=1, random_state=1)\n",
        "reviews.reset_index(drop=True, inplace=True)"
      ],
      "metadata": {
        "id": "17ee7bcf47899e0f"
      },
      "id": "17ee7bcf47899e0f",
      "execution_count": null
    },
    {
      "cell_type": "code",
      "outputs": [
        {
          "output_type": "execute_result",
          "data": {
            "text/plain": [
              "                                              Review  Score\n",
              "0  Treo and T-Mobile refused to replace it again ...      0\n",
              "1         It fits my ear well and is comfortable on.      1\n",
              "2  It works fine on my Motorola 325 cellphone, an...      1\n",
              "3  Oh and I forgot to also mention the weird colo...      0\n",
              "4               I am also very happy with the price.      1"
            ],
            "text/html": [
              "\n",
              "  <div id=\"df-9e0a9af2-0a3e-47ef-924f-6f7a79b2e1ed\" class=\"colab-df-container\">\n",
              "    <div>\n",
              "<style scoped>\n",
              "    .dataframe tbody tr th:only-of-type {\n",
              "        vertical-align: middle;\n",
              "    }\n",
              "\n",
              "    .dataframe tbody tr th {\n",
              "        vertical-align: top;\n",
              "    }\n",
              "\n",
              "    .dataframe thead th {\n",
              "        text-align: right;\n",
              "    }\n",
              "</style>\n",
              "<table border=\"1\" class=\"dataframe\">\n",
              "  <thead>\n",
              "    <tr style=\"text-align: right;\">\n",
              "      <th></th>\n",
              "      <th>Review</th>\n",
              "      <th>Score</th>\n",
              "    </tr>\n",
              "  </thead>\n",
              "  <tbody>\n",
              "    <tr>\n",
              "      <th>0</th>\n",
              "      <td>Treo and T-Mobile refused to replace it again ...</td>\n",
              "      <td>0</td>\n",
              "    </tr>\n",
              "    <tr>\n",
              "      <th>1</th>\n",
              "      <td>It fits my ear well and is comfortable on.</td>\n",
              "      <td>1</td>\n",
              "    </tr>\n",
              "    <tr>\n",
              "      <th>2</th>\n",
              "      <td>It works fine on my Motorola 325 cellphone, an...</td>\n",
              "      <td>1</td>\n",
              "    </tr>\n",
              "    <tr>\n",
              "      <th>3</th>\n",
              "      <td>Oh and I forgot to also mention the weird colo...</td>\n",
              "      <td>0</td>\n",
              "    </tr>\n",
              "    <tr>\n",
              "      <th>4</th>\n",
              "      <td>I am also very happy with the price.</td>\n",
              "      <td>1</td>\n",
              "    </tr>\n",
              "  </tbody>\n",
              "</table>\n",
              "</div>\n",
              "    <div class=\"colab-df-buttons\">\n",
              "\n",
              "  <div class=\"colab-df-container\">\n",
              "    <button class=\"colab-df-convert\" onclick=\"convertToInteractive('df-9e0a9af2-0a3e-47ef-924f-6f7a79b2e1ed')\"\n",
              "            title=\"Convert this dataframe to an interactive table.\"\n",
              "            style=\"display:none;\">\n",
              "\n",
              "  <svg xmlns=\"http://www.w3.org/2000/svg\" height=\"24px\" viewBox=\"0 -960 960 960\">\n",
              "    <path d=\"M120-120v-720h720v720H120Zm60-500h600v-160H180v160Zm220 220h160v-160H400v160Zm0 220h160v-160H400v160ZM180-400h160v-160H180v160Zm440 0h160v-160H620v160ZM180-180h160v-160H180v160Zm440 0h160v-160H620v160Z\"/>\n",
              "  </svg>\n",
              "    </button>\n",
              "\n",
              "  <style>\n",
              "    .colab-df-container {\n",
              "      display:flex;\n",
              "      gap: 12px;\n",
              "    }\n",
              "\n",
              "    .colab-df-convert {\n",
              "      background-color: #E8F0FE;\n",
              "      border: none;\n",
              "      border-radius: 50%;\n",
              "      cursor: pointer;\n",
              "      display: none;\n",
              "      fill: #1967D2;\n",
              "      height: 32px;\n",
              "      padding: 0 0 0 0;\n",
              "      width: 32px;\n",
              "    }\n",
              "\n",
              "    .colab-df-convert:hover {\n",
              "      background-color: #E2EBFA;\n",
              "      box-shadow: 0px 1px 2px rgba(60, 64, 67, 0.3), 0px 1px 3px 1px rgba(60, 64, 67, 0.15);\n",
              "      fill: #174EA6;\n",
              "    }\n",
              "\n",
              "    .colab-df-buttons div {\n",
              "      margin-bottom: 4px;\n",
              "    }\n",
              "\n",
              "    [theme=dark] .colab-df-convert {\n",
              "      background-color: #3B4455;\n",
              "      fill: #D2E3FC;\n",
              "    }\n",
              "\n",
              "    [theme=dark] .colab-df-convert:hover {\n",
              "      background-color: #434B5C;\n",
              "      box-shadow: 0px 1px 3px 1px rgba(0, 0, 0, 0.15);\n",
              "      filter: drop-shadow(0px 1px 2px rgba(0, 0, 0, 0.3));\n",
              "      fill: #FFFFFF;\n",
              "    }\n",
              "  </style>\n",
              "\n",
              "    <script>\n",
              "      const buttonEl =\n",
              "        document.querySelector('#df-9e0a9af2-0a3e-47ef-924f-6f7a79b2e1ed button.colab-df-convert');\n",
              "      buttonEl.style.display =\n",
              "        google.colab.kernel.accessAllowed ? 'block' : 'none';\n",
              "\n",
              "      async function convertToInteractive(key) {\n",
              "        const element = document.querySelector('#df-9e0a9af2-0a3e-47ef-924f-6f7a79b2e1ed');\n",
              "        const dataTable =\n",
              "          await google.colab.kernel.invokeFunction('convertToInteractive',\n",
              "                                                    [key], {});\n",
              "        if (!dataTable) return;\n",
              "\n",
              "        const docLinkHtml = 'Like what you see? Visit the ' +\n",
              "          '<a target=\"_blank\" href=https://colab.research.google.com/notebooks/data_table.ipynb>data table notebook</a>'\n",
              "          + ' to learn more about interactive tables.';\n",
              "        element.innerHTML = '';\n",
              "        dataTable['output_type'] = 'display_data';\n",
              "        await google.colab.output.renderOutput(dataTable, element);\n",
              "        const docLink = document.createElement('div');\n",
              "        docLink.innerHTML = docLinkHtml;\n",
              "        element.appendChild(docLink);\n",
              "      }\n",
              "    </script>\n",
              "  </div>\n",
              "\n",
              "\n",
              "<div id=\"df-0226b148-ac7d-4b01-ba69-8e9abb8feacf\">\n",
              "  <button class=\"colab-df-quickchart\" onclick=\"quickchart('df-0226b148-ac7d-4b01-ba69-8e9abb8feacf')\"\n",
              "            title=\"Suggest charts\"\n",
              "            style=\"display:none;\">\n",
              "\n",
              "<svg xmlns=\"http://www.w3.org/2000/svg\" height=\"24px\"viewBox=\"0 0 24 24\"\n",
              "     width=\"24px\">\n",
              "    <g>\n",
              "        <path d=\"M19 3H5c-1.1 0-2 .9-2 2v14c0 1.1.9 2 2 2h14c1.1 0 2-.9 2-2V5c0-1.1-.9-2-2-2zM9 17H7v-7h2v7zm4 0h-2V7h2v10zm4 0h-2v-4h2v4z\"/>\n",
              "    </g>\n",
              "</svg>\n",
              "  </button>\n",
              "\n",
              "<style>\n",
              "  .colab-df-quickchart {\n",
              "      --bg-color: #E8F0FE;\n",
              "      --fill-color: #1967D2;\n",
              "      --hover-bg-color: #E2EBFA;\n",
              "      --hover-fill-color: #174EA6;\n",
              "      --disabled-fill-color: #AAA;\n",
              "      --disabled-bg-color: #DDD;\n",
              "  }\n",
              "\n",
              "  [theme=dark] .colab-df-quickchart {\n",
              "      --bg-color: #3B4455;\n",
              "      --fill-color: #D2E3FC;\n",
              "      --hover-bg-color: #434B5C;\n",
              "      --hover-fill-color: #FFFFFF;\n",
              "      --disabled-bg-color: #3B4455;\n",
              "      --disabled-fill-color: #666;\n",
              "  }\n",
              "\n",
              "  .colab-df-quickchart {\n",
              "    background-color: var(--bg-color);\n",
              "    border: none;\n",
              "    border-radius: 50%;\n",
              "    cursor: pointer;\n",
              "    display: none;\n",
              "    fill: var(--fill-color);\n",
              "    height: 32px;\n",
              "    padding: 0;\n",
              "    width: 32px;\n",
              "  }\n",
              "\n",
              "  .colab-df-quickchart:hover {\n",
              "    background-color: var(--hover-bg-color);\n",
              "    box-shadow: 0 1px 2px rgba(60, 64, 67, 0.3), 0 1px 3px 1px rgba(60, 64, 67, 0.15);\n",
              "    fill: var(--button-hover-fill-color);\n",
              "  }\n",
              "\n",
              "  .colab-df-quickchart-complete:disabled,\n",
              "  .colab-df-quickchart-complete:disabled:hover {\n",
              "    background-color: var(--disabled-bg-color);\n",
              "    fill: var(--disabled-fill-color);\n",
              "    box-shadow: none;\n",
              "  }\n",
              "\n",
              "  .colab-df-spinner {\n",
              "    border: 2px solid var(--fill-color);\n",
              "    border-color: transparent;\n",
              "    border-bottom-color: var(--fill-color);\n",
              "    animation:\n",
              "      spin 1s steps(1) infinite;\n",
              "  }\n",
              "\n",
              "  @keyframes spin {\n",
              "    0% {\n",
              "      border-color: transparent;\n",
              "      border-bottom-color: var(--fill-color);\n",
              "      border-left-color: var(--fill-color);\n",
              "    }\n",
              "    20% {\n",
              "      border-color: transparent;\n",
              "      border-left-color: var(--fill-color);\n",
              "      border-top-color: var(--fill-color);\n",
              "    }\n",
              "    30% {\n",
              "      border-color: transparent;\n",
              "      border-left-color: var(--fill-color);\n",
              "      border-top-color: var(--fill-color);\n",
              "      border-right-color: var(--fill-color);\n",
              "    }\n",
              "    40% {\n",
              "      border-color: transparent;\n",
              "      border-right-color: var(--fill-color);\n",
              "      border-top-color: var(--fill-color);\n",
              "    }\n",
              "    60% {\n",
              "      border-color: transparent;\n",
              "      border-right-color: var(--fill-color);\n",
              "    }\n",
              "    80% {\n",
              "      border-color: transparent;\n",
              "      border-right-color: var(--fill-color);\n",
              "      border-bottom-color: var(--fill-color);\n",
              "    }\n",
              "    90% {\n",
              "      border-color: transparent;\n",
              "      border-bottom-color: var(--fill-color);\n",
              "    }\n",
              "  }\n",
              "</style>\n",
              "\n",
              "  <script>\n",
              "    async function quickchart(key) {\n",
              "      const quickchartButtonEl =\n",
              "        document.querySelector('#' + key + ' button');\n",
              "      quickchartButtonEl.disabled = true;  // To prevent multiple clicks.\n",
              "      quickchartButtonEl.classList.add('colab-df-spinner');\n",
              "      try {\n",
              "        const charts = await google.colab.kernel.invokeFunction(\n",
              "            'suggestCharts', [key], {});\n",
              "      } catch (error) {\n",
              "        console.error('Error during call to suggestCharts:', error);\n",
              "      }\n",
              "      quickchartButtonEl.classList.remove('colab-df-spinner');\n",
              "      quickchartButtonEl.classList.add('colab-df-quickchart-complete');\n",
              "    }\n",
              "    (() => {\n",
              "      let quickchartButtonEl =\n",
              "        document.querySelector('#df-0226b148-ac7d-4b01-ba69-8e9abb8feacf button');\n",
              "      quickchartButtonEl.style.display =\n",
              "        google.colab.kernel.accessAllowed ? 'block' : 'none';\n",
              "    })();\n",
              "  </script>\n",
              "</div>\n",
              "    </div>\n",
              "  </div>\n"
            ]
          },
          "metadata": {},
          "execution_count": 460
        }
      ],
      "source": [
        "reviews.head()"
      ],
      "metadata": {
        "id": "c0c6c11056d7ce19",
        "outputId": "438ab68f-3315-43c9-bc96-df5fa02eaf79"
      },
      "id": "c0c6c11056d7ce19",
      "execution_count": null
    },
    {
      "cell_type": "code",
      "outputs": [],
      "source": [
        "X, X_test, y, y_test = (train_test_split(reviews['Review'], reviews['Score'],\n",
        "                                                     stratify=reviews['Score'],\n",
        "                                                     test_size=0.2,\n",
        "                                                     train_size=0.8\n",
        "                                                     ))"
      ],
      "metadata": {
        "id": "4d2551602d234287"
      },
      "id": "4d2551602d234287",
      "execution_count": null
    },
    {
      "cell_type": "code",
      "outputs": [],
      "source": [
        "X_train, X_val, y_train, y_val = (train_test_split(X, y,\n",
        "                                                     stratify=y,\n",
        "                                                     test_size=0.25,\n",
        "                                                     train_size=0.75\n",
        "                                                     ))"
      ],
      "metadata": {
        "id": "a85758abaebedd35"
      },
      "id": "a85758abaebedd35",
      "execution_count": null
    },
    {
      "cell_type": "code",
      "outputs": [
        {
          "output_type": "stream",
          "name": "stdout",
          "text": [
            "BERT model selected           : https://tfhub.dev/tensorflow/small_bert/bert_en_uncased_L-4_H-512_A-8/1\n",
            "Preprocess model auto-selected: https://tfhub.dev/tensorflow/bert_en_uncased_preprocess/3\n"
          ]
        }
      ],
      "source": [
        "bert_model_name = 'small_bert/bert_en_uncased_L-4_H-512_A-8'\n",
        "\n",
        "map_name_to_handle = {\n",
        "    'small_bert/bert_en_uncased_L-4_H-512_A-8':\n",
        "        'https://tfhub.dev/tensorflow/small_bert/bert_en_uncased_L-4_H-512_A-8/1',\n",
        "}\n",
        "\n",
        "map_model_to_preprocess = {\n",
        "    'small_bert/bert_en_uncased_L-4_H-512_A-8':\n",
        "        'https://tfhub.dev/tensorflow/bert_en_uncased_preprocess/3',\n",
        "}\n",
        "\n",
        "tfhub_handle_encoder = map_name_to_handle[bert_model_name]\n",
        "tfhub_handle_preprocess = map_model_to_preprocess[bert_model_name]\n",
        "\n",
        "print(f'BERT model selected           : {tfhub_handle_encoder}')\n",
        "print(f'Preprocess model auto-selected: {tfhub_handle_preprocess}')"
      ],
      "metadata": {
        "id": "772f55fd6f24384e",
        "outputId": "069d02a0-e820-4366-8571-c300d5d39df3"
      },
      "id": "772f55fd6f24384e",
      "execution_count": null
    },
    {
      "cell_type": "code",
      "outputs": [],
      "source": [
        "bert_preprocess_model = hub.KerasLayer(tfhub_handle_preprocess)"
      ],
      "metadata": {
        "id": "3b018d73f43bcb04"
      },
      "id": "3b018d73f43bcb04",
      "execution_count": null
    },
    {
      "cell_type": "code",
      "outputs": [
        {
          "output_type": "execute_result",
          "data": {
            "text/plain": [
              "'Treo and T-Mobile refused to replace it again and forced me to buy another phone without any kind of upgrade discount.'"
            ],
            "application/vnd.google.colaboratory.intrinsic+json": {
              "type": "string"
            }
          },
          "metadata": {},
          "execution_count": 468
        }
      ],
      "source": [
        "reviews['Review'][0]"
      ],
      "metadata": {
        "id": "6350b76854f3a2f7",
        "outputId": "3ec1d021-caaf-42bb-f519-0267f6425c31"
      },
      "id": "6350b76854f3a2f7",
      "execution_count": null
    },
    {
      "cell_type": "code",
      "outputs": [
        {
          "output_type": "stream",
          "name": "stdout",
          "text": [
            "Keys       : ['input_mask', 'input_type_ids', 'input_word_ids']\n",
            "Shape      : (1, 128)\n",
            "Word Ids   : [  101  2023  2001  1037 21688  2792  1010  2028  1997  1996  2190  1997]\n",
            "Input Mask : [1 1 1 1 1 1 1 1 1 1 1 1]\n",
            "Type Ids   : [0 0 0 0 0 0 0 0 0 0 0 0]\n"
          ]
        }
      ],
      "source": [
        "text_test = [\"This was a superb episode, one of the best of both seasons. Down right horror for a change, with a story that is way way above the average MOH episodes, if there is such a thing. A man's wife is almost burned to death in a tragic car wreck, in which he was driving. His airbag worked, her's didn't. She is burned beyond recognition (great makeup btw), and not given much of a chance to live without a full skin graft. BUT, even in a coma, she keeps dying but brought back by modern technology, and when she does die for a few minutes, her ghost appears as a very vengeful spirit. Carnage of course ensues, and also some extremely gory killings, and also, some extremely sexy scenes. What more could you ask for, you might ask? Well, not much, because this baby has it all, and a very satirical ending, that should leave a smile on most viewers faces. I just loved Rob Schmidt's (Wrong Turn) direction too, he has a great knack for horror. Excellent episode, this is one I'm buying for sure.This was a superb episode, one of the best of both seasons.\"]\n",
        "text_preprocessed = bert_preprocess_model(text_test)\n",
        "\n",
        "print(f'Keys       : {list(text_preprocessed.keys())}')\n",
        "print(f'Shape      : {text_preprocessed[\"input_word_ids\"].shape}')\n",
        "print(f'Word Ids   : {text_preprocessed[\"input_word_ids\"][0, :12]}')\n",
        "print(f'Input Mask : {text_preprocessed[\"input_mask\"][0, :12]}')\n",
        "print(f'Type Ids   : {text_preprocessed[\"input_type_ids\"][0, :12]}')"
      ],
      "metadata": {
        "id": "588434f1649a866a",
        "outputId": "5a5b7043-2c9d-4f84-9145-9ab2cf5bea0b"
      },
      "id": "588434f1649a866a",
      "execution_count": null
    },
    {
      "cell_type": "code",
      "outputs": [],
      "source": [
        "bert_model = hub.KerasLayer(tfhub_handle_encoder)"
      ],
      "metadata": {
        "id": "83551bd95b85289d"
      },
      "id": "83551bd95b85289d",
      "execution_count": null
    },
    {
      "cell_type": "code",
      "outputs": [
        {
          "output_type": "stream",
          "name": "stdout",
          "text": [
            "Loaded BERT: https://tfhub.dev/tensorflow/small_bert/bert_en_uncased_L-4_H-512_A-8/1\n",
            "Pooled Outputs Shape:(1, 512)\n",
            "Pooled Outputs Values:[ 0.6901299   0.99756277 -0.3208749   0.03474531  0.6150474  -0.91803926\n",
            "  0.9794196  -0.854188   -0.5536     -0.99389905 -0.14277233 -0.9524568 ]\n",
            "Sequence Outputs Shape:(1, 128, 512)\n",
            "Sequence Outputs Values:[[-0.01881617 -0.19083801  0.3050598  ... -0.81572354 -0.2143654\n",
            "   0.4443283 ]\n",
            " [-0.51914114  0.05107703 -0.3387493  ...  1.2194269  -0.7392854\n",
            "   0.8853782 ]\n",
            " [-0.45957828  0.15729094 -0.89442855 ...  0.89337873 -0.33719978\n",
            "   0.58194757]\n",
            " ...\n",
            " [-0.5031906   0.23234262 -2.4240851  ... -1.0548139   0.775113\n",
            "  -0.36098665]\n",
            " [-1.4614178   0.20342398 -0.8485448  ... -0.09167142 -0.07505965\n",
            "  -0.01238689]\n",
            " [-1.6349399   0.33674505 -1.0467939  ...  0.22726572 -0.938206\n",
            "  -0.24242482]]\n"
          ]
        }
      ],
      "source": [
        "bert_results = bert_model(text_preprocessed)\n",
        "\n",
        "print(f'Loaded BERT: {tfhub_handle_encoder}')\n",
        "print(f'Pooled Outputs Shape:{bert_results[\"pooled_output\"].shape}')\n",
        "print(f'Pooled Outputs Values:{bert_results[\"pooled_output\"][0, :12]}')\n",
        "print(f'Sequence Outputs Shape:{bert_results[\"sequence_output\"].shape}')\n",
        "print(f'Sequence Outputs Values:{bert_results[\"sequence_output\"][0, :12]}')"
      ],
      "metadata": {
        "id": "c35a325c1be62423",
        "outputId": "541a7035-5a69-43fd-869e-96bb33f9c002"
      },
      "id": "c35a325c1be62423",
      "execution_count": null
    },
    {
      "cell_type": "code",
      "outputs": [],
      "source": [
        "def build_classifier_model():\n",
        "  text_input = tf.keras.layers.Input(shape=(), dtype=tf.string, name='text')\n",
        "  preprocessing_layer = hub.KerasLayer(tfhub_handle_preprocess, name='preprocessing')\n",
        "  encoder_inputs = preprocessing_layer(text_input)\n",
        "  encoder = hub.KerasLayer(tfhub_handle_encoder, trainable=True, name='BERT_encoder')\n",
        "  outputs = encoder(encoder_inputs)\n",
        "  net = outputs['pooled_output']\n",
        "  net = tf.keras.layers.Dropout(0.1)(net)\n",
        "  #net = tf.keras.layers.Dense(1, activation='sigmoid', name='classifier')(net)\n",
        "  net = tf.keras.layers.Dense(1, activation=None, name='classifier')(net)\n",
        "  return tf.keras.Model(text_input, net)"
      ],
      "metadata": {
        "id": "77947c2576a9eece"
      },
      "id": "77947c2576a9eece",
      "execution_count": null
    },
    {
      "cell_type": "code",
      "outputs": [],
      "source": [
        "classifier_model = build_classifier_model()"
      ],
      "metadata": {
        "id": "25884ca3f6b2eb8b"
      },
      "id": "25884ca3f6b2eb8b",
      "execution_count": null
    },
    {
      "cell_type": "code",
      "outputs": [
        {
          "output_type": "execute_result",
          "data": {
            "image/png": "[encoded data removed]",
            "text/plain": [
              "<IPython.core.display.Image object>"
            ]
          },
          "metadata": {},
          "execution_count": 474
        }
      ],
      "source": [
        "tf.keras.utils.plot_model(classifier_model)"
      ],
      "metadata": {
        "id": "63e21100a9f6c603",
        "outputId": "cdc27e4a-da25-442b-a66d-aa80bedca03d"
      },
      "id": "63e21100a9f6c603",
      "execution_count": null
    },
    {
      "cell_type": "code",
      "outputs": [],
      "source": [
        "epochs = 20\n",
        "steps_per_epoch = 1000\n",
        "num_train_steps = steps_per_epoch * epochs\n",
        "num_warmup_steps = int(0.1*num_train_steps)\n",
        "\n",
        "init_lr = 1e-4\n",
        "optimizer = optimization.create_optimizer(init_lr=init_lr,\n",
        "                                          num_train_steps=num_train_steps,\n",
        "                                          num_warmup_steps=num_warmup_steps,\n",
        "                                          optimizer_type='adamw')"
      ],
      "metadata": {
        "id": "9bbd97701b912108"
      },
      "id": "9bbd97701b912108",
      "execution_count": null
    },
    {
      "cell_type": "code",
      "outputs": [
        {
          "output_type": "stream",
          "name": "stdout",
          "text": [
            "Model: \"model_11\"\n",
            "__________________________________________________________________________________________________\n",
            " Layer (type)                Output Shape                 Param #   Connected to                  \n",
            "==================================================================================================\n",
            " text (InputLayer)           [(None,)]                    0         []                            \n",
            "                                                                                                  \n",
            " preprocessing (KerasLayer)  {'input_mask': (None, 128)   0         ['text[0][0]']                \n",
            "                             , 'input_type_ids': (None,                                           \n",
            "                              128),                                                               \n",
            "                              'input_word_ids': (None,                                            \n",
            "                             128)}                                                                \n",
            "                                                                                                  \n",
            " BERT_encoder (KerasLayer)   {'sequence_output': (None,   2876364   ['preprocessing[0][0]',       \n",
            "                              128, 512),                  9          'preprocessing[0][1]',       \n",
            "                              'default': (None, 512),                'preprocessing[0][2]']       \n",
            "                              'encoder_outputs': [(None                                           \n",
            "                             , 128, 512),                                                         \n",
            "                              (None, 128, 512),                                                   \n",
            "                              (None, 128, 512),                                                   \n",
            "                              (None, 128, 512)],                                                  \n",
            "                              'pooled_output': (None, 5                                           \n",
            "                             12)}                                                                 \n",
            "                                                                                                  \n",
            " dropout_11 (Dropout)        (None, 512)                  0         ['BERT_encoder[0][5]']        \n",
            "                                                                                                  \n",
            " classifier (Dense)          (None, 1)                    513       ['dropout_11[0][0]']          \n",
            "                                                                                                  \n",
            "==================================================================================================\n",
            "Total params: 28764162 (109.73 MB)\n",
            "Trainable params: 28764161 (109.73 MB)\n",
            "Non-trainable params: 1 (1.00 Byte)\n",
            "__________________________________________________________________________________________________\n"
          ]
        }
      ],
      "source": [
        "classifier_model.compile(optimizer,\n",
        "                     loss=tf.keras.losses.BinaryCrossentropy(from_logits=True),\n",
        "                     metrics=[tf.keras.metrics.BinaryAccuracy()])\n",
        "classifier_model.summary()"
      ],
      "metadata": {
        "id": "87f1262b8fc7718e",
        "outputId": "4b102ce5-1254-4e45-c3b7-92f011622c38"
      },
      "id": "87f1262b8fc7718e",
      "execution_count": null
    },
    {
      "cell_type": "code",
      "outputs": [
        {
          "output_type": "execute_result",
          "data": {
            "image/png": "[encoded data removed]",
            "text/plain": [
              "<IPython.core.display.Image object>"
            ]
          },
          "metadata": {},
          "execution_count": 481
        }
      ],
      "source": [
        "tf.keras.utils.plot_model(model=classifier_model,show_shapes=True,dpi=76)"
      ],
      "metadata": {
        "id": "9b403000de2f912b",
        "outputId": "be6435fc-4836-4dae-f197-cbb9a8bfec69"
      },
      "id": "9b403000de2f912b",
      "execution_count": null
    },
    {
      "cell_type": "code",
      "outputs": [
        {
          "output_type": "stream",
          "name": "stdout",
          "text": [
            "Training model with https://tfhub.dev/tensorflow/small_bert/bert_en_uncased_L-4_H-512_A-8/1\n",
            "Epoch 1/20\n",
            "19/19 [==============================] - 11s 265ms/step - loss: 0.7313 - binary_accuracy: 0.5000 - val_loss: 0.7210 - val_binary_accuracy: 0.5300\n",
            "Epoch 2/20\n",
            "19/19 [==============================] - 5s 271ms/step - loss: 0.7187 - binary_accuracy: 0.5000 - val_loss: 0.6999 - val_binary_accuracy: 0.5300\n",
            "Epoch 3/20\n",
            "19/19 [==============================] - 5s 241ms/step - loss: 0.7021 - binary_accuracy: 0.5333 - val_loss: 0.6706 - val_binary_accuracy: 0.5400\n",
            "Epoch 4/20\n",
            "19/19 [==============================] - 5s 244ms/step - loss: 0.6816 - binary_accuracy: 0.5583 - val_loss: 0.6316 - val_binary_accuracy: 0.5800\n",
            "Epoch 5/20\n",
            "19/19 [==============================] - 5s 267ms/step - loss: 0.6335 - binary_accuracy: 0.5933 - val_loss: 0.6038 - val_binary_accuracy: 0.5950\n",
            "Epoch 6/20\n",
            "19/19 [==============================] - 5s 243ms/step - loss: 0.6090 - binary_accuracy: 0.6283 - val_loss: 0.5661 - val_binary_accuracy: 0.6550\n",
            "Epoch 7/20\n",
            "19/19 [==============================] - 5s 254ms/step - loss: 0.5542 - binary_accuracy: 0.7033 - val_loss: 0.5333 - val_binary_accuracy: 0.6850\n",
            "Epoch 8/20\n",
            "19/19 [==============================] - 5s 257ms/step - loss: 0.5109 - binary_accuracy: 0.7650 - val_loss: 0.4790 - val_binary_accuracy: 0.7500\n",
            "Epoch 9/20\n",
            "19/19 [==============================] - 4s 238ms/step - loss: 0.4683 - binary_accuracy: 0.7917 - val_loss: 0.4368 - val_binary_accuracy: 0.7700\n",
            "Epoch 10/20\n",
            "19/19 [==============================] - 5s 269ms/step - loss: 0.3870 - binary_accuracy: 0.8367 - val_loss: 0.3915 - val_binary_accuracy: 0.8150\n",
            "Epoch 11/20\n",
            "19/19 [==============================] - 5s 241ms/step - loss: 0.3483 - binary_accuracy: 0.8533 - val_loss: 0.3511 - val_binary_accuracy: 0.8550\n",
            "Epoch 12/20\n",
            "19/19 [==============================] - 5s 241ms/step - loss: 0.2849 - binary_accuracy: 0.8833 - val_loss: 0.3254 - val_binary_accuracy: 0.8400\n",
            "Epoch 13/20\n",
            "19/19 [==============================] - 5s 268ms/step - loss: 0.2354 - binary_accuracy: 0.9083 - val_loss: 0.2943 - val_binary_accuracy: 0.8600\n",
            "Epoch 14/20\n",
            "19/19 [==============================] - 5s 239ms/step - loss: 0.1945 - binary_accuracy: 0.9267 - val_loss: 0.2791 - val_binary_accuracy: 0.8900\n",
            "Epoch 15/20\n",
            "19/19 [==============================] - 5s 240ms/step - loss: 0.1573 - binary_accuracy: 0.9467 - val_loss: 0.2714 - val_binary_accuracy: 0.8950\n",
            "Epoch 16/20\n",
            "19/19 [==============================] - 5s 264ms/step - loss: 0.1230 - binary_accuracy: 0.9583 - val_loss: 0.2638 - val_binary_accuracy: 0.8950\n",
            "Epoch 17/20\n",
            "19/19 [==============================] - 5s 240ms/step - loss: 0.1007 - binary_accuracy: 0.9717 - val_loss: 0.2994 - val_binary_accuracy: 0.8800\n",
            "Epoch 18/20\n",
            "19/19 [==============================] - 5s 260ms/step - loss: 0.0758 - binary_accuracy: 0.9767 - val_loss: 0.2693 - val_binary_accuracy: 0.8950\n",
            "Epoch 19/20\n",
            "19/19 [==============================] - 5s 254ms/step - loss: 0.0442 - binary_accuracy: 0.9850 - val_loss: 0.2909 - val_binary_accuracy: 0.8900\n",
            "Epoch 20/20\n",
            "19/19 [==============================] - 4s 237ms/step - loss: 0.0492 - binary_accuracy: 0.9817 - val_loss: 0.2861 - val_binary_accuracy: 0.8950\n"
          ]
        }
      ],
      "source": [
        "print(f'Training model with {tfhub_handle_encoder}')\n",
        "history = classifier_model.fit(X_train,\n",
        "                               y_train,\n",
        "                               validation_data=(X_val, y_val),\n",
        "                               epochs=epochs,\n",
        "                               #batch_size=128 #16, 32, 64\n",
        "                               )"
      ],
      "metadata": {
        "id": "951cfa69e68053e0",
        "outputId": "32147245-55bd-4da3-8e61-d3308c894f89"
      },
      "id": "951cfa69e68053e0",
      "execution_count": null
    },
    {
      "cell_type": "code",
      "outputs": [
        {
          "output_type": "stream",
          "name": "stdout",
          "text": [
            "dict_keys(['loss', 'binary_accuracy', 'val_loss', 'val_binary_accuracy'])\n"
          ]
        },
        {
          "output_type": "execute_result",
          "data": {
            "text/plain": [
              "<matplotlib.legend.Legend at 0x7aa11e9cc250>"
            ]
          },
          "metadata": {},
          "execution_count": 483
        },
        {
          "output_type": "display_data",
          "data": {
            "text/plain": [
              "<Figure size 1000x600 with 2 Axes>"
            ],
            "image/png": "[encoded data removed]"
          },
          "metadata": {}
        }
      ],
      "source": [
        "history_dict = history.history\n",
        "print(history_dict.keys())\n",
        "\n",
        "acc = history_dict['binary_accuracy']\n",
        "val_acc = history_dict['val_binary_accuracy']\n",
        "loss = history_dict['loss']\n",
        "val_loss = history_dict['val_loss']\n",
        "\n",
        "epochs = range(1, len(acc) + 1)\n",
        "fig = plt.figure(figsize=(10, 6))\n",
        "fig.tight_layout()\n",
        "\n",
        "plt.subplot(2, 1, 1)\n",
        "plt.plot(epochs, loss, 'r', label='Training loss')\n",
        "plt.plot(epochs, val_loss, 'b', label='Validation loss')\n",
        "plt.title('Training and validation loss')\n",
        "plt.ylabel('Loss')\n",
        "plt.legend()\n",
        "\n",
        "plt.subplot(2, 1, 2)\n",
        "plt.plot(epochs, acc, 'r', label='Training acc')\n",
        "plt.plot(epochs, val_acc, 'b', label='Validation acc')\n",
        "plt.title('Training and validation accuracy')\n",
        "plt.xlabel('Epochs')\n",
        "plt.ylabel('Accuracy')\n",
        "plt.legend(loc='lower right')"
      ],
      "metadata": {
        "id": "cf3f63d595d9be4b",
        "outputId": "888402f3-6366-4e1d-c43f-b0e02950428c"
      },
      "id": "cf3f63d595d9be4b",
      "execution_count": null
    },
    {
      "cell_type": "code",
      "outputs": [
        {
          "output_type": "stream",
          "name": "stdout",
          "text": [
            "7/7 [==============================] - 1s 86ms/step - loss: 0.2568 - binary_accuracy: 0.9200\n",
            "Loss: 0.25677284598350525\n",
            "Accuracy: 0.9200000166893005\n"
          ]
        }
      ],
      "source": [
        "loss, accuracy = classifier_model.evaluate(X_test, y_test)\n",
        "\n",
        "print(f'Loss: {loss}')\n",
        "print(f'Accuracy: {accuracy}')"
      ],
      "metadata": {
        "id": "60098a28a8828494",
        "outputId": "0b894bb7-9b2a-42c9-9619-71f525b8deee"
      },
      "id": "60098a28a8828494",
      "execution_count": null
    },
    {
      "cell_type": "code",
      "outputs": [
        {
          "output_type": "stream",
          "name": "stdout",
          "text": [
            "7/7 [==============================] - 1s 99ms/step\n",
            "[ 6.2812490e+00 -6.4123597e+00 -6.7229509e+00  2.0659108e+00\n",
            "  3.9561610e+00 -7.0309706e+00 -5.8090329e+00  6.7697744e+00\n",
            " -7.0685568e+00  6.8343115e+00 -6.0680270e+00 -1.7254189e-01\n",
            " -6.7898927e+00 -3.1535478e+00 -4.9729495e+00 -6.6621761e+00\n",
            "  5.8654523e+00  4.8654885e+00  6.3531160e+00  6.7679424e+00\n",
            " -6.8106151e+00  2.6688094e+00 -4.1904569e+00 -6.7896285e+00\n",
            " -5.8768129e+00 -1.0418377e+00 -6.0670571e+00  5.3738647e+00\n",
            "  6.1259246e+00 -5.9582109e+00 -5.5256777e+00 -5.5347786e+00\n",
            "  5.8225484e+00  5.2268767e+00  6.4693580e+00  5.9089828e+00\n",
            " -5.2393341e+00  5.5616398e+00 -3.5705171e+00  5.8513629e-01\n",
            " -6.7857423e+00 -3.7620199e+00  6.9467907e+00 -6.8136721e+00\n",
            " -4.7361422e+00  2.8863042e-03  6.3035884e+00  3.0804296e+00\n",
            " -6.8988843e+00  2.1935287e+00  4.6131940e+00 -4.1599188e+00\n",
            "  6.5851703e+00  1.9891341e+00  4.7100611e+00 -6.7202463e+00\n",
            " -5.4408197e+00 -5.5691381e+00 -4.8418293e+00 -7.6621425e-01\n",
            "  5.2635083e+00  2.0469232e+00 -7.4978533e+00  3.3145823e+00\n",
            "  7.1786180e+00 -7.3061442e+00 -6.4462180e+00 -3.6721399e+00\n",
            "  6.3455362e+00 -4.3033857e+00 -4.5794187e+00  6.7978196e+00\n",
            "  7.2137952e+00  6.7234211e+00  5.1918163e+00  6.1986556e+00\n",
            "  6.8113794e+00 -1.6040996e+00 -6.6475992e+00 -3.4569695e+00\n",
            "  6.3799458e+00 -6.3117032e+00 -7.2420230e+00 -3.9429998e+00\n",
            "  6.2808270e+00 -4.1518593e+00 -6.7354493e+00  7.1800370e+00\n",
            "  7.0470948e+00  6.6796951e+00 -6.6873369e+00  4.6129537e+00\n",
            " -7.0181947e+00  5.1851587e+00  6.2448978e+00  2.2670178e+00\n",
            "  5.9614820e+00  6.7843933e+00 -5.4324026e+00  6.2602224e+00\n",
            " -6.8937764e+00 -4.7857294e+00 -2.0896764e+00 -6.8108473e+00\n",
            " -6.1195035e+00 -6.3305264e+00  2.1210876e-01 -5.6772752e+00\n",
            " -5.9250278e+00  5.7689624e+00  4.6754012e-01  6.1192069e+00\n",
            "  4.1933713e+00  5.4029484e+00 -6.9512510e+00 -5.2009158e+00\n",
            " -7.1714611e+00 -6.9261341e+00  2.0614016e-01 -4.8973498e+00\n",
            " -6.0386257e+00  6.9739499e+00  6.5536103e+00  6.9938812e+00\n",
            " -3.1482480e+00 -7.3222384e+00  5.3383036e+00 -3.7156425e+00\n",
            "  6.7055554e+00 -6.1346588e+00 -2.6579289e+00 -1.7933137e+00\n",
            "  3.1262262e+00 -7.0597806e+00  6.6018624e+00  5.3856502e+00\n",
            "  6.0709004e+00 -5.5627441e+00 -3.7829349e+00 -7.1326637e+00\n",
            " -7.1599774e+00  5.8816919e+00 -4.9721236e+00 -6.5297794e+00\n",
            "  5.7110858e+00 -4.5898789e-01  6.3608418e+00  6.3435006e+00\n",
            "  4.7594886e+00 -6.4853811e+00  3.8489141e+00  6.8482671e+00\n",
            "  6.8837333e+00 -6.6697884e+00  6.7770252e+00 -6.1996832e+00\n",
            "  6.4825115e+00  5.1933446e+00  6.6265059e+00  6.9348779e+00\n",
            "  5.2492957e+00 -6.7097349e+00  2.6708369e+00 -6.0622392e+00\n",
            " -2.4610984e+00 -4.8794756e+00  5.9928780e+00  2.7522397e+00\n",
            "  3.5070252e+00 -3.5599296e+00  6.0360003e+00 -6.8670387e+00\n",
            " -1.7350570e+00  4.2461872e+00 -4.5575709e+00 -6.9617944e+00\n",
            "  4.3350239e+00  5.9834528e+00  5.0219550e+00  6.8544941e+00\n",
            " -6.8259954e+00 -6.3229012e+00 -7.0833793e+00  6.5367718e+00\n",
            "  5.5401907e+00  5.4037495e+00  2.9760590e+00  6.9969649e+00\n",
            " -7.1046853e+00  6.2720399e+00 -3.1132966e-01 -5.7858701e+00\n",
            "  4.6920953e+00 -1.7946370e+00 -1.9569037e+00  3.6404805e+00\n",
            "  6.8256283e+00  6.7796545e+00 -4.7885070e+00 -7.1225386e+00]\n"
          ]
        }
      ],
      "source": [
        "y_pred=classifier_model.predict(X_test)\n",
        "print(y_pred.flatten())"
      ],
      "metadata": {
        "id": "82d5ac26b2142200",
        "outputId": "21b7b958-9600-48f5-e448-ce91b5aaa88a"
      },
      "id": "82d5ac26b2142200",
      "execution_count": null
    },
    {
      "cell_type": "code",
      "outputs": [
        {
          "output_type": "stream",
          "name": "stdout",
          "text": [
            "[1. 0. 0. 1. 1. 0. 0. 1. 0. 1. 0. 0. 0. 0. 0. 0. 1. 1. 1. 1. 0. 1. 0. 0.\n",
            " 0. 0. 0. 1. 1. 0. 0. 0. 1. 1. 1. 1. 0. 1. 0. 1. 0. 0. 1. 0. 0. 0. 1. 1.\n",
            " 0. 1. 1. 0. 1. 1. 1. 0. 0. 0. 0. 0. 1. 1. 0. 1. 1. 0. 0. 0. 1. 0. 0. 1.\n",
            " 1. 1. 1. 1. 1. 0. 0. 0. 1. 0. 0. 0. 1. 0. 0. 1. 1. 1. 0. 1. 0. 1. 1. 1.\n",
            " 1. 1. 0. 1. 0. 0. 0. 0. 0. 0. 0. 0. 0. 1. 0. 1. 1. 1. 0. 0. 0. 0. 0. 0.\n",
            " 0. 1. 1. 1. 0. 0. 1. 0. 1. 0. 0. 0. 1. 0. 1. 1. 1. 0. 0. 0. 0. 1. 0. 0.\n",
            " 1. 0. 1. 1. 1. 0. 1. 1. 1. 0. 1. 0. 1. 1. 1. 1. 1. 0. 1. 0. 0. 0. 1. 1.\n",
            " 1. 0. 1. 0. 0. 1. 0. 0. 1. 1. 1. 1. 0. 0. 0. 1. 1. 1. 1. 1. 0. 1. 0. 0.\n",
            " 1. 0. 0. 1. 1. 1. 0. 0.]\n"
          ]
        }
      ],
      "source": [
        "for i in range(len(y_pred)):\n",
        "  if y_pred[i]<0.5:\n",
        "    y_pred[i] = 0\n",
        "  else: y_pred[i] = 1\n",
        "print(y_pred.flatten())"
      ],
      "metadata": {
        "id": "5fe079572d3b1e19",
        "outputId": "dea60d2f-8f3a-48e0-9395-7b333b8a5b92"
      },
      "id": "5fe079572d3b1e19",
      "execution_count": null
    },
    {
      "cell_type": "code",
      "outputs": [
        {
          "output_type": "stream",
          "name": "stdout",
          "text": [
            "[[94  6]\n",
            " [10 90]] \n",
            "\n",
            "              precision    recall  f1-score   support\n",
            "\n",
            "           0       0.90      0.94      0.92       100\n",
            "           1       0.94      0.90      0.92       100\n",
            "\n",
            "    accuracy                           0.92       200\n",
            "   macro avg       0.92      0.92      0.92       200\n",
            "weighted avg       0.92      0.92      0.92       200\n",
            "\n",
            "Accuracy: 0.92\n",
            "AUC: 0.9199999999999999\n"
          ]
        }
      ],
      "source": [
        "print(confusion_matrix(y_test, y_pred), '\\n')\n",
        "print(classification_report(y_test, y_pred))\n",
        "print(\"Accuracy:\", accuracy_score(y_test, y_pred))\n",
        "print(\"AUC:\", roc_auc_score(y_test, y_pred))"
      ],
      "metadata": {
        "id": "2bd0635475030545",
        "outputId": "4620c930-0d64-4d30-d726-46d5314e91aa"
      },
      "id": "2bd0635475030545",
      "execution_count": null
    },
    {
      "cell_type": "markdown",
      "source": [
        "Metric\t\t\t                RF\t        GB\t        LR\t        DT\t    Bert\n",
        "Accuracy\t        \t\t0.786667\t0.783333\t0.79\t    0.796667\t0.92\n",
        "Precision\t(Class 0)\t\t0.772727\t0.734463\t0.767296\t0.763636\t0.9\n",
        "Precision\t(Class 1)\t\t0.80137\t    0.853659\t0.815603\t0.837037\t0.94\n",
        "Recall\t    (Class 0)\t\t0.804054\t0.878378\t0.824324\t0.851351\t0.94\n",
        "Recall\t    (Class 1)\t\t0.769737\t0.690789\t0.756579\t0.743421\t0.9\n",
        "F1-Score\t(Class 0)\t\t0.788079\t0.8\t        0.794788\t0.805112\t0.92\n",
        "F1-Score\t(Class 1)\t\t0.785235\t0.763636\t0.784983\t0.787456\t0.92\n",
        "ROC AUC\t\t\t            0.786895\t0.784584\t0.790452\t0.797386\t0.92\n"
      ],
      "metadata": {
        "collapsed": false,
        "id": "7dc32f8783cb29da"
      },
      "id": "7dc32f8783cb29da"
    },
    {
      "cell_type": "code",
      "outputs": [],
      "source": [
        "##################################################################\n",
        "####                 Topic Detection                 ############"
      ],
      "metadata": {
        "id": "57e1fed9cb147194"
      },
      "id": "57e1fed9cb147194",
      "execution_count": null
    },
    {
      "cell_type": "code",
      "outputs": [
        {
          "name": "stdout",
          "output_type": "stream",
          "text": [
            "Requirement already satisfied: pyldavis in d:\\sasha - user\\portsmouth university\\study\\modles\\intelligent data and text analytics\\id and ta coursework 2\\pythonproject\\new python\\lib\\site-packages (3.4.1)\n",
            "Requirement already satisfied: numpy>=1.24.2 in d:\\sasha - user\\portsmouth university\\study\\modles\\intelligent data and text analytics\\id and ta coursework 2\\pythonproject\\new python\\lib\\site-packages (from pyldavis) (1.26.3)\n",
            "Requirement already satisfied: scipy in d:\\sasha - user\\portsmouth university\\study\\modles\\intelligent data and text analytics\\id and ta coursework 2\\pythonproject\\new python\\lib\\site-packages (from pyldavis) (1.11.4)\n",
            "Requirement already satisfied: pandas>=2.0.0 in d:\\sasha - user\\portsmouth university\\study\\modles\\intelligent data and text analytics\\id and ta coursework 2\\pythonproject\\new python\\lib\\site-packages (from pyldavis) (2.1.4)\n",
            "Requirement already satisfied: joblib>=1.2.0 in d:\\sasha - user\\portsmouth university\\study\\modles\\intelligent data and text analytics\\id and ta coursework 2\\pythonproject\\new python\\lib\\site-packages (from pyldavis) (1.3.2)\n",
            "Requirement already satisfied: jinja2 in d:\\sasha - user\\portsmouth university\\study\\modles\\intelligent data and text analytics\\id and ta coursework 2\\pythonproject\\new python\\lib\\site-packages (from pyldavis) (3.1.2)\n",
            "Requirement already satisfied: numexpr in d:\\sasha - user\\portsmouth university\\study\\modles\\intelligent data and text analytics\\id and ta coursework 2\\pythonproject\\new python\\lib\\site-packages (from pyldavis) (2.8.8)\n",
            "Requirement already satisfied: funcy in d:\\sasha - user\\portsmouth university\\study\\modles\\intelligent data and text analytics\\id and ta coursework 2\\pythonproject\\new python\\lib\\site-packages (from pyldavis) (2.0)\n",
            "Requirement already satisfied: scikit-learn>=1.0.0 in d:\\sasha - user\\portsmouth university\\study\\modles\\intelligent data and text analytics\\id and ta coursework 2\\pythonproject\\new python\\lib\\site-packages (from pyldavis) (1.3.2)\n",
            "Requirement already satisfied: gensim in d:\\sasha - user\\portsmouth university\\study\\modles\\intelligent data and text analytics\\id and ta coursework 2\\pythonproject\\new python\\lib\\site-packages (from pyldavis) (4.3.2)\n",
            "Requirement already satisfied: setuptools in d:\\sasha - user\\portsmouth university\\study\\modles\\intelligent data and text analytics\\id and ta coursework 2\\pythonproject\\new python\\lib\\site-packages (from pyldavis) (68.2.0)\n",
            "Requirement already satisfied: python-dateutil>=2.8.2 in d:\\sasha - user\\portsmouth university\\study\\modles\\intelligent data and text analytics\\id and ta coursework 2\\pythonproject\\new python\\lib\\site-packages (from pandas>=2.0.0->pyldavis) (2.8.2)\n",
            "Requirement already satisfied: pytz>=2020.1 in d:\\sasha - user\\portsmouth university\\study\\modles\\intelligent data and text analytics\\id and ta coursework 2\\pythonproject\\new python\\lib\\site-packages (from pandas>=2.0.0->pyldavis) (2023.3.post1)\n",
            "Requirement already satisfied: tzdata>=2022.1 in d:\\sasha - user\\portsmouth university\\study\\modles\\intelligent data and text analytics\\id and ta coursework 2\\pythonproject\\new python\\lib\\site-packages (from pandas>=2.0.0->pyldavis) (2023.4)\n",
            "Requirement already satisfied: threadpoolctl>=2.0.0 in d:\\sasha - user\\portsmouth university\\study\\modles\\intelligent data and text analytics\\id and ta coursework 2\\pythonproject\\new python\\lib\\site-packages (from scikit-learn>=1.0.0->pyldavis) (3.2.0)\n",
            "Requirement already satisfied: smart-open>=1.8.1 in d:\\sasha - user\\portsmouth university\\study\\modles\\intelligent data and text analytics\\id and ta coursework 2\\pythonproject\\new python\\lib\\site-packages (from gensim->pyldavis) (6.4.0)\n",
            "Requirement already satisfied: MarkupSafe>=2.0 in d:\\sasha - user\\portsmouth university\\study\\modles\\intelligent data and text analytics\\id and ta coursework 2\\pythonproject\\new python\\lib\\site-packages (from jinja2->pyldavis) (2.1.3)\n",
            "Requirement already satisfied: six>=1.5 in d:\\sasha - user\\portsmouth university\\study\\modles\\intelligent data and text analytics\\id and ta coursework 2\\pythonproject\\new python\\lib\\site-packages (from python-dateutil>=2.8.2->pandas>=2.0.0->pyldavis) (1.16.0)\n"
          ]
        }
      ],
      "source": [
        "!pip install pyldavis"
      ],
      "metadata": {
        "ExecuteTime": {
          "end_time": "2024-01-05T16:24:16.787157900Z",
          "start_time": "2024-01-05T16:24:14.939993800Z"
        },
        "id": "7be56c7b0374ad0d",
        "outputId": "bf33cc6e-3511-4a71-ffd2-662331a737f6"
      },
      "id": "7be56c7b0374ad0d",
      "execution_count": null
    },
    {
      "cell_type": "code",
      "outputs": [],
      "source": [
        "import numpy as np\n",
        "import pandas as pd\n",
        "from pprint import pprint\n",
        "import nltk\n",
        "import string\n",
        "\n",
        "from nltk.corpus import stopwords\n",
        "from sklearn.feature_extraction.text import TfidfVectorizer\n",
        "\n",
        "import gensim\n",
        "from gensim.utils import simple_preprocess\n",
        "import gensim.corpora as corpora\n",
        "\n",
        "import string\n",
        "from nltk.corpus import stopwords\n",
        "from textblob import TextBlob\n",
        "import unidecode\n",
        "import nltk\n",
        "from nltk.stem import WordNetLemmatizer\n",
        "from nltk.corpus import wordnet\n",
        "\n",
        "import pyLDAvis.gensim_models\n",
        "import pyLDAvis\n",
        "\n",
        "# nltk.download('stopwords')\n",
        "# nltk.download('averaged_perceptron_tagger')\n",
        "# nltk.download('wordnet')"
      ],
      "metadata": {
        "ExecuteTime": {
          "end_time": "2024-01-06T01:06:14.743916400Z",
          "start_time": "2024-01-06T01:06:13.208774200Z"
        },
        "id": "deb07636df05e4e6"
      },
      "id": "deb07636df05e4e6",
      "execution_count": null
    },
    {
      "cell_type": "code",
      "outputs": [],
      "source": [
        "%matplotlib inline"
      ],
      "metadata": {
        "ExecuteTime": {
          "end_time": "2024-01-06T01:06:15.152924100Z",
          "start_time": "2024-01-06T01:06:14.746915Z"
        },
        "id": "b7386b21865facde"
      },
      "id": "b7386b21865facde",
      "execution_count": null
    },
    {
      "cell_type": "code",
      "outputs": [],
      "source": [
        "reviews = pd.read_csv(\"amazon_cells_labelled.txt\", on_bad_lines='skip')"
      ],
      "metadata": {
        "ExecuteTime": {
          "end_time": "2024-01-06T01:06:15.178924700Z",
          "start_time": "2024-01-06T01:06:15.156924200Z"
        },
        "id": "1b9bce3de58b9591"
      },
      "id": "1b9bce3de58b9591",
      "execution_count": null
    },
    {
      "cell_type": "code",
      "outputs": [
        {
          "data": {
            "text/plain": "                                                   So there is no way for me to plug it in here in the US unless I go by a converter.\\t0\nGood case                                                                         Excellent value.\\t1                                   \nGreat for the jawbone.\\t1                                                                         NaN                                   \nTied to charger for conversations lasting more ...                                                NaN                                   \nThe mic is great.\\t1                                                                              NaN                                   \nI have to jiggle the plug to get it to line up ...                                                NaN                                   ",
            "text/html": "<div>\n<style scoped>\n    .dataframe tbody tr th:only-of-type {\n        vertical-align: middle;\n    }\n\n    .dataframe tbody tr th {\n        vertical-align: top;\n    }\n\n    .dataframe thead th {\n        text-align: right;\n    }\n</style>\n<table border=\"1\" class=\"dataframe\">\n  <thead>\n    <tr style=\"text-align: right;\">\n      <th></th>\n      <th>So there is no way for me to plug it in here in the US unless I go by a converter.\\t0</th>\n    </tr>\n  </thead>\n  <tbody>\n    <tr>\n      <th>Good case</th>\n      <td>Excellent value.\\t1</td>\n    </tr>\n    <tr>\n      <th>Great for the jawbone.\\t1</th>\n      <td>NaN</td>\n    </tr>\n    <tr>\n      <th>Tied to charger for conversations lasting more than 45 minutes.MAJOR PROBLEMS!!\\t0</th>\n      <td>NaN</td>\n    </tr>\n    <tr>\n      <th>The mic is great.\\t1</th>\n      <td>NaN</td>\n    </tr>\n    <tr>\n      <th>I have to jiggle the plug to get it to line up right to get decent volume.\\t0</th>\n      <td>NaN</td>\n    </tr>\n  </tbody>\n</table>\n</div>"
          },
          "execution_count": 4,
          "metadata": {},
          "output_type": "execute_result"
        }
      ],
      "source": [
        "reviews.head(5)"
      ],
      "metadata": {
        "ExecuteTime": {
          "end_time": "2024-01-06T01:06:16.405629500Z",
          "start_time": "2024-01-06T01:06:16.372114700Z"
        },
        "id": "342f11d1180c0ddd",
        "outputId": "77e2284b-af17-4f2f-9ab7-5b48cba59330"
      },
      "id": "342f11d1180c0ddd",
      "execution_count": null
    },
    {
      "cell_type": "code",
      "outputs": [
        {
          "data": {
            "text/plain": "(946, 1)"
          },
          "execution_count": 5,
          "metadata": {},
          "output_type": "execute_result"
        }
      ],
      "source": [
        "reviews.shape"
      ],
      "metadata": {
        "ExecuteTime": {
          "end_time": "2024-01-06T01:06:16.450627800Z",
          "start_time": "2024-01-06T01:06:16.385117400Z"
        },
        "id": "488cd7f033a1c55e",
        "outputId": "70b7e24a-f464-4698-e5dc-5c8f89634d19"
      },
      "id": "488cd7f033a1c55e",
      "execution_count": null
    },
    {
      "cell_type": "code",
      "outputs": [],
      "source": [
        "reviews = pd.read_csv(\"amazon_cells_labelled.txt\", sep='\\t', header=None, names=['Review', 'Score'])"
      ],
      "metadata": {
        "ExecuteTime": {
          "end_time": "2024-01-06T01:06:16.492638900Z",
          "start_time": "2024-01-06T01:06:16.401628100Z"
        },
        "id": "24a7db05512fe6e3"
      },
      "id": "24a7db05512fe6e3",
      "execution_count": null
    },
    {
      "cell_type": "code",
      "outputs": [],
      "source": [
        "reviews = reviews.dropna().reset_index(drop=True)"
      ],
      "metadata": {
        "ExecuteTime": {
          "end_time": "2024-01-06T01:06:16.825430400Z",
          "start_time": "2024-01-06T01:06:16.720090900Z"
        },
        "id": "d54164f831012370"
      },
      "id": "d54164f831012370",
      "execution_count": null
    },
    {
      "cell_type": "code",
      "outputs": [
        {
          "data": {
            "text/plain": "                                              Review  Score\n0  So there is no way for me to plug it in here i...      0\n1                        Good case, Excellent value.      1\n2                             Great for the jawbone.      1\n3  Tied to charger for conversations lasting more...      0\n4                                  The mic is great.      1\n5  I have to jiggle the plug to get it to line up...      0\n6  If you have several dozen or several hundred c...      0\n7        If you are Razr owner...you must have this!      1\n8                Needless to say, I wasted my money.      0\n9                   What a waste of money and time!.      0",
            "text/html": "<div>\n<style scoped>\n    .dataframe tbody tr th:only-of-type {\n        vertical-align: middle;\n    }\n\n    .dataframe tbody tr th {\n        vertical-align: top;\n    }\n\n    .dataframe thead th {\n        text-align: right;\n    }\n</style>\n<table border=\"1\" class=\"dataframe\">\n  <thead>\n    <tr style=\"text-align: right;\">\n      <th></th>\n      <th>Review</th>\n      <th>Score</th>\n    </tr>\n  </thead>\n  <tbody>\n    <tr>\n      <th>0</th>\n      <td>So there is no way for me to plug it in here i...</td>\n      <td>0</td>\n    </tr>\n    <tr>\n      <th>1</th>\n      <td>Good case, Excellent value.</td>\n      <td>1</td>\n    </tr>\n    <tr>\n      <th>2</th>\n      <td>Great for the jawbone.</td>\n      <td>1</td>\n    </tr>\n    <tr>\n      <th>3</th>\n      <td>Tied to charger for conversations lasting more...</td>\n      <td>0</td>\n    </tr>\n    <tr>\n      <th>4</th>\n      <td>The mic is great.</td>\n      <td>1</td>\n    </tr>\n    <tr>\n      <th>5</th>\n      <td>I have to jiggle the plug to get it to line up...</td>\n      <td>0</td>\n    </tr>\n    <tr>\n      <th>6</th>\n      <td>If you have several dozen or several hundred c...</td>\n      <td>0</td>\n    </tr>\n    <tr>\n      <th>7</th>\n      <td>If you are Razr owner...you must have this!</td>\n      <td>1</td>\n    </tr>\n    <tr>\n      <th>8</th>\n      <td>Needless to say, I wasted my money.</td>\n      <td>0</td>\n    </tr>\n    <tr>\n      <th>9</th>\n      <td>What a waste of money and time!.</td>\n      <td>0</td>\n    </tr>\n  </tbody>\n</table>\n</div>"
          },
          "execution_count": 8,
          "metadata": {},
          "output_type": "execute_result"
        }
      ],
      "source": [
        "reviews.head(10)"
      ],
      "metadata": {
        "ExecuteTime": {
          "end_time": "2024-01-06T01:06:17.126868600Z",
          "start_time": "2024-01-06T01:06:17.062360900Z"
        },
        "id": "492266c8783dad83",
        "outputId": "fcad0816-bc05-416d-a22e-2949cc280a6b"
      },
      "id": "492266c8783dad83",
      "execution_count": null
    },
    {
      "cell_type": "code",
      "outputs": [
        {
          "data": {
            "text/plain": "Score\n0    500\n1    500\nName: count, dtype: int64"
          },
          "execution_count": 9,
          "metadata": {},
          "output_type": "execute_result"
        }
      ],
      "source": [
        "reviews['Score'].value_counts()"
      ],
      "metadata": {
        "ExecuteTime": {
          "end_time": "2024-01-06T01:06:17.577079400Z",
          "start_time": "2024-01-06T01:06:17.485571Z"
        },
        "id": "d4b46c0eee33f888",
        "outputId": "fe651dd0-54c4-4e71-fe66-d0a5d6038774"
      },
      "id": "d4b46c0eee33f888",
      "execution_count": null
    },
    {
      "cell_type": "code",
      "outputs": [
        {
          "data": {
            "text/plain": "Review    object\nScore      int64\ndtype: object"
          },
          "execution_count": 10,
          "metadata": {},
          "output_type": "execute_result"
        }
      ],
      "source": [
        "reviews.dtypes"
      ],
      "metadata": {
        "ExecuteTime": {
          "end_time": "2024-01-06T01:06:18.002941600Z",
          "start_time": "2024-01-06T01:06:17.936522100Z"
        },
        "id": "831479dd87bcc0a1",
        "outputId": "6d1e8701-eaa2-4cfb-997a-d41ee11e1d8a"
      },
      "id": "831479dd87bcc0a1",
      "execution_count": null
    },
    {
      "cell_type": "code",
      "outputs": [],
      "source": [
        "reviews = reviews.astype({'Review':'string'})"
      ],
      "metadata": {
        "ExecuteTime": {
          "end_time": "2024-01-06T01:06:18.436475800Z",
          "start_time": "2024-01-06T01:06:18.346693200Z"
        },
        "id": "26920183569d8e0e"
      },
      "id": "26920183569d8e0e",
      "execution_count": null
    },
    {
      "cell_type": "code",
      "outputs": [
        {
          "data": {
            "text/plain": "Review    string[python]\nScore              int64\ndtype: object"
          },
          "execution_count": 12,
          "metadata": {},
          "output_type": "execute_result"
        }
      ],
      "source": [
        "reviews.dtypes"
      ],
      "metadata": {
        "ExecuteTime": {
          "end_time": "2024-01-06T01:06:18.988840800Z",
          "start_time": "2024-01-06T01:06:18.902276200Z"
        },
        "id": "a57dd266e859390f",
        "outputId": "0371fb89-81cd-49ac-fd6b-5eb671f72d85"
      },
      "id": "a57dd266e859390f",
      "execution_count": null
    },
    {
      "cell_type": "code",
      "outputs": [],
      "source": [
        "text = reviews['Review']"
      ],
      "metadata": {
        "ExecuteTime": {
          "end_time": "2024-01-06T01:06:19.382904400Z",
          "start_time": "2024-01-06T01:06:19.308280900Z"
        },
        "id": "533d25d27b777461"
      },
      "id": "533d25d27b777461",
      "execution_count": null
    },
    {
      "cell_type": "code",
      "outputs": [],
      "source": [
        "from nltk.stem import PorterStemmer\n",
        "stop_words = set(stopwords.words('english'))\n",
        "lemmatizer = WordNetLemmatizer()\n",
        "ps = PorterStemmer()\n",
        "\n",
        "def get_wordnet_pos(word):\n",
        "    tag = nltk.pos_tag([word])[0][1][0].upper()\n",
        "    tag_dict = {\"J\": wordnet.ADJ, \"N\": wordnet.NOUN, \"V\": wordnet.VERB, \"R\": wordnet.ADV}\n",
        "    return tag_dict.get(tag, wordnet.NOUN)\n",
        "\n",
        "text1 = []\n",
        "\n",
        "for review in text:\n",
        "    cleaned_review = review.translate(str.maketrans('', '', string.punctuation))\n",
        "    cleaned_review = cleaned_review.translate(str.maketrans('', '', string.digits))\n",
        "    cleaned_review = cleaned_review.lower()\n",
        "    cleaned_review = ' '.join(term for term in cleaned_review.split() if term not in stop_words)\n",
        "    cleaned_review = str(TextBlob(cleaned_review).correct())\n",
        "    cleaned_review = ' '.join(word for word in cleaned_review.split() if word.isalpha())\n",
        "    # cleaned_review = unidecode.unidecode(cleaned_review)\n",
        "    cleaned_review = ' '.join(lemmatizer.lemmatize(w, get_wordnet_pos(w)) for w in cleaned_review.split())\n",
        "    cleaned_review = ' '.join(ps.stem(term) for term in cleaned_review.split() if term not in stop_words)\n",
        "    text1.append(cleaned_review)\n",
        "\n",
        "text1 = pd.Series(text1)"
      ],
      "metadata": {
        "ExecuteTime": {
          "end_time": "2024-01-06T01:07:40.145505500Z",
          "start_time": "2024-01-06T01:06:19.751722400Z"
        },
        "id": "f269e422dfab2ace"
      },
      "id": "f269e422dfab2ace",
      "execution_count": null
    },
    {
      "cell_type": "code",
      "outputs": [
        {
          "data": {
            "text/plain": "                                                Review  Score\n0    So there is no way for me to plug it in here i...      0\n1                          Good case, Excellent value.      1\n2                               Great for the jawbone.      1\n3    Tied to charger for conversations lasting more...      0\n4                                    The mic is great.      1\n..                                                 ...    ...\n995  The screen does get smudged easily because it ...      0\n996  What a piece of junk.. I lose more calls on th...      0\n997                       Item Does Not Match Picture.      0\n998  The only thing that disappoint me is the infra...      0\n999  You can not answer calls with the unit, never ...      0\n\n[1000 rows x 2 columns]",
            "text/html": "<div>\n<style scoped>\n    .dataframe tbody tr th:only-of-type {\n        vertical-align: middle;\n    }\n\n    .dataframe tbody tr th {\n        vertical-align: top;\n    }\n\n    .dataframe thead th {\n        text-align: right;\n    }\n</style>\n<table border=\"1\" class=\"dataframe\">\n  <thead>\n    <tr style=\"text-align: right;\">\n      <th></th>\n      <th>Review</th>\n      <th>Score</th>\n    </tr>\n  </thead>\n  <tbody>\n    <tr>\n      <th>0</th>\n      <td>So there is no way for me to plug it in here i...</td>\n      <td>0</td>\n    </tr>\n    <tr>\n      <th>1</th>\n      <td>Good case, Excellent value.</td>\n      <td>1</td>\n    </tr>\n    <tr>\n      <th>2</th>\n      <td>Great for the jawbone.</td>\n      <td>1</td>\n    </tr>\n    <tr>\n      <th>3</th>\n      <td>Tied to charger for conversations lasting more...</td>\n      <td>0</td>\n    </tr>\n    <tr>\n      <th>4</th>\n      <td>The mic is great.</td>\n      <td>1</td>\n    </tr>\n    <tr>\n      <th>...</th>\n      <td>...</td>\n      <td>...</td>\n    </tr>\n    <tr>\n      <th>995</th>\n      <td>The screen does get smudged easily because it ...</td>\n      <td>0</td>\n    </tr>\n    <tr>\n      <th>996</th>\n      <td>What a piece of junk.. I lose more calls on th...</td>\n      <td>0</td>\n    </tr>\n    <tr>\n      <th>997</th>\n      <td>Item Does Not Match Picture.</td>\n      <td>0</td>\n    </tr>\n    <tr>\n      <th>998</th>\n      <td>The only thing that disappoint me is the infra...</td>\n      <td>0</td>\n    </tr>\n    <tr>\n      <th>999</th>\n      <td>You can not answer calls with the unit, never ...</td>\n      <td>0</td>\n    </tr>\n  </tbody>\n</table>\n<p>1000 rows × 2 columns</p>\n</div>"
          },
          "execution_count": 15,
          "metadata": {},
          "output_type": "execute_result"
        }
      ],
      "source": [
        "reviewsP = pd.DataFrame(reviews, columns=['Review', 'Score'])\n",
        "reviewsP"
      ],
      "metadata": {
        "ExecuteTime": {
          "end_time": "2024-01-06T01:07:40.180028400Z",
          "start_time": "2024-01-06T01:07:40.147517500Z"
        },
        "id": "ee45e8e91a4622aa",
        "outputId": "d841e7ce-dcc6-4d5c-bf9a-14755c996e03"
      },
      "id": "ee45e8e91a4622aa",
      "execution_count": null
    },
    {
      "cell_type": "code",
      "outputs": [
        {
          "data": {
            "text/plain": "['So there is no way for me to plug it in here in the US unless I go by a converter.',\n 'Good case, Excellent value.',\n 'Great for the jawbone.',\n 'Tied to charger for conversations lasting more than 45 minutes.MAJOR PROBLEMS!!',\n 'The mic is great.',\n 'I have to jiggle the plug to get it to line up right to get decent volume.',\n 'If you have several dozen or several hundred contacts, then imagine the fun of sending each of them one by one.',\n 'If you are Razr owner...you must have this!',\n 'Needless to say, I wasted my money.',\n 'What a waste of money and time!.',\n 'And the sound quality is great.',\n 'He was very impressed when going from the original battery to the extended battery.',\n 'If the two were seperated by a mere 5+ ft I started to notice excessive static and garbled sound from the headset.',\n 'Very good quality though',\n 'The design is very odd, as the ear \"clip\" is not very comfortable at all.',\n 'Highly recommend for any one who has a blue tooth phone.',\n 'I advise EVERYONE DO NOT BE FOOLED!',\n 'So Far So Good!.',\n 'Works great!.',\n 'It clicks into place in a way that makes you wonder how long that mechanism would last.',\n \"I went on Motorola's website and followed all directions, but could not get it to pair again.\",\n 'I bought this to use with my Kindle Fire and absolutely loved it!',\n 'The commercials are the most misleading.',\n \"I have yet to run this new battery below two bars and that's three days without charging.\",\n 'I bought it for my mother and she had a problem with the battery.',\n 'Great Pocket PC / phone combination.',\n \"I've owned this phone for 7 months now and can say that it's the best mobile phone I've had.\",\n \"I didn't think that the instructions provided were helpful to me.\",\n 'People couldnt hear me talk and I had to pull out the earphone and talk on the phone.',\n \"Doesn't hold charge.\",\n 'This is a simple little phone to use, but the breakage is unacceptible.',\n 'This product is ideal for people like me whose ears are very sensitive.',\n 'It is unusable in a moving car at freeway speed.',\n 'I have two more years left in this contract and I hate this phone.',\n 'Car charger as well as AC charger are included to make sure you never run out of juice.Highy recommended',\n 'You need at least 3 mins to get to your phone book from the time you first turn on the phone.Battery life is short.',\n 'It has kept up very well.',\n 'Poor Talk Time Performance.',\n 'The case is great and works fine with the 680.',\n 'worthless product.',\n 'It has a great camera thats 2MP, and the pics are nice and clear with great picture quality.',\n 'I was not impressed by this product.',\n 'Nice headset priced right.',\n 'I only hear garbage for audio.',\n 'Excellent bluetooth headset.',\n 'It has all the features I want',\n 'Who in their right mind is gonna buy this battery?.',\n 'AFTER ARGUING WITH VERIZON REGARDING THE DROPPED CALLS WE RETURNED THE PHONES AFTER TWO DAYS.',\n 'This case seems well made.',\n 'Disappointed with battery.',\n \"Not loud enough and doesn't turn on like it should.\",\n 'good protection and does not make phone too bulky.',\n 'A usable keyboard actually turns a PDA into a real-world useful machine instead of just a neat gadget.',\n \"This phone is pretty sturdy and I've never had any large problems with it.\",\n 'I love this thing!',\n 'Everything about it is fine and reasonable for the price i.e.',\n 'VERY DISAPPOINTED.',\n 'I even dropped this phone into a stream and it was submerged for 15 seconds and it still works great!',\n 'I have been very happy with the 510 and have had NO complaints from any one regarding my sound quality on their end.',\n 'The buttons for on and off are bad.',\n \"Essentially you can forget Microsoft's tech support.\",\n 'I really recommend this faceplates since it looks very nice, elegant and cool.',\n \"These headphones were a great find - and I think they are perhaps the best purchase I've made in the last several years - seriously.\",\n 'Buy a different phone - but not this.',\n 'You have to hold the phone at a particular angle for the other party to hear you clearly.',\n \"The one big drawback of the MP3 player is that the buttons on the phone's front cover that let you pause and skip songs lock out after a few seconds.\",\n 'A week later after I activated it, it suddenly died.',\n 'It feels more comfortable than most headsets because I wear glasses and that gets in the way sometimes.',\n 'Great for iPODs too.',\n 'This device is great in several situations:1.)',\n \"Mic Doesn't work.\",\n 'Even in my BMW 3 series which is fairly quiet, I have trouble hearing what the other person is saying.',\n 'Great choice!',\n 'Nice docking station for home or work.',\n 'This is a beautiful phone.',\n 'Love this product.',\n 'Do Not Buy for D807...wrongly advertised for D807.',\n 'This is a great little item.',\n 'I love this phone , It is very handy and has a lot of features .',\n 'I purchased this and within 2 days it was no longer working!!!!!!!!!',\n 'I wear it everyday and it holds up very well.',\n 'Not a good bargain.',\n 'Well packaged, arrived on time, and works as intended.',\n 'The battery runs down quickly.',\n 'This item worked great, but it broke after 6 months of use.',\n 'The headsets are easy to use and everyone loves them.',\n 'This phone works great.',\n 'The construction of the headsets is poor.',\n 'Product was excellent and works better than the verizon one and Boy was it cheaper!',\n 'The phone loads super!',\n 'For a product that costs as much as this one does, I expect it to work far better and with greater ease than this thing does.',\n 'Made very sturdy.',\n 'Worked great!.',\n 'The ear buds only play music in one ear.',\n 'Dont waste your money...',\n 'Will order from them again!',\n 'If you plan to use this in a car forget about it.',\n 'I found this product to be waaay too big.',\n \"Best I've found so far .... I've tried 2 other bluetooths and this one has the best quality (for both me and the listener) as well as ease of using.\",\n \"I'm very disappointed with my decision.\",\n 'Integrated seamlessly with the Motorola RAZR phone.',\n 'Buyer Beware, you could flush money right down the toilet.',\n 'Definitely a bargain.',\n 'The price was very good and with the free shipping and all it was a good purchase.',\n 'I received my supposedly new motorola 375 and apparently there was not a match between the phone and the charger.',\n 'Pros:-Good camera - very nice pictures , also has cool styles like black and white, and more.',\n \"That's a huge design flaw (unless I'm not using it correctly, which I don't think is the case).\",\n 'I love my 350 headset.. My Jabra350 bluetooth headset is great, the reception is very good and the ear piece is a comfortable fit.',\n 'The camera, although rated at an impressive 1.3 megapixels, renders images that fall well below expectations of such a relatively high resolution.',\n 'I purcashed this for the car charger and it does not work.',\n 'Sound quality on both end is excellent, I use headset to call my wife and ask my wife to use headset to call me !2.',\n 'This phone is slim and light and the display is beautiful.',\n 'its a little geeky but i think thats its sex on toast and it rocks and oozes sex right down to its battery embedded sleek stylish leather case.',\n 'Great product, fast shipping!.',\n 'Absolutely great.',\n 'The keyboard is a nice compromise between a full QWERTY and the basic cell phone number keypad.',\n \"i got this phone around the end of may and i'm completely unhappy with it.\",\n 'It is very comfortable on the ear.',\n 'It has been a winner for us.',\n \")Setup couldn't have been simpler.\",\n \"I've tried several different earpieces for my cell phone and this Jabra one is the first one I've found that fits my ear comfortably.\",\n 'Could not get strong enough signal.',\n 'Iam very pleased with my purchase.',\n 'Bad Quality.',\n 'Gets the job done.',\n 'Great audio!.',\n 'Basically the service was very bad.',\n 'it did not work in my cell phone plug i am very up set with the charger!.',\n \"I've only had my bluetooth for a few weeks, but I really like it.\",\n 'The BT headset was such a disapoinment.',\n \"It is so small and you don't even realize that it is there after a while of getting used to it.\",\n 'The accompanied software is almost brilliant.',\n 'Headset works great & was packaged nicely to avoid any damage.',\n '!I definitly recommend!!',\n 'Buyer--Be Very Careful!!!!!.',\n 'The majority of the Logitech earbud headsets failed.',\n 'Very good stuff for the price.',\n 'My headset works just peachy-keen.',\n 'In my house I was getting dropped coverage upstairs and no coverage in my basement.',\n 'Voice recognition is tremendous!',\n 'What a waste.',\n 'During several different 2 minute calls, I experienced 5 drops and it was in an area that had 5 bars.',\n 'I was not happy with this item.',\n 'very disappointed.',\n 'The phone takes FOREVER to charge like 2 to 5 hours literally.',\n \"I got this phone on reccomendation from a relative and I'm glad I did.\",\n 'What a waste of time!',\n 'Its reception is very very poor.',\n 'Items stated as included from the description ARE NOT INCLUDED.',\n 'After 3 months, screen just went black all of a sudden.',\n 'I Was Hoping for More.',\n 'Audio Quality is poor, very poor.',\n 'I had absolutely no problem with this headset linking to my 8530 Blackberry Curve!',\n \"I know that sounds funny, but to me it seemed like sketchy technology that wouldn't work well.Well, this one works great.\",\n \"I've bought $5 wired headphones that sound better than these.\",\n 'This phone is very fast with sending any kind of messages and web browsing is significantly faster than previous phones i have used.',\n 'Nice quality build, unlike some cheap s*** out there.',\n 'This item is fantastic and works perfectly!',\n 'And I just love the colors!',\n 'W810i is just SUPERB.',\n 'All I can do is whine on the Internet, so here it goes.The more I use the thing the less I like it.',\n 'Great charger.',\n 'This is essentially a communications tool that does not communicate.',\n 'Works like a charm; it work the same as the one I got with the phone.',\n \"I still maintain that monkeys shouldn't make headphones, we just obviously don't share enough DNA to copy the design over to humans.\",\n 'Great Value.',\n \"Doesn't work at all.. I bougth it for my L7c and its not working.\",\n 'The look of it is very sharp and the screen is nice and clear, with great graphics.',\n \"doesn't last long.\",\n 'One thing I hate is the mode set button at the side.',\n 'EXCELLENT SERVICE!!!!!!!!.',\n 'Thank you for wasting my money.',\n 'How can that be?The audio quality is poor.',\n 'The iGo chargers and tips are really great.',\n 'The file browser offers all the options that one needs.Handsfree is great.',\n 'Superb Phone on a Great Network.',\n \"I connected my wife's bluetooth,(Motorola HS850) to my phone and it worked like a charm whether the phone was in my pocket or the case.\",\n 'I put the latest OS on it (v1.15g), and it now likes to slow to a crawl and lock up every once in a while.',\n 'It only recognizes the Phone as its storage device.',\n 'If you like a loud buzzing to override all your conversations, then this phone is for you!',\n \"Don't buy this product.\",\n \"I've had this bluetoooth headset for some time now and still not comfortable with the way it fits on the ear.\",\n 'The sound quality is good and functionality is awesome.',\n 'I have this phone and it is a thorn in my side, I really abhor it.',\n 'I recently had problems where I could not stay connected for more than 10 minutes before being disconnected.',\n 'Incredible!.',\n 'Design Flaw?.',\n 'Great phone!.',\n 'Waste of 13 bucks.',\n \"But when I check voice mail at night, the keypad backlight turns off a few seconds into the first message, and then I'm lost.\",\n 'The replacement died in a few weeks.',\n 'Any ring tone..Overall good phone to buy..',\n 'Lately they have been extremely nice and helpful on the phone.',\n 'I have had problems wit hit dropping signal and more.',\n 'Not impressed.',\n 'Light weight, I hardly notice it is there.',\n \"You'll love how thin it is.\",\n 'Bad Choice.',\n \"The pleather case doesn't fit.\",\n 'useless phone, simply deaf.',\n 'The color is even prettier than I thought it would be, and the graphics are incredibly sharp.',\n 'All in all I think it was a good investment.',\n 'It makes very strange ticking noises before it ends the call.',\n 'The best electronics of the available FM Transmitters.',\n 'Battery lasts only a few hours.',\n 'great headset, very impressed - H500.',\n 'The \"1.2\" mega pixel camera, being a part of a phone, is reasonably good7.',\n \"I've had this for nearly 2 years and it has worked great for me.\",\n 'Good transmit audio.',\n 'We are sending it back.',\n 'I did not bother contacting the company for few dollar product but I learned the lesson that I should not have bought this form online anyway.',\n 'If you hate earbugs, avoid this phone by all means.',\n 'Great price also!',\n \"The range is very decent, I've been able to roam around my house with the phone in the living room with no reception/sound quality issues.\",\n 'fast service.',\n 'I would highly recommend this.',\n 'I would recommend this.',\n 'I also didn\\'t like the \"on\" button, it felt like it would crack with use.',\n 'WORST PHONE EVER.',\n \"I'm still infatuated with this phone.\",\n 'Freezes frequently4.',\n \"It's kind of embarrassing to use because of how it looks and mostly it's embarrassing how child-like the company is.\",\n 'Simple, lightweight and great fit.',\n \"All in all, I'd expected a better consumer experience from Motorola.\",\n \"There's a horrible tick sound in the background on all my calls that I have never experienced before.\",\n 'These are certainly very comfortable and functionality is decent.',\n \"I usually don't like headbands but this one is very lightweight & doesn't mess up my hair.\",\n \"I'm a bit disappointed.\",\n 'I have had this phone for over a year now, and I will tell you, its not that great.',\n 'I ordered this for sony Ericsson W810i but I think it only worked once (thats when I first used it).',\n 'The battery is completely useless to me.',\n 'What a big waste of time.',\n \"Don't waste your $$$ on this one.\",\n 'Great sound and service.',\n 'Really pleased with this product so far.',\n 'One of my favorite purchases ever.',\n 'best bluetooth on the market.',\n 'Authentic leather with nice shine and comfort .I recommend you this case !!',\n 'I was very excited to get this headset because I thought it was really cute.',\n 'Do not make the same mistake as me.',\n 'Big Disappointment with calendar sync.',\n 'the phone was unusable and was not new.',\n 'Worst Customer Service Ever.',\n 'No additional ear gels provided, and no instructions whatsoever.',\n 'It defeats the purpose of a bluetooth headset.',\n 'Worth every penny.',\n 'Excellent wallet type phone case.',\n 'Nice headphones for the price and they work great!',\n 'Internet is excrutiatingly slow.',\n 'It is very comfortable to wear as well, which is probably the most important aspect about using a case.',\n \"It's fits like a glove and is strong, secure, and durable.\",\n 'O my gosh the best phone I have ever had.',\n \"It's very attractive and appears to be of good quality.\",\n 'I love all the features and form factor.',\n 'This product had a strong rubber/petroleum smell that was unbearable after a while and caused me to return it',\n 'poor quality and service.',\n 'The cable looks so thin and flimsy, it is scary.',\n 'Great Earpiece.',\n 'Excellent hands free tool.',\n 'Great for using with your home stereo.',\n 'Good product - incredible value.',\n \"Only had this a month but it's worked flawlessly so far.\",\n 'Works great.',\n 'Absolutel junk.',\n \"THAT one didn't work either.\",\n 'Battery life is real good.',\n 'Returned 8 hours later.',\n \"It's a great item.\",\n \"Don't waste your money!.\",\n 'Love this headset!',\n 'Not only will it drain your player, but may also potentially fry it.',\n 'Worked perfectly!',\n \"Unreliable - I'm giving up.\",\n 'I gave it 5 stars because of the sound quality.',\n 'Avoid this one if you can.',\n 'Reversible plug works great.',\n 'I wasted my little money with this earpiece.',\n 'Very good phone.',\n 'Best of all is the rotating feature, very helpful.',\n 'Comfort for our whole family.',\n 'Good product, good seller.',\n 'I love this bluetooth!',\n \"First of all, it doesn't wear well.\",\n 'I am very impressed with this headset from Plantronics.',\n 'I got it because it was so small and adorable.',\n 'Great phone!.',\n \"I wouldn't recommend buying this product.\",\n 'Piece of Junk.',\n 'Poorly contstruct hinge.',\n 'This item is great, installed it, let it charged up overnite and it has been working good every since with no problems',\n 'Great Phone.',\n \"Don't buy it.\",\n 'Excellent Phone.',\n 'DO NOT PURCHASE THIS PHONE.',\n 'The voice recognition thru the handset is excellent.',\n \"This is hands down the best phone I've ever had.\",\n 'Works great, when my cat attacked the phone he scratched the protective strip instead of destroying the screen.',\n 'This one works and was priced right.',\n 'Customer service was terrible.',\n 'Battery life still not long enough in Motorola Razor V3i.',\n 'Sending it back.',\n 'Now I know that I made a wise decision.',\n 'Someone shouldve invented this sooner.',\n 'Good price.',\n 'Everything worked on the first try.The device was certainly engineered in a clever way and the construction feels good.',\n 'I received it quickly and it works great!!',\n 'Has been working great.',\n \"As many people complained, I found this headset's microphone was very weak.\",\n 'My 5-year old Nokia 2160 from Tracfone holds the charge a lot better than this.',\n 'They do not care about the consumer one bit.',\n 'This is a good battery, and it got here really fast.',\n 'The instruction manual is lacking.',\n 'Also its slim enough to fit into my alarm clock docking station without removing the case.',\n 'Phone now holds charge like it did when it was new.',\n 'The battery is unreliable as well as the service use antena.',\n \"It's uncomfortable and the sound quality is quite poor compared with the phone (Razr) or with my previous wired headset (that plugged into an LG).\",\n 'We have gotten a lot of compliments on it.',\n 'This is definitely a must have if your state does not allow cell phone usage while driving.',\n 'I want my money back.',\n 'I love this device.',\n 'I am also very happy with the price.',\n 'I ordered this product first and was unhappy with it immediately.',\n 'The Ngage is still lacking in earbuds.',\n 'I was able to do voice dialing in the car with no problem.',\n 'I have 2-3 bars on my cell phone when I am home, but you cant not hear anything.',\n 'good item, low price.',\n 'However-the riingtones are not the best, and neither are the games.',\n 'The plug did not work very well.',\n 'AMAZON SUCKS.',\n 'Rip off---- Over charge shipping.',\n 'VERY comfortable.',\n 'The battery is working well as a replacement for the original that came with the phone over 2 years ago.',\n 'The reception is excellent!',\n 'It fits comfortably in either ear, the sound is clear and loud, and the charge lasts a couple of days.',\n \"very clear, quality sound and you don't have to mess with the sound on your iPod since you have the sound buttons on the headset.\",\n \"1. long lasting battery (you don't have to recharge it as frequentyly as some of the flip phones)2.\",\n 'Obviously there is a problem with the adhesive.',\n 'Very disappointing.',\n 'It was an inexpensive piece, but I would still have expected better quality.',\n 'It is practically useless and did not add any kind of boost to my reception after I bought it.',\n 'Excellent sound quality.',\n 'Was not happy.',\n 'A PIECE OF JUNK THAT BROKE AFTER BEING ON MY PHONE FOR 2 DAYS!!!',\n 'New Battery works great in phone.',\n 'Worst customer service.',\n \"I've dropped my phone more times than I can say, even on concrete and my phone is still great (knock on wood!).\",\n 'Reception is terrible and full of static.',\n 'Good audio quality.',\n 'This little device has transformed my organizational capability and made my life a whole lot easier.',\n 'I was sitting in my vehicle, with the cradle on my belt, and the headset lost signal.',\n 'Were JERKS on the phone.',\n 'Works like a charm.. Works as advertised.',\n 'Comfortable, Nice Range, Good Battery Life.',\n 'Their network coverage in Los Angeles is horrible.',\n 'Excellent starter wireless headset.',\n 'The loudspeaker option is great, the bumpers with the lights is very ... appealing.',\n 'The only thing that I think could improve is the sound leaks out from the headset.',\n 'First off the reception sucks, I have never had more than 2 bars, ever.',\n 'The phone gets EXTREMELY HOT!',\n 'The microphone also works well, but (according to people I have called) it applifies everything.',\n 'Nice design and quality.',\n 'Also, if your phone is dropped, this case is not going to save it, specially when dropped face down.',\n 'It is light, easy to use, and has very clear reception and transmission.',\n 'bad fit, way too big.',\n 'It definitely was not as good as my S11.',\n 'awesome device.',\n 'Waste of money.',\n 'I had ordered a motorola data cable, got a very well finished and working product.',\n 'Love This Phone.',\n \"I was looking for this headset for a long time and now that I've got it I couldn't be happier.\",\n \"I'll be drivng along, and my headset starts ringing for no reason.\",\n 'Display is excellent and camera is as good as any from that year.',\n 'Battery life is also great!',\n \"The worst phone I've ever had.... Only had it for a few months.\",\n 'Not a good item.. It worked for a while then started having problems in my auto reverse tape player.',\n 'This is so embarassing and also my ears hurt if I try to push the ear plug into my ear.',\n 'Protects the phone on all sides.',\n 'This is a VERY average phone with bad battery life that operates on a weak network.',\n 'Clear Skype Calls, Long Battery Life, Long Range.',\n 'Soyo technology sucks.',\n 'Great Hands Free Device.',\n 'you can even take self portraits with the outside (exterior) display, very cool.',\n 'Same problem as others have mentioned.',\n 'After trying many many handsfree gadgets this is the one that finally works well.',\n 'Magical Help.',\n 'The worst piece of crap ever along with the Verizon customer service.',\n 'Poor sound quality.',\n 'The best phone in market :).',\n 'It worked very well.',\n 'The company shipped my product very promptly and it works well.',\n 'Exactly what I wanted.',\n 'The picture resolution is far below what other comparably-priced phones are offering today.',\n 'This is a great deal.',\n 'Excellent product, I am very satisfied with the purchase.',\n 'I highly recommend these and encourage people to give them a try.',\n \"Better than you'd expect.\",\n 'Using all earpieces, left or right, this thing will not stay on my ear.',\n 'Great product and price.',\n 'Sounds good reasonably priced and effective, Its that simple !',\n \"Still Waiting...... I'm sure this item would work well.. if I ever recieve it!\",\n 'what a disappointment',\n 'Very prompt service.',\n 'Excellent product for the price.',\n 'Very pleased with this headset.',\n \"don't waste your money and time.\",\n 'I especially love the long battery life.',\n \"It's so stupid to have to keep buying new chargers, car chargers, cradles, headphones and car kits every time a new phone comes out.\",\n 'Works great.',\n 'Plantronics Bluetooth Excelent Buy.',\n 'I came over from Verizon because cingulair has nicer cell phones.... the first thing I noticed was the really bad service.',\n \"I'll be looking for a new earpiece.\",\n 'I highly recommend this device to everyone!',\n 'Jawbone Era is awesome too!',\n 'We received a WHITE colored battery that goes DEAD after a couple hoursTHe original used to last a week - but still lasts longer than thereplacement',\n 'After a year the battery went completely dead on my headset.',\n 'I have used several phone in two years, but this one is the best.',\n 'An Awesome New Look For Fall 2000!.',\n \"This is the first phone I've had that has been so cheaply made.\",\n 'Att is not clear, sound is very distorted and you have to yell when you talk.',\n 'The plastic breaks really easy on this clip.',\n 'Price is good too.',\n \"Don't make the same mistake I did.\",\n 'Oh and I forgot to also mention the weird color effect it has on your phone.',\n \"I'm using it with an iriver SPINN (with case) and it fits fine.\",\n \"Also the area where my unit broke).- I'm not too fond of the magnetic strap.\",\n 'Overall, I am psyched to have a phone which has all my appointments and contacts in and gets great reception.',\n 'every thing on phone work perfectly, she like it.',\n \"Another note about this phone's appearance is that it really looks rather bland, especially in the all black model.\",\n \"IT'S REALLY EASY.\",\n 'My Sanyo has survived dozens of drops on blacktop without ill effect.',\n 'Fantastic earphones.',\n 'It finds my cell phone right away when I enter the car.',\n 'Low Quality.',\n 'I highly recommend this modest priced cellular phone.',\n \"But it does get better reception and clarity than any phone I've had before.\",\n 'Warning - Stay away.',\n 'I wish I could return the unit and get back my money.',\n 'Awsome Device Works Great!!.',\n 'I used to talk on it for 1 - 1 1/2 hours and the battery would be literally drained and dying.',\n \"If you don't find it, too bad, as again the unit comes with one earpad only.I would not recommend this to anyone.\",\n 'Very Displeased.',\n 'I might have gotten a defect, but I would not risk buying it again because of the built quality alone.',\n 'They made this case too small and is very difficult to install.',\n 'Restored my phone to like new performance.',\n 'I would recommend purchasing the Jabra JX-10 series 2 which works flawlessly with my Moto Q, go figure.',\n 'I searched the Internet, and found this one to be the best value.',\n 'Does not fit.',\n 'Very happy with this product.',\n 'The screen size is big, key pad lit well enough, and the camera quality is excellent for a camera phone.',\n \"There's really nothing bad I can say about this headset.\",\n \"i'm glad i found this product on amazon it is hard to find, it wasn't high priced.\",\n 'Portable and it works.',\n 'My colleague & I now get great reception.A little expensive, but performance is great.',\n 'I even fully charged it before I went to bed and turned off blue tooth and wi-fi and noticed that it only had 20 % left in the morning.',\n \"I've also had problems with the phone reading the memory card in which I always turn it on and then off again.\",\n 'Not good when wearing a hat or sunglasses.',\n 'Timely shipment and quality product.',\n 'Nice solid keyboard.',\n 'Very well made and fits my Surefire GX2 perfectly.',\n 'Horrible phone.',\n 'BT50 battery junk!.',\n 'We would recommend these to others.',\n 'Cant get the software to work with my computer.',\n 'Disappointed!.',\n 'poor voice clarity.',\n 'The battery works great!',\n 'No buyers remorse on this one!.',\n 'Very disappointed in AccessoryOne.',\n 'I find this inexcusable and so will probably be returning this phone and perhaps changing carriers.',\n 'Looks great and is strong.\"',\n 'I have had TMobile service for 2 or 3 years now, and I am pretty happy with it.',\n 'The update procedure is difficult and cumbersome.',\n 'Disappointment.. I hate anything that goes in my ear.',\n 'Great software for Motorolas.',\n 'The delivery was on time.',\n 'Very easy to use.',\n \"Uncomfortable In the Ear, Don't use with LG VX9900 (EnV).\",\n 'The volume switch rocketed out of the unit to a destination unknown.',\n 'It holds a charge for a long time, is reasonably comfortable under long-wearing conditions and the quality of sound is tremendous.',\n \"I'd like to return it.\",\n \"The keyboard is really worthwhile in usefulness and is sturdy enough I don't expect any problems.\",\n \"Verizon's bills, however, are difficult to understand even though their pricing plans are simple.\",\n 'After charging overnight, these batteries work great.',\n \"You won't regret it!\",\n 'I love this phone!.',\n 'A Disappointment.',\n 'Its not user friendly.',\n 'Unfortunately the ability to actually know you are receiving a call is a rather important feature and this phone is pitiful in that respect.',\n 'Then I exchanged for the same phone, even that had the same problem.',\n 'This results in the phone being either stuck at max volume or mute.',\n 'This PDA rocks.',\n 'It is super charged up for use as a small hybrid palmtop/camera/cellphone, and excels in those roles.',\n 'I would definitely recommend the Jabra BT250v for those who are looking for comfort, clarity and a great price!',\n 'I had Verizon 2 years ago and really liked their service.',\n 'Pretty piece of junk.',\n 'Plug was the wrong size.',\n 'Works as described.',\n \"Save your money.... I've had this item for 11 months now.\",\n 'Bad Purchase.',\n 'WELL IM SATISFIED.',\n 'The bose noise cancelling is amazing, which is very important for a NYC commuter.',\n 'This battery is an excellent bargain!',\n 'Defective crap.',\n 'I would have given no star if I was able.',\n 'I wear glasses and it fits fine with them.',\n 'The sound quality for the device is unacceptable.Unless you are in a really quiet area, you almost hear nothing.',\n 'I would not recommend this item to anyone.',\n 'The holster that arrived did not match the photo in the ad.',\n 'great...no problems at all!.',\n 'As an earlier review noted, plug in this charger and nothing happens.',\n 'This frog phone charm is adorable and very eye catching.',\n 'You never know if you pushed it hard enough or the right number of times for the function you want or not.',\n 'The sound is clear and the people I talk to on it are amazed at the quality too.',\n 'I got the aluminum case for my new Palm VX and it worked really well--it has protected my handheld perfectly so far.',\n 'very good product, well made.',\n 'Mobile Phone Tools are a must have.',\n 'I am very impressed with the job that Motorola did on the sturdiness of this phone.',\n 'I received my orders well within the shipping timeframe, everything was in good working order and overall, I am very excited to have this source.',\n 'The phone is sturdy and waterproof.',\n 'I am not impressed with this and i would not recommend this item to anyone.',\n 'My only complaint is the standard sound volume is a little low even when turned up to 5(of 5)',\n 'Thanks again to Amazon for having the things I need for a good price!',\n 'I ended up sliding it on the edge of my pants or back pockets instead.',\n 'I had to go to a store and bought a new NOKIA phone which is working great.',\n 'Works great!.',\n 'REALLY UGLY.',\n 'horrible, had to switch 3 times.',\n 'The noise shield is incrediable.',\n 'No real improvement.',\n 'Razr Battery - Good buy.',\n 'Keep up the good work Amazon!!',\n 'They refuse to refund or replace.',\n \"Unfortunately it's easy to accidentally activate them with the gentle-touch buttons if you accidentally touch the phone to your face while listening.\",\n 'So I basically threw my money out the window for nothing.',\n 'Great case and price!',\n 'All it took was one drop from about 6 inches above the kitchen counter and it was cracked.I am not impressed and I am not laughing.',\n 'Bluetooth range is good - a few days ago I left my phone in the trunk, got a call, and carried the conversation without a hitch.',\n 'Small, sleek, impressive looking, practical setup with ample storage in place.',\n 'The eargels channel the sound directly into your ear and seem to increase the sound volume and clarity.',\n 'none of the new ones have ever quite worked properly.',\n 'I am glad I purchased it.',\n \"I've missed numerous calls because of this reason.\",\n 'Perhaps my phone is defective, but people cannot hear me when I use this.',\n \"Don't buy this product.\",\n 'sucked, most of the stuff does not work with my phone.',\n \"No shifting, no bubbling, no peeling, not even a scratch, NOTHING!I couldn't be more happier with my new one for the Droid.\",\n 'Worst software ever used.... If I could give this zero stars I would.',\n 'Trying to make a call on these is an exercise in frustration.',\n 'The case is a flimsy piece of plastic and has no front or side protection whatsoever.',\n 'I own a Jabra Earset and was very happy with it, but the sound quality, especially outgoing, on this is better.',\n \"I love the camera, it's really pretty good quality.\",\n 'Thank you for such great service.',\n 'Its a total package.',\n 'The seller is very understanding and patient, I would definitely buy from them again.',\n 'I give Wirefly 1 star.I will contact Cingular/AT&T; and inform them of this practice.',\n \"It's AGGRAVATING!\",\n 'Great product for the price!.',\n 'I have purchased these for both family and friends, and all enjoy their clarity and ease of use',\n 'Virgin Wireless rocks and so does this cheap little phone!',\n \"None of it works, just don't buy it.\",\n \"Muddy, low quality sound, and the casing around the wire's insert was poorly super glued and slid off.\",\n 'Please dont waste your money.',\n \"All in all, I'm quite satisfied with this purchase.\",\n \"If you are looking for a good quality Motorola Headset keep looking, this isn't it.\",\n 'Yet Plantronincs continues to use the same flawed charger design.',\n 'Disapointing Results.',\n 'Cumbersome design.',\n 'Great it was new packaged nice works good, no problems and it came in less time then I expected!!!!',\n 'Great Product.',\n \"It's A PIECE OF CRAP!\",\n 'My experience was terrible..... This was my fourth bluetooth headset, and while it was much more comfortable than my last Jabra (which I HATED!!!',\n 'This fixes all the problems.',\n 'Worst ever.',\n 'I am very happy',\n \"I've had no trouble accessing the Internet, downloading ringtones or performing any of the functions.\",\n 'I can barely ever hear on it and am constantly saying \"what?\"',\n 'The battery life is highly unacceptable.',\n 'That company is a joke.',\n 'It does everything the description said it would.',\n 'Due to this happening on every call I was forced to stop using this headset.',\n 'It works great with a car charger, especially if you cannot plug in two adapters at the same time.',\n 'Verizon tech support walked my through a few procedures, none of which worked and I ended up having to do a hard re-set, wiping out all my data.',\n 'Voice Quality, Signal Strength, Dropped Calls.',\n \"It plays louder than any other speaker of this size; the price is so low that most would think the quality is lacking, however, it's not.\",\n 'Better than expected.',\n 'It feels poorly constructed, the menus are difficult to navigate, and the buttons are so recessed that it is difficult to push them.',\n 'Battery is holding up well.',\n \"Also difficult to put on.I'd recommend avoiding this product.\",\n \"I only used it two days, and it wasn't always easy to hear with.\",\n 'I got the car charger and not even after a week the charger was broken...I went to plug it in and it started smoking.',\n 'Sprint - terrible customer service.',\n 'Linked to my phone without effort.',\n 'THey are so cool!',\n 'Easy to use.',\n 'Better Than New.',\n 'What possesed me to get this junk, I have no idea...',\n 'Piece of trash.',\n 'A pretty good product.',\n 'This is a great phone!.',\n 'For the price on Amazon, it is an excellent product, which I would highly recommend.',\n \"Their Research and Development division obviously knows what they're doing.\",\n 'The real killer is the volume, and of course it breaking.',\n 'Those phones are working just fine now.',\n 'I am more than happy with this product.',\n 'Poor Construction.',\n 'This is infuriating.',\n 'Overall, I would recommend this phone over the new Walkman.',\n 'Sprint charges for this service.',\n 'It is cheap, and it feel and look just as cheap.',\n 'It fits my ear well and is comfortable on.',\n \"It doesn't work in Europe or Asia.\",\n \"clipping this to your belt will deffinitely make you feel like 50 cent's up-and-coming.\",\n 'I like design and look of Jabra behing the ear headsets and 5020 is pretty comfortible to wear 24 hours a day without pain in the ear.',\n 'I was amazed at the quick arrival of the two original lg cell phone batteries and and at a fraction of the price.',\n 'the worst phone from samsung...crap..... this crappy Samsung E715.. is the worst i have ever seeen.',\n 'the charger worked for about a week and then completely stopped charging my phone.',\n 'Poor product.',\n 'However I needed some better instructions.',\n 'You need two hands to operate the screen.This software interface is decade old and cannot compete with new software designs.',\n 'Worked very well paired with a Treo 700w and as a Skype headset on my PC (using a USB Bluetooth transceiver).',\n 'Steer clear of this product and go with the genuine Palm replacementr pens, which come in a three-pack.',\n 'DO NOT BUY DO NOT BUYIT SUCKS',\n 'This is a great product..... sure beats using your fingers!.',\n 'Plus, I seriously do not believe it is worth its steep price point.',\n \"All the other cases I've tried normally fall apart after a few months but this one seems to be in for the long haul.\",\n 'Very Dissapointing Performance.',\n \"Don't make the same mistake that I did and please don't buy this phone.\",\n \"This phone might well be the worst I've ever had in any brand.\",\n 'Case was more or less an extra that I originally put on but later discarded because it scratched my ear.',\n 'I recommend iGo to anyone with different brand cell phones/mp3 players in the family.',\n \"Don't bother - go to the store.\",\n \"I posted more detailed comments under the grey or black phone, but i have the Fire Red and it's a great color!\",\n 'I did not have any problem with this item and would order it again if needed.',\n 'You get what you pay for I guess.',\n 'Not only did the software do a great job of this, I could also make my own ringtones form my existing CDs without an internet connection.',\n \"im surprised this is a good quality car charger and there's not much reviews about it.\",\n 'These are fabulous!',\n 'However, BT headsets are currently not good for real time games like first-person shooters since the audio delay messes me up.',\n 'I used bitpim (a free program you can find on the internet)to transfer data to the phone.The price of the cable was excellent.',\n 'Disappointing accessory from a good manufacturer.',\n 'Performed awful -- muffled, tinny incoming sound and severe echo for those on the other end of the call.',\n 'Very wind-resistant.',\n 'Obviously they have a terrible customer service, so you get what you pay for.',\n 'They do not last forever, but is not overly expensive to replace.Easy to operate and the sound is much better than others I have tried.',\n \"I contacted the company and they told me that, although the unit was still under warranty, if I couldn't produce my receipt I was out of luck.\",\n 'Linksys should have some way to exchange a bad phone for a refurb unit or something!',\n 'Phone is sturdy as all nokia bar phones are.',\n 'Great phone.',\n 'When I placed my treo into the case, not only was it NOT snug, but there was A LOT of extra room on the sides.',\n \"I'm pleased.\",\n 'Battery is terrible.',\n 'I found the product to be easy to set up and use.',\n 'The earpiece on this is too large or too heavy...it keeps falling out of my ear.',\n 'Utter crap.. Sound quality is TERRIBLE.',\n 'The charger arrived within the promised timeframe, but it did not work.',\n \"No ear loop needed, it's tiny and the sound is great.\",\n 'Finally, after three or four times the spring of the latch broke and I could not use it any longer on the visor.',\n 'The handsfree part works fine, but then the car tries to download the address book, and the Treo reboots.Overall, I still rate this device high.',\n 'Talk about USELESS customer service.',\n 'It felt too light and \"tinny.\".',\n 'This does not fit the Palm Tungsten E2 and it broke the first time I tried to plug it in.',\n \"I'm happy about this purchase- good quality and low price.\",\n 'I love the look and feel of Samsung flipphones.',\n 'Its well-designed and very sharp -- the blue is a very nice color.',\n 'Does everything it should and more.',\n 'I could not recommend these more.',\n 'Nice Sound.',\n 'Looks good in the picture, but this case was a huge disappointment!!',\n 'Much less than the jawbone I was going to replace it with.',\n 'Setup went very smoothly.',\n 'its extremely slow and takes forever to do anything with it.',\n 'A must study for anyone interested in the \"worst sins\" of industrial design.',\n 'The first thing that happened was that the tracking was off.',\n 'It is well made, easy to access the phone and has a handy, detachable belt clip.',\n 'Then I had to continue pairing it periodically since it somehow kept dropping.',\n \"Can't upload ringtones from a third party.\",\n 'Bluetooth does not work, phone locks up, screens just flash up and now it just makes calls randomly while in my pocket locked.',\n 'Truly awful.',\n 'It works fine on my Motorola 325 cellphone, and a lot better than the worn-out battery did.',\n 'The volume for the ringer is REAL good (you have choices how loud).',\n 'And none of the tones is acceptable.',\n 'camera color balance is AWFUL.',\n \"This product is clearly not ready for prime time, I don't care how cool it looks, if you can't tell a call is coming in it's worthless.\",\n 'I love the ringtones because they are so upbeat!',\n 'Chinese Forgeries Abound!.',\n 'Easy to pair with my Samsung Cell.',\n \"The instructions didn't explain that a microphone jack could be used.\",\n 'i would advise to not purchase this item it never worked very well.',\n 'Too bad you have to pay up to $$$ a month for the service!',\n 'Works well.',\n 'The nokia CA-42 USB cable did not work with my phone.',\n 'Clear crisp sound.',\n 'I have to use the smallest earpieces provided, but it stays on pretty well.',\n 'The biggest complaint I have is, the battery drains superfast.',\n 'The design might be ergonomic in theory but I could not stand having these in my ear.',\n 'Do NOT buy if you want to use the holster.',\n 'The phone can also take great pictures and even video clips.',\n \"It doesn't make you look cool.\",\n 'Because both ears are occupied, background is not distracting at all.',\n 'Comfortable fit - you need your headset to be comfortable for at least an hour at a time, if not for an entire day.',\n \"Also, the phone doesn't seem to accept anything except CBR mp3s, preferably ripped by Windows Media Player.\",\n \"You can't beat the price on these.\",\n '* Comes with a strong light that you can use to light up your camera shots, and even flash SOS signals (seriously!',\n 'lightweight and works well.',\n 'So just beware.',\n 'I love this cable - it allows me to connect any mini-USB device to my PC.',\n 'So anyone near you will hear part of your conversation.',\n 'This is cool because most cases are just open there allowing the screen to get all scratched up.',\n 'I bought this phone as a replacement for my StarTac and have regretted it since.',\n 'Appears to actually outperform the original battery from China that came with my V325i.',\n \"Can't store anything but phone numbers to SIM.\",\n 'It lasts less than 3o minutes, if I actually try to use the phone.My wife has the same phone with the same problem.',\n 'Poor quality.',\n 'jabra ear gels \"R\" the best!.',\n 'Not worth it.',\n 'The phone crashed completely and now I have to get it replaced.',\n \"It quit working after I'd used it for about 18 months, so I just purchased another one because this is the best headset I've ever owned.\",\n 'Unfortunately it will not recharge my iPhone 4s, despite connecting it from multiple power sources (iMac, external battery, wall outlet, etc).',\n 'It was a great phone.',\n 'if you simply want a small flip phone -- look elsewhere as the extra bells & whistles are mediocre.',\n 'Good value, works fine - power via USB, car, or wall outlet.',\n \"My phone doesn't slide around my car now and the grip prevents my phone from slipping out of my hand.\",\n 'This is simply the BEST bluetooth headset for sound quality!',\n 'Think it over when you plan to own this one!This sure is the last MOTO phone for me!',\n 'In the span of an hour, I had two people exclaim \"Whoa - is that the new phone on TV?!?',\n 'I have always used corded headsets and the freedom from the wireless is very helpful.',\n 'This case has passed the one year mark and while it shows signs of wear, it is 100% functional.',\n 'Other than that, the leather is nice and soft; the fit is very tight; the cut out for the face is a good shape.',\n \"It has everything I need and I couldn't ask for more.\",\n 'After receiving and using the product for just 2 days it broke.',\n 'This product is great... it makes working a lot easier I can go to the copier while waiting on hold for something.',\n 'None of the three sizes they sent with the headset would stay in my ears.',\n 'T-Mobile has the best customer service anywhere.',\n 'Arrived quickly and much less expensive than others being sold.',\n 'We have tried 2 units and they both failed within 2 months.. Pros',\n 'Provides good protection and looks classy, too.',\n 'Krussel Always good.',\n 'The tracfonewebsite is user friendly and makes it easy toactivate, etc.',\n 'The design is very good.4.',\n 'I great reception all the time.',\n 'I would highly recommend this product.',\n \"Couldn't use the unit with sunglasses, not good in Texas!\",\n 'It dit not work most of the time with my Nokia 5320.',\n 'Bought mainly for the charger, which broke soon after purchasing.',\n 'If you like a loud buzzing to override all your conversations, then this phone is for you!',\n 'Fantastic buy and will get again for whatever my next phone is',\n 'stay away from this store, be careful.',\n 'This BlueAnt Supertooth hands-free phone speaker is AWESOME.',\n 'Does not fit.',\n '.... Item arrived quickly and works great with my Metro PCS Samsung SCH-r450 slider phone and Sony Premium Sound in ear plugs.',\n 'It is light, has plenty of battery capacity, and is very confortable to wear for somewhat extended periods of time.',\n 'disappointing.',\n 'Blue Ant is easy to use.',\n 'Cheap but hey it works.. Was pleasantly suprised given the low cost of this item.',\n \"The camera on the phone may be used as a dustpan when indoors... I'd rather be using a disposable then this.\",\n 'Then a few days later the a puff of smoke came out of the phone while in use.',\n \"It's very convenient and simple to use - gets job done & makes the car ride so much smoother.\",\n 'The nano stated it.My son was dissapointed.',\n 'The sound quality is excellent as well.',\n 'Its the best headset I have used.',\n 'Would not reccommend.',\n 'They have been around for years and carries the highest quality of anti-glare screen protector that I have found to date.',\n 'Just what I wanted.',\n 'This particular model would not work with my Motorola Q smartphone.',\n 'wont work right or atleast for me.',\n 'in addition it feels &amp; looks as if the phone is all lightweight cheap plastic.',\n 'But now that it is \"out of warranty\" the same problems reoccure.Bottom line... put your money somewhere else... Cingular will not support it.',\n 'I really wanted the Plantronics 510 to be the right one, but it has too many issues for me.The good',\n 'Great product.',\n 'Crisp and Clear.',\n 'AFter the first charge kept going dead after 12 minutes.',\n 'VERY cheap plastic, creaks like an old wooden floor.',\n 'I get absolutely horrible reception in my apartment, where with other phones I have not had this problem.',\n 'The reception has been generally good.',\n 'Excellent sound, battery life and inconspicuous to boot!.',\n 'Great bluetooth!.',\n 'I highly recommend this case.',\n 'WORTHWHILE.',\n 'This is a great deal.',\n \"After my phone got to be about a year old, it's been slowly breaking despite much care on my part.\",\n 'I am sorry I made this purchase.',\n 'I bought these hoping I could make my Bluetooth headset fit better but these things made it impossible to wear.',\n 'Treo and T-Mobile refused to replace it again and forced me to buy another phone without any kind of upgrade discount.',\n 'It was horrible!.',\n \"I don't think it would hold it too securly on your belt.\",\n 'This allows the possibility of double booking for the same date and time after the first.',\n 'They work about 2 weeks then break.',\n 'It is simple to use and I like it.',\n \"It's a great tool for entertainment, communication, and data management.Oh, be sure to use ActiveSync 4.2 for optimal data synchronization results!\",\n \"I can't use this case because the smell is disgusting.\",\n 'NOT WHAT I WANTED.',\n 'I own 2 of these cases and would order another.',\n 'Great Phone.',\n \"I bought this battery with a coupon from Amazon and I'm very happy with my purchase.\",\n 'The internet access was fine, it the rare instance that it worked.',\n 'Perfect for the PS3.',\n 'Five star Plus, plus.',\n \"A good quality bargain.. I bought this after I bought a cheapy from Big Lots that sounded awful and people on the other end couldn't hear me.\",\n '$50 Down the drain.',\n \"I tried talking real loud but shouting on the telephone gets old and I was still told it wasn't great.\",\n 'Good , works fine.',\n 'For the price this was a great deal.',\n 'Great price, too!',\n 'If there is a wind, it is completely useless.',\n \"Yes it's shiny on front side - and I love it!\",\n 'Does Not Work.',\n 'At first I thought I was grtting a good deal at $7.44, until I plugged it into my phone (V3c Razr).',\n 'The reception through this headset is excellent.',\n '2 thumbs up to this seller',\n 'I have a Verizon LG phone and they work well together, good reception and range that exceeds 20 feet line of sight.',\n 'Improper description.... I had to return it.',\n '#1 It Works - #2 It is Comfortable.',\n 'Battery charge-life is quite long.',\n 'The Jabra EarGels fit my ears very well.',\n 'Battery has no life.',\n 'I checked everywhere and there is no feature for it which is really disappointing.',\n 'Product is exactly as described.',\n \"Gets a signal when other Verizon phones won't.\",\n \"Doesn't do the job.\",\n 'I would recommend it.',\n 'Plan on ordering from them again and again.',\n 'That being said, for a phone, the camera is very nice; many cool effects to play with, and video is decent as well.',\n 'I have been very satisfied with this cell phone from day one.',\n \"They keep getting better and better (this is my third one and I've had numerous Palms too).\",\n 'Awkward to use and unreliable.',\n 'The shipping time was also very quick!',\n 'Not as good as I had hoped.',\n 'Good case!.',\n \"Doesn't Work.\",\n 'Really good product.',\n 'Unfortunately it did not work.',\n 'All three broke within two months of use.',\n 'dont buy it.',\n 'My father has the V265, and the battery is dying.',\n 'However, the ear pads come off easily and after only one week I lost one.',\n 'The calls drop, the phone comes on and off at will, the screen goes black and the worst of all it stops ringing intermittently.',\n 'Horrible, horrible protector.',\n \"I don't like this Nokia either.\",\n 'Reaching for the bottom row is uncomfortable, and the send and end keys are not where I expect them to be.3.',\n 'I have bought this Nokia cell phone a few weeks ago and it was a nightmare.',\n 'It would take too long to describe how bad my customer service experience has been with Amazon.',\n 'the only VERY DISAPPOINTING thing was there was NO SPEAKERPHONE!!!!',\n 'Terrible.. My car will not accept this cassette.',\n 'Product is useless, since it does not have enough charging current to charge the 2 cellphones I was planning to use it with.',\n \"It's not what it says it is.\",\n 'Stay Away From the Q!.',\n 'Used and dirty.',\n 'Very unreliable service from T-mobile !',\n 'Not good enough for the price.',\n 'I bought two of them and neither will charge.',\n 'It looks very nice.',\n \"This is an excellent tool, especially when paired with your phone's auto-answer.\",\n \"I have read other's reviews here but I haven't had any problem with it.\",\n 'These products cover up the important light sensor above the ear outlet.',\n 'Comfortable in my hand.',\n 'Just does not work.',\n 'Poor Reliability.',\n '(It works!)',\n 'If I take a picture, the battery drops a bar, and starts beeping, letting me know its dieing.',\n 'Terrible product, and waste of money!',\n 'Last time buying from you.',\n 'It was a waste of my money.',\n 'So far it has worked like a charm.',\n 'I have only had it for a few weeks, but so far, so good.',\n 'But, in any case, the best part is, you can download these pictures to your laptop using IR, or even send pictures from your laptop to the phone.',\n 'Would recommend this item.',\n \"It's been my choice headset for years.Great sound; good volume; good noise cancellation.\",\n 'Nice case, feels good in your hands.',\n 'The item received was Counterfeit.',\n 'Just really good.. So far, probably the best BT headset I have ever had.',\n 'Works fine.',\n 'I received my headset in good time and was happy with it.',\n 'I was very pleased to see that I could replace my well travled swivel holster for my Blackberry flip.',\n 'My sister has one also and she loves it.',\n 'Good Quality.',\n \"This is by far the worst purchase I've made on Amazon.\",\n 'Excellent dual-purpose headset.',\n 'Excellent!.',\n 'Does not work for listening to music with the cingular 8125.',\n 'It seems completely secure, both holding on to my belt, and keeping the iPhone inside.',\n 'The bottowm line...another worthless, cheap gimmick from Sprint.',\n 'Having trouble with volume.',\n 'The only good thing was that it fits comfortably on small ears.',\n 'WARNING - DO NOT BUY!!.',\n 'I am pairing this with my iphone, and I could not be happier with it so far.',\n 'When it opens, the battery connection is broken and the device is turned off.',\n \"I didn't want the clip going over the top of my ear, causing discomfort.\",\n 'Best headset ever!!!.',\n \"Don't trust their website and don't expect any helpful support.\",\n 'It was that loud.Glad to say that the Plantronics 510 maintains a flawless connection to my cell and with no static during normal use.',\n 'The speaker is of low quality so as making the ring tones sound very cheap.',\n 'Fits comfortably, came with three sizes of earbud tips.',\n 'Excellent product for the price.',\n 'Bad Reception.',\n 'This product is very High quality Chinese CRAP!!!!!!',\n 'It was quite comfortable in the ear.',\n 'Great phone.',\n \"Don't buy this product - It fails!.\",\n 'Everything about this product is wrong.First',\n 'The pairing of the two devices was so easy it barely took a couple minutes before I started making calls with the voice dialing feature.',\n 'This was utterly confusing at first, which caused me to lose a couple of very, very important contacts.',\n 'Terrible phone holder.',\n 'The cutouts and buttons are placed perfectly.',\n 'I love being able to use one headset for both by land-line and cell.',\n 'Problem is that the ear loops are made of weak material and break easily.',\n 'Not nearly as good looking as the AMAZON picture makes it look.',\n 'But despite these few flaws, this case is of exceptional quality and well worth the additional costs of owning an official OEM product.',\n 'How stupid is that?',\n \"I can hear while I'm driving in the car, and usually don't even have to put it on it's loudest setting.\",\n 'Seller shipped quickly and much cheaper than the competitors.',\n 'Good show, Samsung.',\n 'So I bought about 10 of these and saved alot of money.',\n 'It always cuts out and makes a beep beep beep sound then says signal failed.',\n \"Couldn't figure it out\",\n \"My phone sounded OK ( not great - OK), but my wife's phone was almost totally unintelligible, she couldn't understand a word being said on it.\",\n 'So I had to take the battery out of the phone put it all back together and then restart it.',\n 'While I managed to bend the leaf spring back in place, the metal now has enough stress that it will break on the next drop.',\n 'Leopard Print is wonderfully wild!.',\n 'Works for me.',\n 'Saggy, floppy piece of junk.',\n 'much better than the hard plastic cases.',\n 'It also had a new problem.',\n 'Happy so far!.',\n 'cool phone.',\n 'Works good.',\n 'Motorola finally got the voice quality of a bluetooth headset right.',\n 'It looses connection to the phone even when it is within a couple feet between the two.',\n 'but it is great, i would really recommend it',\n \"Makes it easier to keep up with my bluetooth when I'm not wearing it.\",\n 'As I said above....PRETTY USELESS!',\n 'Never got it!!!!!',\n 'This pair of headphones is the worst that I have ever had sound-wise.',\n '[...] down the drain because of a weak snap!',\n 'Does not charge the Cingular (ATT) 8525 phone.',\n 'You get extra minutes so that you can carry out the call and not get cut off.\"',\n \"However, after about a year, the fliptop started to get loose and wobbly and eventually my screen went black and I couldn't receive and place calls.\",\n 'I kept catching the cable on the seat and I had to pull the phone out to turn it on an off.',\n 'The headset fulfills my requirements so I am happy with my purchase.',\n 'Logitech Bluetooth Headset is a 10!.',\n 'I like the fact that it rests lightly against your ear, rather than inside.',\n 'A lot of websites have been rating this a very good phone and so do I.',\n 'I have tried these cables with my computer and my iPod and it works just fine.',\n 'The mic there is a joke, and the volume is quite low.',\n \"I'm returning them.\",\n 'I does not maintain a connection with the computer while it is on my lap.',\n 'It is easy to turn on and off when you are in the car and the volume controls are quite accessable.',\n 'I have had mine for about a year and this Christmas I bought some for the rest of the family.',\n 'Otherwise, easy to install and use, clear sound.',\n 'nice leather.',\n 'I had to purchase a different case.',\n 'It is a joy to use.',\n 'Very much disappointed with this company.',\n 'Very satisifed with that.',\n \"It didn't charge for me.\",\n 'This is the phone to get for 2005.... I just bought my S710a and all I can say is WOW!',\n 'Buttons are too small.',\n 'Just reading on the specs alone makes you say WOW.',\n 'Love it.. Great armband.',\n 'I really like this product over the Motorola because it is allot clearer on the ear piece and the mic.',\n 'However, the keypads are so tinny that I sometimes reach the wrong buttons.',\n \"I exchanged the sony ericson z500a for this and I'm pretty happy with that decision.\",\n 'I was very impressed with the price of the cases.',\n 'Also makes it easier to hold on to.',\n 'I use this product in a motor control center where there is a lot of high voltage humming from the equipment, and it works great!',\n \"It's pretty easy.\",\n 'I cannot make calls at certain places.',\n \"however, my girl was complain that some time the phone doesn't wake up like normal phone does.\",\n 'Beautiful styling though.',\n 'This company charge me a restocking fee and still not given me my refund back.',\n \"I'm trying to return it for a refund.\",\n 'I plugged it in only to find out not a darn thing worked.',\n 'Excellent product.',\n 'Earbud piece breaks easily.',\n 'Lousy product.',\n \"This phone tries very hard to do everything but fails at it's very ability to be a phone.\",\n 'It is the best charger I have seen on the market yet.',\n 'SWEETEST PHONE!!!',\n ':-)Oh, the charger seems to work fine.',\n 'It fits so securely that the ear hook does not even need to be used and the sound is better directed through your ear canal.',\n 'Not enough volume.',\n 'Echo Problem....Very unsatisfactory',\n 'you could only take 2 videos at a time and the quality was very poor.',\n \"don't waste your money.\",\n 'I am going to have to be the first to negatively review this product.',\n 'Adapter does not provide enough charging current.',\n 'There was so much hype over this phone that I assumed it was the best, my mistake.',\n 'You also cannot take pictures with it in the case because the lense is covered.',\n 'Phone falls out easily.',\n \"It didn't work, people can not hear me when I talk.\",\n 'The text messaging feature is really tricky to use.',\n \"I'm really disappointed all I have now is a charger that doesn't work.\",\n 'Painful on the ear.',\n 'Lasted one day and then blew up.',\n 'disappointed.',\n 'Kind of flops around.',\n 'The screen does get smudged easily because it touches your ear and face.',\n 'What a piece of junk.. I lose more calls on this phone.',\n 'Item Does Not Match Picture.',\n 'The only thing that disappoint me is the infra red port (irda).',\n 'You can not answer calls with the unit, never worked once!']"
          },
          "execution_count": 16,
          "metadata": {},
          "output_type": "execute_result"
        }
      ],
      "source": [
        "data = reviewsP.Review.values.tolist()\n",
        "data"
      ],
      "metadata": {
        "ExecuteTime": {
          "end_time": "2024-01-06T01:07:40.225032100Z",
          "start_time": "2024-01-06T01:07:40.162506400Z"
        },
        "id": "2b8723605038234e",
        "outputId": "9ccf6466-a94d-4459-b40f-33eb62e50f53"
      },
      "id": "2b8723605038234e",
      "execution_count": null
    },
    {
      "cell_type": "code",
      "outputs": [],
      "source": [
        "def sent_to_words(sentences):\n",
        "    for sentence in sentences:\n",
        "        yield (gensim.utils.simple_preprocess(str(sentence)))"
      ],
      "metadata": {
        "ExecuteTime": {
          "end_time": "2024-01-06T01:07:40.306543100Z",
          "start_time": "2024-01-06T01:07:40.178523800Z"
        },
        "id": "87db259a6261d3bf"
      },
      "id": "87db259a6261d3bf",
      "execution_count": null
    },
    {
      "cell_type": "code",
      "outputs": [
        {
          "name": "stdout",
          "output_type": "stream",
          "text": [
            "['so', 'there', 'is', 'no', 'way', 'for', 'me', 'to', 'plug', 'it', 'in', 'here', 'in', 'the', 'us', 'unless', 'go', 'by', 'converter']\n"
          ]
        }
      ],
      "source": [
        "words = list(sent_to_words(data))\n",
        "print(words[:1][0][:30])"
      ],
      "metadata": {
        "ExecuteTime": {
          "end_time": "2024-01-06T01:07:40.418291800Z",
          "start_time": "2024-01-06T01:07:40.195033200Z"
        },
        "id": "c186002d5cbea3db",
        "outputId": "cd4bacdb-864d-42b1-a39b-41ea7dce78a1"
      },
      "id": "c186002d5cbea3db",
      "execution_count": null
    },
    {
      "cell_type": "code",
      "outputs": [],
      "source": [
        "id2word = corpora.Dictionary(words)"
      ],
      "metadata": {
        "ExecuteTime": {
          "end_time": "2024-01-06T01:07:40.602025100Z",
          "start_time": "2024-01-06T01:07:40.225032100Z"
        },
        "id": "48deb1c37fb360ed"
      },
      "id": "48deb1c37fb360ed",
      "execution_count": null
    },
    {
      "cell_type": "code",
      "outputs": [],
      "source": [
        "texts = words"
      ],
      "metadata": {
        "ExecuteTime": {
          "end_time": "2024-01-06T01:07:40.645026600Z",
          "start_time": "2024-01-06T01:07:40.258031600Z"
        },
        "id": "17cb30225c25a59"
      },
      "id": "17cb30225c25a59",
      "execution_count": null
    },
    {
      "cell_type": "code",
      "outputs": [],
      "source": [
        "corpus = [id2word.doc2bow(text) for text in texts]"
      ],
      "metadata": {
        "ExecuteTime": {
          "end_time": "2024-01-06T01:07:40.689047100Z",
          "start_time": "2024-01-06T01:07:40.277035700Z"
        },
        "id": "aaf5b8f57189a930"
      },
      "id": "aaf5b8f57189a930",
      "execution_count": null
    },
    {
      "cell_type": "code",
      "outputs": [
        {
          "name": "stdout",
          "output_type": "stream",
          "text": [
            "[(0, 1), (1, 1), (2, 1), (3, 1), (4, 1), (5, 2), (6, 1), (7, 1), (8, 1), (9, 1), (10, 1), (11, 1), (12, 1), (13, 1), (14, 1), (15, 1), (16, 1), (17, 1)]\n"
          ]
        }
      ],
      "source": [
        "print(corpus[:1][0][:30])"
      ],
      "metadata": {
        "ExecuteTime": {
          "end_time": "2024-01-06T01:07:40.759111400Z",
          "start_time": "2024-01-06T01:07:40.307542700Z"
        },
        "id": "c6fafd98feb3f94a",
        "outputId": "f2f12c0a-8c7d-48b7-aa0d-bac687e6a253"
      },
      "id": "c6fafd98feb3f94a",
      "execution_count": null
    },
    {
      "cell_type": "code",
      "outputs": [],
      "source": [
        "num_topics = 2"
      ],
      "metadata": {
        "ExecuteTime": {
          "end_time": "2024-01-06T01:07:40.806340300Z",
          "start_time": "2024-01-06T01:07:40.356543400Z"
        },
        "id": "532f9e4aa7da2c51"
      },
      "id": "532f9e4aa7da2c51",
      "execution_count": null
    },
    {
      "cell_type": "code",
      "outputs": [],
      "source": [
        "lda_model = gensim.models.LdaMulticore(corpus=corpus,\n",
        "                                       id2word=id2word,\n",
        "                                       num_topics=num_topics,\n",
        "                                       passes=20,\n",
        "                                       # alpha=0.5,\n",
        "                                       eta=0.5\n",
        "                                       )"
      ],
      "metadata": {
        "ExecuteTime": {
          "end_time": "2024-01-06T01:07:59.513087700Z",
          "start_time": "2024-01-06T01:07:40.370601400Z"
        },
        "id": "73f77cb16a549e7c"
      },
      "id": "73f77cb16a549e7c",
      "execution_count": null
    },
    {
      "cell_type": "code",
      "outputs": [
        {
          "name": "stdout",
          "output_type": "stream",
          "text": [
            "[(0,\n",
            "  '0.047*\"the\" + 0.030*\"is\" + 0.023*\"and\" + 0.020*\"phone\" + 0.017*\"this\" + '\n",
            "  '0.017*\"it\" + 0.017*\"great\" + 0.017*\"to\" + 0.016*\"very\" + 0.014*\"of\"'),\n",
            " (1,\n",
            "  '0.044*\"the\" + 0.038*\"it\" + 0.032*\"and\" + 0.019*\"this\" + 0.018*\"to\" + '\n",
            "  '0.017*\"not\" + 0.016*\"with\" + 0.014*\"my\" + 0.013*\"in\" + 0.012*\"is\"')]\n"
          ]
        }
      ],
      "source": [
        "pprint(lda_model.print_topics())"
      ],
      "metadata": {
        "ExecuteTime": {
          "end_time": "2024-01-06T01:07:59.553090600Z",
          "start_time": "2024-01-06T01:07:59.515088200Z"
        },
        "id": "ac4fee006985b33d",
        "outputId": "43a673e4-188b-4ec0-aad1-7b195fa5a514"
      },
      "id": "ac4fee006985b33d",
      "execution_count": null
    },
    {
      "cell_type": "code",
      "outputs": [
        {
          "data": {
            "text/plain": "PreparedData(topic_coordinates=              x    y  topics  cluster       Freq\ntopic                                           \n0      0.072374  0.0       1        1  51.250154\n1     -0.072374  0.0       2        1  48.749846, topic_info=        Term        Freq       Total Category  logprob  loglift\n22     great   83.000000   83.000000  Default  30.0000  30.0000\n80      very   87.000000   87.000000  Default  29.0000  29.0000\n71   quality   41.000000   41.000000  Default  28.0000  28.0000\n102      not  100.000000  100.000000  Default  27.0000  27.0000\n7         it  263.000000  263.000000  Default  26.0000  26.0000\n..       ...         ...         ...      ...      ...      ...\n36      have   25.704311   62.261191   Topic2  -5.2044  -0.1662\n145      use   19.331108   35.427669   Topic2  -5.4893   0.1127\n159      had   18.906314   41.262693   Topic2  -5.5116  -0.0620\n57       are   18.425932   36.245082   Topic2  -5.5373   0.0419\n131      but   18.315204   39.581918   Topic2  -5.5433  -0.0522\n\n[149 rows x 6 columns], token_table=      Topic      Freq    Term\nterm                         \n130       1  0.090528   again\n130       2  0.905280   again\n860       1  0.117665  amazon\n860       2  0.941316  amazon\n67        1  0.436815     and\n...     ...       ...     ...\n707       1  0.957721   worst\n129       1  0.236157   would\n129       2  0.742209   would\n56        1  0.477646     you\n56        2  0.527058     you\n\n[171 rows x 3 columns], R=30, lambda_step=0.01, plot_opts={'xlab': 'PC1', 'ylab': 'PC2'}, topic_order=[1, 2])",
            "text/html": "\n<link rel=\"stylesheet\" type=\"text/css\" href=\"https://cdn.jsdelivr.net/gh/bmabey/pyLDAvis@3.4.0/pyLDAvis/js/ldavis.v1.0.0.css\">\n\n\n<div id=\"ldavis_el1750499524961147707829\" style=\"background-color:white;\"></div>\n<script type=\"text/javascript\">\n\nvar ldavis_el1750499524961147707829_data = {\"mdsDat\": {\"x\": [0.07237400179042666, -0.07237400179042666], \"y\": [0.0, 0.0], \"topics\": [1, 2], \"cluster\": [1, 1], \"Freq\": [51.25015400185826, 48.749845998141744]}, \"tinfo\": {\"Term\": [\"great\", \"very\", \"quality\", \"not\", \"it\", \"is\", \"well\", \"with\", \"in\", \"recommend\", \"works\", \"work\", \"excellent\", \"don\", \"good\", \"as\", \"service\", \"battery\", \"sound\", \"headset\", \"new\", \"buy\", \"do\", \"car\", \"easy\", \"price\", \"ever\", \"or\", \"charger\", \"reception\", \"great\", \"quality\", \"excellent\", \"service\", \"reception\", \"ever\", \"poor\", \"life\", \"worst\", \"well\", \"waste\", \"low\", \"cheap\", \"customer\", \"over\", \"junk\", \"piece\", \"talk\", \"lot\", \"audio\", \"useless\", \"love\", \"crap\", \"very\", \"what\", \"price\", \"get\", \"black\", \"without\", \"original\", \"works\", \"as\", \"sound\", \"battery\", \"headset\", \"money\", \"good\", \"is\", \"phone\", \"of\", \"the\", \"me\", \"for\", \"to\", \"and\", \"this\", \"have\", \"product\", \"my\", \"was\", \"it\", \"that\", \"has\", \"you\", \"had\", \"on\", \"but\", \"with\", \"recommend\", \"car\", \"easy\", \"will\", \"buy\", \"do\", \"them\", \"fine\", \"problems\", \"new\", \"doesn\", \"fits\", \"makes\", \"much\", \"disappointed\", \"don\", \"tried\", \"buttons\", \"amazon\", \"highly\", \"charger\", \"put\", \"every\", \"back\", \"again\", \"stay\", \"way\", \"three\", \"less\", \"work\", \"or\", \"did\", \"not\", \"with\", \"problem\", \"in\", \"it\", \"one\", \"ear\", \"and\", \"on\", \"the\", \"this\", \"would\", \"to\", \"my\", \"does\", \"more\", \"you\", \"was\", \"for\", \"that\", \"phone\", \"is\", \"of\", \"so\", \"have\", \"use\", \"had\", \"are\", \"but\"], \"Freq\": [83.0, 87.0, 41.0, 100.0, 263.0, 204.0, 35.0, 95.0, 75.0, 22.0, 40.0, 29.0, 23.0, 24.0, 66.0, 38.0, 20.0, 39.0, 36.0, 41.0, 17.0, 17.0, 17.0, 16.0, 16.0, 23.0, 16.0, 20.0, 16.0, 15.0, 82.84769560638323, 41.22182667763934, 22.839244522727736, 19.540445142221152, 14.559345298326331, 16.17004439599611, 12.882436845632228, 11.258246838690129, 12.038221175098613, 34.37846128344962, 11.977273240324587, 7.922717750324754, 7.910998403520775, 7.907461006235141, 8.69397460184215, 7.086909698760673, 10.986373572048667, 7.048661017844643, 7.817731052192909, 6.25342306416529, 6.246752641757825, 16.379415243369827, 5.414524372097115, 81.02031832413601, 13.860437843753921, 21.560864884241866, 17.70598962881205, 5.376985919910713, 6.882405063715124, 4.585837222695218, 35.915515389507945, 33.875786590283, 32.32611332344146, 34.226699150290465, 34.91280988689726, 14.881938060504957, 53.424866739220185, 149.36177999480662, 96.20754705854168, 68.31966452185226, 232.60284151074578, 19.64122659895547, 58.3981678134516, 81.91686525121096, 115.24617665525301, 84.95793637209779, 36.55687942508771, 30.025996343451283, 56.22955999252406, 39.43325079463405, 84.38771892674347, 36.060262295666696, 20.817342464616473, 28.598001295418076, 22.356378337936505, 25.74101229700935, 21.266713346094246, 21.958052282575274, 22.487202720638237, 15.676975851362583, 15.63727903188504, 13.131024894330432, 16.408733887043176, 16.38776695776902, 11.460261808773362, 11.429975154622275, 10.608092666168286, 17.098158164838402, 13.810943118129826, 9.744980229170714, 9.709772742850305, 10.517606451596793, 8.8785078749911, 23.273646718250138, 7.209112837438588, 7.177814448861191, 7.959013990044626, 7.916841499466841, 15.791250083447023, 5.525374271484643, 5.522935648279385, 7.094212060071295, 10.224308073788043, 5.504104421186775, 6.286687265390352, 5.498158234041516, 5.471996427139535, 27.28655702158924, 18.30190420335321, 12.887050340475746, 81.25038356311524, 73.77777084152035, 10.571461015178853, 58.775862119001935, 179.48336527909964, 28.502747883887448, 23.85149581207505, 148.0229379261846, 51.19854332902473, 205.38924096394058, 91.24686451704267, 22.29378219877994, 84.98604921325823, 66.92137793651621, 17.8643674739241, 14.049600209410047, 32.116416995129335, 37.23919288144465, 44.28595530519059, 33.86981323116483, 45.73695136733444, 55.37236353672791, 33.319865560840285, 21.302286819572068, 25.70431116394955, 19.33110780179305, 18.906314458595173, 18.42593183861471, 18.315204397653197], \"Total\": [83.0, 87.0, 41.0, 100.0, 263.0, 204.0, 35.0, 95.0, 75.0, 22.0, 40.0, 29.0, 23.0, 24.0, 66.0, 38.0, 20.0, 39.0, 36.0, 41.0, 17.0, 17.0, 17.0, 16.0, 16.0, 23.0, 16.0, 20.0, 16.0, 15.0, 83.48499220198087, 41.746077989294044, 23.382266552183324, 20.042488147708667, 15.033546027550234, 16.704149494278624, 13.364206684540846, 11.693991035685544, 12.529749797301395, 35.92221247132186, 12.530813296561936, 8.354989864911946, 8.355181212037735, 8.355230752445054, 9.190773695723186, 7.520249460130395, 11.698960956539942, 7.5209293315901835, 8.356805403698667, 6.685494003234488, 6.685611551990619, 17.550890658474845, 5.850841211050232, 87.77552743489144, 15.04687475159696, 23.406893797264605, 19.22695363715795, 5.851503769581312, 7.523988522999698, 5.016033395262352, 40.147228108935664, 38.484936453553686, 36.813122542396, 39.329139556012336, 41.01776142754351, 16.72898320273538, 66.18723456840836, 204.73414353153453, 141.94449842587613, 101.63953008269254, 437.99208247468636, 25.146273017354464, 102.68412311864219, 166.90291446446918, 263.26911458143763, 176.20480088914047, 62.261190589037255, 47.070190980310606, 123.15093792904027, 76.6724436760787, 263.8710842058431, 69.93007552683153, 29.378440320026733, 60.714418290547414, 41.26269279653168, 76.93955562603408, 39.58191774374744, 95.73582312409562, 22.9674840523105, 16.159268626688533, 16.158409756026135, 13.606340638928893, 17.007827320940656, 17.007487345578454, 11.904965549594616, 11.904232536701004, 11.053879112026214, 17.855733304708032, 14.453964879113403, 10.202599966290606, 10.201917006378693, 11.052011973576699, 9.351149379316468, 24.651635649683882, 7.649921632357698, 7.649224794594351, 8.498736383096514, 8.497954476415709, 16.995960101421943, 5.9483033087200825, 5.9482367205996365, 7.647467066854675, 11.04630718825551, 5.947803030845201, 6.797366064510355, 5.9476718772215955, 5.947118362345748, 29.736869049412554, 20.38285891650758, 14.436109316742662, 100.05254708641752, 95.73582312409562, 11.887700283883493, 75.41510537886477, 263.8710842058431, 35.60322810626997, 30.50576337976623, 263.26911458143763, 76.93955562603408, 437.99208247468636, 176.20480088914047, 29.641248471246588, 166.90291446446918, 123.15093792904027, 22.878642445438942, 16.962425500417343, 60.714418290547414, 76.6724436760787, 102.68412311864219, 69.93007552683153, 141.94449842587613, 204.73414353153453, 101.63953008269254, 36.300117025799295, 62.261190589037255, 35.42766872593719, 41.26269279653168, 36.245081523600376, 39.58191774374744], \"Category\": [\"Default\", \"Default\", \"Default\", \"Default\", \"Default\", \"Default\", \"Default\", \"Default\", \"Default\", \"Default\", \"Default\", \"Default\", \"Default\", \"Default\", \"Default\", \"Default\", \"Default\", \"Default\", \"Default\", \"Default\", \"Default\", \"Default\", \"Default\", \"Default\", \"Default\", \"Default\", \"Default\", \"Default\", \"Default\", \"Default\", \"Topic1\", \"Topic1\", \"Topic1\", \"Topic1\", \"Topic1\", \"Topic1\", \"Topic1\", \"Topic1\", \"Topic1\", \"Topic1\", \"Topic1\", \"Topic1\", \"Topic1\", \"Topic1\", \"Topic1\", \"Topic1\", \"Topic1\", \"Topic1\", \"Topic1\", \"Topic1\", \"Topic1\", \"Topic1\", \"Topic1\", \"Topic1\", \"Topic1\", \"Topic1\", \"Topic1\", \"Topic1\", \"Topic1\", \"Topic1\", \"Topic1\", \"Topic1\", \"Topic1\", \"Topic1\", \"Topic1\", \"Topic1\", \"Topic1\", \"Topic1\", \"Topic1\", \"Topic1\", \"Topic1\", \"Topic1\", \"Topic1\", \"Topic1\", \"Topic1\", \"Topic1\", \"Topic1\", \"Topic1\", \"Topic1\", \"Topic1\", \"Topic1\", \"Topic1\", \"Topic1\", \"Topic1\", \"Topic1\", \"Topic1\", \"Topic1\", \"Topic1\", \"Topic2\", \"Topic2\", \"Topic2\", \"Topic2\", \"Topic2\", \"Topic2\", \"Topic2\", \"Topic2\", \"Topic2\", \"Topic2\", \"Topic2\", \"Topic2\", \"Topic2\", \"Topic2\", \"Topic2\", \"Topic2\", \"Topic2\", \"Topic2\", \"Topic2\", \"Topic2\", \"Topic2\", \"Topic2\", \"Topic2\", \"Topic2\", \"Topic2\", \"Topic2\", \"Topic2\", \"Topic2\", \"Topic2\", \"Topic2\", \"Topic2\", \"Topic2\", \"Topic2\", \"Topic2\", \"Topic2\", \"Topic2\", \"Topic2\", \"Topic2\", \"Topic2\", \"Topic2\", \"Topic2\", \"Topic2\", \"Topic2\", \"Topic2\", \"Topic2\", \"Topic2\", \"Topic2\", \"Topic2\", \"Topic2\", \"Topic2\", \"Topic2\", \"Topic2\", \"Topic2\", \"Topic2\", \"Topic2\", \"Topic2\", \"Topic2\", \"Topic2\", \"Topic2\", \"Topic2\", \"Topic2\"], \"logprob\": [30.0, 29.0, 28.0, 27.0, 26.0, 25.0, 24.0, 23.0, 22.0, 21.0, 20.0, 19.0, 18.0, 17.0, 16.0, 15.0, 14.0, 13.0, 12.0, 11.0, 10.0, 9.0, 8.0, 7.0, 6.0, 5.0, 4.0, 3.0, 2.0, 1.0, -4.0841, -4.7821, -5.3726, -5.5286, -5.8228, -5.7179, -5.9452, -6.08, -6.013, -4.9636, -6.0181, -6.4313, -6.4328, -6.4333, -6.3384, -6.5428, -6.1044, -6.5482, -6.4447, -6.6679, -6.669, -5.705, -6.812, -4.1064, -5.872, -5.4302, -5.6272, -6.8189, -6.5721, -6.9781, -4.9199, -4.9784, -5.0252, -4.9681, -4.9482, -5.8009, -4.5228, -3.4947, -3.9346, -4.2769, -3.0517, -5.5234, -4.4338, -4.0954, -3.754, -4.0589, -4.9022, -5.099, -4.4716, -4.8265, -4.0656, -4.9159, -5.4653, -5.1477, -5.394, -5.253, -5.4439, -5.4119, -5.3381, -5.6989, -5.7014, -5.8761, -5.6532, -5.6545, -6.0122, -6.0148, -6.0894, -5.6121, -5.8256, -6.1743, -6.1779, -6.098, -6.2674, -5.3037, -6.4757, -6.4801, -6.3767, -6.3821, -5.6916, -6.7417, -6.7421, -6.4918, -6.1263, -6.7456, -6.6126, -6.7466, -6.7514, -5.1447, -5.544, -5.8948, -4.0535, -4.15, -6.0929, -4.3773, -3.261, -5.101, -5.2792, -3.4537, -4.5153, -3.1261, -3.9375, -5.3467, -4.0086, -4.2475, -5.5682, -5.8085, -4.9817, -4.8337, -4.6604, -4.9285, -4.6281, -4.437, -4.9449, -5.3922, -5.2044, -5.4893, -5.5116, -5.5373, -5.5433], \"loglift\": [30.0, 29.0, 28.0, 27.0, 26.0, 25.0, 24.0, 23.0, 22.0, 21.0, 20.0, 19.0, 18.0, 17.0, 16.0, 15.0, 14.0, 13.0, 12.0, 11.0, 10.0, 9.0, 8.0, 7.0, 6.0, 5.0, 4.0, 3.0, 2.0, 1.0, 0.6608, 0.6558, 0.645, 0.6431, 0.6364, 0.636, 0.6317, 0.6305, 0.6284, 0.6245, 0.6233, 0.6153, 0.6138, 0.6134, 0.6129, 0.6091, 0.6056, 0.6036, 0.6018, 0.6016, 0.6006, 0.5994, 0.591, 0.5884, 0.5863, 0.5863, 0.586, 0.5839, 0.5793, 0.5788, 0.5571, 0.5409, 0.5385, 0.5295, 0.5073, 0.5515, 0.4542, 0.3531, 0.2795, 0.2712, 0.0356, 0.4214, 0.1041, -0.0433, -0.1577, -0.061, 0.136, 0.2189, -0.1155, 0.0035, -0.4716, 0.0061, 0.324, -0.0844, 0.0556, -0.4265, 0.0472, -0.804, 0.6973, 0.6882, 0.6857, 0.6829, 0.6826, 0.6813, 0.6804, 0.6778, 0.6773, 0.6751, 0.673, 0.6726, 0.669, 0.6689, 0.6666, 0.6609, 0.6591, 0.6549, 0.6529, 0.6476, 0.6449, 0.6447, 0.6443, 0.6434, 0.6411, 0.6409, 0.6404, 0.6399, 0.6352, 0.6325, 0.6108, 0.605, 0.5103, 0.4579, 0.6011, 0.4692, 0.3331, 0.496, 0.4724, 0.1427, 0.3112, -0.0388, 0.0604, 0.4336, 0.0435, 0.1086, 0.4711, 0.5301, 0.0817, -0.0037, -0.1225, -0.0065, -0.4141, -0.5892, -0.3968, 0.1855, -0.1662, 0.1127, -0.062, 0.0419, -0.0522]}, \"token.table\": {\"Topic\": [1, 2, 1, 2, 1, 2, 1, 2, 1, 2, 1, 1, 2, 1, 2, 1, 1, 2, 2, 1, 2, 2, 1, 2, 1, 1, 1, 1, 2, 2, 1, 2, 1, 2, 1, 2, 1, 2, 1, 2, 1, 2, 1, 2, 2, 1, 2, 2, 2, 1, 2, 1, 2, 1, 2, 1, 2, 1, 2, 1, 2, 1, 2, 1, 2, 1, 2, 1, 2, 1, 2, 1, 2, 1, 2, 1, 1, 2, 1, 2, 1, 2, 1, 2, 1, 2, 1, 2, 1, 2, 1, 2, 1, 2, 1, 2, 1, 2, 1, 2, 1, 2, 1, 2, 1, 1, 1, 2, 1, 2, 1, 1, 2, 1, 2, 2, 1, 2, 2, 1, 2, 1, 2, 1, 2, 1, 2, 1, 2, 2, 1, 1, 2, 1, 2, 2, 1, 2, 2, 1, 2, 2, 1, 2, 1, 1, 2, 1, 2, 1, 2, 1, 2, 1, 2, 1, 2, 2, 1, 2, 1, 2, 1, 2, 1, 2, 1, 1, 2, 1, 2], \"Freq\": [0.09052799120625625, 0.9052799120625625, 0.11766455093123504, 0.9413164074498803, 0.43681538635033007, 0.5621624102595553, 0.4966191064649586, 0.4966191064649586, 0.8834625475095581, 0.12992096286905266, 0.8974654673382638, 0.1307622499394809, 0.9153357495763663, 0.864498953799317, 0.12713219908813486, 0.8544812063511259, 0.5305452892897607, 0.4547531051055092, 0.9151254130937356, 0.058796457720896755, 0.9407433235343481, 0.9901438220771028, 0.05883751162232585, 0.9414001859572136, 0.9574897057258307, 0.8545779691571043, 0.9574840285121867, 0.13854148345083855, 0.9005196424304507, 0.9624485327875133, 0.05879763304718709, 0.9407621287549934, 0.21854443557671813, 0.7867599680761853, 0.06918516880064118, 0.9685923632089766, 0.040565259612411295, 0.9330009710854598, 0.22946483629526016, 0.7867365815837492, 0.06188727820985347, 0.9901964513576555, 0.9578458337840066, 0.05986536461150041, 1.0087022897426223, 0.9836514329639429, 0.042767453607127956, 0.9240410892585276, 0.9801423199027702, 0.564839025143023, 0.42849857079815534, 0.9361857494269532, 0.10402063882521702, 0.8007586409313026, 0.19641249683220627, 0.9941906660204567, 0.011978200795427189, 0.5331692749303362, 0.4604643738034721, 0.7148099004318038, 0.3063471001850588, 0.5942706788924598, 0.4175956121947015, 0.8532888871038542, 0.1462780949320893, 0.11767537738349745, 0.9414030190679796, 0.2254190313014438, 0.7823366380461874, 0.7277730886985639, 0.26864107300953705, 0.3183372678094295, 0.6783615587843795, 0.9308201858344505, 0.8407433138808134, 0.9406540475730013, 0.9573036122702167, 0.11966295153377708, 0.9116346464316919, 0.056977165401980744, 0.9575116342866219, 0.9802079348173048, 0.7953464907581806, 0.2386039472274542, 0.8966474422394857, 0.1195529922985981, 0.17686149895993283, 0.8253536618130198, 0.09048126281357763, 0.9952938909493538, 0.45472654079392616, 0.5440478255927331, 0.05600442070538371, 0.952075151991523, 0.18990021297098308, 0.8095745921394542, 0.6690310349199383, 0.3246768257699701, 0.337927608087229, 0.6628580004787954, 0.19661138532455863, 0.8145328820588857, 0.0981216623336508, 0.8830949610028571, 0.9968035708698639, 0.9792429122901851, 0.6763206821300757, 0.3240703268539946, 0.9402544414724959, 0.08547767649749963, 0.9727476016244088, 0.9398940410696861, 0.08544491282451692, 0.08412055958003328, 0.9253261553803661, 0.9951257733615346, 0.637346043753019, 0.3611627581267107, 1.0086909978521323, 0.9821281896353142, 0.0239543460886662, 0.9977685884961035, 0.9578759236272041, 0.9978800961539536, 0.04989400480769768, 0.41322180833023675, 0.5785105316623315, 0.8692552489440973, 0.10865690611801217, 1.0087758402361522, 0.9307360422332221, 0.5147999587986593, 0.4861999610876226, 0.5319730865533766, 0.46804499031520264, 0.9239841941730415, 0.48239321273361835, 0.5164444983383444, 0.8406650708404089, 0.49130358366184446, 0.5092781050153266, 0.915042053554032, 0.4516244103944139, 0.5363039873433665, 0.8974496877871284, 0.9228084679990414, 0.07974887995053444, 0.5086573236763516, 0.48257233271858996, 0.9576393579571109, 0.07980327982975924, 0.14711580787462483, 0.8826948472477489, 0.9464895857164577, 0.05567585798332104, 0.9304257682156986, 0.06645898344397846, 0.9554369058500489, 0.22979903741447907, 0.7729603985759751, 0.9303576126680757, 0.13290823038115368, 0.06725657622786987, 0.9079637790762434, 0.8966995156506806, 0.09963327951674229, 0.9577206404061244, 0.23615739420660134, 0.7422089532207471, 0.47764601583138266, 0.5270576726415257], \"Term\": [\"again\", \"again\", \"amazon\", \"amazon\", \"and\", \"and\", \"are\", \"are\", \"as\", \"as\", \"audio\", \"back\", \"back\", \"battery\", \"battery\", \"black\", \"but\", \"but\", \"buttons\", \"buy\", \"buy\", \"car\", \"charger\", \"charger\", \"cheap\", \"crap\", \"customer\", \"did\", \"did\", \"disappointed\", \"do\", \"do\", \"does\", \"does\", \"doesn\", \"doesn\", \"don\", \"don\", \"ear\", \"ear\", \"easy\", \"easy\", \"ever\", \"ever\", \"every\", \"excellent\", \"excellent\", \"fine\", \"fits\", \"for\", \"for\", \"get\", \"get\", \"good\", \"good\", \"great\", \"great\", \"had\", \"had\", \"has\", \"has\", \"have\", \"have\", \"headset\", \"headset\", \"highly\", \"highly\", \"in\", \"in\", \"is\", \"is\", \"it\", \"it\", \"junk\", \"less\", \"life\", \"lot\", \"lot\", \"love\", \"love\", \"low\", \"makes\", \"me\", \"me\", \"money\", \"money\", \"more\", \"more\", \"much\", \"much\", \"my\", \"my\", \"new\", \"new\", \"not\", \"not\", \"of\", \"of\", \"on\", \"on\", \"one\", \"one\", \"or\", \"or\", \"original\", \"over\", \"phone\", \"phone\", \"piece\", \"piece\", \"poor\", \"price\", \"price\", \"problem\", \"problem\", \"problems\", \"product\", \"product\", \"put\", \"quality\", \"quality\", \"reception\", \"recommend\", \"service\", \"service\", \"so\", \"so\", \"sound\", \"sound\", \"stay\", \"talk\", \"that\", \"that\", \"the\", \"the\", \"them\", \"this\", \"this\", \"three\", \"to\", \"to\", \"tried\", \"use\", \"use\", \"useless\", \"very\", \"very\", \"was\", \"was\", \"waste\", \"waste\", \"way\", \"way\", \"well\", \"well\", \"what\", \"what\", \"will\", \"with\", \"with\", \"without\", \"without\", \"work\", \"work\", \"works\", \"works\", \"worst\", \"would\", \"would\", \"you\", \"you\"]}, \"R\": 30, \"lambda.step\": 0.01, \"plot.opts\": {\"xlab\": \"PC1\", \"ylab\": \"PC2\"}, \"topic.order\": [1, 2]};\n\nfunction LDAvis_load_lib(url, callback){\n  var s = document.createElement('script');\n  s.src = url;\n  s.async = true;\n  s.onreadystatechange = s.onload = callback;\n  s.onerror = function(){console.warn(\"failed to load library \" + url);};\n  document.getElementsByTagName(\"head\")[0].appendChild(s);\n}\n\nif(typeof(LDAvis) !== \"undefined\"){\n   // already loaded: just create the visualization\n   !function(LDAvis){\n       new LDAvis(\"#\" + \"ldavis_el1750499524961147707829\", ldavis_el1750499524961147707829_data);\n   }(LDAvis);\n}else if(typeof define === \"function\" && define.amd){\n   // require.js is available: use it to load d3/LDAvis\n   require.config({paths: {d3: \"https://d3js.org/d3.v5\"}});\n   require([\"d3\"], function(d3){\n      window.d3 = d3;\n      LDAvis_load_lib(\"https://cdn.jsdelivr.net/gh/bmabey/pyLDAvis@3.4.0/pyLDAvis/js/ldavis.v3.0.0.js\", function(){\n        new LDAvis(\"#\" + \"ldavis_el1750499524961147707829\", ldavis_el1750499524961147707829_data);\n      });\n    });\n}else{\n    // require.js not available: dynamically load d3 & LDAvis\n    LDAvis_load_lib(\"https://d3js.org/d3.v5.js\", function(){\n         LDAvis_load_lib(\"https://cdn.jsdelivr.net/gh/bmabey/pyLDAvis@3.4.0/pyLDAvis/js/ldavis.v3.0.0.js\", function(){\n                 new LDAvis(\"#\" + \"ldavis_el1750499524961147707829\", ldavis_el1750499524961147707829_data);\n            })\n         });\n}\n</script>"
          },
          "execution_count": 26,
          "metadata": {},
          "output_type": "execute_result"
        }
      ],
      "source": [
        "pyLDAvis.enable_notebook()\n",
        "\n",
        "LDAvis = pyLDAvis.gensim_models.prepare(lda_model, corpus, id2word)\n",
        "\n",
        "LDAvis"
      ],
      "metadata": {
        "ExecuteTime": {
          "end_time": "2024-01-06T01:08:03.010768700Z",
          "start_time": "2024-01-06T01:07:59.531087700Z"
        },
        "id": "e9ee79b884f668a5",
        "outputId": "8da42005-51eb-469f-df9d-f4c91bd4dbb3"
      },
      "id": "e9ee79b884f668a5",
      "execution_count": null
    },
    {
      "cell_type": "code",
      "outputs": [
        {
          "name": "stdout",
          "output_type": "stream",
          "text": [
            "Coherence Score: 0.4116934437035184\n"
          ]
        }
      ],
      "source": [
        "from gensim.models import CoherenceModel\n",
        "\n",
        "coherence_model_lda = CoherenceModel(model=lda_model, texts=words, dictionary=id2word, coherence='c_v')\n",
        "coherence_lda = coherence_model_lda.get_coherence()\n",
        "print(f'Coherence Score: {coherence_lda}')"
      ],
      "metadata": {
        "ExecuteTime": {
          "end_time": "2024-01-06T01:09:39.246118600Z",
          "start_time": "2024-01-06T01:09:37.759880400Z"
        },
        "id": "d2a894eb79a3f78f",
        "outputId": "19005f88-cfc0-4a50-83ba-13ddbd3e2a84"
      },
      "id": "d2a894eb79a3f78f",
      "execution_count": null
    }
  ],
  "metadata": {
    "kernelspec": {
      "display_name": "Python 3",
      "language": "python",
      "name": "python3"
    },
    "language_info": {
      "codemirror_mode": {
        "name": "ipython",
        "version": 2
      },
      "file_extension": ".py",
      "mimetype": "text/x-python",
      "name": "python",
      "nbconvert_exporter": "python",
      "pygments_lexer": "ipython2",
      "version": "2.7.6"
    },
    "colab": {
      "provenance": []
    }
  },
  "nbformat": 4,
  "nbformat_minor": 5
}